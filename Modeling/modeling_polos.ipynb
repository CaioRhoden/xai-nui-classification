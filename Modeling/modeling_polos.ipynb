{
 "cells": [
  {
   "cell_type": "markdown",
   "id": "4033623c-5635-4f5b-9f26-f769fb454e47",
   "metadata": {},
   "source": [
    "# Modeling XGBoost - Polos\n",
    "\n",
    "The goal of this notebook is to train and evaluate the notebooks based on a data preparation guided by different NUI groups. This is necessary to avoid data contamination by local proximity between the cells. It's expected to the performance to lower down"
   ]
  },
  {
   "cell_type": "code",
   "execution_count": 1,
   "id": "66f330c5-e27c-4ace-b32a-3688ce47e8b8",
   "metadata": {
    "tags": []
   },
   "outputs": [],
   "source": [
    "import pandas as pd\n",
    "import numpy as np\n",
    "import matplotlib.pyplot as plt\n",
    "import random\n",
    "import seaborn as sns\n",
    "from xgboost import XGBClassifier\n",
    "from sklearn.preprocessing import StandardScaler\n",
    "from sklearn.model_selection import GridSearchCV,RandomizedSearchCV\n",
    "from sklearn.metrics import f1_score,confusion_matrix, ConfusionMatrixDisplay, roc_curve, auc,RocCurveDisplay"
   ]
  },
  {
   "cell_type": "markdown",
   "id": "cd1a9047-bd59-43de-b66f-455bdb85920b",
   "metadata": {},
   "source": [
    "## 1. Import Datasets"
   ]
  },
  {
   "cell_type": "code",
   "execution_count": 3,
   "id": "0e15f33f-21b9-472b-bccd-b2cb588297e7",
   "metadata": {
    "tags": []
   },
   "outputs": [],
   "source": [
    "X = pd.read_pickle(\"../data/model_input/X.pkl\")\n",
    "y = pd.read_pickle(\"../data/model_input/y.pkl\")"
   ]
  },
  {
   "cell_type": "markdown",
   "id": "8f50b4f3-5f60-427e-a085-f49bd59ca1da",
   "metadata": {
    "tags": []
   },
   "source": [
    "## 2. Split Data by Polo"
   ]
  },
  {
   "cell_type": "code",
   "execution_count": 6,
   "id": "10390d59-bd1f-4c42-bd3d-6046f527d682",
   "metadata": {
    "tags": []
   },
   "outputs": [],
   "source": [
    "polos_columns = [\"polo_Belo Horizonte\", \"polo_Brasília\", \"polo_Juazeiro do Norte\", \"polo_Marabá\", \"polo_Porto Alegre\", \"polo_Recife\"]"
   ]
  },
  {
   "cell_type": "code",
   "execution_count": null,
   "id": "2f1fd4b7-011e-46c5-b88c-4bb8ebdbd6cc",
   "metadata": {},
   "outputs": [],
   "source": []
  }
 ],
 "metadata": {
  "kernelspec": {
   "display_name": "Python 3 (ipykernel)",
   "language": "python",
   "name": "python3"
  },
  "language_info": {
   "codemirror_mode": {
    "name": "ipython",
    "version": 3
   },
   "file_extension": ".py",
   "mimetype": "text/x-python",
   "name": "python",
   "nbconvert_exporter": "python",
   "pygments_lexer": "ipython3",
   "version": "3.10.10"
  }
 },
 "nbformat": 4,
 "nbformat_minor": 5
}
