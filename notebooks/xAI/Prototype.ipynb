{
 "cells": [
  {
   "cell_type": "markdown",
   "id": "00d442b1-9e84-4117-87b9-84a41060df7e",
   "metadata": {
    "tags": []
   },
   "source": [
    "# Prototypes NN"
   ]
  },
  {
   "cell_type": "code",
   "execution_count": 9,
   "id": "9e596fc0-3e34-4a69-9aac-3333cd49dfa0",
   "metadata": {
    "tags": []
   },
   "outputs": [],
   "source": [
    "import pandas as pd\n",
    "import numpy as np\n",
    "import matplotlib.pyplot as plt\n",
    "import seaborn as sns\n",
    "import pickle\n",
    "from sklearn.model_selection import train_test_split\n",
    "from tensorflow.keras.models import Sequential\n",
    "from tensorflow.keras.layers import Dense, Softmax"
   ]
  },
  {
   "cell_type": "markdown",
   "id": "aecceb59-042d-461c-9c39-e803319b8dc9",
   "metadata": {},
   "source": [
    "## Dataset"
   ]
  },
  {
   "cell_type": "code",
   "execution_count": 3,
   "id": "b4c36003-9ff5-4390-b10a-26751a95ec78",
   "metadata": {
    "tags": []
   },
   "outputs": [],
   "source": [
    "X_train = pd.read_pickle(\"../data/model_input/X_train.pkl\")\n",
    "y_train = pd.read_pickle(\"../data/model_input/y_train.pkl\")\n",
    "X_test = pd.read_pickle(\"../data/model_input/X_test.pkl\")\n",
    "y_test = pd.read_pickle(\"../data/model_input/y_test.pkl\")"
   ]
  },
  {
   "cell_type": "code",
   "execution_count": 6,
   "id": "9d256c93-0f63-41db-8d66-571b5216b0ea",
   "metadata": {
    "tags": []
   },
   "outputs": [],
   "source": [
    "X_train, X_val, y_train, y_val = train_test_split(X_train, y_train, test_size=0.25, random_state=42)"
   ]
  },
  {
   "cell_type": "markdown",
   "id": "0ea06652-c773-4783-89ee-981fb2a18897",
   "metadata": {
    "tags": []
   },
   "source": [
    "## NN"
   ]
  },
  {
   "cell_type": "code",
   "execution_count": 25,
   "id": "8b681eb2-e567-4902-944b-a844aff50b81",
   "metadata": {
    "tags": []
   },
   "outputs": [],
   "source": [
    "model = Sequential()\n",
    "model.add(Dense(16, activation='relu')) #encoder\n",
    "model.add(Dense(8, activation='relu')) #prototype\n",
    "model.add(Dense(1, activation='sigmoid')) "
   ]
  },
  {
   "cell_type": "code",
   "execution_count": 26,
   "id": "ca856a04-13fd-40d1-b139-6e8d22bc6f59",
   "metadata": {
    "tags": []
   },
   "outputs": [],
   "source": [
    "model.compile(loss='binary_crossentropy', optimizer='adam', metrics=['accuracy'])"
   ]
  },
  {
   "cell_type": "code",
   "execution_count": 27,
   "id": "29735773-8ee3-4a3d-870f-758d209bb7db",
   "metadata": {
    "tags": []
   },
   "outputs": [
    {
     "name": "stdout",
     "output_type": "stream",
     "text": [
      "12923/12923 [==============================] - 16s 1ms/step - loss: 2.6540 - accuracy: 0.8124\n"
     ]
    },
    {
     "data": {
      "text/plain": [
       "<keras.callbacks.History at 0x236b41e6bf0>"
      ]
     },
     "execution_count": 27,
     "metadata": {},
     "output_type": "execute_result"
    }
   ],
   "source": [
    "model.fit(X_train, y_train)\n"
   ]
  },
  {
   "cell_type": "code",
   "execution_count": 28,
   "id": "2b8a3bc4-37c2-41cb-89c5-55a915e1d72a",
   "metadata": {
    "tags": []
   },
   "outputs": [
    {
     "name": "stdout",
     "output_type": "stream",
     "text": [
      "4308/4308 [==============================] - 4s 925us/step - loss: 0.7617 - accuracy: 0.8049\n"
     ]
    },
    {
     "data": {
      "text/plain": [
       "[0.7616785168647766, 0.804943323135376]"
      ]
     },
     "execution_count": 28,
     "metadata": {},
     "output_type": "execute_result"
    }
   ],
   "source": [
    "model.evaluate(X_val, y_val)"
   ]
  }
 ],
 "metadata": {
  "kernelspec": {
   "display_name": "Python 3 (ipykernel)",
   "language": "python",
   "name": "python3"
  },
  "language_info": {
   "codemirror_mode": {
    "name": "ipython",
    "version": 3
   },
   "file_extension": ".py",
   "mimetype": "text/x-python",
   "name": "python",
   "nbconvert_exporter": "python",
   "pygments_lexer": "ipython3",
   "version": "3.10.10"
  }
 },
 "nbformat": 4,
 "nbformat_minor": 5
}
