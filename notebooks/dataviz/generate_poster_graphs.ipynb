{
 "cells": [
  {
   "cell_type": "code",
   "execution_count": 21,
   "metadata": {},
   "outputs": [],
   "source": [
    "import pandas as pd\n",
    "import seaborn as sns"
   ]
  },
  {
   "cell_type": "code",
   "execution_count": 10,
   "metadata": {},
   "outputs": [],
   "source": [
    "rename_columns = {\n",
    "    \"porto_alegre\": \"Porto Alegre\", \n",
    "    \"brasilia\": \"Brasília\", \n",
    "    \"maraba\": \"Marabá\", \n",
    "    \"juazeiro_do_norte\": \"Juazeiro do Norte\",\n",
    "    \"recife\": \"Recife\", \n",
    "    \"belo_horizonte\": \"Belo Horizonte\"\n",
    "}\n",
    "\n",
    "df = pd.read_csv(\"results.csv\").rename(columns=rename_columns)"
   ]
  },
  {
   "cell_type": "code",
   "execution_count": 11,
   "metadata": {},
   "outputs": [],
   "source": [
    "test_columns = [\"Porto Alegre\", \"Brasília\", \"Marabá\", \"Juazeiro do Norte\", \"Recife\", \"Belo Horizonte\"]\n",
    "\n",
    "# Function to get the name of the column with \"Teste\" for each row\n",
    "def get_test_column(row):\n",
    "    for col in test_columns:\n",
    "        if row[col] == 'Teste':\n",
    "            return col\n",
    "    return None  # If no column has \"Teste\" in the row\n",
    "\n",
    "def get_new_type(row):\n",
    "    if row[\"type\"] == \"xgb_split3_2\":\n",
    "        return \"Split 3/2\"\n",
    "    elif row[\"type\"] == \"xgb_split4_1\":\n",
    "        return \"Split 4/1\"\n",
    "    else:\n",
    "        return \"Ensemble\"\n",
    "\n",
    "# Create a new column with the name of the column containing \"Teste\"\n",
    "df[\"Hub\"] = df.apply(get_test_column, axis=1)\n",
    "df[\"Type\"] = df.apply(get_new_type, axis=1)"
   ]
  },
  {
   "cell_type": "code",
   "execution_count": 14,
   "metadata": {},
   "outputs": [],
   "source": [
    "df = df.drop(columns=[\"Unnamed: 0\", \"type\", \"acc\", \"recall\", \"precision\"])"
   ]
  },
  {
   "cell_type": "code",
   "execution_count": 16,
   "metadata": {},
   "outputs": [],
   "source": [
    "df = df.drop(columns=test_columns)"
   ]
  },
  {
   "cell_type": "code",
   "execution_count": 19,
   "metadata": {},
   "outputs": [],
   "source": [
    "df = df.rename(columns={\"auc_score\": \"AUC\", \"f1_score\": \"F1 Score\"})"
   ]
  },
  {
   "cell_type": "code",
   "execution_count": 20,
   "metadata": {},
   "outputs": [
    {
     "data": {
      "text/html": [
       "<div>\n",
       "<style scoped>\n",
       "    .dataframe tbody tr th:only-of-type {\n",
       "        vertical-align: middle;\n",
       "    }\n",
       "\n",
       "    .dataframe tbody tr th {\n",
       "        vertical-align: top;\n",
       "    }\n",
       "\n",
       "    .dataframe thead th {\n",
       "        text-align: right;\n",
       "    }\n",
       "</style>\n",
       "<table border=\"1\" class=\"dataframe\">\n",
       "  <thead>\n",
       "    <tr style=\"text-align: right;\">\n",
       "      <th></th>\n",
       "      <th>AUC</th>\n",
       "      <th>F1 Score</th>\n",
       "      <th>Hub</th>\n",
       "      <th>Type</th>\n",
       "    </tr>\n",
       "  </thead>\n",
       "  <tbody>\n",
       "    <tr>\n",
       "      <th>0</th>\n",
       "      <td>0.817342</td>\n",
       "      <td>0.222435</td>\n",
       "      <td>Porto Alegre</td>\n",
       "      <td>Split 3/2</td>\n",
       "    </tr>\n",
       "    <tr>\n",
       "      <th>1</th>\n",
       "      <td>0.795590</td>\n",
       "      <td>0.308953</td>\n",
       "      <td>Porto Alegre</td>\n",
       "      <td>Split 3/2</td>\n",
       "    </tr>\n",
       "    <tr>\n",
       "      <th>2</th>\n",
       "      <td>0.821250</td>\n",
       "      <td>0.378626</td>\n",
       "      <td>Porto Alegre</td>\n",
       "      <td>Split 3/2</td>\n",
       "    </tr>\n",
       "    <tr>\n",
       "      <th>3</th>\n",
       "      <td>0.788255</td>\n",
       "      <td>0.000000</td>\n",
       "      <td>Porto Alegre</td>\n",
       "      <td>Split 3/2</td>\n",
       "    </tr>\n",
       "    <tr>\n",
       "      <th>4</th>\n",
       "      <td>0.835430</td>\n",
       "      <td>0.325797</td>\n",
       "      <td>Porto Alegre</td>\n",
       "      <td>Split 3/2</td>\n",
       "    </tr>\n",
       "    <tr>\n",
       "      <th>...</th>\n",
       "      <td>...</td>\n",
       "      <td>...</td>\n",
       "      <td>...</td>\n",
       "      <td>...</td>\n",
       "    </tr>\n",
       "    <tr>\n",
       "      <th>91</th>\n",
       "      <td>0.599624</td>\n",
       "      <td>0.436946</td>\n",
       "      <td>Marabá</td>\n",
       "      <td>Ensemble</td>\n",
       "    </tr>\n",
       "    <tr>\n",
       "      <th>92</th>\n",
       "      <td>0.766492</td>\n",
       "      <td>0.299403</td>\n",
       "      <td>Brasília</td>\n",
       "      <td>Ensemble</td>\n",
       "    </tr>\n",
       "    <tr>\n",
       "      <th>93</th>\n",
       "      <td>0.546829</td>\n",
       "      <td>0.346650</td>\n",
       "      <td>Juazeiro do Norte</td>\n",
       "      <td>Ensemble</td>\n",
       "    </tr>\n",
       "    <tr>\n",
       "      <th>94</th>\n",
       "      <td>0.785826</td>\n",
       "      <td>0.426209</td>\n",
       "      <td>Recife</td>\n",
       "      <td>Ensemble</td>\n",
       "    </tr>\n",
       "    <tr>\n",
       "      <th>95</th>\n",
       "      <td>0.767460</td>\n",
       "      <td>0.462682</td>\n",
       "      <td>Belo Horizonte</td>\n",
       "      <td>Ensemble</td>\n",
       "    </tr>\n",
       "  </tbody>\n",
       "</table>\n",
       "<p>96 rows × 4 columns</p>\n",
       "</div>"
      ],
      "text/plain": [
       "         AUC  F1 Score                Hub       Type\n",
       "0   0.817342  0.222435       Porto Alegre  Split 3/2\n",
       "1   0.795590  0.308953       Porto Alegre  Split 3/2\n",
       "2   0.821250  0.378626       Porto Alegre  Split 3/2\n",
       "3   0.788255  0.000000       Porto Alegre  Split 3/2\n",
       "4   0.835430  0.325797       Porto Alegre  Split 3/2\n",
       "..       ...       ...                ...        ...\n",
       "91  0.599624  0.436946             Marabá   Ensemble\n",
       "92  0.766492  0.299403           Brasília   Ensemble\n",
       "93  0.546829  0.346650  Juazeiro do Norte   Ensemble\n",
       "94  0.785826  0.426209             Recife   Ensemble\n",
       "95  0.767460  0.462682     Belo Horizonte   Ensemble\n",
       "\n",
       "[96 rows x 4 columns]"
      ]
     },
     "execution_count": 20,
     "metadata": {},
     "output_type": "execute_result"
    }
   ],
   "source": [
    "df"
   ]
  },
  {
   "cell_type": "code",
   "execution_count": 27,
   "metadata": {},
   "outputs": [
    {
     "data": {
      "image/png": "[encoded data removed]",
      "text/plain": [
       "<Figure size 640x480 with 1 Axes>"
      ]
     },
     "metadata": {},
     "output_type": "display_data"
    }
   ],
   "source": [
    "ax = sns.stripplot(x=\"F1 Score\", y=\"Hub\", hue=\"Type\", data=df)"
   ]
  }
 ],
 "metadata": {
  "kernelspec": {
   "display_name": "venv",
   "language": "python",
   "name": "python3"
  },
  "language_info": {
   "codemirror_mode": {
    "name": "ipython",
    "version": 3
   },
   "file_extension": ".py",
   "mimetype": "text/x-python",
   "name": "python",
   "nbconvert_exporter": "python",
   "pygments_lexer": "ipython3",
   "version": "3.12.0"
  }
 },
 "nbformat": 4,
 "nbformat_minor": 2
}
