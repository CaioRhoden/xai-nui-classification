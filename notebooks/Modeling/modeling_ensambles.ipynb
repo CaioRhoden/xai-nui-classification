{
 "cells": [
  {
   "cell_type": "markdown",
   "id": "e52f566f-d9d0-43ab-b6b1-65a3961a1cd4",
   "metadata": {},
   "source": [
    "# Modeling - XGBoost"
   ]
  },
  {
   "cell_type": "code",
   "execution_count": 26,
   "id": "4cac22fe-1f45-499a-afe2-dcc2c0d42aaf",
   "metadata": {
    "tags": []
   },
   "outputs": [],
   "source": [
    "import sys\n",
    "sys.path.append('../../src')\n",
    "\n",
    "\n",
    "import numpy as np\n",
    "import pickle\n",
    "from models.xgboost_model import XGBoostModel\n",
    "from utils import  generate_combinations, generate_dataset_split, save_combination\n",
    "from mlxtend.classifier import EnsembleVoteClassifier\n",
    "from utils import  generate_dataset_split, load_combinations"
   ]
  },
  {
   "cell_type": "code",
   "execution_count": 33,
   "id": "dbf8f30d",
   "metadata": {},
   "outputs": [
    {
     "name": "stderr",
     "output_type": "stream",
     "text": [
      "c:\\Users\\Caio\\Documents\\GitHub\\xai-nui-classification\\venv\\lib\\site-packages\\mlxtend\\classifier\\ensemble_vote.py:172: UserWarning: fit_base_estimators=False enforces use_clones to be `False`\n",
      "  warnings.warn(\n",
      "c:\\Users\\Caio\\Documents\\GitHub\\xai-nui-classification\\venv\\lib\\site-packages\\mlxtend\\classifier\\ensemble_vote.py:172: UserWarning: fit_base_estimators=False enforces use_clones to be `False`\n",
      "  warnings.warn(\n",
      "c:\\Users\\Caio\\Documents\\GitHub\\xai-nui-classification\\venv\\lib\\site-packages\\mlxtend\\classifier\\ensemble_vote.py:172: UserWarning: fit_base_estimators=False enforces use_clones to be `False`\n",
      "  warnings.warn(\n",
      "c:\\Users\\Caio\\Documents\\GitHub\\xai-nui-classification\\venv\\lib\\site-packages\\mlxtend\\classifier\\ensemble_vote.py:172: UserWarning: fit_base_estimators=False enforces use_clones to be `False`\n",
      "  warnings.warn(\n",
      "c:\\Users\\Caio\\Documents\\GitHub\\xai-nui-classification\\venv\\lib\\site-packages\\mlxtend\\classifier\\ensemble_vote.py:172: UserWarning: fit_base_estimators=False enforces use_clones to be `False`\n",
      "  warnings.warn(\n",
      "c:\\Users\\Caio\\Documents\\GitHub\\xai-nui-classification\\venv\\lib\\site-packages\\mlxtend\\classifier\\ensemble_vote.py:172: UserWarning: fit_base_estimators=False enforces use_clones to be `False`\n",
      "  warnings.warn(\n"
     ]
    }
   ],
   "source": [
    "cities = ['Porto Alegre', 'Marabá', 'Brasília', 'Juazeiro do Norte', 'Recife', 'Belo Horizonte']\n",
    "for c in cities: \n",
    "    thresholds = []\n",
    "    addresses3_2 = []\n",
    "    combinations_3_2 = load_combinations(f'models/split3_2/{c}/combination.pkl')\n",
    "    for i in range(10):\n",
    "        address = f'../../data/models/split3_2/{c}/xgb_{i}.sav'\n",
    "        addresses3_2.append(address)\n",
    "        model = XGBoostModel()\n",
    "        model.load_model(address)\n",
    "        X_val, y_val = generate_dataset_split(combinations_3_2[i][1])\n",
    "        thresholds.append(model.find_best_threshold(X_val, y_val))\n",
    "\n",
    "    addresses4_1 = []\n",
    "    combinations_4_1 = load_combinations(f'models/split4_1/{c}/combination.pkl')\n",
    "    for i in range(5):\n",
    "        address = f'../../data/models/split4_1/{c}/xgb_{i}.sav'\n",
    "        addresses4_1.append(address)\n",
    "        model = XGBoostModel()\n",
    "        model.load_model(address)\n",
    "        X_val, y_val = generate_dataset_split(combinations_4_1[i][1])\n",
    "        thresholds.append(model.find_best_threshold(X_val, y_val))\n",
    "\n",
    "    setModels = {\n",
    "        'split3_2_model_0': XGBoostModel(thresholds[0]).load_model(addresses3_2[0]),\n",
    "        'split3_2_model_1': XGBoostModel(thresholds[1]).load_model(addresses3_2[1]),\n",
    "        'split3_2_model_2': XGBoostModel(thresholds[2]).load_model(addresses3_2[2]),\n",
    "        'split3_2_model_3': XGBoostModel(thresholds[3]).load_model(addresses3_2[3]),\n",
    "        'split3_2_model_4': XGBoostModel(thresholds[4]).load_model(addresses3_2[4]),\n",
    "        'split3_2_model_5': XGBoostModel(thresholds[5]).load_model(addresses3_2[5]),\n",
    "        'split3_2_model_6': XGBoostModel(thresholds[6]).load_model(addresses3_2[6]),\n",
    "        'split3_2_model_7': XGBoostModel(thresholds[7]).load_model(addresses3_2[7]),\n",
    "        'split3_2_model_8': XGBoostModel(thresholds[8]).load_model(addresses3_2[8]),\n",
    "        'split3_2_model_9': XGBoostModel(thresholds[9]).load_model(addresses3_2[9]),\n",
    "        'split4_1_model_0': XGBoostModel(thresholds[10]).load_model(addresses4_1[0]),\n",
    "        'split4_1_model_1': XGBoostModel(thresholds[11]).load_model(addresses4_1[1]),\n",
    "        'split4_1_model_2': XGBoostModel(thresholds[12]).load_model(addresses4_1[2]),\n",
    "        'split4_1_model_2': XGBoostModel(thresholds[13]).load_model(addresses4_1[3]),\n",
    "        'split4_1_model_4': XGBoostModel(thresholds[14]).load_model(addresses4_1[4]),\n",
    "    }\n",
    "\n",
    "\n",
    "    clfs = [(key, value)[1] for key, value in setModels.items()]\n",
    "\n",
    "    X_train, y_train  = generate_dataset_split([cit for cit in cities if cit != c])\n",
    "    model =   EnsembleVoteClassifier(clfs=clfs, weights=[1 for i in range(0, len(clfs))], fit_base_estimators=False)\n",
    "    model.fit(X_train, y_train)\n",
    "    pickle.dump(model, open(f\"../../data/models/ensambles/{c}.sav\", 'wb'))\n",
    "    "
   ]
  }
 ],
 "metadata": {
  "kernelspec": {
   "display_name": "Python 3 (ipykernel)",
   "language": "python",
   "name": "python3"
  },
  "language_info": {
   "codemirror_mode": {
    "name": "ipython",
    "version": 3
   },
   "file_extension": ".py",
   "mimetype": "text/x-python",
   "name": "python",
   "nbconvert_exporter": "python",
   "pygments_lexer": "ipython3",
   "version": "3.10.10"
  }
 },
 "nbformat": 4,
 "nbformat_minor": 5
}
