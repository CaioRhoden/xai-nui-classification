{
 "cells": [
  {
   "cell_type": "markdown",
   "id": "e52f566f-d9d0-43ab-b6b1-65a3961a1cd4",
   "metadata": {},
   "source": [
    "# Modeling - XGBoost"
   ]
  },
  {
   "cell_type": "code",
   "execution_count": 1,
   "id": "4cac22fe-1f45-499a-afe2-dcc2c0d42aaf",
   "metadata": {
    "tags": []
   },
   "outputs": [],
   "source": [
    "import sys\n",
    "sys.path.append('../../src')\n",
    "\n",
    "\n",
    "import numpy as np\n",
    "import pickle\n",
    "from xgboost import XGBClassifier\n",
    "from modeling import train_model, save_model\n",
    "from tuning import random_search_tuning\n",
    "from utils import  generate_combinations, generate_dataset_split, save_combination\n",
    "from itertools import combinations\n"
   ]
  },
  {
   "cell_type": "markdown",
   "id": "1f373d6d-f13a-4e54-82dd-b56858bbaea0",
   "metadata": {},
   "source": [
    "## Parameters for tuning"
   ]
  },
  {
   "cell_type": "code",
   "execution_count": 2,
   "id": "be5acff9",
   "metadata": {},
   "outputs": [],
   "source": [
    "parameters = {\n",
    "    'objective': ['binary:logistic'],\n",
    "    'eval_metric': ['auc'],\n",
    "    # 'scale_pos_weight': np.arange(0, 30, 5),\n",
    "    'learning_rate': np.arange(0.001, 0.1, 0.005),\n",
    "    'max_depth': np.arange(2, 8),\n",
    "    'n_estimators': np.arange(50, 150, 10),\n",
    "    'subsample': np.arange(0.3, 0.9, 0.1),\n",
    "    'colsample_bytree': np.arange(0.6, 1.0, 0.05),\n",
    "    'gamma': np.arange(0.1, 5, 0.1),\n",
    "    'early_stopping_rounds': np.arange(5, 15, 5)\n",
    "}"
   ]
  },
  {
   "cell_type": "markdown",
   "id": "fd493441",
   "metadata": {},
   "source": [
    "## Modeling"
   ]
  },
  {
   "cell_type": "code",
   "execution_count": 3,
   "id": "ef26aa46",
   "metadata": {},
   "outputs": [],
   "source": [
    "\n",
    "\n",
    "cities_siglas = {\n",
    "    \"A\": \"Porto Alegre\",\n",
    "    \"B\": \"Marabá\",\n",
    "    \"C\": \"Brasília\",\n",
    "    \"D\": \"Belo Horizonte\",\n",
    "    \"E\": \"Juazeiro do Norte\",\n",
    "    \"F\": \"Recife\"\n",
    "}\n",
    "\n",
    "polos_sigla = ['A', 'B', 'C', 'D', 'E', 'F']\n",
    "polos = [cities_siglas[s] for s in polos_sigla]"
   ]
  },
  {
   "cell_type": "code",
   "execution_count": 4,
   "id": "a4d998c5",
   "metadata": {},
   "outputs": [],
   "source": [
    "split_F = generate_combinations(polos[:-1], 3, 2)"
   ]
  },
  {
   "cell_type": "code",
   "execution_count": 5,
   "id": "90194cad",
   "metadata": {},
   "outputs": [
    {
     "name": "stdout",
     "output_type": "stream",
     "text": [
      "Combinação 0: [['Porto Alegre', 'Marabá', 'Brasília'], ['Belo Horizonte', 'Juazeiro do Norte']] training\n",
      "['Porto Alegre', 'Marabá', 'Brasília']\n",
      "['Belo Horizonte', 'Juazeiro do Norte']\n",
      "{'subsample': 0.5, 'objective': 'binary:logistic', 'n_estimators': 130, 'max_depth': 2, 'learning_rate': 0.081, 'gamma': 0.30000000000000004, 'eval_metric': 'auc', 'early_stopping_rounds': 10, 'colsample_bytree': 0.9500000000000003}\n",
      "Combinação 1: [['Porto Alegre', 'Marabá', 'Belo Horizonte'], ['Brasília', 'Juazeiro do Norte']] training\n",
      "['Porto Alegre', 'Marabá', 'Belo Horizonte']\n",
      "['Brasília', 'Juazeiro do Norte']\n",
      "{'subsample': 0.7000000000000002, 'objective': 'binary:logistic', 'n_estimators': 110, 'max_depth': 2, 'learning_rate': 0.091, 'gamma': 4.0, 'eval_metric': 'auc', 'early_stopping_rounds': 10, 'colsample_bytree': 0.65}\n",
      "Combinação 2: [['Porto Alegre', 'Marabá', 'Juazeiro do Norte'], ['Brasília', 'Belo Horizonte']] training\n",
      "['Porto Alegre', 'Marabá', 'Juazeiro do Norte']\n",
      "['Brasília', 'Belo Horizonte']\n",
      "{'subsample': 0.7000000000000002, 'objective': 'binary:logistic', 'n_estimators': 110, 'max_depth': 2, 'learning_rate': 0.091, 'gamma': 4.0, 'eval_metric': 'auc', 'early_stopping_rounds': 10, 'colsample_bytree': 0.65}\n",
      "Combinação 3: [['Porto Alegre', 'Brasília', 'Belo Horizonte'], ['Marabá', 'Juazeiro do Norte']] training\n",
      "['Porto Alegre', 'Brasília', 'Belo Horizonte']\n",
      "['Marabá', 'Juazeiro do Norte']\n",
      "{'subsample': 0.5, 'objective': 'binary:logistic', 'n_estimators': 130, 'max_depth': 2, 'learning_rate': 0.081, 'gamma': 0.30000000000000004, 'eval_metric': 'auc', 'early_stopping_rounds': 10, 'colsample_bytree': 0.9500000000000003}\n",
      "Combinação 4: [['Porto Alegre', 'Brasília', 'Juazeiro do Norte'], ['Marabá', 'Belo Horizonte']] training\n",
      "['Porto Alegre', 'Brasília', 'Juazeiro do Norte']\n",
      "['Marabá', 'Belo Horizonte']\n",
      "{'subsample': 0.5, 'objective': 'binary:logistic', 'n_estimators': 130, 'max_depth': 2, 'learning_rate': 0.081, 'gamma': 0.30000000000000004, 'eval_metric': 'auc', 'early_stopping_rounds': 10, 'colsample_bytree': 0.9500000000000003}\n",
      "Combinação 5: [['Porto Alegre', 'Belo Horizonte', 'Juazeiro do Norte'], ['Marabá', 'Brasília']] training\n",
      "['Porto Alegre', 'Belo Horizonte', 'Juazeiro do Norte']\n",
      "['Marabá', 'Brasília']\n",
      "{'subsample': 0.7000000000000002, 'objective': 'binary:logistic', 'n_estimators': 110, 'max_depth': 2, 'learning_rate': 0.091, 'gamma': 4.0, 'eval_metric': 'auc', 'early_stopping_rounds': 10, 'colsample_bytree': 0.65}\n",
      "Combinação 6: [['Marabá', 'Brasília', 'Belo Horizonte'], ['Porto Alegre', 'Juazeiro do Norte']] training\n",
      "['Marabá', 'Brasília', 'Belo Horizonte']\n",
      "['Porto Alegre', 'Juazeiro do Norte']\n",
      "{'subsample': 0.3, 'objective': 'binary:logistic', 'n_estimators': 70, 'max_depth': 2, 'learning_rate': 0.051000000000000004, 'gamma': 2.9000000000000004, 'eval_metric': 'auc', 'early_stopping_rounds': 10, 'colsample_bytree': 0.9500000000000003}\n",
      "Combinação 7: [['Marabá', 'Brasília', 'Juazeiro do Norte'], ['Porto Alegre', 'Belo Horizonte']] training\n",
      "['Marabá', 'Brasília', 'Juazeiro do Norte']\n",
      "['Porto Alegre', 'Belo Horizonte']\n",
      "{'subsample': 0.3, 'objective': 'binary:logistic', 'n_estimators': 70, 'max_depth': 2, 'learning_rate': 0.051000000000000004, 'gamma': 2.9000000000000004, 'eval_metric': 'auc', 'early_stopping_rounds': 10, 'colsample_bytree': 0.9500000000000003}\n",
      "Combinação 8: [['Marabá', 'Belo Horizonte', 'Juazeiro do Norte'], ['Porto Alegre', 'Brasília']] training\n",
      "['Marabá', 'Belo Horizonte', 'Juazeiro do Norte']\n",
      "['Porto Alegre', 'Brasília']\n",
      "{'subsample': 0.9000000000000001, 'objective': 'binary:logistic', 'n_estimators': 110, 'max_depth': 6, 'learning_rate': 0.066, 'gamma': 3.0000000000000004, 'eval_metric': 'auc', 'early_stopping_rounds': 10, 'colsample_bytree': 0.9500000000000003}\n",
      "Combinação 9: [['Brasília', 'Belo Horizonte', 'Juazeiro do Norte'], ['Porto Alegre', 'Marabá']] training\n",
      "['Brasília', 'Belo Horizonte', 'Juazeiro do Norte']\n",
      "['Porto Alegre', 'Marabá']\n",
      "{'subsample': 0.5, 'objective': 'binary:logistic', 'n_estimators': 130, 'max_depth': 2, 'learning_rate': 0.081, 'gamma': 0.30000000000000004, 'eval_metric': 'auc', 'early_stopping_rounds': 10, 'colsample_bytree': 0.9500000000000003}\n"
     ]
    }
   ],
   "source": [
    "models = []\n",
    "save_combination('split3_2/Recife', split_F)\n",
    "for idx, combination in enumerate(split_F, start=0):\n",
    "    print(f\"Combinação {idx}: {combination} training\")\n",
    "    X_train, y_train = generate_dataset_split(combination[0])\n",
    "    X_val, y_val = generate_dataset_split(combination[1])\n",
    "    clf = XGBClassifier()\n",
    "    model = random_search_tuning(clf, parameters)\n",
    "    model = train_model(model, X_train, y_train, [(X_val, y_val)])\n",
    "    print(model.best_params_)\n",
    "    models.append(model)\n",
    "    \n",
    "    "
   ]
  },
  {
   "cell_type": "markdown",
   "id": "7b588e9f-0e62-426f-a277-a3c895981efb",
   "metadata": {},
   "source": [
    "## Save Model"
   ]
  },
  {
   "cell_type": "code",
   "execution_count": 6,
   "id": "c3a2f587-27ac-4ca3-a1ca-bb870936284e",
   "metadata": {
    "tags": []
   },
   "outputs": [],
   "source": [
    "for i in range(0, len(models)):\n",
    "    pickle.dump(models[i], open(f\"../../data/models/split3_2/Recife/xgb_{i}.sav\", 'wb'))"
   ]
  }
 ],
 "metadata": {
  "kernelspec": {
   "display_name": "Python 3 (ipykernel)",
   "language": "python",
   "name": "python3"
  },
  "language_info": {
   "codemirror_mode": {
    "name": "ipython",
    "version": 3
   },
   "file_extension": ".py",
   "mimetype": "text/x-python",
   "name": "python",
   "nbconvert_exporter": "python",
   "pygments_lexer": "ipython3",
   "version": "3.10.10"
  }
 },
 "nbformat": 4,
 "nbformat_minor": 5
}
