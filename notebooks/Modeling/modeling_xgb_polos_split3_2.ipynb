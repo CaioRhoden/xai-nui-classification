{
 "cells": [
  {
   "cell_type": "markdown",
   "id": "e52f566f-d9d0-43ab-b6b1-65a3961a1cd4",
   "metadata": {},
   "source": [
    "# Modeling - XGBoost"
   ]
  },
  {
   "cell_type": "code",
   "execution_count": 6,
   "id": "4cac22fe-1f45-499a-afe2-dcc2c0d42aaf",
   "metadata": {
    "tags": []
   },
   "outputs": [
    {
     "name": "stderr",
     "output_type": "stream",
     "text": [
      "c:\\Users\\Caio\\Documents\\GitHub\\xai-nui-classification\\venv\\lib\\site-packages\\tqdm\\auto.py:21: TqdmWarning: IProgress not found. Please update jupyter and ipywidgets. See https://ipywidgets.readthedocs.io/en/stable/user_install.html\n",
      "  from .autonotebook import tqdm as notebook_tqdm\n"
     ]
    }
   ],
   "source": [
    "import sys\n",
    "import os\n",
    "sys.path.append('../../src')\n",
    "\n",
    "\n",
    "import numpy as np\n",
    "import pickle\n",
    "from xgboost import XGBClassifier\n",
    "from modeling import train_model, save_model\n",
    "from tuning import find_best_model\n",
    "from utils import  generate_combinations, generate_dataset_split, save_combination\n",
    "from itertools import combinations\n"
   ]
  },
  {
   "cell_type": "markdown",
   "id": "1f373d6d-f13a-4e54-82dd-b56858bbaea0",
   "metadata": {},
   "source": [
    "## Parameters for tuning"
   ]
  },
  {
   "cell_type": "code",
   "execution_count": 7,
   "id": "be5acff9",
   "metadata": {},
   "outputs": [],
   "source": [
    "parameters = {\n",
    "    'learning_rate': np.arange(0.001, 0.1, 0.005),\n",
    "    'max_depth': np.arange(2, 8),\n",
    "    'n_estimators': np.arange(50, 150, 10),\n",
    "    'subsample': np.arange(0.3, 0.9, 0.1),\n",
    "    'colsample_bytree': np.arange(0.6, 1.0, 0.05),\n",
    "    'gamma': np.arange(0.1, 5, 0.1),\n",
    "    'early_stopping_rounds': np.arange(5, 15, 5),\n",
    "    'objective': ['multi:softprob'], \n",
    "    'num_class': [3],\n",
    "    'eval_metric':['auc']\n",
    "}"
   ]
  },
  {
   "cell_type": "markdown",
   "id": "fd493441",
   "metadata": {},
   "source": [
    "## Modeling"
   ]
  },
  {
   "cell_type": "code",
   "execution_count": 8,
   "id": "ef26aa46",
   "metadata": {},
   "outputs": [],
   "source": [
    "\n",
    "\n",
    "cities_siglas = {\n",
    "    \"A\": \"Porto Alegre\",\n",
    "    \"B\": \"Marabá\",\n",
    "    \"C\": \"Brasília\",\n",
    "    \"D\": \"Belo Horizonte\",\n",
    "    \"E\": \"Juazeiro do Norte\",\n",
    "    \"F\": \"Recife\"\n",
    "}\n",
    "\n",
    "cities = [\"Porto Alegre\", \"Marabá\", \"Brasília\", \"Belo Horizonte\", \"Juazeiro do Norte\", \"Recife\"]\n",
    "\n",
    "polos_sigla = ['A', 'B', 'C', 'D', 'E', 'F']\n",
    "polos = [cities_siglas[s] for s in polos_sigla]"
   ]
  },
  {
   "cell_type": "code",
   "execution_count": 9,
   "id": "a4d998c5",
   "metadata": {},
   "outputs": [],
   "source": [
    "splits = []\n",
    "for i in range(0, len(polos_sigla)):\n",
    "    splits.append(generate_combinations(polos[:i] + polos[i+1:], 3, 2))"
   ]
  },
  {
   "cell_type": "code",
   "execution_count": null,
   "id": "90194cad",
   "metadata": {},
   "outputs": [
    {
     "name": "stdout",
     "output_type": "stream",
     "text": [
      "Combinação 0: [['Marabá', 'Brasília', 'Belo Horizonte', 'Juazeiro do Norte'], ['Recife']] training\n"
     ]
    },
    {
     "name": "stderr",
     "output_type": "stream",
     "text": [
      "[I 2024-03-12 17:32:27,876] A new study created in memory with name: no-name-d5fc43a4-179a-4d73-b52b-e33763f288d9\n",
      "  0%|          | 0/30 [00:00<?, ?it/s]"
     ]
    },
    {
     "ename": "",
     "evalue": "",
     "output_type": "error",
     "traceback": [
      "\u001b[1;31mThe Kernel crashed while executing code in the the current cell or a previous cell. Please review the code in the cell(s) to identify a possible cause of the failure. Click <a href='https://aka.ms/vscodeJupyterKernelCrash'>here</a> for more info. View Jupyter <a href='command:jupyter.viewOutput'>log</a> for further details."
     ]
    }
   ],
   "source": [
    "\n",
    "for i in range(0, len(splits)):\n",
    "    models = []\n",
    "    save_combination(f'split3_2/{cities[i]}', \"binary\", splits[i])\n",
    "    for idx, combination in enumerate(splits[i], start=0):\n",
    "        print(f\"Combinação {idx}: {combination} training\")\n",
    "        X_train, y_train = generate_dataset_split(combination[0], \"binary\")\n",
    "        X_val, y_val = generate_dataset_split(combination[1], \"binary\")\n",
    "        best_params = find_best_model(\"xgb\", X_train, y_train, X_val, y_val, trials=25)\n",
    "        model = XGBClassifier(**best_params.params, random_state=42, device=[\"cuda\"]).fit(X_train, y_train, eval_set=[(X_val, y_val)], verbose=False)\n",
    "        models.append(model)\n",
    "        break\n",
    "    for j in range(0, len(models)):\n",
    "        pickle.dump(models[j], open(f\"../../data/models/binary/split3_2/{cities[i]}/xgb_{j}.sav\", 'wb'))\n",
    "        \n",
    "    "
   ]
  },
  {
   "cell_type": "code",
   "execution_count": 11,
   "id": "6111309e",
   "metadata": {},
   "outputs": [],
   "source": [
    "splits = []\n",
    "for i in range(0, len(polos_sigla)):\n",
    "    splits.append(generate_combinations(polos[:i] + polos[i+1:], 4, 1))"
   ]
  },
  {
   "cell_type": "code",
   "execution_count": null,
   "id": "c85c26a5",
   "metadata": {},
   "outputs": [],
   "source": [
    "\n",
    "for i in range(0, len(splits)):\n",
    "    models = []\n",
    "    save_combination(f'split4_1/{cities[i]}', \"binary\", splits[i])\n",
    "    for idx, combination in enumerate(splits[i], start=0):\n",
    "        print(f\"Combinação {idx}: {combination} training\")\n",
    "        X_train, y_train = generate_dataset_split(combination[0], \"binary\")\n",
    "        X_val, y_val = generate_dataset_split(combination[1], \"binary\")\n",
    "        best_params = find_best_model(\"xgb\", X_train, y_train, X_val, y_val, trials=30)\n",
    "        model = XGBClassifier(**best_params.params, random_state=42).fit(X_train, y_train, eval_set=[(X_val, y_val)], verbose=False)\n",
    "        models.append(model)\n",
    "        break\n",
    "    for j in range(0, len(models)):\n",
    "        pickle.dump(models[j], open(f\"../../data/models/binary/split4_1/{cities[i]}/xgb_{j}.sav\", 'wb'))"
   ]
  }
 ],
 "metadata": {
  "kernelspec": {
   "display_name": "Python 3 (ipykernel)",
   "language": "python",
   "name": "python3"
  },
  "language_info": {
   "codemirror_mode": {
    "name": "ipython",
    "version": 3
   },
   "file_extension": ".py",
   "mimetype": "text/x-python",
   "name": "python",
   "nbconvert_exporter": "python",
   "pygments_lexer": "ipython3",
   "version": "3.10.10"
  }
 },
 "nbformat": 4,
 "nbformat_minor": 5
}
