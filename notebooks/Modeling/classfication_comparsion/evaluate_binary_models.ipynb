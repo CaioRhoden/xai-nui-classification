{
 "cells": [
  {
   "cell_type": "markdown",
   "metadata": {},
   "source": [
    "# Model Evaluation Binary Classification\n",
    "\n",
    "In this notebook will be evaluated the performance of five different basemodels\n",
    "\n",
    "- XGBoost\n",
    "- CatBoost\n",
    "- RandomForest\n",
    "- LogisticRegression\n",
    "- MLP\n",
    "\n",
    "It will be training five different models with a different data split each\\\n",
    "The data split will consist on 2 cities for training, 2 cities for validation and 2 cities for evaluation \\\n",
    "The evaluation will use the mean ROCAU metrics of the five models for each basemodel\\\n",
    "The models will have learning rate fixed to 0.01 and 10 early-stopping rounds (when applied) \n",
    "\n",
    "**Results**\n",
    "\n",
    "| Model           |   ROCAU       |\n",
    "| -----------     | -----------   |\n",
    "| XGBoost         |    0.772      |\n",
    "| Catboost        |               |\n",
    "| RandomForest    |               |\n",
    "| LR              |    0.688      |\n",
    "| MLP             |               |"
   ]
  },
  {
   "cell_type": "markdown",
   "metadata": {},
   "source": [
    "## 1. Generate Random Data"
   ]
  },
  {
   "cell_type": "code",
   "execution_count": 1,
   "metadata": {},
   "outputs": [
    {
     "name": "stderr",
     "output_type": "stream",
     "text": [
      "c:\\Users\\caior\\OneDrive\\Documentos\\GitHub\\xai-nui-classification\\venv\\Lib\\site-packages\\tqdm\\auto.py:21: TqdmWarning: IProgress not found. Please update jupyter and ipywidgets. See https://ipywidgets.readthedocs.io/en/stable/user_install.html\n",
      "  from .autonotebook import tqdm as notebook_tqdm\n"
     ]
    }
   ],
   "source": [
    "import sys\n",
    "sys.path.append('../../src')\n",
    "\n",
    "import pandas as pd\n",
    "import numpy as np\n",
    "import random\n",
    "from random_data_generator import random_data_generator\n",
    "\n",
    "#tunning\n",
    "from tuning import find_best_model\n",
    "\n",
    "#models\n",
    "from xgboost import XGBClassifier\n",
    "from catboost import CatBoostClassifier, Pool\n",
    "from sklearn.linear_model import LogisticRegression\n",
    "from sklearn.ensemble import RandomForestClassifier\n",
    "from sklearn.neural_network import MLPClassifier\n",
    "\n",
    "#metrics\n",
    "from sklearn.metrics import roc_auc_score\n",
    "\n",
    "random.seed(42)"
   ]
  },
  {
   "cell_type": "code",
   "execution_count": 2,
   "metadata": {},
   "outputs": [],
   "source": [
    "dataset = random_data_generator(\"binary\", 5)\n"
   ]
  },
  {
   "cell_type": "markdown",
   "metadata": {},
   "source": [
    "## 2. XGBoost"
   ]
  },
  {
   "cell_type": "code",
   "execution_count": 3,
   "metadata": {},
   "outputs": [
    {
     "name": "stderr",
     "output_type": "stream",
     "text": [
      "[I 2024-03-08 13:41:37,906] A new study created in memory with name: no-name-739ff4e4-4d03-45a0-9cd9-4f13835256df\n",
      "Best trial: 0. Best value: 0.729425:  50%|█████     | 1/2 [00:04<00:04,  4.44s/it]"
     ]
    },
    {
     "name": "stdout",
     "output_type": "stream",
     "text": [
      "[I 2024-03-08 13:41:42,350] Trial 0 finished with value: 0.7294247128828109 and parameters: {'n_estimators': 117, 'learning_rate': 0.0571227446619491, 'max_depth': 5, 'subsample': 0.41913510639846246, 'colsample_bytree': 0.7141728594210996, 'min_child_weight': 16, 'gamma': 3.3503639844949165}. Best is trial 0 with value: 0.7294247128828109.\n"
     ]
    },
    {
     "name": "stderr",
     "output_type": "stream",
     "text": [
      "Best trial: 0. Best value: 0.729425: 100%|██████████| 2/2 [00:08<00:00,  4.46s/it]"
     ]
    },
    {
     "name": "stdout",
     "output_type": "stream",
     "text": [
      "[I 2024-03-08 13:41:46,844] Trial 1 finished with value: 0.7163888342490168 and parameters: {'n_estimators': 85, 'learning_rate': 0.009330783393358112, 'max_depth': 7, 'subsample': 0.8221082903655645, 'colsample_bytree': 0.6413114403884563, 'min_child_weight': 16, 'gamma': 2.4512186782833307}. Best is trial 0 with value: 0.7294247128828109.\n"
     ]
    },
    {
     "name": "stderr",
     "output_type": "stream",
     "text": [
      "\n"
     ]
    },
    {
     "data": {
      "text/plain": [
       "FrozenTrial(number=0, state=1, values=[0.7294247128828109], datetime_start=datetime.datetime(2024, 3, 8, 13, 41, 37, 920806), datetime_complete=datetime.datetime(2024, 3, 8, 13, 41, 42, 350056), params={'n_estimators': 117, 'learning_rate': 0.0571227446619491, 'max_depth': 5, 'subsample': 0.41913510639846246, 'colsample_bytree': 0.7141728594210996, 'min_child_weight': 16, 'gamma': 3.3503639844949165}, user_attrs={}, system_attrs={}, intermediate_values={}, distributions={'n_estimators': IntDistribution(high=150, log=False, low=50, step=1), 'learning_rate': FloatDistribution(high=0.1, log=False, low=0.001, step=None), 'max_depth': IntDistribution(high=8, log=False, low=2, step=1), 'subsample': FloatDistribution(high=0.9, log=False, low=0.3, step=None), 'colsample_bytree': FloatDistribution(high=1.0, log=False, low=0.6, step=None), 'min_child_weight': IntDistribution(high=20, log=False, low=1, step=1), 'gamma': FloatDistribution(high=5.0, log=False, low=0.0, step=None)}, trial_id=0, value=None)"
      ]
     },
     "execution_count": 3,
     "metadata": {},
     "output_type": "execute_result"
    }
   ],
   "source": [
    "for i in range(0, len(dataset)):\n",
    "    x_train, y_train, x_val, y_val, x_test, y_test = dataset[i][0], dataset[i][1], dataset[i][2], dataset[i][3], dataset[i][4], dataset[i][5]\n",
    "    test = find_best_model(\"xgb\", x_train, y_train, x_val, y_val, trials=2)\n",
    "    break\n",
    "test"
   ]
  },
  {
   "cell_type": "code",
   "execution_count": 9,
   "metadata": {},
   "outputs": [
    {
     "name": "stderr",
     "output_type": "stream",
     "text": [
      "[I 2024-03-08 13:51:53,639] A new study created in memory with name: no-name-28d82037-81f5-4cc5-80bb-a4da2ccaeb54\n",
      "Best trial: 0. Best value: 0.688119:   5%|▌         | 1/20 [00:04<01:18,  4.16s/it]"
     ]
    },
    {
     "name": "stdout",
     "output_type": "stream",
     "text": [
      "[I 2024-03-08 13:51:57,799] Trial 0 finished with value: 0.6881188721210227 and parameters: {'n_estimators': 55, 'learning_rate': 0.00515267725220935, 'max_depth': 3, 'subsample': 0.6596766333226011, 'colsample_bytree': 0.894004066304964, 'min_child_weight': 4, 'gamma': 3.1696710648498883}. Best is trial 0 with value: 0.6881188721210227.\n"
     ]
    },
    {
     "name": "stderr",
     "output_type": "stream",
     "text": [
      "Best trial: 1. Best value: 0.729561:  10%|█         | 2/20 [00:07<01:10,  3.92s/it]"
     ]
    },
    {
     "name": "stdout",
     "output_type": "stream",
     "text": [
      "[I 2024-03-08 13:52:01,545] Trial 1 finished with value: 0.729560561670316 and parameters: {'n_estimators': 145, 'learning_rate': 0.05306998585672417, 'max_depth': 3, 'subsample': 0.7048951062315595, 'colsample_bytree': 0.9842263753984359, 'min_child_weight': 18, 'gamma': 2.9421223134282366}. Best is trial 1 with value: 0.729560561670316.\n"
     ]
    },
    {
     "name": "stderr",
     "output_type": "stream",
     "text": [
      "Best trial: 1. Best value: 0.729561:  15%|█▌        | 3/20 [00:11<01:01,  3.62s/it]"
     ]
    },
    {
     "name": "stdout",
     "output_type": "stream",
     "text": [
      "[I 2024-03-08 13:52:04,818] Trial 2 finished with value: 0.6838032549738915 and parameters: {'n_estimators': 76, 'learning_rate': 0.002705310937718989, 'max_depth': 5, 'subsample': 0.3628094654724534, 'colsample_bytree': 0.9916657933774106, 'min_child_weight': 19, 'gamma': 2.128928502307282}. Best is trial 1 with value: 0.729560561670316.\n"
     ]
    },
    {
     "name": "stderr",
     "output_type": "stream",
     "text": [
      "Best trial: 3. Best value: 0.731331:  20%|██        | 4/20 [00:12<00:45,  2.85s/it]"
     ]
    },
    {
     "name": "stdout",
     "output_type": "stream",
     "text": [
      "[I 2024-03-08 13:52:06,495] Trial 3 finished with value: 0.7313308342925946 and parameters: {'n_estimators': 50, 'learning_rate': 0.07402767001857108, 'max_depth': 2, 'subsample': 0.3626870212245886, 'colsample_bytree': 0.8993663212596426, 'min_child_weight': 1, 'gamma': 4.358306196782385}. Best is trial 3 with value: 0.7313308342925946.\n"
     ]
    },
    {
     "name": "stderr",
     "output_type": "stream",
     "text": [
      "Best trial: 4. Best value: 0.732171:  25%|██▌       | 5/20 [00:16<00:47,  3.19s/it]"
     ]
    },
    {
     "name": "stdout",
     "output_type": "stream",
     "text": [
      "[I 2024-03-08 13:52:10,288] Trial 4 finished with value: 0.7321712889407447 and parameters: {'n_estimators': 69, 'learning_rate': 0.03708777912185726, 'max_depth': 7, 'subsample': 0.6147631249946259, 'colsample_bytree': 0.8531132808028221, 'min_child_weight': 10, 'gamma': 1.9214175883587703}. Best is trial 4 with value: 0.7321712889407447.\n"
     ]
    },
    {
     "name": "stderr",
     "output_type": "stream",
     "text": [
      "Best trial: 4. Best value: 0.732171:  30%|███       | 6/20 [00:20<00:48,  3.44s/it]"
     ]
    },
    {
     "name": "stdout",
     "output_type": "stream",
     "text": [
      "[I 2024-03-08 13:52:14,200] Trial 5 finished with value: 0.7175060289429677 and parameters: {'n_estimators': 79, 'learning_rate': 0.07575831602320468, 'max_depth': 7, 'subsample': 0.464865488094103, 'colsample_bytree': 0.7184729774727232, 'min_child_weight': 16, 'gamma': 2.6181237075816712}. Best is trial 4 with value: 0.7321712889407447.\n"
     ]
    },
    {
     "name": "stderr",
     "output_type": "stream",
     "text": [
      "Best trial: 4. Best value: 0.732171:  35%|███▌      | 7/20 [00:24<00:46,  3.55s/it]"
     ]
    },
    {
     "name": "stdout",
     "output_type": "stream",
     "text": [
      "[I 2024-03-08 13:52:17,965] Trial 6 finished with value: 0.7320992214530666 and parameters: {'n_estimators': 118, 'learning_rate': 0.06675924163370338, 'max_depth': 2, 'subsample': 0.5681887874406163, 'colsample_bytree': 0.7407784263407604, 'min_child_weight': 20, 'gamma': 0.544081322212101}. Best is trial 4 with value: 0.7321712889407447.\n"
     ]
    },
    {
     "name": "stderr",
     "output_type": "stream",
     "text": [
      "Best trial: 7. Best value: 0.742506:  40%|████      | 8/20 [00:34<01:07,  5.62s/it]"
     ]
    },
    {
     "name": "stdout",
     "output_type": "stream",
     "text": [
      "[I 2024-03-08 13:52:28,034] Trial 7 finished with value: 0.7425059573113886 and parameters: {'n_estimators': 119, 'learning_rate': 0.05205784784398675, 'max_depth': 4, 'subsample': 0.7820646287269191, 'colsample_bytree': 0.6275235279542885, 'min_child_weight': 1, 'gamma': 1.7909282348918327}. Best is trial 7 with value: 0.7425059573113886.\n"
     ]
    },
    {
     "name": "stderr",
     "output_type": "stream",
     "text": [
      "Best trial: 7. Best value: 0.742506:  45%|████▌     | 9/20 [00:57<02:00, 10.99s/it]"
     ]
    },
    {
     "name": "stdout",
     "output_type": "stream",
     "text": [
      "[I 2024-03-08 13:52:50,824] Trial 8 finished with value: 0.7306191358079125 and parameters: {'n_estimators': 92, 'learning_rate': 0.09587124462748213, 'max_depth': 2, 'subsample': 0.3295340354903624, 'colsample_bytree': 0.8775478320378809, 'min_child_weight': 8, 'gamma': 0.8450029391919633}. Best is trial 7 with value: 0.7425059573113886.\n"
     ]
    },
    {
     "name": "stderr",
     "output_type": "stream",
     "text": [
      "Best trial: 7. Best value: 0.742506:  50%|█████     | 10/20 [01:13<02:05, 12.56s/it]"
     ]
    },
    {
     "name": "stdout",
     "output_type": "stream",
     "text": [
      "[I 2024-03-08 13:53:06,918] Trial 9 finished with value: 0.7324282208346826 and parameters: {'n_estimators': 62, 'learning_rate': 0.08068378073658862, 'max_depth': 4, 'subsample': 0.3057540285981705, 'colsample_bytree': 0.6613133260540145, 'min_child_weight': 20, 'gamma': 0.8604599304484783}. Best is trial 7 with value: 0.7425059573113886.\n"
     ]
    },
    {
     "name": "stderr",
     "output_type": "stream",
     "text": [
      "Best trial: 10. Best value: 0.743485:  55%|█████▌    | 11/20 [01:18<01:32, 10.27s/it]"
     ]
    },
    {
     "name": "stdout",
     "output_type": "stream",
     "text": [
      "[I 2024-03-08 13:53:12,001] Trial 10 finished with value: 0.7434846091043992 and parameters: {'n_estimators': 120, 'learning_rate': 0.03375471711046693, 'max_depth': 6, 'subsample': 0.8992575818493993, 'colsample_bytree': 0.6210168464814009, 'min_child_weight': 6, 'gamma': 4.713241593747538}. Best is trial 10 with value: 0.7434846091043992.\n"
     ]
    },
    {
     "name": "stderr",
     "output_type": "stream",
     "text": [
      "Best trial: 10. Best value: 0.743485:  60%|██████    | 12/20 [01:23<01:09,  8.71s/it]"
     ]
    },
    {
     "name": "stdout",
     "output_type": "stream",
     "text": [
      "[I 2024-03-08 13:53:17,130] Trial 11 finished with value: 0.7406335239973362 and parameters: {'n_estimators': 118, 'learning_rate': 0.02929999763449783, 'max_depth': 6, 'subsample': 0.8951085260470195, 'colsample_bytree': 0.6185923064119088, 'min_child_weight': 5, 'gamma': 4.4768407213655275}. Best is trial 10 with value: 0.7434846091043992.\n"
     ]
    },
    {
     "name": "stderr",
     "output_type": "stream",
     "text": [
      "Best trial: 10. Best value: 0.743485:  65%|██████▌   | 13/20 [01:28<00:52,  7.51s/it]"
     ]
    },
    {
     "name": "stdout",
     "output_type": "stream",
     "text": [
      "[I 2024-03-08 13:53:21,870] Trial 12 finished with value: 0.74000139929849 and parameters: {'n_estimators': 123, 'learning_rate': 0.03000815447015348, 'max_depth': 5, 'subsample': 0.8992635545120724, 'colsample_bytree': 0.6051814093600563, 'min_child_weight': 1, 'gamma': 3.6227431316481127}. Best is trial 10 with value: 0.7434846091043992.\n"
     ]
    },
    {
     "name": "stderr",
     "output_type": "stream",
     "text": [
      "Best trial: 10. Best value: 0.743485:  70%|███████   | 14/20 [01:37<00:47,  7.93s/it]"
     ]
    },
    {
     "name": "stdout",
     "output_type": "stream",
     "text": [
      "[I 2024-03-08 13:53:30,779] Trial 13 finished with value: 0.734213732695874 and parameters: {'n_estimators': 139, 'learning_rate': 0.04688339507050152, 'max_depth': 8, 'subsample': 0.7957260612765156, 'colsample_bytree': 0.6913091802894165, 'min_child_weight': 5, 'gamma': 1.5467113510285082}. Best is trial 10 with value: 0.7434846091043992.\n"
     ]
    },
    {
     "name": "stderr",
     "output_type": "stream",
     "text": [
      "Best trial: 10. Best value: 0.743485:  75%|███████▌  | 15/20 [01:43<00:37,  7.43s/it]"
     ]
    },
    {
     "name": "stdout",
     "output_type": "stream",
     "text": [
      "[I 2024-03-08 13:53:37,043] Trial 14 finished with value: 0.7325948386434897 and parameters: {'n_estimators': 102, 'learning_rate': 0.02028535680000073, 'max_depth': 6, 'subsample': 0.7657308829413387, 'colsample_bytree': 0.7795820317973055, 'min_child_weight': 13, 'gamma': 4.9865569276199055}. Best is trial 10 with value: 0.7434846091043992.\n"
     ]
    },
    {
     "name": "stderr",
     "output_type": "stream",
     "text": [
      "Best trial: 10. Best value: 0.743485:  80%|████████  | 16/20 [01:49<00:27,  6.92s/it]"
     ]
    },
    {
     "name": "stdout",
     "output_type": "stream",
     "text": [
      "[I 2024-03-08 13:53:42,793] Trial 15 finished with value: 0.7352899971008899 and parameters: {'n_estimators': 132, 'learning_rate': 0.05379279572677543, 'max_depth': 4, 'subsample': 0.8194759312397509, 'colsample_bytree': 0.6572222626415768, 'min_child_weight': 7, 'gamma': 3.655264012638101}. Best is trial 10 with value: 0.7434846091043992.\n"
     ]
    },
    {
     "name": "stderr",
     "output_type": "stream",
     "text": [
      "Best trial: 10. Best value: 0.743485:  85%|████████▌ | 17/20 [01:55<00:20,  6.81s/it]"
     ]
    },
    {
     "name": "stdout",
     "output_type": "stream",
     "text": [
      "[I 2024-03-08 13:53:49,345] Trial 16 finished with value: 0.7340522797411226 and parameters: {'n_estimators': 103, 'learning_rate': 0.017259912570853433, 'max_depth': 6, 'subsample': 0.7377751813822502, 'colsample_bytree': 0.7876174829301814, 'min_child_weight': 3, 'gamma': 1.4747793875684954}. Best is trial 10 with value: 0.7434846091043992.\n"
     ]
    },
    {
     "name": "stderr",
     "output_type": "stream",
     "text": [
      "Best trial: 10. Best value: 0.743485:  90%|█████████ | 18/20 [02:01<00:12,  6.36s/it]"
     ]
    },
    {
     "name": "stdout",
     "output_type": "stream",
     "text": [
      "[I 2024-03-08 13:53:54,668] Trial 17 finished with value: 0.7325503348566353 and parameters: {'n_estimators': 110, 'learning_rate': 0.04159446056826743, 'max_depth': 4, 'subsample': 0.8351860829699531, 'colsample_bytree': 0.6528561220611334, 'min_child_weight': 8, 'gamma': 3.7548576402929634}. Best is trial 10 with value: 0.7434846091043992.\n"
     ]
    },
    {
     "name": "stderr",
     "output_type": "stream",
     "text": [
      "Best trial: 10. Best value: 0.743485:  95%|█████████▌| 19/20 [02:08<00:06,  6.74s/it]"
     ]
    },
    {
     "name": "stdout",
     "output_type": "stream",
     "text": [
      "[I 2024-03-08 13:54:02,274] Trial 18 finished with value: 0.7256287979526814 and parameters: {'n_estimators': 91, 'learning_rate': 0.0603065478622854, 'max_depth': 8, 'subsample': 0.5036771756260421, 'colsample_bytree': 0.7325101725612035, 'min_child_weight': 12, 'gamma': 0.11597519194449424}. Best is trial 10 with value: 0.7434846091043992.\n"
     ]
    },
    {
     "name": "stderr",
     "output_type": "stream",
     "text": [
      "Best trial: 10. Best value: 0.743485: 100%|██████████| 20/20 [02:16<00:00,  6.81s/it]\n"
     ]
    },
    {
     "name": "stdout",
     "output_type": "stream",
     "text": [
      "[I 2024-03-08 13:54:09,897] Trial 19 finished with value: 0.7330645353386241 and parameters: {'n_estimators': 130, 'learning_rate': 0.020200173531516905, 'max_depth': 5, 'subsample': 0.8404894145737014, 'colsample_bytree': 0.6057157644332829, 'min_child_weight': 3, 'gamma': 2.312986151403178}. Best is trial 10 with value: 0.7434846091043992.\n"
     ]
    },
    {
     "name": "stderr",
     "output_type": "stream",
     "text": [
      "[I 2024-03-08 13:54:29,458] A new study created in memory with name: no-name-6e263656-3013-4e1d-b419-b7d55e399303\n",
      "Best trial: 0. Best value: 0.739742:   5%|▌         | 1/20 [00:02<00:51,  2.70s/it]"
     ]
    },
    {
     "name": "stdout",
     "output_type": "stream",
     "text": [
      "[I 2024-03-08 13:54:32,158] Trial 0 finished with value: 0.7397418377057954 and parameters: {'n_estimators': 54, 'learning_rate': 0.06117043162784912, 'max_depth': 5, 'subsample': 0.5140957223797921, 'colsample_bytree': 0.7523327094200489, 'min_child_weight': 19, 'gamma': 3.006022103277294}. Best is trial 0 with value: 0.7397418377057954.\n"
     ]
    },
    {
     "name": "stderr",
     "output_type": "stream",
     "text": [
      "Best trial: 0. Best value: 0.739742:  10%|█         | 2/20 [00:09<01:33,  5.22s/it]"
     ]
    },
    {
     "name": "stdout",
     "output_type": "stream",
     "text": [
      "[I 2024-03-08 13:54:39,139] Trial 1 finished with value: 0.7120712869649102 and parameters: {'n_estimators': 100, 'learning_rate': 0.001990833256896419, 'max_depth': 7, 'subsample': 0.888144001723828, 'colsample_bytree': 0.9208159596396368, 'min_child_weight': 7, 'gamma': 4.06628247682031}. Best is trial 0 with value: 0.7397418377057954.\n"
     ]
    },
    {
     "name": "stderr",
     "output_type": "stream",
     "text": [
      "Best trial: 0. Best value: 0.739742:  15%|█▌        | 3/20 [00:16<01:39,  5.85s/it]"
     ]
    },
    {
     "name": "stdout",
     "output_type": "stream",
     "text": [
      "[I 2024-03-08 13:54:45,749] Trial 2 finished with value: 0.7238622481637412 and parameters: {'n_estimators': 78, 'learning_rate': 0.010267224476213345, 'max_depth': 8, 'subsample': 0.7278571631442461, 'colsample_bytree': 0.8476921323713922, 'min_child_weight': 16, 'gamma': 1.3616716389312766}. Best is trial 0 with value: 0.7397418377057954.\n"
     ]
    },
    {
     "name": "stderr",
     "output_type": "stream",
     "text": [
      "Best trial: 0. Best value: 0.739742:  20%|██        | 4/20 [00:20<01:21,  5.10s/it]"
     ]
    },
    {
     "name": "stdout",
     "output_type": "stream",
     "text": [
      "[I 2024-03-08 13:54:49,698] Trial 3 finished with value: 0.7298107309937255 and parameters: {'n_estimators': 53, 'learning_rate': 0.07026951919512199, 'max_depth': 7, 'subsample': 0.5119673854557621, 'colsample_bytree': 0.9838009609971899, 'min_child_weight': 2, 'gamma': 3.120502179957352}. Best is trial 0 with value: 0.7397418377057954.\n"
     ]
    },
    {
     "name": "stderr",
     "output_type": "stream",
     "text": [
      "Best trial: 0. Best value: 0.739742:  25%|██▌       | 5/20 [00:28<01:31,  6.08s/it]"
     ]
    },
    {
     "name": "stdout",
     "output_type": "stream",
     "text": [
      "[I 2024-03-08 13:54:57,510] Trial 4 finished with value: 0.7242935044574843 and parameters: {'n_estimators': 128, 'learning_rate': 0.010973461229635582, 'max_depth': 6, 'subsample': 0.5940779997047743, 'colsample_bytree': 0.9814403536280487, 'min_child_weight': 3, 'gamma': 1.5751288941779917}. Best is trial 0 with value: 0.7397418377057954.\n"
     ]
    },
    {
     "name": "stderr",
     "output_type": "stream",
     "text": [
      "Best trial: 5. Best value: 0.739972:  30%|███       | 6/20 [00:32<01:16,  5.45s/it]"
     ]
    },
    {
     "name": "stdout",
     "output_type": "stream",
     "text": [
      "[I 2024-03-08 13:55:01,752] Trial 5 finished with value: 0.7399720217679531 and parameters: {'n_estimators': 83, 'learning_rate': 0.046973699215337, 'max_depth': 5, 'subsample': 0.5521558680448926, 'colsample_bytree': 0.6977877577036323, 'min_child_weight': 11, 'gamma': 2.960426731579176}. Best is trial 5 with value: 0.7399720217679531.\n"
     ]
    },
    {
     "name": "stderr",
     "output_type": "stream",
     "text": [
      "Best trial: 5. Best value: 0.739972:  35%|███▌      | 7/20 [00:38<01:13,  5.63s/it]"
     ]
    },
    {
     "name": "stdout",
     "output_type": "stream",
     "text": [
      "[I 2024-03-08 13:55:07,728] Trial 6 finished with value: 0.7260738940021372 and parameters: {'n_estimators': 115, 'learning_rate': 0.01374105777873812, 'max_depth': 5, 'subsample': 0.4157450590157531, 'colsample_bytree': 0.9988525816315665, 'min_child_weight': 13, 'gamma': 2.256565560409618}. Best is trial 5 with value: 0.7399720217679531.\n"
     ]
    },
    {
     "name": "stderr",
     "output_type": "stream",
     "text": [
      "Best trial: 7. Best value: 0.74122:  40%|████      | 8/20 [00:40<00:54,  4.55s/it] "
     ]
    },
    {
     "name": "stdout",
     "output_type": "stream",
     "text": [
      "[I 2024-03-08 13:55:09,984] Trial 7 finished with value: 0.7412197862159358 and parameters: {'n_estimators': 50, 'learning_rate': 0.05572333192485807, 'max_depth': 3, 'subsample': 0.65780949730722, 'colsample_bytree': 0.6955519873106953, 'min_child_weight': 20, 'gamma': 1.6210764524514936}. Best is trial 7 with value: 0.7412197862159358.\n"
     ]
    },
    {
     "name": "stderr",
     "output_type": "stream",
     "text": [
      "Best trial: 8. Best value: 0.743075:  45%|████▌     | 9/20 [00:45<00:50,  4.58s/it]"
     ]
    },
    {
     "name": "stdout",
     "output_type": "stream",
     "text": [
      "[I 2024-03-08 13:55:14,615] Trial 8 finished with value: 0.7430753413621298 and parameters: {'n_estimators': 114, 'learning_rate': 0.03021369330320634, 'max_depth': 4, 'subsample': 0.7617445842772192, 'colsample_bytree': 0.7800006396708731, 'min_child_weight': 2, 'gamma': 4.276603337550745}. Best is trial 8 with value: 0.7430753413621298.\n"
     ]
    },
    {
     "name": "stderr",
     "output_type": "stream",
     "text": [
      "Best trial: 8. Best value: 0.743075:  50%|█████     | 10/20 [00:47<00:39,  3.97s/it]"
     ]
    },
    {
     "name": "stdout",
     "output_type": "stream",
     "text": [
      "[I 2024-03-08 13:55:17,233] Trial 9 finished with value: 0.7188088107556779 and parameters: {'n_estimators': 71, 'learning_rate': 0.011268167390000739, 'max_depth': 3, 'subsample': 0.6109177697612572, 'colsample_bytree': 0.7109085379940377, 'min_child_weight': 11, 'gamma': 0.7258306566434586}. Best is trial 8 with value: 0.7430753413621298.\n"
     ]
    },
    {
     "name": "stderr",
     "output_type": "stream",
     "text": [
      "Best trial: 10. Best value: 0.752365:  55%|█████▌    | 11/20 [00:52<00:36,  4.05s/it]"
     ]
    },
    {
     "name": "stdout",
     "output_type": "stream",
     "text": [
      "[I 2024-03-08 13:55:21,458] Trial 10 finished with value: 0.7523645955245 and parameters: {'n_estimators': 150, 'learning_rate': 0.03351734530279351, 'max_depth': 2, 'subsample': 0.8416465833698173, 'colsample_bytree': 0.6033051916558192, 'min_child_weight': 6, 'gamma': 4.956694903657233}. Best is trial 10 with value: 0.7523645955245.\n"
     ]
    },
    {
     "name": "stderr",
     "output_type": "stream",
     "text": [
      "Best trial: 11. Best value: 0.754297:  60%|██████    | 12/20 [00:55<00:32,  4.03s/it]"
     ]
    },
    {
     "name": "stdout",
     "output_type": "stream",
     "text": [
      "[I 2024-03-08 13:55:25,434] Trial 11 finished with value: 0.7542973825067947 and parameters: {'n_estimators': 146, 'learning_rate': 0.03920690504933135, 'max_depth': 2, 'subsample': 0.8487046227262348, 'colsample_bytree': 0.6018328604700331, 'min_child_weight': 6, 'gamma': 4.9268169780264754}. Best is trial 11 with value: 0.7542973825067947.\n"
     ]
    },
    {
     "name": "stderr",
     "output_type": "stream",
     "text": [
      "Best trial: 11. Best value: 0.754297:  65%|██████▌   | 13/20 [01:00<00:28,  4.11s/it]"
     ]
    },
    {
     "name": "stdout",
     "output_type": "stream",
     "text": [
      "[I 2024-03-08 13:55:29,734] Trial 12 finished with value: 0.7528009665881803 and parameters: {'n_estimators': 150, 'learning_rate': 0.09667103565525978, 'max_depth': 2, 'subsample': 0.8663477489193049, 'colsample_bytree': 0.6264360688585355, 'min_child_weight': 6, 'gamma': 4.968446913482467}. Best is trial 11 with value: 0.7542973825067947.\n"
     ]
    },
    {
     "name": "stderr",
     "output_type": "stream",
     "text": [
      "Best trial: 11. Best value: 0.754297:  70%|███████   | 14/20 [01:04<00:25,  4.17s/it]"
     ]
    },
    {
     "name": "stdout",
     "output_type": "stream",
     "text": [
      "[I 2024-03-08 13:55:34,053] Trial 13 finished with value: 0.7508913471108357 and parameters: {'n_estimators': 150, 'learning_rate': 0.09862670137896093, 'max_depth': 2, 'subsample': 0.8123427057976029, 'colsample_bytree': 0.6029485586901111, 'min_child_weight': 6, 'gamma': 4.981613031235496}. Best is trial 11 with value: 0.7542973825067947.\n"
     ]
    },
    {
     "name": "stderr",
     "output_type": "stream",
     "text": [
      "Best trial: 11. Best value: 0.754297:  75%|███████▌  | 15/20 [01:08<00:20,  4.14s/it]"
     ]
    },
    {
     "name": "stdout",
     "output_type": "stream",
     "text": [
      "[I 2024-03-08 13:55:38,123] Trial 14 finished with value: 0.7477364359169674 and parameters: {'n_estimators': 135, 'learning_rate': 0.09951519593041683, 'max_depth': 3, 'subsample': 0.3048067050865372, 'colsample_bytree': 0.6271037042630444, 'min_child_weight': 8, 'gamma': 3.928763037838878}. Best is trial 11 with value: 0.7542973825067947.\n"
     ]
    },
    {
     "name": "stderr",
     "output_type": "stream",
     "text": [
      "Best trial: 11. Best value: 0.754297:  80%|████████  | 16/20 [01:12<00:16,  4.04s/it]"
     ]
    },
    {
     "name": "stdout",
     "output_type": "stream",
     "text": [
      "[I 2024-03-08 13:55:41,940] Trial 15 finished with value: 0.7517420029182712 and parameters: {'n_estimators': 135, 'learning_rate': 0.07987132282162285, 'max_depth': 2, 'subsample': 0.8981856881348601, 'colsample_bytree': 0.6573308265293545, 'min_child_weight': 4, 'gamma': 4.4043091900246765}. Best is trial 11 with value: 0.7542973825067947.\n"
     ]
    },
    {
     "name": "stderr",
     "output_type": "stream",
     "text": [
      "Best trial: 11. Best value: 0.754297:  85%|████████▌ | 17/20 [01:17<00:12,  4.32s/it]"
     ]
    },
    {
     "name": "stdout",
     "output_type": "stream",
     "text": [
      "[I 2024-03-08 13:55:46,903] Trial 16 finished with value: 0.7473199774255637 and parameters: {'n_estimators': 121, 'learning_rate': 0.03995930315305808, 'max_depth': 4, 'subsample': 0.7424721149705246, 'colsample_bytree': 0.8300502037533768, 'min_child_weight': 9, 'gamma': 3.652276559416073}. Best is trial 11 with value: 0.7542973825067947.\n"
     ]
    },
    {
     "name": "stderr",
     "output_type": "stream",
     "text": [
      "Best trial: 11. Best value: 0.754297:  90%|█████████ | 18/20 [01:22<00:09,  4.61s/it]"
     ]
    },
    {
     "name": "stdout",
     "output_type": "stream",
     "text": [
      "[I 2024-03-08 13:55:52,184] Trial 17 finished with value: 0.7436934086763352 and parameters: {'n_estimators': 141, 'learning_rate': 0.08651116602549733, 'max_depth': 4, 'subsample': 0.6931219032863507, 'colsample_bytree': 0.663453559671721, 'min_child_weight': 5, 'gamma': 4.604793357381823}. Best is trial 11 with value: 0.7542973825067947.\n"
     ]
    },
    {
     "name": "stderr",
     "output_type": "stream",
     "text": [
      "Best trial: 11. Best value: 0.754297:  95%|█████████▌| 19/20 [01:26<00:04,  4.23s/it]"
     ]
    },
    {
     "name": "stdout",
     "output_type": "stream",
     "text": [
      "[I 2024-03-08 13:55:55,523] Trial 18 finished with value: 0.7402157020281963 and parameters: {'n_estimators': 99, 'learning_rate': 0.024965714046156363, 'max_depth': 2, 'subsample': 0.8028580689495213, 'colsample_bytree': 0.7311198881964643, 'min_child_weight': 1, 'gamma': 3.5113489276860834}. Best is trial 11 with value: 0.7542973825067947.\n"
     ]
    },
    {
     "name": "stderr",
     "output_type": "stream",
     "text": [
      "Best trial: 11. Best value: 0.754297: 100%|██████████| 20/20 [01:29<00:00,  4.47s/it]\n"
     ]
    },
    {
     "name": "stdout",
     "output_type": "stream",
     "text": [
      "[I 2024-03-08 13:55:58,934] Trial 19 finished with value: 0.7489667069763509 and parameters: {'n_estimators': 101, 'learning_rate': 0.06867217168144307, 'max_depth': 3, 'subsample': 0.8376117591059191, 'colsample_bytree': 0.65719781343317, 'min_child_weight': 13, 'gamma': 0.31608738255079416}. Best is trial 11 with value: 0.7542973825067947.\n"
     ]
    },
    {
     "name": "stderr",
     "output_type": "stream",
     "text": [
      "[I 2024-03-08 13:56:21,935] A new study created in memory with name: no-name-d35823b2-c56b-4ac3-91ca-a8f415e5cae4\n",
      "Best trial: 0. Best value: 0.682142:   5%|▌         | 1/20 [00:03<01:03,  3.33s/it]"
     ]
    },
    {
     "name": "stdout",
     "output_type": "stream",
     "text": [
      "[I 2024-03-08 13:56:25,264] Trial 0 finished with value: 0.6821420492812059 and parameters: {'n_estimators': 138, 'learning_rate': 0.0029215923163662147, 'max_depth': 2, 'subsample': 0.3369246219565957, 'colsample_bytree': 0.6511897072663785, 'min_child_weight': 5, 'gamma': 1.7877145361345526}. Best is trial 0 with value: 0.6821420492812059.\n"
     ]
    },
    {
     "name": "stderr",
     "output_type": "stream",
     "text": [
      "Best trial: 1. Best value: 0.729536:  10%|█         | 2/20 [00:08<01:14,  4.15s/it]"
     ]
    },
    {
     "name": "stdout",
     "output_type": "stream",
     "text": [
      "[I 2024-03-08 13:56:29,974] Trial 1 finished with value: 0.7295359592148933 and parameters: {'n_estimators': 85, 'learning_rate': 0.0841272212542167, 'max_depth': 8, 'subsample': 0.6071894016832278, 'colsample_bytree': 0.9813894120480715, 'min_child_weight': 13, 'gamma': 1.9984678607449358}. Best is trial 1 with value: 0.7295359592148933.\n"
     ]
    },
    {
     "name": "stderr",
     "output_type": "stream",
     "text": [
      "Best trial: 1. Best value: 0.729536:  15%|█▌        | 3/20 [00:11<01:03,  3.74s/it]"
     ]
    },
    {
     "name": "stdout",
     "output_type": "stream",
     "text": [
      "[I 2024-03-08 13:56:33,234] Trial 2 finished with value: 0.7237231260869481 and parameters: {'n_estimators': 57, 'learning_rate': 0.0797619103154924, 'max_depth': 7, 'subsample': 0.8068458894242945, 'colsample_bytree': 0.9363344741774663, 'min_child_weight': 17, 'gamma': 3.354153345213204}. Best is trial 1 with value: 0.7295359592148933.\n"
     ]
    },
    {
     "name": "stderr",
     "output_type": "stream",
     "text": [
      "Best trial: 1. Best value: 0.729536:  20%|██        | 4/20 [00:13<00:52,  3.26s/it]"
     ]
    },
    {
     "name": "stdout",
     "output_type": "stream",
     "text": [
      "[I 2024-03-08 13:56:35,754] Trial 3 finished with value: 0.7238034984240669 and parameters: {'n_estimators': 119, 'learning_rate': 0.043104469177293804, 'max_depth': 2, 'subsample': 0.3066291160255392, 'colsample_bytree': 0.8198433546445445, 'min_child_weight': 10, 'gamma': 1.474509257020164}. Best is trial 1 with value: 0.7295359592148933.\n"
     ]
    },
    {
     "name": "stderr",
     "output_type": "stream",
     "text": [
      "Best trial: 1. Best value: 0.729536:  25%|██▌       | 5/20 [00:16<00:46,  3.10s/it]"
     ]
    },
    {
     "name": "stdout",
     "output_type": "stream",
     "text": [
      "[I 2024-03-08 13:56:38,578] Trial 4 finished with value: 0.7141472403131042 and parameters: {'n_estimators': 127, 'learning_rate': 0.01920617257988263, 'max_depth': 2, 'subsample': 0.4845225404022544, 'colsample_bytree': 0.6320958022932309, 'min_child_weight': 7, 'gamma': 0.11142121418452389}. Best is trial 1 with value: 0.7295359592148933.\n"
     ]
    },
    {
     "name": "stderr",
     "output_type": "stream",
     "text": [
      "Best trial: 1. Best value: 0.729536:  30%|███       | 6/20 [00:20<00:45,  3.22s/it]"
     ]
    },
    {
     "name": "stdout",
     "output_type": "stream",
     "text": [
      "[I 2024-03-08 13:56:42,024] Trial 5 finished with value: 0.7281006736818743 and parameters: {'n_estimators': 77, 'learning_rate': 0.09104866942547178, 'max_depth': 6, 'subsample': 0.615401973042367, 'colsample_bytree': 0.9099166588393481, 'min_child_weight': 4, 'gamma': 4.320480937831877}. Best is trial 1 with value: 0.7295359592148933.\n"
     ]
    },
    {
     "name": "stderr",
     "output_type": "stream",
     "text": [
      "Best trial: 1. Best value: 0.729536:  35%|███▌      | 7/20 [00:26<00:54,  4.20s/it]"
     ]
    },
    {
     "name": "stdout",
     "output_type": "stream",
     "text": [
      "[I 2024-03-08 13:56:48,256] Trial 6 finished with value: 0.7246210758776095 and parameters: {'n_estimators': 149, 'learning_rate': 0.08158131702688708, 'max_depth': 7, 'subsample': 0.6792465191786332, 'colsample_bytree': 0.8239861748684019, 'min_child_weight': 18, 'gamma': 4.622637618428087}. Best is trial 1 with value: 0.7295359592148933.\n"
     ]
    },
    {
     "name": "stderr",
     "output_type": "stream",
     "text": [
      "Best trial: 1. Best value: 0.729536:  40%|████      | 8/20 [00:34<01:07,  5.59s/it]"
     ]
    },
    {
     "name": "stdout",
     "output_type": "stream",
     "text": [
      "[I 2024-03-08 13:56:56,824] Trial 7 finished with value: 0.7193759697172055 and parameters: {'n_estimators': 130, 'learning_rate': 0.07311794920734928, 'max_depth': 8, 'subsample': 0.8120544298567534, 'colsample_bytree': 0.9184471814009072, 'min_child_weight': 2, 'gamma': 4.352168116169714}. Best is trial 1 with value: 0.7295359592148933.\n"
     ]
    },
    {
     "name": "stderr",
     "output_type": "stream",
     "text": [
      "Best trial: 8. Best value: 0.736596:  45%|████▌     | 9/20 [00:37<00:51,  4.65s/it]"
     ]
    },
    {
     "name": "stdout",
     "output_type": "stream",
     "text": [
      "[I 2024-03-08 13:56:59,385] Trial 8 finished with value: 0.7365959713677646 and parameters: {'n_estimators': 123, 'learning_rate': 0.06406509570015673, 'max_depth': 2, 'subsample': 0.5232667511009437, 'colsample_bytree': 0.8696964427318907, 'min_child_weight': 6, 'gamma': 1.6737331320479436}. Best is trial 8 with value: 0.7365959713677646.\n"
     ]
    },
    {
     "name": "stderr",
     "output_type": "stream",
     "text": [
      "Best trial: 8. Best value: 0.736596:  50%|█████     | 10/20 [00:40<00:40,  4.03s/it]"
     ]
    },
    {
     "name": "stdout",
     "output_type": "stream",
     "text": [
      "[I 2024-03-08 13:57:02,054] Trial 9 finished with value: 0.7263131755499265 and parameters: {'n_estimators': 116, 'learning_rate': 0.09291038746405485, 'max_depth': 3, 'subsample': 0.5449115438666398, 'colsample_bytree': 0.9759541744365714, 'min_child_weight': 7, 'gamma': 4.695231861407471}. Best is trial 8 with value: 0.7365959713677646.\n"
     ]
    },
    {
     "name": "stderr",
     "output_type": "stream",
     "text": [
      "Best trial: 8. Best value: 0.736596:  55%|█████▌    | 11/20 [00:43<00:33,  3.69s/it]"
     ]
    },
    {
     "name": "stdout",
     "output_type": "stream",
     "text": [
      "[I 2024-03-08 13:57:04,954] Trial 10 finished with value: 0.7317273339994851 and parameters: {'n_estimators': 104, 'learning_rate': 0.05352722083039897, 'max_depth': 4, 'subsample': 0.43404900170438265, 'colsample_bytree': 0.7302436071628271, 'min_child_weight': 13, 'gamma': 0.3384675670642521}. Best is trial 8 with value: 0.7365959713677646.\n"
     ]
    },
    {
     "name": "stderr",
     "output_type": "stream",
     "text": [
      "Best trial: 8. Best value: 0.736596:  60%|██████    | 12/20 [00:46<00:28,  3.57s/it]"
     ]
    },
    {
     "name": "stdout",
     "output_type": "stream",
     "text": [
      "[I 2024-03-08 13:57:08,264] Trial 11 finished with value: 0.7345170887463843 and parameters: {'n_estimators': 101, 'learning_rate': 0.054177335412471175, 'max_depth': 4, 'subsample': 0.4419232527306363, 'colsample_bytree': 0.7285827399689186, 'min_child_weight': 12, 'gamma': 0.4313666217340073}. Best is trial 8 with value: 0.7365959713677646.\n"
     ]
    },
    {
     "name": "stderr",
     "output_type": "stream",
     "text": [
      "Best trial: 8. Best value: 0.736596:  65%|██████▌   | 13/20 [00:49<00:24,  3.47s/it]"
     ]
    },
    {
     "name": "stdout",
     "output_type": "stream",
     "text": [
      "[I 2024-03-08 13:57:11,504] Trial 12 finished with value: 0.7310879247155498 and parameters: {'n_estimators': 102, 'learning_rate': 0.05437549296149796, 'max_depth': 4, 'subsample': 0.4221936576374198, 'colsample_bytree': 0.740492724585655, 'min_child_weight': 10, 'gamma': 0.8424272473644563}. Best is trial 8 with value: 0.7365959713677646.\n"
     ]
    },
    {
     "name": "stderr",
     "output_type": "stream",
     "text": [
      "Best trial: 8. Best value: 0.736596:  70%|███████   | 14/20 [00:52<00:19,  3.23s/it]"
     ]
    },
    {
     "name": "stdout",
     "output_type": "stream",
     "text": [
      "[I 2024-03-08 13:57:14,179] Trial 13 finished with value: 0.7331418295598645 and parameters: {'n_estimators': 86, 'learning_rate': 0.06521207338046281, 'max_depth': 4, 'subsample': 0.7075929199075718, 'colsample_bytree': 0.7533506390444434, 'min_child_weight': 13, 'gamma': 2.8593598214929967}. Best is trial 8 with value: 0.7365959713677646.\n"
     ]
    },
    {
     "name": "stderr",
     "output_type": "stream",
     "text": [
      "Best trial: 8. Best value: 0.736596:  75%|███████▌  | 15/20 [00:55<00:16,  3.29s/it]"
     ]
    },
    {
     "name": "stdout",
     "output_type": "stream",
     "text": [
      "[I 2024-03-08 13:57:17,608] Trial 14 finished with value: 0.7358119169881231 and parameters: {'n_estimators': 109, 'learning_rate': 0.034337780735662224, 'max_depth': 5, 'subsample': 0.4988215603376554, 'colsample_bytree': 0.8346219572772309, 'min_child_weight': 8, 'gamma': 1.0223665914510223}. Best is trial 8 with value: 0.7365959713677646.\n"
     ]
    },
    {
     "name": "stderr",
     "output_type": "stream",
     "text": [
      "Best trial: 8. Best value: 0.736596:  80%|████████  | 16/20 [01:00<00:14,  3.60s/it]"
     ]
    },
    {
     "name": "stdout",
     "output_type": "stream",
     "text": [
      "[I 2024-03-08 13:57:21,944] Trial 15 finished with value: 0.7315196817936306 and parameters: {'n_estimators': 117, 'learning_rate': 0.035219677133258326, 'max_depth': 5, 'subsample': 0.5146162902932738, 'colsample_bytree': 0.8650910379967891, 'min_child_weight': 1, 'gamma': 1.1854137288893778}. Best is trial 8 with value: 0.7365959713677646.\n"
     ]
    },
    {
     "name": "stderr",
     "output_type": "stream",
     "text": [
      "Best trial: 8. Best value: 0.736596:  85%|████████▌ | 17/20 [01:05<00:12,  4.19s/it]"
     ]
    },
    {
     "name": "stdout",
     "output_type": "stream",
     "text": [
      "[I 2024-03-08 13:57:27,504] Trial 16 finished with value: 0.7298225913381982 and parameters: {'n_estimators': 149, 'learning_rate': 0.028933180469358756, 'max_depth': 6, 'subsample': 0.5566486606876492, 'colsample_bytree': 0.8557966300448686, 'min_child_weight': 8, 'gamma': 2.2878432035860357}. Best is trial 8 with value: 0.7365959713677646.\n"
     ]
    },
    {
     "name": "stderr",
     "output_type": "stream",
     "text": [
      "Best trial: 8. Best value: 0.736596:  90%|█████████ | 18/20 [01:08<00:07,  3.82s/it]"
     ]
    },
    {
     "name": "stdout",
     "output_type": "stream",
     "text": [
      "[I 2024-03-08 13:57:30,455] Trial 17 finished with value: 0.7326026910876591 and parameters: {'n_estimators': 110, 'learning_rate': 0.022957635175898883, 'max_depth': 3, 'subsample': 0.6835918267421112, 'colsample_bytree': 0.7836057152445476, 'min_child_weight': 4, 'gamma': 2.7556784190178916}. Best is trial 8 with value: 0.7365959713677646.\n"
     ]
    },
    {
     "name": "stderr",
     "output_type": "stream",
     "text": [
      "Best trial: 8. Best value: 0.736596:  95%|█████████▌| 19/20 [01:11<00:03,  3.54s/it]"
     ]
    },
    {
     "name": "stdout",
     "output_type": "stream",
     "text": [
      "[I 2024-03-08 13:57:33,339] Trial 18 finished with value: 0.7266600113411282 and parameters: {'n_estimators': 90, 'learning_rate': 0.06711689614089318, 'max_depth': 5, 'subsample': 0.3795796851382362, 'colsample_bytree': 0.8737027237961221, 'min_child_weight': 16, 'gamma': 1.0465847076730683}. Best is trial 8 with value: 0.7365959713677646.\n"
     ]
    },
    {
     "name": "stderr",
     "output_type": "stream",
     "text": [
      "Best trial: 8. Best value: 0.736596: 100%|██████████| 20/20 [01:13<00:00,  3.67s/it]\n"
     ]
    },
    {
     "name": "stdout",
     "output_type": "stream",
     "text": [
      "[I 2024-03-08 13:57:35,243] Trial 19 finished with value: 0.7104565743781506 and parameters: {'n_estimators': 70, 'learning_rate': 0.010609474352803842, 'max_depth': 3, 'subsample': 0.7472691086028808, 'colsample_bytree': 0.6806850056603416, 'min_child_weight': 20, 'gamma': 3.787516075735043}. Best is trial 8 with value: 0.7365959713677646.\n"
     ]
    },
    {
     "name": "stderr",
     "output_type": "stream",
     "text": [
      "[I 2024-03-08 13:57:58,292] A new study created in memory with name: no-name-897ea0ed-f08c-4e65-be38-226f237fb2d6\n",
      "Best trial: 0. Best value: 0.753183:   5%|▌         | 1/20 [00:08<02:46,  8.75s/it]"
     ]
    },
    {
     "name": "stdout",
     "output_type": "stream",
     "text": [
      "[I 2024-03-08 13:58:07,044] Trial 0 finished with value: 0.7531833673734843 and parameters: {'n_estimators': 111, 'learning_rate': 0.02647309289144473, 'max_depth': 8, 'subsample': 0.4936569394611797, 'colsample_bytree': 0.9156634722804866, 'min_child_weight': 19, 'gamma': 4.596957071068375}. Best is trial 0 with value: 0.7531833673734843.\n"
     ]
    },
    {
     "name": "stderr",
     "output_type": "stream",
     "text": [
      "Best trial: 0. Best value: 0.753183:  10%|█         | 2/20 [00:12<01:40,  5.56s/it]"
     ]
    },
    {
     "name": "stdout",
     "output_type": "stream",
     "text": [
      "[I 2024-03-08 13:58:10,364] Trial 1 finished with value: 0.7512418294809429 and parameters: {'n_estimators': 77, 'learning_rate': 0.08274962335289343, 'max_depth': 2, 'subsample': 0.6536264040171643, 'colsample_bytree': 0.9338602289579055, 'min_child_weight': 20, 'gamma': 0.7659681021347042}. Best is trial 0 with value: 0.7531833673734843.\n"
     ]
    },
    {
     "name": "stderr",
     "output_type": "stream",
     "text": [
      "Best trial: 0. Best value: 0.753183:  15%|█▌        | 3/20 [00:18<01:44,  6.15s/it]"
     ]
    },
    {
     "name": "stdout",
     "output_type": "stream",
     "text": [
      "[I 2024-03-08 13:58:17,224] Trial 2 finished with value: 0.7478644537553369 and parameters: {'n_estimators': 91, 'learning_rate': 0.05543572944482614, 'max_depth': 6, 'subsample': 0.7039937098482705, 'colsample_bytree': 0.9469995061066405, 'min_child_weight': 18, 'gamma': 2.787742450254383}. Best is trial 0 with value: 0.7531833673734843.\n"
     ]
    },
    {
     "name": "stderr",
     "output_type": "stream",
     "text": [
      "Best trial: 0. Best value: 0.753183:  20%|██        | 4/20 [00:25<01:38,  6.17s/it]"
     ]
    },
    {
     "name": "stdout",
     "output_type": "stream",
     "text": [
      "[I 2024-03-08 13:58:23,423] Trial 3 finished with value: 0.7438549827110622 and parameters: {'n_estimators': 97, 'learning_rate': 0.09232019697609065, 'max_depth': 5, 'subsample': 0.44252936152861755, 'colsample_bytree': 0.8110031532380095, 'min_child_weight': 5, 'gamma': 4.353083321738364}. Best is trial 0 with value: 0.7531833673734843.\n"
     ]
    },
    {
     "name": "stderr",
     "output_type": "stream",
     "text": [
      "Best trial: 0. Best value: 0.753183:  25%|██▌       | 5/20 [00:30<01:27,  5.86s/it]"
     ]
    },
    {
     "name": "stdout",
     "output_type": "stream",
     "text": [
      "[I 2024-03-08 13:58:28,718] Trial 4 finished with value: 0.7487510961029551 and parameters: {'n_estimators': 84, 'learning_rate': 0.04604063998869979, 'max_depth': 5, 'subsample': 0.6869529996476238, 'colsample_bytree': 0.7794252931444675, 'min_child_weight': 5, 'gamma': 2.9447799292713728}. Best is trial 0 with value: 0.7531833673734843.\n"
     ]
    },
    {
     "name": "stderr",
     "output_type": "stream",
     "text": [
      "Best trial: 0. Best value: 0.753183:  30%|███       | 6/20 [00:34<01:13,  5.24s/it]"
     ]
    },
    {
     "name": "stdout",
     "output_type": "stream",
     "text": [
      "[I 2024-03-08 13:58:32,764] Trial 5 finished with value: 0.7375918037910352 and parameters: {'n_estimators': 86, 'learning_rate': 0.019851146866988256, 'max_depth': 2, 'subsample': 0.5541828836716425, 'colsample_bytree': 0.7809178081748853, 'min_child_weight': 1, 'gamma': 0.32898240536530066}. Best is trial 0 with value: 0.7531833673734843.\n"
     ]
    },
    {
     "name": "stderr",
     "output_type": "stream",
     "text": [
      "Best trial: 0. Best value: 0.753183:  35%|███▌      | 7/20 [00:47<01:39,  7.65s/it]"
     ]
    },
    {
     "name": "stdout",
     "output_type": "stream",
     "text": [
      "[I 2024-03-08 13:58:45,365] Trial 6 finished with value: 0.7522525445364985 and parameters: {'n_estimators': 131, 'learning_rate': 0.011563974006209819, 'max_depth': 8, 'subsample': 0.5073442473551766, 'colsample_bytree': 0.8548656041679012, 'min_child_weight': 11, 'gamma': 2.037306516962652}. Best is trial 0 with value: 0.7531833673734843.\n"
     ]
    },
    {
     "name": "stderr",
     "output_type": "stream",
     "text": [
      "Best trial: 0. Best value: 0.753183:  40%|████      | 8/20 [00:58<01:46,  8.86s/it]"
     ]
    },
    {
     "name": "stdout",
     "output_type": "stream",
     "text": [
      "[I 2024-03-08 13:58:56,834] Trial 7 finished with value: 0.742772116890051 and parameters: {'n_estimators': 58, 'learning_rate': 0.09450804327459941, 'max_depth': 8, 'subsample': 0.7386685393334214, 'colsample_bytree': 0.9469279275615985, 'min_child_weight': 8, 'gamma': 4.695524365353869}. Best is trial 0 with value: 0.7531833673734843.\n"
     ]
    },
    {
     "name": "stderr",
     "output_type": "stream",
     "text": [
      "Best trial: 0. Best value: 0.753183:  45%|████▌     | 9/20 [01:16<02:09, 11.75s/it]"
     ]
    },
    {
     "name": "stdout",
     "output_type": "stream",
     "text": [
      "[I 2024-03-08 13:59:14,918] Trial 8 finished with value: 0.7398124433221109 and parameters: {'n_estimators': 126, 'learning_rate': 0.07962502268906342, 'max_depth': 6, 'subsample': 0.8060643952403039, 'colsample_bytree': 0.9831911964890861, 'min_child_weight': 4, 'gamma': 2.273199425779512}. Best is trial 0 with value: 0.7531833673734843.\n"
     ]
    },
    {
     "name": "stderr",
     "output_type": "stream",
     "text": [
      "Best trial: 0. Best value: 0.753183:  50%|█████     | 10/20 [01:35<02:19, 13.91s/it]"
     ]
    },
    {
     "name": "stdout",
     "output_type": "stream",
     "text": [
      "[I 2024-03-08 13:59:33,674] Trial 9 finished with value: 0.7465475133577014 and parameters: {'n_estimators': 111, 'learning_rate': 0.04163811816340159, 'max_depth': 6, 'subsample': 0.5436862050343583, 'colsample_bytree': 0.9688333508031297, 'min_child_weight': 6, 'gamma': 3.6128303928812846}. Best is trial 0 with value: 0.7531833673734843.\n"
     ]
    },
    {
     "name": "stderr",
     "output_type": "stream",
     "text": [
      "Best trial: 10. Best value: 0.75524:  55%|█████▌    | 11/20 [01:50<02:07, 14.20s/it]"
     ]
    },
    {
     "name": "stdout",
     "output_type": "stream",
     "text": [
      "[I 2024-03-08 13:59:48,538] Trial 10 finished with value: 0.7552396829133532 and parameters: {'n_estimators': 150, 'learning_rate': 0.028257543573039452, 'max_depth': 4, 'subsample': 0.3147889290007284, 'colsample_bytree': 0.6207019419904941, 'min_child_weight': 15, 'gamma': 4.903732607416597}. Best is trial 10 with value: 0.7552396829133532.\n"
     ]
    },
    {
     "name": "stderr",
     "output_type": "stream",
     "text": [
      "Best trial: 10. Best value: 0.75524:  60%|██████    | 12/20 [02:10<02:08, 16.11s/it]"
     ]
    },
    {
     "name": "stdout",
     "output_type": "stream",
     "text": [
      "[I 2024-03-08 14:00:09,013] Trial 11 finished with value: 0.7541183378575336 and parameters: {'n_estimators': 150, 'learning_rate': 0.03093661609888441, 'max_depth': 4, 'subsample': 0.31638375850966055, 'colsample_bytree': 0.616059159390604, 'min_child_weight': 14, 'gamma': 4.68572800868624}. Best is trial 10 with value: 0.7552396829133532.\n"
     ]
    },
    {
     "name": "stderr",
     "output_type": "stream",
     "text": [
      "Best trial: 10. Best value: 0.75524:  65%|██████▌   | 13/20 [02:33<02:07, 18.19s/it]"
     ]
    },
    {
     "name": "stdout",
     "output_type": "stream",
     "text": [
      "[I 2024-03-08 14:00:31,974] Trial 12 finished with value: 0.738717345838876 and parameters: {'n_estimators': 149, 'learning_rate': 0.0012844316752259402, 'max_depth': 4, 'subsample': 0.3098493661995883, 'colsample_bytree': 0.6037753270292826, 'min_child_weight': 14, 'gamma': 3.826155079271485}. Best is trial 10 with value: 0.7552396829133532.\n"
     ]
    },
    {
     "name": "stderr",
     "output_type": "stream",
     "text": [
      "Best trial: 13. Best value: 0.755403:  70%|███████   | 14/20 [02:51<01:47, 17.94s/it]"
     ]
    },
    {
     "name": "stdout",
     "output_type": "stream",
     "text": [
      "[I 2024-03-08 14:00:49,344] Trial 13 finished with value: 0.7554029864411138 and parameters: {'n_estimators': 147, 'learning_rate': 0.03376819819582731, 'max_depth': 3, 'subsample': 0.3062158077911919, 'colsample_bytree': 0.6137323862152692, 'min_child_weight': 15, 'gamma': 4.9864481615732545}. Best is trial 13 with value: 0.7554029864411138.\n"
     ]
    },
    {
     "name": "stderr",
     "output_type": "stream",
     "text": [
      "Best trial: 13. Best value: 0.755403:  75%|███████▌  | 15/20 [02:54<01:08, 13.71s/it]"
     ]
    },
    {
     "name": "stdout",
     "output_type": "stream",
     "text": [
      "[I 2024-03-08 14:00:53,265] Trial 14 finished with value: 0.7513449127980452 and parameters: {'n_estimators': 134, 'learning_rate': 0.05851938681988328, 'max_depth': 3, 'subsample': 0.3993499920992125, 'colsample_bytree': 0.6856015266878387, 'min_child_weight': 15, 'gamma': 3.7215637769657164}. Best is trial 13 with value: 0.7554029864411138.\n"
     ]
    },
    {
     "name": "stderr",
     "output_type": "stream",
     "text": [
      "Best trial: 13. Best value: 0.755403:  80%|████████  | 16/20 [02:58<00:42, 10.74s/it]"
     ]
    },
    {
     "name": "stdout",
     "output_type": "stream",
     "text": [
      "[I 2024-03-08 14:00:57,095] Trial 15 finished with value: 0.7520708177985077 and parameters: {'n_estimators': 139, 'learning_rate': 0.0360960142198326, 'max_depth': 3, 'subsample': 0.38156465207770895, 'colsample_bytree': 0.6865621940006456, 'min_child_weight': 11, 'gamma': 1.454536034711745}. Best is trial 13 with value: 0.7554029864411138.\n"
     ]
    },
    {
     "name": "stderr",
     "output_type": "stream",
     "text": [
      "Best trial: 13. Best value: 0.755403:  85%|████████▌ | 17/20 [03:02<00:25,  8.61s/it]"
     ]
    },
    {
     "name": "stdout",
     "output_type": "stream",
     "text": [
      "[I 2024-03-08 14:01:00,775] Trial 16 finished with value: 0.7518953552603254 and parameters: {'n_estimators': 127, 'learning_rate': 0.06848697189114857, 'max_depth': 3, 'subsample': 0.8767053697195896, 'colsample_bytree': 0.6711477557578449, 'min_child_weight': 16, 'gamma': 4.947011738184987}. Best is trial 13 with value: 0.7554029864411138.\n"
     ]
    },
    {
     "name": "stderr",
     "output_type": "stream",
     "text": [
      "Best trial: 13. Best value: 0.755403:  90%|█████████ | 18/20 [03:06<00:14,  7.19s/it]"
     ]
    },
    {
     "name": "stdout",
     "output_type": "stream",
     "text": [
      "[I 2024-03-08 14:01:04,634] Trial 17 finished with value: 0.7516955374953225 and parameters: {'n_estimators': 116, 'learning_rate': 0.016843892144023296, 'max_depth': 4, 'subsample': 0.3693397957902041, 'colsample_bytree': 0.7294898179075965, 'min_child_weight': 17, 'gamma': 4.005279183239571}. Best is trial 13 with value: 0.7554029864411138.\n"
     ]
    },
    {
     "name": "stderr",
     "output_type": "stream",
     "text": [
      "Best trial: 13. Best value: 0.755403:  95%|█████████▌| 19/20 [03:10<00:06,  6.13s/it]"
     ]
    },
    {
     "name": "stdout",
     "output_type": "stream",
     "text": [
      "[I 2024-03-08 14:01:08,296] Trial 18 finished with value: 0.7287533809383951 and parameters: {'n_estimators': 141, 'learning_rate': 0.0015710637089916372, 'max_depth': 2, 'subsample': 0.4555616404746503, 'colsample_bytree': 0.6461210919716848, 'min_child_weight': 13, 'gamma': 3.290017756102168}. Best is trial 13 with value: 0.7554029864411138.\n"
     ]
    },
    {
     "name": "stderr",
     "output_type": "stream",
     "text": [
      "Best trial: 13. Best value: 0.755403: 100%|██████████| 20/20 [03:12<00:00,  9.62s/it]\n"
     ]
    },
    {
     "name": "stdout",
     "output_type": "stream",
     "text": [
      "[I 2024-03-08 14:01:10,724] Trial 19 finished with value: 0.7396764143854312 and parameters: {'n_estimators': 51, 'learning_rate': 0.027107014076057274, 'max_depth': 4, 'subsample': 0.6208699259761853, 'colsample_bytree': 0.7270334815901757, 'min_child_weight': 12, 'gamma': 4.221160162430123}. Best is trial 13 with value: 0.7554029864411138.\n"
     ]
    },
    {
     "name": "stderr",
     "output_type": "stream",
     "text": [
      "[I 2024-03-08 14:01:31,446] A new study created in memory with name: no-name-e21eef48-f333-437e-89b7-3ee05ef8704c\n",
      "Best trial: 0. Best value: 0.7288:   5%|▌         | 1/20 [00:08<02:38,  8.32s/it]"
     ]
    },
    {
     "name": "stdout",
     "output_type": "stream",
     "text": [
      "[I 2024-03-08 14:01:39,764] Trial 0 finished with value: 0.7288001693437234 and parameters: {'n_estimators': 150, 'learning_rate': 0.057891806583797646, 'max_depth': 8, 'subsample': 0.4448021339366283, 'colsample_bytree': 0.7856069796551683, 'min_child_weight': 10, 'gamma': 2.377675631731915}. Best is trial 0 with value: 0.7288001693437234.\n"
     ]
    },
    {
     "name": "stderr",
     "output_type": "stream",
     "text": [
      "Best trial: 0. Best value: 0.7288:  10%|█         | 2/20 [00:12<01:44,  5.82s/it]"
     ]
    },
    {
     "name": "stdout",
     "output_type": "stream",
     "text": [
      "[I 2024-03-08 14:01:43,839] Trial 1 finished with value: 0.7086989755038493 and parameters: {'n_estimators': 99, 'learning_rate': 0.04734297646817532, 'max_depth': 5, 'subsample': 0.7809893067161657, 'colsample_bytree': 0.933727516144532, 'min_child_weight': 8, 'gamma': 4.180536673389754}. Best is trial 0 with value: 0.7288001693437234.\n"
     ]
    },
    {
     "name": "stderr",
     "output_type": "stream",
     "text": [
      "Best trial: 0. Best value: 0.7288:  15%|█▌        | 3/20 [00:18<01:38,  5.82s/it]"
     ]
    },
    {
     "name": "stdout",
     "output_type": "stream",
     "text": [
      "[I 2024-03-08 14:01:49,660] Trial 2 finished with value: 0.7176749317230929 and parameters: {'n_estimators': 108, 'learning_rate': 0.053272975844774216, 'max_depth': 8, 'subsample': 0.8511222108493948, 'colsample_bytree': 0.8439980962574963, 'min_child_weight': 15, 'gamma': 2.3546394202555487}. Best is trial 0 with value: 0.7288001693437234.\n"
     ]
    },
    {
     "name": "stderr",
     "output_type": "stream",
     "text": [
      "Best trial: 0. Best value: 0.7288:  20%|██        | 4/20 [00:23<01:28,  5.53s/it]"
     ]
    },
    {
     "name": "stdout",
     "output_type": "stream",
     "text": [
      "[I 2024-03-08 14:01:54,744] Trial 3 finished with value: 0.693977594648233 and parameters: {'n_estimators': 140, 'learning_rate': 0.009699574899316513, 'max_depth': 4, 'subsample': 0.30752958914804834, 'colsample_bytree': 0.8232730806639437, 'min_child_weight': 6, 'gamma': 4.18320541103937}. Best is trial 0 with value: 0.7288001693437234.\n"
     ]
    },
    {
     "name": "stderr",
     "output_type": "stream",
     "text": [
      "Best trial: 0. Best value: 0.7288:  25%|██▌       | 5/20 [00:27<01:16,  5.08s/it]"
     ]
    },
    {
     "name": "stdout",
     "output_type": "stream",
     "text": [
      "[I 2024-03-08 14:01:59,034] Trial 4 finished with value: 0.7061378775911307 and parameters: {'n_estimators': 128, 'learning_rate': 0.09088296312663183, 'max_depth': 4, 'subsample': 0.7734165132987766, 'colsample_bytree': 0.680059755527151, 'min_child_weight': 6, 'gamma': 1.1971639717244509}. Best is trial 0 with value: 0.7288001693437234.\n"
     ]
    },
    {
     "name": "stderr",
     "output_type": "stream",
     "text": [
      "Best trial: 0. Best value: 0.7288:  30%|███       | 6/20 [00:30<01:01,  4.42s/it]"
     ]
    },
    {
     "name": "stdout",
     "output_type": "stream",
     "text": [
      "[I 2024-03-08 14:02:02,168] Trial 5 finished with value: 0.68696126923001 and parameters: {'n_estimators': 74, 'learning_rate': 0.04765904857996756, 'max_depth': 4, 'subsample': 0.45154968389183453, 'colsample_bytree': 0.8648182784929555, 'min_child_weight': 4, 'gamma': 3.4648811362971887}. Best is trial 0 with value: 0.7288001693437234.\n"
     ]
    },
    {
     "name": "stderr",
     "output_type": "stream",
     "text": [
      "Best trial: 0. Best value: 0.7288:  35%|███▌      | 7/20 [00:34<00:54,  4.18s/it]"
     ]
    },
    {
     "name": "stdout",
     "output_type": "stream",
     "text": [
      "[I 2024-03-08 14:02:05,864] Trial 6 finished with value: 0.687328216313697 and parameters: {'n_estimators': 142, 'learning_rate': 0.09145073233216863, 'max_depth': 2, 'subsample': 0.5024808965449836, 'colsample_bytree': 0.9857079429570373, 'min_child_weight': 19, 'gamma': 0.005097952535153549}. Best is trial 0 with value: 0.7288001693437234.\n"
     ]
    },
    {
     "name": "stderr",
     "output_type": "stream",
     "text": [
      "Best trial: 0. Best value: 0.7288:  40%|████      | 8/20 [00:37<00:46,  3.86s/it]"
     ]
    },
    {
     "name": "stdout",
     "output_type": "stream",
     "text": [
      "[I 2024-03-08 14:02:09,028] Trial 7 finished with value: 0.679599010961268 and parameters: {'n_estimators': 99, 'learning_rate': 0.015977306163158827, 'max_depth': 3, 'subsample': 0.8605538555381187, 'colsample_bytree': 0.9765860236393863, 'min_child_weight': 17, 'gamma': 2.0949025930051213}. Best is trial 0 with value: 0.7288001693437234.\n"
     ]
    },
    {
     "name": "stderr",
     "output_type": "stream",
     "text": [
      "Best trial: 0. Best value: 0.7288:  45%|████▌     | 9/20 [00:41<00:41,  3.74s/it]"
     ]
    },
    {
     "name": "stdout",
     "output_type": "stream",
     "text": [
      "[I 2024-03-08 14:02:12,494] Trial 8 finished with value: 0.7033075943687517 and parameters: {'n_estimators': 100, 'learning_rate': 0.09340656492966903, 'max_depth': 5, 'subsample': 0.33218354397948885, 'colsample_bytree': 0.759692688192979, 'min_child_weight': 3, 'gamma': 3.889544840281733}. Best is trial 0 with value: 0.7288001693437234.\n"
     ]
    },
    {
     "name": "stderr",
     "output_type": "stream",
     "text": [
      "Best trial: 0. Best value: 0.7288:  50%|█████     | 10/20 [00:44<00:36,  3.64s/it]"
     ]
    },
    {
     "name": "stdout",
     "output_type": "stream",
     "text": [
      "[I 2024-03-08 14:02:15,914] Trial 9 finished with value: 0.7010031924286548 and parameters: {'n_estimators': 76, 'learning_rate': 0.04042727626987201, 'max_depth': 4, 'subsample': 0.4638787725687882, 'colsample_bytree': 0.8431962482039204, 'min_child_weight': 4, 'gamma': 4.575054329334767}. Best is trial 0 with value: 0.7288001693437234.\n"
     ]
    },
    {
     "name": "stderr",
     "output_type": "stream",
     "text": [
      "Best trial: 0. Best value: 0.7288:  55%|█████▌    | 11/20 [00:48<00:33,  3.77s/it]"
     ]
    },
    {
     "name": "stdout",
     "output_type": "stream",
     "text": [
      "[I 2024-03-08 14:02:19,964] Trial 10 finished with value: 0.7064375075211091 and parameters: {'n_estimators': 55, 'learning_rate': 0.0710124789525323, 'max_depth': 8, 'subsample': 0.642281703895659, 'colsample_bytree': 0.6120092201629145, 'min_child_weight': 12, 'gamma': 1.1279144850096416}. Best is trial 0 with value: 0.7288001693437234.\n"
     ]
    },
    {
     "name": "stderr",
     "output_type": "stream",
     "text": [
      "Best trial: 0. Best value: 0.7288:  60%|██████    | 12/20 [00:54<00:36,  4.52s/it]"
     ]
    },
    {
     "name": "stdout",
     "output_type": "stream",
     "text": [
      "[I 2024-03-08 14:02:26,214] Trial 11 finished with value: 0.725244331190904 and parameters: {'n_estimators': 121, 'learning_rate': 0.06644291778410887, 'max_depth': 8, 'subsample': 0.635430198608973, 'colsample_bytree': 0.7417507362585072, 'min_child_weight': 13, 'gamma': 2.7302153658923425}. Best is trial 0 with value: 0.7288001693437234.\n"
     ]
    },
    {
     "name": "stderr",
     "output_type": "stream",
     "text": [
      "Best trial: 0. Best value: 0.7288:  65%|██████▌   | 13/20 [01:00<00:33,  4.85s/it]"
     ]
    },
    {
     "name": "stdout",
     "output_type": "stream",
     "text": [
      "[I 2024-03-08 14:02:31,815] Trial 12 finished with value: 0.7169670110625971 and parameters: {'n_estimators': 120, 'learning_rate': 0.06703729630345533, 'max_depth': 7, 'subsample': 0.6341065130743656, 'colsample_bytree': 0.72899506353339, 'min_child_weight': 12, 'gamma': 3.0258417571934846}. Best is trial 0 with value: 0.7288001693437234.\n"
     ]
    },
    {
     "name": "stderr",
     "output_type": "stream",
     "text": [
      "Best trial: 0. Best value: 0.7288:  70%|███████   | 14/20 [01:10<00:39,  6.53s/it]"
     ]
    },
    {
     "name": "stdout",
     "output_type": "stream",
     "text": [
      "[I 2024-03-08 14:02:42,234] Trial 13 finished with value: 0.7217464743781498 and parameters: {'n_estimators': 147, 'learning_rate': 0.06504041579993043, 'max_depth': 7, 'subsample': 0.5368347878708057, 'colsample_bytree': 0.700089236162011, 'min_child_weight': 10, 'gamma': 1.7051617776908938}. Best is trial 0 with value: 0.7288001693437234.\n"
     ]
    },
    {
     "name": "stderr",
     "output_type": "stream",
     "text": [
      "Best trial: 0. Best value: 0.7288:  75%|███████▌  | 15/20 [01:30<00:52, 10.57s/it]"
     ]
    },
    {
     "name": "stdout",
     "output_type": "stream",
     "text": [
      "[I 2024-03-08 14:03:02,174] Trial 14 finished with value: 0.7060221650948161 and parameters: {'n_estimators': 127, 'learning_rate': 0.02891674283323576, 'max_depth': 7, 'subsample': 0.3976165066210301, 'colsample_bytree': 0.7822514944657147, 'min_child_weight': 14, 'gamma': 2.879641718336682}. Best is trial 0 with value: 0.7288001693437234.\n"
     ]
    },
    {
     "name": "stderr",
     "output_type": "stream",
     "text": [
      "Best trial: 0. Best value: 0.7288:  80%|████████  | 16/20 [01:41<00:42, 10.51s/it]"
     ]
    },
    {
     "name": "stdout",
     "output_type": "stream",
     "text": [
      "[I 2024-03-08 14:03:12,554] Trial 15 finished with value: 0.7236296587979174 and parameters: {'n_estimators': 116, 'learning_rate': 0.0739508221819009, 'max_depth': 6, 'subsample': 0.5837476296624546, 'colsample_bytree': 0.6441126159104344, 'min_child_weight': 9, 'gamma': 3.0147319792944516}. Best is trial 0 with value: 0.7288001693437234.\n"
     ]
    },
    {
     "name": "stderr",
     "output_type": "stream",
     "text": [
      "Best trial: 0. Best value: 0.7288:  85%|████████▌ | 17/20 [01:48<00:28,  9.63s/it]"
     ]
    },
    {
     "name": "stdout",
     "output_type": "stream",
     "text": [
      "[I 2024-03-08 14:03:20,126] Trial 16 finished with value: 0.7281301037079122 and parameters: {'n_estimators': 150, 'learning_rate': 0.08122869304433092, 'max_depth': 8, 'subsample': 0.717841295998583, 'colsample_bytree': 0.913374779000122, 'min_child_weight': 1, 'gamma': 1.6869700323303154}. Best is trial 0 with value: 0.7288001693437234.\n"
     ]
    },
    {
     "name": "stderr",
     "output_type": "stream",
     "text": [
      "Best trial: 0. Best value: 0.7288:  90%|█████████ | 18/20 [01:53<00:16,  8.13s/it]"
     ]
    },
    {
     "name": "stdout",
     "output_type": "stream",
     "text": [
      "[I 2024-03-08 14:03:24,774] Trial 17 finished with value: 0.723318984560423 and parameters: {'n_estimators': 150, 'learning_rate': 0.08129060476660732, 'max_depth': 6, 'subsample': 0.713721841814498, 'colsample_bytree': 0.897638936856274, 'min_child_weight': 20, 'gamma': 0.5816978771581232}. Best is trial 0 with value: 0.7288001693437234.\n"
     ]
    },
    {
     "name": "stderr",
     "output_type": "stream",
     "text": [
      "Best trial: 0. Best value: 0.7288:  95%|█████████▌| 19/20 [01:57<00:06,  6.99s/it]"
     ]
    },
    {
     "name": "stdout",
     "output_type": "stream",
     "text": [
      "[I 2024-03-08 14:03:29,106] Trial 18 finished with value: 0.7151011183018009 and parameters: {'n_estimators': 136, 'learning_rate': 0.0313366584726605, 'max_depth': 6, 'subsample': 0.7078644143480252, 'colsample_bytree': 0.9163042084030021, 'min_child_weight': 1, 'gamma': 1.7475722952163717}. Best is trial 0 with value: 0.7288001693437234.\n"
     ]
    },
    {
     "name": "stderr",
     "output_type": "stream",
     "text": [
      "Best trial: 0. Best value: 0.7288: 100%|██████████| 20/20 [02:04<00:00,  6.21s/it]\n"
     ]
    },
    {
     "name": "stdout",
     "output_type": "stream",
     "text": [
      "[I 2024-03-08 14:03:35,574] Trial 19 finished with value: 0.7279892170856073 and parameters: {'n_estimators': 135, 'learning_rate': 0.05672023611382063, 'max_depth': 8, 'subsample': 0.39479631847829527, 'colsample_bytree': 0.7934954177954924, 'min_child_weight': 1, 'gamma': 1.1787006951275694}. Best is trial 0 with value: 0.7288001693437234.\n",
      "[0.7908441758672731, 0.752748657647798, 0.8201665511819912, 0.7973922997114995, 0.765066106208158]\n",
      "0.7852435581233439\n"
     ]
    }
   ],
   "source": [
    "xgboost_params = {\n",
    "    'learning_rate': np.arange(0.001, 0.1, 0.005),\n",
    "    'max_depth': np.arange(2, 8),\n",
    "    'n_estimators': np.arange(50, 150, 10),\n",
    "    'subsample': np.arange(0.3, 0.9, 0.1),\n",
    "    'colsample_bytree': np.arange(0.6, 1.0, 0.05),\n",
    "    'gamma': np.arange(0.1, 5, 0.1),\n",
    "    'early_stopping_rounds': np.arange(5, 15, 5),\n",
    "    'eval_metric':['auc']\n",
    "}\n",
    "\n",
    "scores = []\n",
    "for i in range(0, len(dataset)):\n",
    "    x_train, y_train, x_val, y_val, x_test, y_test = dataset[i][0], dataset[i][1], dataset[i][2], dataset[i][3], dataset[i][4], dataset[i][5]\n",
    "    best_params = find_best_model(\"xgb\", x_train, y_train, x_val, y_val, trials=20)\n",
    "    xgb_clf = XGBClassifier(**best_params.params, random_state=42).fit(x_train, y_train, eval_set=[(x_val, y_val)], verbose=False)\n",
    "    y_pred = xgb_clf.predict_proba(x_test)\n",
    "    scores.append(roc_auc_score(y_test, y_pred[:,1]))\n",
    "mean =  np.mean(np.array(scores))\n",
    "print(scores)\n",
    "print(mean)"
   ]
  },
  {
   "cell_type": "markdown",
   "metadata": {},
   "source": [
    "## 3. Catboost"
   ]
  },
  {
   "cell_type": "code",
   "execution_count": 3,
   "metadata": {},
   "outputs": [
    {
     "name": "stderr",
     "output_type": "stream",
     "text": [
      "[I 2024-03-08 14:59:55,749] A new study created in memory with name: no-name-b1e33199-e379-4299-a95b-b6b964e7cef9\n",
      "Best trial: 0. Best value: 0.744312:  10%|█         | 1/10 [00:14<02:14, 14.98s/it]"
     ]
    },
    {
     "name": "stdout",
     "output_type": "stream",
     "text": [
      "[I 2024-03-08 15:00:10,718] Trial 0 finished with value: 0.7443115797325567 and parameters: {'learning_rate': 0.040983760364399865, 'max_depth': 5, 'n_estimators': 112, 'l2_leaf_reg': 0.8423175647280104}. Best is trial 0 with value: 0.7443115797325567.\n"
     ]
    },
    {
     "name": "stderr",
     "output_type": "stream",
     "text": [
      "Best trial: 0. Best value: 0.744312:  20%|██        | 2/10 [00:28<01:51, 13.91s/it]"
     ]
    },
    {
     "name": "stdout",
     "output_type": "stream",
     "text": [
      "[I 2024-03-08 15:00:23,896] Trial 1 finished with value: 0.7325295042906859 and parameters: {'learning_rate': 0.07594022907162075, 'max_depth': 6, 'n_estimators': 67, 'l2_leaf_reg': 0.03534523796260425}. Best is trial 0 with value: 0.7443115797325567.\n"
     ]
    },
    {
     "name": "stderr",
     "output_type": "stream",
     "text": [
      "Best trial: 0. Best value: 0.744312:  30%|███       | 3/10 [00:37<01:23, 11.94s/it]"
     ]
    },
    {
     "name": "stdout",
     "output_type": "stream",
     "text": [
      "[I 2024-03-08 15:00:33,498] Trial 2 finished with value: 0.7319690249973863 and parameters: {'learning_rate': 0.09113456185934969, 'max_depth': 2, 'n_estimators': 104, 'l2_leaf_reg': 0.6426050077814209}. Best is trial 0 with value: 0.7443115797325567.\n"
     ]
    },
    {
     "name": "stderr",
     "output_type": "stream",
     "text": [
      "Best trial: 0. Best value: 0.744312:  40%|████      | 4/10 [00:48<01:07, 11.28s/it]"
     ]
    },
    {
     "name": "stdout",
     "output_type": "stream",
     "text": [
      "[I 2024-03-08 15:00:43,764] Trial 3 finished with value: 0.7373887577108966 and parameters: {'learning_rate': 0.07244876707517796, 'max_depth': 4, 'n_estimators': 92, 'l2_leaf_reg': 0.5367531227855673}. Best is trial 0 with value: 0.7443115797325567.\n"
     ]
    },
    {
     "name": "stderr",
     "output_type": "stream",
     "text": [
      "Best trial: 0. Best value: 0.744312:  50%|█████     | 5/10 [01:10<01:15, 15.16s/it]"
     ]
    },
    {
     "name": "stdout",
     "output_type": "stream",
     "text": [
      "[I 2024-03-08 15:01:05,794] Trial 4 finished with value: 0.7182487960543957 and parameters: {'learning_rate': 0.030121524419199755, 'max_depth': 8, 'n_estimators': 105, 'l2_leaf_reg': 0.4290739160131828}. Best is trial 0 with value: 0.7443115797325567.\n"
     ]
    },
    {
     "name": "stderr",
     "output_type": "stream",
     "text": [
      "Best trial: 0. Best value: 0.744312:  60%|██████    | 6/10 [01:31<01:09, 17.32s/it]"
     ]
    },
    {
     "name": "stdout",
     "output_type": "stream",
     "text": [
      "[I 2024-03-08 15:01:27,275] Trial 5 finished with value: 0.738487006821448 and parameters: {'learning_rate': 0.021777644826426322, 'max_depth': 4, 'n_estimators': 114, 'l2_leaf_reg': 0.8212090204357514}. Best is trial 0 with value: 0.7443115797325567.\n"
     ]
    },
    {
     "name": "stderr",
     "output_type": "stream",
     "text": [
      "Best trial: 0. Best value: 0.744312:  70%|███████   | 7/10 [01:42<00:45, 15.19s/it]"
     ]
    },
    {
     "name": "stdout",
     "output_type": "stream",
     "text": [
      "[I 2024-03-08 15:01:38,103] Trial 6 finished with value: 0.7311589204647668 and parameters: {'learning_rate': 0.014576897282093597, 'max_depth': 6, 'n_estimators': 53, 'l2_leaf_reg': 0.9467274426327148}. Best is trial 0 with value: 0.7443115797325567.\n"
     ]
    },
    {
     "name": "stderr",
     "output_type": "stream",
     "text": [
      "Best trial: 0. Best value: 0.744312:  80%|████████  | 8/10 [01:56<00:29, 14.88s/it]"
     ]
    },
    {
     "name": "stdout",
     "output_type": "stream",
     "text": [
      "[I 2024-03-08 15:01:52,329] Trial 7 finished with value: 0.7333431687749858 and parameters: {'learning_rate': 0.028609718937498304, 'max_depth': 6, 'n_estimators': 74, 'l2_leaf_reg': 0.0517016934297464}. Best is trial 0 with value: 0.7443115797325567.\n"
     ]
    },
    {
     "name": "stderr",
     "output_type": "stream",
     "text": [
      "Best trial: 0. Best value: 0.744312:  90%|█████████ | 9/10 [02:15<00:16, 16.29s/it]"
     ]
    },
    {
     "name": "stdout",
     "output_type": "stream",
     "text": [
      "[I 2024-03-08 15:02:11,713] Trial 8 finished with value: 0.7394050628295737 and parameters: {'learning_rate': 0.034423725147296476, 'max_depth': 7, 'n_estimators': 88, 'l2_leaf_reg': 0.3951269521586711}. Best is trial 0 with value: 0.7443115797325567.\n"
     ]
    },
    {
     "name": "stderr",
     "output_type": "stream",
     "text": [
      "Best trial: 0. Best value: 0.744312: 100%|██████████| 10/10 [02:24<00:00, 14.50s/it]\n"
     ]
    },
    {
     "name": "stdout",
     "output_type": "stream",
     "text": [
      "[I 2024-03-08 15:02:20,754] Trial 9 finished with value: 0.7378150385223234 and parameters: {'learning_rate': 0.09688418284635228, 'max_depth': 4, 'n_estimators': 105, 'l2_leaf_reg': 0.6865520896689893}. Best is trial 0 with value: 0.7443115797325567.\n"
     ]
    },
    {
     "name": "stderr",
     "output_type": "stream",
     "text": [
      "[I 2024-03-08 15:02:33,770] A new study created in memory with name: no-name-b82e987a-e669-4fe0-9f31-e8e1c2f0eabb\n",
      "Best trial: 0. Best value: 0.73836:  10%|█         | 1/10 [00:17<02:40, 17.80s/it]"
     ]
    },
    {
     "name": "stdout",
     "output_type": "stream",
     "text": [
      "[I 2024-03-08 15:02:51,574] Trial 0 finished with value: 0.738359889059352 and parameters: {'learning_rate': 0.02137944587375265, 'max_depth': 5, 'n_estimators': 149, 'l2_leaf_reg': 0.4368568028820956}. Best is trial 0 with value: 0.738359889059352.\n"
     ]
    },
    {
     "name": "stderr",
     "output_type": "stream",
     "text": [
      "Best trial: 0. Best value: 0.73836:  20%|██        | 2/10 [00:33<02:13, 16.64s/it]"
     ]
    },
    {
     "name": "stdout",
     "output_type": "stream",
     "text": [
      "[I 2024-03-08 15:03:07,404] Trial 1 finished with value: 0.7157209738117795 and parameters: {'learning_rate': 0.05517482821544953, 'max_depth': 7, 'n_estimators': 73, 'l2_leaf_reg': 0.21657179014085093}. Best is trial 0 with value: 0.738359889059352.\n"
     ]
    },
    {
     "name": "stderr",
     "output_type": "stream",
     "text": [
      "Best trial: 0. Best value: 0.73836:  30%|███       | 3/10 [00:56<02:16, 19.56s/it]"
     ]
    },
    {
     "name": "stdout",
     "output_type": "stream",
     "text": [
      "[I 2024-03-08 15:03:30,426] Trial 2 finished with value: 0.7292891836769284 and parameters: {'learning_rate': 0.07155137357963465, 'max_depth': 8, 'n_estimators': 115, 'l2_leaf_reg': 0.5968496217389174}. Best is trial 0 with value: 0.738359889059352.\n"
     ]
    },
    {
     "name": "stderr",
     "output_type": "stream",
     "text": [
      "Best trial: 0. Best value: 0.73836:  40%|████      | 4/10 [01:21<02:09, 21.62s/it]"
     ]
    },
    {
     "name": "stdout",
     "output_type": "stream",
     "text": [
      "[I 2024-03-08 15:03:55,190] Trial 3 finished with value: 0.7283233707042707 and parameters: {'learning_rate': 0.018089369564234126, 'max_depth': 8, 'n_estimators': 108, 'l2_leaf_reg': 0.3558434297303248}. Best is trial 0 with value: 0.738359889059352.\n"
     ]
    },
    {
     "name": "stderr",
     "output_type": "stream",
     "text": [
      "Best trial: 0. Best value: 0.73836:  50%|█████     | 5/10 [01:36<01:35, 19.18s/it]"
     ]
    },
    {
     "name": "stdout",
     "output_type": "stream",
     "text": [
      "[I 2024-03-08 15:04:10,064] Trial 4 finished with value: 0.7343124197188631 and parameters: {'learning_rate': 0.05253195824564892, 'max_depth': 5, 'n_estimators': 99, 'l2_leaf_reg': 0.18125215271070405}. Best is trial 0 with value: 0.738359889059352.\n"
     ]
    },
    {
     "name": "stderr",
     "output_type": "stream",
     "text": [
      "Best trial: 0. Best value: 0.73836:  60%|██████    | 6/10 [01:52<01:12, 18.10s/it]"
     ]
    },
    {
     "name": "stdout",
     "output_type": "stream",
     "text": [
      "[I 2024-03-08 15:04:26,048] Trial 5 finished with value: 0.7316649748629667 and parameters: {'learning_rate': 0.0871542016751892, 'max_depth': 5, 'n_estimators': 133, 'l2_leaf_reg': 0.0359902514608097}. Best is trial 0 with value: 0.738359889059352.\n"
     ]
    },
    {
     "name": "stderr",
     "output_type": "stream",
     "text": [
      "Best trial: 0. Best value: 0.73836:  70%|███████   | 7/10 [02:09<00:53, 17.86s/it]"
     ]
    },
    {
     "name": "stdout",
     "output_type": "stream",
     "text": [
      "[I 2024-03-08 15:04:43,418] Trial 6 finished with value: 0.7300377199338894 and parameters: {'learning_rate': 0.01804759042688839, 'max_depth': 7, 'n_estimators': 133, 'l2_leaf_reg': 0.7012430540812525}. Best is trial 0 with value: 0.738359889059352.\n"
     ]
    },
    {
     "name": "stderr",
     "output_type": "stream",
     "text": [
      "Best trial: 0. Best value: 0.73836:  80%|████████  | 8/10 [02:18<00:29, 14.86s/it]"
     ]
    },
    {
     "name": "stdout",
     "output_type": "stream",
     "text": [
      "[I 2024-03-08 15:04:51,849] Trial 7 finished with value: 0.7217840297569175 and parameters: {'learning_rate': 0.009410745684055536, 'max_depth': 4, 'n_estimators': 112, 'l2_leaf_reg': 0.4753860692450175}. Best is trial 0 with value: 0.738359889059352.\n"
     ]
    },
    {
     "name": "stderr",
     "output_type": "stream",
     "text": [
      "Best trial: 0. Best value: 0.73836:  90%|█████████ | 9/10 [02:23<00:12, 12.03s/it]"
     ]
    },
    {
     "name": "stdout",
     "output_type": "stream",
     "text": [
      "[I 2024-03-08 15:04:57,679] Trial 8 finished with value: 0.713010783969217 and parameters: {'learning_rate': 0.016511061068247047, 'max_depth': 3, 'n_estimators': 57, 'l2_leaf_reg': 0.7923708966464547}. Best is trial 0 with value: 0.738359889059352.\n"
     ]
    },
    {
     "name": "stderr",
     "output_type": "stream",
     "text": [
      "Best trial: 0. Best value: 0.73836: 100%|██████████| 10/10 [02:28<00:00, 14.82s/it]\n"
     ]
    },
    {
     "name": "stdout",
     "output_type": "stream",
     "text": [
      "[I 2024-03-08 15:05:01,950] Trial 9 finished with value: 0.7223429435087428 and parameters: {'learning_rate': 0.026646807978238783, 'max_depth': 2, 'n_estimators': 57, 'l2_leaf_reg': 0.9825693757200358}. Best is trial 0 with value: 0.738359889059352.\n"
     ]
    },
    {
     "name": "stderr",
     "output_type": "stream",
     "text": [
      "[I 2024-03-08 15:05:24,284] A new study created in memory with name: no-name-f68f8d05-a4ed-42ec-8a08-8a6a133b00c2\n",
      "Best trial: 0. Best value: 0.748071:  10%|█         | 1/10 [00:08<01:14,  8.27s/it]"
     ]
    },
    {
     "name": "stdout",
     "output_type": "stream",
     "text": [
      "[I 2024-03-08 15:05:32,554] Trial 0 finished with value: 0.7480714115970566 and parameters: {'learning_rate': 0.08561329835873645, 'max_depth': 3, 'n_estimators': 126, 'l2_leaf_reg': 0.26727325864435736}. Best is trial 0 with value: 0.7480714115970566.\n"
     ]
    },
    {
     "name": "stderr",
     "output_type": "stream",
     "text": [
      "Best trial: 0. Best value: 0.748071:  20%|██        | 2/10 [00:14<00:56,  7.09s/it]"
     ]
    },
    {
     "name": "stdout",
     "output_type": "stream",
     "text": [
      "[I 2024-03-08 15:05:38,826] Trial 1 finished with value: 0.7378577061554941 and parameters: {'learning_rate': 0.08059897655300773, 'max_depth': 4, 'n_estimators': 93, 'l2_leaf_reg': 0.16396110245038242}. Best is trial 0 with value: 0.7480714115970566.\n"
     ]
    },
    {
     "name": "stderr",
     "output_type": "stream",
     "text": [
      "Best trial: 0. Best value: 0.748071:  30%|███       | 3/10 [00:24<01:00,  8.61s/it]"
     ]
    },
    {
     "name": "stdout",
     "output_type": "stream",
     "text": [
      "[I 2024-03-08 15:05:49,245] Trial 2 finished with value: 0.732792125442386 and parameters: {'learning_rate': 0.04198405044088966, 'max_depth': 6, 'n_estimators': 142, 'l2_leaf_reg': 0.24609669585475202}. Best is trial 0 with value: 0.7480714115970566.\n"
     ]
    },
    {
     "name": "stderr",
     "output_type": "stream",
     "text": [
      "Best trial: 0. Best value: 0.748071:  40%|████      | 4/10 [00:29<00:41,  6.94s/it]"
     ]
    },
    {
     "name": "stdout",
     "output_type": "stream",
     "text": [
      "[I 2024-03-08 15:05:53,634] Trial 3 finished with value: 0.7356300020841031 and parameters: {'learning_rate': 0.04058304488366995, 'max_depth': 6, 'n_estimators': 63, 'l2_leaf_reg': 0.6340077682103238}. Best is trial 0 with value: 0.7480714115970566.\n"
     ]
    },
    {
     "name": "stderr",
     "output_type": "stream",
     "text": [
      "Best trial: 0. Best value: 0.748071:  50%|█████     | 5/10 [00:34<00:32,  6.41s/it]"
     ]
    },
    {
     "name": "stdout",
     "output_type": "stream",
     "text": [
      "[I 2024-03-08 15:05:59,113] Trial 4 finished with value: 0.7344454878530811 and parameters: {'learning_rate': 0.07297606031575543, 'max_depth': 5, 'n_estimators': 69, 'l2_leaf_reg': 0.10533452251690478}. Best is trial 0 with value: 0.7480714115970566.\n"
     ]
    },
    {
     "name": "stderr",
     "output_type": "stream",
     "text": [
      "Best trial: 0. Best value: 0.748071:  60%|██████    | 6/10 [00:35<00:18,  4.63s/it]"
     ]
    },
    {
     "name": "stdout",
     "output_type": "stream",
     "text": [
      "[I 2024-03-08 15:06:00,294] Trial 5 finished with value: 0.7255437498180632 and parameters: {'learning_rate': 0.09713124499272795, 'max_depth': 2, 'n_estimators': 55, 'l2_leaf_reg': 0.8557380534875028}. Best is trial 0 with value: 0.7480714115970566.\n"
     ]
    },
    {
     "name": "stderr",
     "output_type": "stream",
     "text": [
      "Best trial: 0. Best value: 0.748071:  70%|███████   | 7/10 [00:45<00:18,  6.29s/it]"
     ]
    },
    {
     "name": "stdout",
     "output_type": "stream",
     "text": [
      "[I 2024-03-08 15:06:09,995] Trial 6 finished with value: 0.7363621802293715 and parameters: {'learning_rate': 0.07608933045878749, 'max_depth': 7, 'n_estimators': 54, 'l2_leaf_reg': 0.5426082578411526}. Best is trial 0 with value: 0.7480714115970566.\n"
     ]
    },
    {
     "name": "stderr",
     "output_type": "stream",
     "text": [
      "Best trial: 0. Best value: 0.748071:  80%|████████  | 8/10 [00:53<00:13,  6.88s/it]"
     ]
    },
    {
     "name": "stdout",
     "output_type": "stream",
     "text": [
      "[I 2024-03-08 15:06:18,143] Trial 7 finished with value: 0.7312213881591373 and parameters: {'learning_rate': 0.04296171779455829, 'max_depth': 8, 'n_estimators': 108, 'l2_leaf_reg': 0.49821086831695804}. Best is trial 0 with value: 0.7480714115970566.\n"
     ]
    },
    {
     "name": "stderr",
     "output_type": "stream",
     "text": [
      "Best trial: 0. Best value: 0.748071:  90%|█████████ | 9/10 [01:06<00:08,  8.81s/it]"
     ]
    },
    {
     "name": "stdout",
     "output_type": "stream",
     "text": [
      "[I 2024-03-08 15:06:31,177] Trial 8 finished with value: 0.7401100471013016 and parameters: {'learning_rate': 0.06222754387051858, 'max_depth': 6, 'n_estimators': 92, 'l2_leaf_reg': 0.07438242983243848}. Best is trial 0 with value: 0.7480714115970566.\n"
     ]
    },
    {
     "name": "stderr",
     "output_type": "stream",
     "text": [
      "Best trial: 0. Best value: 0.748071: 100%|██████████| 10/10 [01:16<00:00,  7.62s/it]\n"
     ]
    },
    {
     "name": "stdout",
     "output_type": "stream",
     "text": [
      "[I 2024-03-08 15:06:40,487] Trial 9 finished with value: 0.7358823861570081 and parameters: {'learning_rate': 0.09300043122508356, 'max_depth': 6, 'n_estimators': 82, 'l2_leaf_reg': 0.01995060728509268}. Best is trial 0 with value: 0.7480714115970566.\n"
     ]
    },
    {
     "name": "stderr",
     "output_type": "stream",
     "text": [
      "[I 2024-03-08 15:06:47,925] A new study created in memory with name: no-name-d7bece88-e1fa-4e8a-a046-4cecc17c5337\n",
      "Best trial: 0. Best value: 0.744458:  10%|█         | 1/10 [00:18<02:48, 18.71s/it]"
     ]
    },
    {
     "name": "stdout",
     "output_type": "stream",
     "text": [
      "[I 2024-03-08 15:07:06,624] Trial 0 finished with value: 0.7444578020848358 and parameters: {'learning_rate': 0.07960223199221148, 'max_depth': 7, 'n_estimators': 125, 'l2_leaf_reg': 0.46227226696738266}. Best is trial 0 with value: 0.7444578020848358.\n"
     ]
    },
    {
     "name": "stderr",
     "output_type": "stream",
     "text": [
      "Best trial: 1. Best value: 0.751056:  20%|██        | 2/10 [00:29<01:50, 13.77s/it]"
     ]
    },
    {
     "name": "stdout",
     "output_type": "stream",
     "text": [
      "[I 2024-03-08 15:07:16,947] Trial 1 finished with value: 0.7510560682918878 and parameters: {'learning_rate': 0.042556050401670924, 'max_depth': 6, 'n_estimators': 71, 'l2_leaf_reg': 0.012025882191443404}. Best is trial 1 with value: 0.7510560682918878.\n"
     ]
    },
    {
     "name": "stderr",
     "output_type": "stream",
     "text": [
      "Best trial: 1. Best value: 0.751056:  30%|███       | 3/10 [00:37<01:19, 11.42s/it]"
     ]
    },
    {
     "name": "stdout",
     "output_type": "stream",
     "text": [
      "[I 2024-03-08 15:07:25,578] Trial 2 finished with value: 0.7481592752530097 and parameters: {'learning_rate': 0.018473351040694745, 'max_depth': 6, 'n_estimators': 71, 'l2_leaf_reg': 0.6295693302083893}. Best is trial 1 with value: 0.7510560682918878.\n"
     ]
    },
    {
     "name": "stderr",
     "output_type": "stream",
     "text": [
      "Best trial: 3. Best value: 0.752094:  40%|████      | 4/10 [00:55<01:24, 14.11s/it]"
     ]
    },
    {
     "name": "stdout",
     "output_type": "stream",
     "text": [
      "[I 2024-03-08 15:07:43,796] Trial 3 finished with value: 0.7520935125341032 and parameters: {'learning_rate': 0.018295660304727377, 'max_depth': 8, 'n_estimators': 90, 'l2_leaf_reg': 0.11185734361629251}. Best is trial 3 with value: 0.7520935125341032.\n"
     ]
    },
    {
     "name": "stderr",
     "output_type": "stream",
     "text": [
      "Best trial: 3. Best value: 0.752094:  50%|█████     | 5/10 [01:20<01:28, 17.75s/it]"
     ]
    },
    {
     "name": "stdout",
     "output_type": "stream",
     "text": [
      "[I 2024-03-08 15:08:08,004] Trial 4 finished with value: 0.749061632482784 and parameters: {'learning_rate': 0.05021705498956932, 'max_depth': 8, 'n_estimators': 82, 'l2_leaf_reg': 0.4241667725209187}. Best is trial 3 with value: 0.7520935125341032.\n"
     ]
    },
    {
     "name": "stderr",
     "output_type": "stream",
     "text": [
      "Best trial: 3. Best value: 0.752094:  60%|██████    | 6/10 [01:44<01:20, 20.14s/it]"
     ]
    },
    {
     "name": "stdout",
     "output_type": "stream",
     "text": [
      "[I 2024-03-08 15:08:32,791] Trial 5 finished with value: 0.7508174420829091 and parameters: {'learning_rate': 0.011988120348370757, 'max_depth': 5, 'n_estimators': 137, 'l2_leaf_reg': 0.2118380022259858}. Best is trial 3 with value: 0.7520935125341032.\n"
     ]
    },
    {
     "name": "stderr",
     "output_type": "stream",
     "text": [
      "Best trial: 6. Best value: 0.755614:  70%|███████   | 7/10 [02:01<00:57, 19.01s/it]"
     ]
    },
    {
     "name": "stdout",
     "output_type": "stream",
     "text": [
      "[I 2024-03-08 15:08:49,466] Trial 6 finished with value: 0.7556136583974596 and parameters: {'learning_rate': 0.03847614144086835, 'max_depth': 5, 'n_estimators': 148, 'l2_leaf_reg': 0.5270213081157794}. Best is trial 6 with value: 0.7556136583974596.\n"
     ]
    },
    {
     "name": "stderr",
     "output_type": "stream",
     "text": [
      "Best trial: 6. Best value: 0.755614:  80%|████████  | 8/10 [02:14<00:34, 17.13s/it]"
     ]
    },
    {
     "name": "stdout",
     "output_type": "stream",
     "text": [
      "[I 2024-03-08 15:09:02,578] Trial 7 finished with value: 0.7543696995571465 and parameters: {'learning_rate': 0.022078879620592174, 'max_depth': 7, 'n_estimators': 92, 'l2_leaf_reg': 0.43782832474612354}. Best is trial 6 with value: 0.7556136583974596.\n"
     ]
    },
    {
     "name": "stderr",
     "output_type": "stream",
     "text": [
      "Best trial: 6. Best value: 0.755614:  90%|█████████ | 9/10 [02:22<00:14, 14.21s/it]"
     ]
    },
    {
     "name": "stdout",
     "output_type": "stream",
     "text": [
      "[I 2024-03-08 15:09:10,374] Trial 8 finished with value: 0.7520534846687805 and parameters: {'learning_rate': 0.02357056677993697, 'max_depth': 7, 'n_estimators': 54, 'l2_leaf_reg': 0.40369609670788187}. Best is trial 6 with value: 0.7556136583974596.\n"
     ]
    },
    {
     "name": "stderr",
     "output_type": "stream",
     "text": [
      "Best trial: 6. Best value: 0.755614: 100%|██████████| 10/10 [02:33<00:00, 15.35s/it]\n"
     ]
    },
    {
     "name": "stdout",
     "output_type": "stream",
     "text": [
      "[I 2024-03-08 15:09:21,407] Trial 9 finished with value: 0.7515283263688498 and parameters: {'learning_rate': 0.020205604486072132, 'max_depth': 3, 'n_estimators': 103, 'l2_leaf_reg': 0.18029498556076684}. Best is trial 6 with value: 0.7556136583974596.\n"
     ]
    },
    {
     "name": "stderr",
     "output_type": "stream",
     "text": [
      "[I 2024-03-08 15:09:37,445] A new study created in memory with name: no-name-3d5dd3aa-595f-4201-be9f-414886bc9a75\n",
      "Best trial: 0. Best value: 0.713784:  10%|█         | 1/10 [00:19<02:53, 19.33s/it]"
     ]
    },
    {
     "name": "stdout",
     "output_type": "stream",
     "text": [
      "[I 2024-03-08 15:09:56,758] Trial 0 finished with value: 0.7137839521605189 and parameters: {'learning_rate': 0.04293755794415788, 'max_depth': 7, 'n_estimators': 123, 'l2_leaf_reg': 0.30496319015656903}. Best is trial 0 with value: 0.7137839521605189.\n"
     ]
    },
    {
     "name": "stderr",
     "output_type": "stream",
     "text": [
      "Best trial: 0. Best value: 0.713784:  20%|██        | 2/10 [00:21<01:15,  9.41s/it]"
     ]
    },
    {
     "name": "stdout",
     "output_type": "stream",
     "text": [
      "[I 2024-03-08 15:09:59,225] Trial 1 finished with value: 0.6675314579452583 and parameters: {'learning_rate': 0.0029288766520050137, 'max_depth': 2, 'n_estimators': 72, 'l2_leaf_reg': 0.29715600606279724}. Best is trial 0 with value: 0.7137839521605189.\n"
     ]
    },
    {
     "name": "stderr",
     "output_type": "stream",
     "text": [
      "Best trial: 0. Best value: 0.713784:  30%|███       | 3/10 [00:30<01:02,  8.89s/it]"
     ]
    },
    {
     "name": "stdout",
     "output_type": "stream",
     "text": [
      "[I 2024-03-08 15:10:07,506] Trial 2 finished with value: 0.6904957477216056 and parameters: {'learning_rate': 0.040362474290386974, 'max_depth': 5, 'n_estimators': 136, 'l2_leaf_reg': 0.2224699959100297}. Best is trial 0 with value: 0.7137839521605189.\n"
     ]
    },
    {
     "name": "stderr",
     "output_type": "stream",
     "text": [
      "Best trial: 0. Best value: 0.713784:  40%|████      | 4/10 [00:54<01:29, 14.84s/it]"
     ]
    },
    {
     "name": "stdout",
     "output_type": "stream",
     "text": [
      "[I 2024-03-08 15:10:31,467] Trial 3 finished with value: 0.7083253060548247 and parameters: {'learning_rate': 0.01686457471427104, 'max_depth': 7, 'n_estimators': 144, 'l2_leaf_reg': 0.6222472907544222}. Best is trial 0 with value: 0.7137839521605189.\n"
     ]
    },
    {
     "name": "stderr",
     "output_type": "stream",
     "text": [
      "Best trial: 0. Best value: 0.713784:  50%|█████     | 5/10 [01:05<01:07, 13.58s/it]"
     ]
    },
    {
     "name": "stdout",
     "output_type": "stream",
     "text": [
      "[I 2024-03-08 15:10:42,818] Trial 4 finished with value: 0.6944781339868558 and parameters: {'learning_rate': 0.09918501927107919, 'max_depth': 3, 'n_estimators': 138, 'l2_leaf_reg': 0.6443034680888726}. Best is trial 0 with value: 0.7137839521605189.\n"
     ]
    },
    {
     "name": "stderr",
     "output_type": "stream",
     "text": [
      "Best trial: 0. Best value: 0.713784:  60%|██████    | 6/10 [01:11<00:43, 10.92s/it]"
     ]
    },
    {
     "name": "stdout",
     "output_type": "stream",
     "text": [
      "[I 2024-03-08 15:10:48,568] Trial 5 finished with value: 0.6822344512965477 and parameters: {'learning_rate': 0.04992945385515613, 'max_depth': 4, 'n_estimators': 57, 'l2_leaf_reg': 0.45396226521018435}. Best is trial 0 with value: 0.7137839521605189.\n"
     ]
    },
    {
     "name": "stderr",
     "output_type": "stream",
     "text": [
      "Best trial: 0. Best value: 0.713784:  70%|███████   | 7/10 [01:17<00:28,  9.45s/it]"
     ]
    },
    {
     "name": "stdout",
     "output_type": "stream",
     "text": [
      "[I 2024-03-08 15:10:54,994] Trial 6 finished with value: 0.6655533722982082 and parameters: {'learning_rate': 0.00952122836797709, 'max_depth': 5, 'n_estimators': 57, 'l2_leaf_reg': 0.9926408268766166}. Best is trial 0 with value: 0.7137839521605189.\n"
     ]
    },
    {
     "name": "stderr",
     "output_type": "stream",
     "text": [
      "Best trial: 0. Best value: 0.713784:  80%|████████  | 8/10 [01:27<00:19,  9.69s/it]"
     ]
    },
    {
     "name": "stdout",
     "output_type": "stream",
     "text": [
      "[I 2024-03-08 15:11:05,206] Trial 7 finished with value: 0.6798588833963906 and parameters: {'learning_rate': 0.04096827674166745, 'max_depth': 3, 'n_estimators': 141, 'l2_leaf_reg': 0.587086952969186}. Best is trial 0 with value: 0.7137839521605189.\n"
     ]
    },
    {
     "name": "stderr",
     "output_type": "stream",
     "text": [
      "Best trial: 0. Best value: 0.713784:  90%|█████████ | 9/10 [01:42<00:11, 11.20s/it]"
     ]
    },
    {
     "name": "stdout",
     "output_type": "stream",
     "text": [
      "[I 2024-03-08 15:11:19,736] Trial 8 finished with value: 0.6720531236745204 and parameters: {'learning_rate': 0.0042962147827793305, 'max_depth': 5, 'n_estimators': 141, 'l2_leaf_reg': 0.10274313677524527}. Best is trial 0 with value: 0.7137839521605189.\n"
     ]
    },
    {
     "name": "stderr",
     "output_type": "stream",
     "text": [
      "Best trial: 0. Best value: 0.713784: 100%|██████████| 10/10 [01:57<00:00, 11.79s/it]\n"
     ]
    },
    {
     "name": "stdout",
     "output_type": "stream",
     "text": [
      "[I 2024-03-08 15:11:35,290] Trial 9 finished with value: 0.6882297537593767 and parameters: {'learning_rate': 0.04501122820465837, 'max_depth': 7, 'n_estimators': 75, 'l2_leaf_reg': 0.561595318317488}. Best is trial 0 with value: 0.7137839521605189.\n",
      "[0.8060993280826535, 0.7396892164985717, 0.8274393229696891, 0.7964532523384968, 0.7763066260273186]\n",
      "0.789197549183346\n"
     ]
    }
   ],
   "source": [
    "\n",
    "\n",
    "scores = []\n",
    "for i in range(0, len(dataset)):\n",
    "    x_train, y_train, x_val, y_val, x_test, y_test = dataset[i][0], dataset[i][1], dataset[i][2], dataset[i][3], dataset[i][4], dataset[i][5]\n",
    "    best_params = find_best_model(\"cat\", x_train, y_train, x_val, y_val, trials=10)\n",
    "    cat_clf = CatBoostClassifier(**best_params.params, random_seed=42).fit(x_train, y_train, eval_set=[(x_val, y_val)], verbose=False)\n",
    "    y_pred = cat_clf.predict_proba(x_test)\n",
    "    scores.append(roc_auc_score(y_test, y_pred[:,1]))\n",
    "mean =  np.mean(np.array(scores))\n",
    "print(scores)\n",
    "print(mean)"
   ]
  },
  {
   "cell_type": "markdown",
   "metadata": {},
   "source": [
    "## 4. Random Forest"
   ]
  },
  {
   "cell_type": "code",
   "execution_count": 3,
   "metadata": {},
   "outputs": [
    {
     "name": "stderr",
     "output_type": "stream",
     "text": [
      "[I 2024-03-11 13:47:19,067] A new study created in memory with name: no-name-c85f1982-e15b-4580-b146-d243b1edf4f4\n",
      "Best trial: 0. Best value: 0.731531:  20%|██        | 1/5 [05:06<20:27, 306.76s/it]"
     ]
    },
    {
     "name": "stdout",
     "output_type": "stream",
     "text": [
      "[I 2024-03-11 13:52:25,830] Trial 0 finished with value: 0.7315313882334452 and parameters: {'n_estimators': 488, 'max_depth': 4, 'min_samples_split': 10, 'min_samples_leaf': 1, 'bootstrap': True}. Best is trial 0 with value: 0.7315313882334452.\n"
     ]
    },
    {
     "name": "stderr",
     "output_type": "stream",
     "text": [
      "Best trial: 0. Best value: 0.731531:  40%|████      | 2/5 [29:03<48:34, 971.55s/it]"
     ]
    },
    {
     "name": "stdout",
     "output_type": "stream",
     "text": [
      "[I 2024-03-11 14:16:22,726] Trial 1 finished with value: 0.7311896365156021 and parameters: {'n_estimators': 214, 'max_depth': 5, 'min_samples_split': 3, 'min_samples_leaf': 10, 'bootstrap': False}. Best is trial 0 with value: 0.7315313882334452.\n"
     ]
    },
    {
     "name": "stderr",
     "output_type": "stream",
     "text": [
      "Best trial: 0. Best value: 0.731531:  40%|████      | 2/5 [32:29<48:43, 974.58s/it]\n"
     ]
    },
    {
     "name": "stdout",
     "output_type": "stream",
     "text": [
      "[W 2024-03-11 14:19:48,131] Trial 2 failed with parameters: {'n_estimators': 939, 'max_depth': 2, 'min_samples_split': 8, 'min_samples_leaf': 9, 'bootstrap': True} because of the following error: KeyboardInterrupt().\n",
      "Traceback (most recent call last):\n",
      "  File \"c:\\Users\\caior\\OneDrive\\Documentos\\GitHub\\xai-nui-classification\\venv\\Lib\\site-packages\\optuna\\study\\_optimize.py\", line 200, in _run_trial\n",
      "    value_or_values = func(trial)\n",
      "                      ^^^^^^^^^^^\n",
      "  File \"c:\\Users\\caior\\OneDrive\\Documentos\\GitHub\\xai-nui-classification\\notebooks\\Modeling\\binary_classfication_comparsion\\../../../src\\tuning.py\", line 96, in <lambda>\n",
      "    study.optimize(lambda trial: _objective_random_forest(trial, x_train, y_train, x_val, y_val), n_trials=trials, show_progress_bar=True)\n",
      "                                 ^^^^^^^^^^^^^^^^^^^^^^^^^^^^^^^^^^^^^^^^^^^^^^^^^^^^^^^^^^^^^^^\n",
      "  File \"c:\\Users\\caior\\OneDrive\\Documentos\\GitHub\\xai-nui-classification\\notebooks\\Modeling\\binary_classfication_comparsion\\../../../src\\tuning.py\", line 50, in _objective_random_forest\n",
      "    rf_clf = RandomForestClassifier(**params, random_state=42).fit(x_train, y_train)\n",
      "             ^^^^^^^^^^^^^^^^^^^^^^^^^^^^^^^^^^^^^^^^^^^^^^^^^^^^^^^^^^^^^^^^^^^^^^^\n",
      "  File \"c:\\Users\\caior\\OneDrive\\Documentos\\GitHub\\xai-nui-classification\\venv\\Lib\\site-packages\\sklearn\\base.py\", line 1152, in wrapper\n",
      "    return fit_method(estimator, *args, **kwargs)\n",
      "           ^^^^^^^^^^^^^^^^^^^^^^^^^^^^^^^^^^^^^^\n",
      "  File \"c:\\Users\\caior\\OneDrive\\Documentos\\GitHub\\xai-nui-classification\\venv\\Lib\\site-packages\\sklearn\\ensemble\\_forest.py\", line 456, in fit\n",
      "    trees = Parallel(\n",
      "            ^^^^^^^^^\n",
      "  File \"c:\\Users\\caior\\OneDrive\\Documentos\\GitHub\\xai-nui-classification\\venv\\Lib\\site-packages\\sklearn\\utils\\parallel.py\", line 65, in __call__\n",
      "    return super().__call__(iterable_with_config)\n",
      "           ^^^^^^^^^^^^^^^^^^^^^^^^^^^^^^^^^^^^^^\n",
      "  File \"c:\\Users\\caior\\OneDrive\\Documentos\\GitHub\\xai-nui-classification\\venv\\Lib\\site-packages\\joblib\\parallel.py\", line 1863, in __call__\n",
      "    return output if self.return_generator else list(output)\n",
      "                                                ^^^^^^^^^^^^\n",
      "  File \"c:\\Users\\caior\\OneDrive\\Documentos\\GitHub\\xai-nui-classification\\venv\\Lib\\site-packages\\joblib\\parallel.py\", line 1792, in _get_sequential_output\n",
      "    res = func(*args, **kwargs)\n",
      "          ^^^^^^^^^^^^^^^^^^^^^\n",
      "  File \"c:\\Users\\caior\\OneDrive\\Documentos\\GitHub\\xai-nui-classification\\venv\\Lib\\site-packages\\sklearn\\utils\\parallel.py\", line 127, in __call__\n",
      "    return self.function(*args, **kwargs)\n",
      "           ^^^^^^^^^^^^^^^^^^^^^^^^^^^^^^\n",
      "  File \"c:\\Users\\caior\\OneDrive\\Documentos\\GitHub\\xai-nui-classification\\venv\\Lib\\site-packages\\sklearn\\ensemble\\_forest.py\", line 188, in _parallel_build_trees\n",
      "    tree.fit(X, y, sample_weight=curr_sample_weight, check_input=False)\n",
      "  File \"c:\\Users\\caior\\OneDrive\\Documentos\\GitHub\\xai-nui-classification\\venv\\Lib\\site-packages\\sklearn\\base.py\", line 1152, in wrapper\n",
      "    return fit_method(estimator, *args, **kwargs)\n",
      "           ^^^^^^^^^^^^^^^^^^^^^^^^^^^^^^^^^^^^^^\n",
      "  File \"c:\\Users\\caior\\OneDrive\\Documentos\\GitHub\\xai-nui-classification\\venv\\Lib\\site-packages\\sklearn\\tree\\_classes.py\", line 959, in fit\n",
      "    super()._fit(\n",
      "  File \"c:\\Users\\caior\\OneDrive\\Documentos\\GitHub\\xai-nui-classification\\venv\\Lib\\site-packages\\sklearn\\tree\\_classes.py\", line 443, in _fit\n",
      "    builder.build(self.tree_, X, y, sample_weight, missing_values_in_feature_mask)\n",
      "KeyboardInterrupt\n",
      "[W 2024-03-11 14:19:48,222] Trial 2 failed with value None.\n"
     ]
    },
    {
     "ename": "KeyboardInterrupt",
     "evalue": "",
     "output_type": "error",
     "traceback": [
      "\u001b[1;31m---------------------------------------------------------------------------\u001b[0m",
      "\u001b[1;31mKeyboardInterrupt\u001b[0m                         Traceback (most recent call last)",
      "Cell \u001b[1;32mIn[3], line 4\u001b[0m\n\u001b[0;32m      2\u001b[0m \u001b[38;5;28;01mfor\u001b[39;00m i \u001b[38;5;129;01min\u001b[39;00m \u001b[38;5;28mrange\u001b[39m(\u001b[38;5;241m0\u001b[39m, \u001b[38;5;28mlen\u001b[39m(dataset)):\n\u001b[0;32m      3\u001b[0m     x_train, y_train, x_val, y_val, x_test, y_test \u001b[38;5;241m=\u001b[39m dataset[i][\u001b[38;5;241m0\u001b[39m], dataset[i][\u001b[38;5;241m1\u001b[39m], dataset[i][\u001b[38;5;241m2\u001b[39m], dataset[i][\u001b[38;5;241m3\u001b[39m], dataset[i][\u001b[38;5;241m4\u001b[39m], dataset[i][\u001b[38;5;241m5\u001b[39m]\n\u001b[1;32m----> 4\u001b[0m     best_params \u001b[38;5;241m=\u001b[39m \u001b[43mfind_best_model\u001b[49m\u001b[43m(\u001b[49m\u001b[38;5;124;43m\"\u001b[39;49m\u001b[38;5;124;43mrandom_forest\u001b[39;49m\u001b[38;5;124;43m\"\u001b[39;49m\u001b[43m,\u001b[49m\u001b[43m \u001b[49m\u001b[43mx_train\u001b[49m\u001b[43m,\u001b[49m\u001b[43m \u001b[49m\u001b[43my_train\u001b[49m\u001b[43m,\u001b[49m\u001b[43m \u001b[49m\u001b[43mx_val\u001b[49m\u001b[43m,\u001b[49m\u001b[43m \u001b[49m\u001b[43my_val\u001b[49m\u001b[43m,\u001b[49m\u001b[43m \u001b[49m\u001b[43mtrials\u001b[49m\u001b[38;5;241;43m=\u001b[39;49m\u001b[38;5;241;43m5\u001b[39;49m\u001b[43m)\u001b[49m\n\u001b[0;32m      5\u001b[0m     rf_clf \u001b[38;5;241m=\u001b[39m RandomForestClassifier(\u001b[38;5;241m*\u001b[39m\u001b[38;5;241m*\u001b[39mbest_params\u001b[38;5;241m.\u001b[39mparams, random_state\u001b[38;5;241m=\u001b[39m\u001b[38;5;241m42\u001b[39m, verbose\u001b[38;5;241m=\u001b[39m\u001b[38;5;28;01mFalse\u001b[39;00m)\n\u001b[0;32m      6\u001b[0m     rf_clf\u001b[38;5;241m.\u001b[39mfit(x_train, y_train)\n",
      "File \u001b[1;32mc:\\Users\\caior\\OneDrive\\Documentos\\GitHub\\xai-nui-classification\\notebooks\\Modeling\\binary_classfication_comparsion\\../../../src\\tuning.py:96\u001b[0m, in \u001b[0;36mfind_best_model\u001b[1;34m(model, x_train, y_train, x_val, y_val, trials)\u001b[0m\n\u001b[0;32m     93\u001b[0m     study\u001b[38;5;241m.\u001b[39moptimize(\u001b[38;5;28;01mlambda\u001b[39;00m trial: _objective_cat(trial, x_train, y_train, x_val, y_val), n_trials\u001b[38;5;241m=\u001b[39mtrials, show_progress_bar\u001b[38;5;241m=\u001b[39m\u001b[38;5;28;01mTrue\u001b[39;00m)\n\u001b[0;32m     95\u001b[0m \u001b[38;5;28;01melif\u001b[39;00m model \u001b[38;5;241m==\u001b[39m \u001b[38;5;124m\"\u001b[39m\u001b[38;5;124mrandom_forest\u001b[39m\u001b[38;5;124m\"\u001b[39m:\n\u001b[1;32m---> 96\u001b[0m     \u001b[43mstudy\u001b[49m\u001b[38;5;241;43m.\u001b[39;49m\u001b[43moptimize\u001b[49m\u001b[43m(\u001b[49m\u001b[38;5;28;43;01mlambda\u001b[39;49;00m\u001b[43m \u001b[49m\u001b[43mtrial\u001b[49m\u001b[43m:\u001b[49m\u001b[43m \u001b[49m\u001b[43m_objective_random_forest\u001b[49m\u001b[43m(\u001b[49m\u001b[43mtrial\u001b[49m\u001b[43m,\u001b[49m\u001b[43m \u001b[49m\u001b[43mx_train\u001b[49m\u001b[43m,\u001b[49m\u001b[43m \u001b[49m\u001b[43my_train\u001b[49m\u001b[43m,\u001b[49m\u001b[43m \u001b[49m\u001b[43mx_val\u001b[49m\u001b[43m,\u001b[49m\u001b[43m \u001b[49m\u001b[43my_val\u001b[49m\u001b[43m)\u001b[49m\u001b[43m,\u001b[49m\u001b[43m \u001b[49m\u001b[43mn_trials\u001b[49m\u001b[38;5;241;43m=\u001b[39;49m\u001b[43mtrials\u001b[49m\u001b[43m,\u001b[49m\u001b[43m \u001b[49m\u001b[43mshow_progress_bar\u001b[49m\u001b[38;5;241;43m=\u001b[39;49m\u001b[38;5;28;43;01mTrue\u001b[39;49;00m\u001b[43m)\u001b[49m\n\u001b[0;32m     98\u001b[0m \u001b[38;5;28;01melif\u001b[39;00m model \u001b[38;5;241m==\u001b[39m \u001b[38;5;124m\"\u001b[39m\u001b[38;5;124mlr\u001b[39m\u001b[38;5;124m\"\u001b[39m:\n\u001b[0;32m     99\u001b[0m     study\u001b[38;5;241m.\u001b[39moptimize(\u001b[38;5;28;01mlambda\u001b[39;00m trial: _objective_lr(trial, x_train, y_train, x_val, y_val), n_trials\u001b[38;5;241m=\u001b[39mtrials, show_progress_bar\u001b[38;5;241m=\u001b[39m\u001b[38;5;28;01mTrue\u001b[39;00m)\n",
      "File \u001b[1;32mc:\\Users\\caior\\OneDrive\\Documentos\\GitHub\\xai-nui-classification\\venv\\Lib\\site-packages\\optuna\\study\\study.py:451\u001b[0m, in \u001b[0;36mStudy.optimize\u001b[1;34m(self, func, n_trials, timeout, n_jobs, catch, callbacks, gc_after_trial, show_progress_bar)\u001b[0m\n\u001b[0;32m    348\u001b[0m \u001b[38;5;28;01mdef\u001b[39;00m \u001b[38;5;21moptimize\u001b[39m(\n\u001b[0;32m    349\u001b[0m     \u001b[38;5;28mself\u001b[39m,\n\u001b[0;32m    350\u001b[0m     func: ObjectiveFuncType,\n\u001b[1;32m   (...)\u001b[0m\n\u001b[0;32m    357\u001b[0m     show_progress_bar: \u001b[38;5;28mbool\u001b[39m \u001b[38;5;241m=\u001b[39m \u001b[38;5;28;01mFalse\u001b[39;00m,\n\u001b[0;32m    358\u001b[0m ) \u001b[38;5;241m-\u001b[39m\u001b[38;5;241m>\u001b[39m \u001b[38;5;28;01mNone\u001b[39;00m:\n\u001b[0;32m    359\u001b[0m \u001b[38;5;250m    \u001b[39m\u001b[38;5;124;03m\"\"\"Optimize an objective function.\u001b[39;00m\n\u001b[0;32m    360\u001b[0m \n\u001b[0;32m    361\u001b[0m \u001b[38;5;124;03m    Optimization is done by choosing a suitable set of hyperparameter values from a given\u001b[39;00m\n\u001b[1;32m   (...)\u001b[0m\n\u001b[0;32m    449\u001b[0m \u001b[38;5;124;03m            If nested invocation of this method occurs.\u001b[39;00m\n\u001b[0;32m    450\u001b[0m \u001b[38;5;124;03m    \"\"\"\u001b[39;00m\n\u001b[1;32m--> 451\u001b[0m     \u001b[43m_optimize\u001b[49m\u001b[43m(\u001b[49m\n\u001b[0;32m    452\u001b[0m \u001b[43m        \u001b[49m\u001b[43mstudy\u001b[49m\u001b[38;5;241;43m=\u001b[39;49m\u001b[38;5;28;43mself\u001b[39;49m\u001b[43m,\u001b[49m\n\u001b[0;32m    453\u001b[0m \u001b[43m        \u001b[49m\u001b[43mfunc\u001b[49m\u001b[38;5;241;43m=\u001b[39;49m\u001b[43mfunc\u001b[49m\u001b[43m,\u001b[49m\n\u001b[0;32m    454\u001b[0m \u001b[43m        \u001b[49m\u001b[43mn_trials\u001b[49m\u001b[38;5;241;43m=\u001b[39;49m\u001b[43mn_trials\u001b[49m\u001b[43m,\u001b[49m\n\u001b[0;32m    455\u001b[0m \u001b[43m        \u001b[49m\u001b[43mtimeout\u001b[49m\u001b[38;5;241;43m=\u001b[39;49m\u001b[43mtimeout\u001b[49m\u001b[43m,\u001b[49m\n\u001b[0;32m    456\u001b[0m \u001b[43m        \u001b[49m\u001b[43mn_jobs\u001b[49m\u001b[38;5;241;43m=\u001b[39;49m\u001b[43mn_jobs\u001b[49m\u001b[43m,\u001b[49m\n\u001b[0;32m    457\u001b[0m \u001b[43m        \u001b[49m\u001b[43mcatch\u001b[49m\u001b[38;5;241;43m=\u001b[39;49m\u001b[38;5;28;43mtuple\u001b[39;49m\u001b[43m(\u001b[49m\u001b[43mcatch\u001b[49m\u001b[43m)\u001b[49m\u001b[43m \u001b[49m\u001b[38;5;28;43;01mif\u001b[39;49;00m\u001b[43m \u001b[49m\u001b[38;5;28;43misinstance\u001b[39;49m\u001b[43m(\u001b[49m\u001b[43mcatch\u001b[49m\u001b[43m,\u001b[49m\u001b[43m \u001b[49m\u001b[43mIterable\u001b[49m\u001b[43m)\u001b[49m\u001b[43m \u001b[49m\u001b[38;5;28;43;01melse\u001b[39;49;00m\u001b[43m \u001b[49m\u001b[43m(\u001b[49m\u001b[43mcatch\u001b[49m\u001b[43m,\u001b[49m\u001b[43m)\u001b[49m\u001b[43m,\u001b[49m\n\u001b[0;32m    458\u001b[0m \u001b[43m        \u001b[49m\u001b[43mcallbacks\u001b[49m\u001b[38;5;241;43m=\u001b[39;49m\u001b[43mcallbacks\u001b[49m\u001b[43m,\u001b[49m\n\u001b[0;32m    459\u001b[0m \u001b[43m        \u001b[49m\u001b[43mgc_after_trial\u001b[49m\u001b[38;5;241;43m=\u001b[39;49m\u001b[43mgc_after_trial\u001b[49m\u001b[43m,\u001b[49m\n\u001b[0;32m    460\u001b[0m \u001b[43m        \u001b[49m\u001b[43mshow_progress_bar\u001b[49m\u001b[38;5;241;43m=\u001b[39;49m\u001b[43mshow_progress_bar\u001b[49m\u001b[43m,\u001b[49m\n\u001b[0;32m    461\u001b[0m \u001b[43m    \u001b[49m\u001b[43m)\u001b[49m\n",
      "File \u001b[1;32mc:\\Users\\caior\\OneDrive\\Documentos\\GitHub\\xai-nui-classification\\venv\\Lib\\site-packages\\optuna\\study\\_optimize.py:66\u001b[0m, in \u001b[0;36m_optimize\u001b[1;34m(study, func, n_trials, timeout, n_jobs, catch, callbacks, gc_after_trial, show_progress_bar)\u001b[0m\n\u001b[0;32m     64\u001b[0m \u001b[38;5;28;01mtry\u001b[39;00m:\n\u001b[0;32m     65\u001b[0m     \u001b[38;5;28;01mif\u001b[39;00m n_jobs \u001b[38;5;241m==\u001b[39m \u001b[38;5;241m1\u001b[39m:\n\u001b[1;32m---> 66\u001b[0m         \u001b[43m_optimize_sequential\u001b[49m\u001b[43m(\u001b[49m\n\u001b[0;32m     67\u001b[0m \u001b[43m            \u001b[49m\u001b[43mstudy\u001b[49m\u001b[43m,\u001b[49m\n\u001b[0;32m     68\u001b[0m \u001b[43m            \u001b[49m\u001b[43mfunc\u001b[49m\u001b[43m,\u001b[49m\n\u001b[0;32m     69\u001b[0m \u001b[43m            \u001b[49m\u001b[43mn_trials\u001b[49m\u001b[43m,\u001b[49m\n\u001b[0;32m     70\u001b[0m \u001b[43m            \u001b[49m\u001b[43mtimeout\u001b[49m\u001b[43m,\u001b[49m\n\u001b[0;32m     71\u001b[0m \u001b[43m            \u001b[49m\u001b[43mcatch\u001b[49m\u001b[43m,\u001b[49m\n\u001b[0;32m     72\u001b[0m \u001b[43m            \u001b[49m\u001b[43mcallbacks\u001b[49m\u001b[43m,\u001b[49m\n\u001b[0;32m     73\u001b[0m \u001b[43m            \u001b[49m\u001b[43mgc_after_trial\u001b[49m\u001b[43m,\u001b[49m\n\u001b[0;32m     74\u001b[0m \u001b[43m            \u001b[49m\u001b[43mreseed_sampler_rng\u001b[49m\u001b[38;5;241;43m=\u001b[39;49m\u001b[38;5;28;43;01mFalse\u001b[39;49;00m\u001b[43m,\u001b[49m\n\u001b[0;32m     75\u001b[0m \u001b[43m            \u001b[49m\u001b[43mtime_start\u001b[49m\u001b[38;5;241;43m=\u001b[39;49m\u001b[38;5;28;43;01mNone\u001b[39;49;00m\u001b[43m,\u001b[49m\n\u001b[0;32m     76\u001b[0m \u001b[43m            \u001b[49m\u001b[43mprogress_bar\u001b[49m\u001b[38;5;241;43m=\u001b[39;49m\u001b[43mprogress_bar\u001b[49m\u001b[43m,\u001b[49m\n\u001b[0;32m     77\u001b[0m \u001b[43m        \u001b[49m\u001b[43m)\u001b[49m\n\u001b[0;32m     78\u001b[0m     \u001b[38;5;28;01melse\u001b[39;00m:\n\u001b[0;32m     79\u001b[0m         \u001b[38;5;28;01mif\u001b[39;00m n_jobs \u001b[38;5;241m==\u001b[39m \u001b[38;5;241m-\u001b[39m\u001b[38;5;241m1\u001b[39m:\n",
      "File \u001b[1;32mc:\\Users\\caior\\OneDrive\\Documentos\\GitHub\\xai-nui-classification\\venv\\Lib\\site-packages\\optuna\\study\\_optimize.py:163\u001b[0m, in \u001b[0;36m_optimize_sequential\u001b[1;34m(study, func, n_trials, timeout, catch, callbacks, gc_after_trial, reseed_sampler_rng, time_start, progress_bar)\u001b[0m\n\u001b[0;32m    160\u001b[0m         \u001b[38;5;28;01mbreak\u001b[39;00m\n\u001b[0;32m    162\u001b[0m \u001b[38;5;28;01mtry\u001b[39;00m:\n\u001b[1;32m--> 163\u001b[0m     frozen_trial \u001b[38;5;241m=\u001b[39m \u001b[43m_run_trial\u001b[49m\u001b[43m(\u001b[49m\u001b[43mstudy\u001b[49m\u001b[43m,\u001b[49m\u001b[43m \u001b[49m\u001b[43mfunc\u001b[49m\u001b[43m,\u001b[49m\u001b[43m \u001b[49m\u001b[43mcatch\u001b[49m\u001b[43m)\u001b[49m\n\u001b[0;32m    164\u001b[0m \u001b[38;5;28;01mfinally\u001b[39;00m:\n\u001b[0;32m    165\u001b[0m     \u001b[38;5;66;03m# The following line mitigates memory problems that can be occurred in some\u001b[39;00m\n\u001b[0;32m    166\u001b[0m     \u001b[38;5;66;03m# environments (e.g., services that use computing containers such as GitHub Actions).\u001b[39;00m\n\u001b[0;32m    167\u001b[0m     \u001b[38;5;66;03m# Please refer to the following PR for further details:\u001b[39;00m\n\u001b[0;32m    168\u001b[0m     \u001b[38;5;66;03m# https://github.com/optuna/optuna/pull/325.\u001b[39;00m\n\u001b[0;32m    169\u001b[0m     \u001b[38;5;28;01mif\u001b[39;00m gc_after_trial:\n",
      "File \u001b[1;32mc:\\Users\\caior\\OneDrive\\Documentos\\GitHub\\xai-nui-classification\\venv\\Lib\\site-packages\\optuna\\study\\_optimize.py:251\u001b[0m, in \u001b[0;36m_run_trial\u001b[1;34m(study, func, catch)\u001b[0m\n\u001b[0;32m    244\u001b[0m         \u001b[38;5;28;01massert\u001b[39;00m \u001b[38;5;28;01mFalse\u001b[39;00m, \u001b[38;5;124m\"\u001b[39m\u001b[38;5;124mShould not reach.\u001b[39m\u001b[38;5;124m\"\u001b[39m\n\u001b[0;32m    246\u001b[0m \u001b[38;5;28;01mif\u001b[39;00m (\n\u001b[0;32m    247\u001b[0m     frozen_trial\u001b[38;5;241m.\u001b[39mstate \u001b[38;5;241m==\u001b[39m TrialState\u001b[38;5;241m.\u001b[39mFAIL\n\u001b[0;32m    248\u001b[0m     \u001b[38;5;129;01mand\u001b[39;00m func_err \u001b[38;5;129;01mis\u001b[39;00m \u001b[38;5;129;01mnot\u001b[39;00m \u001b[38;5;28;01mNone\u001b[39;00m\n\u001b[0;32m    249\u001b[0m     \u001b[38;5;129;01mand\u001b[39;00m \u001b[38;5;129;01mnot\u001b[39;00m \u001b[38;5;28misinstance\u001b[39m(func_err, catch)\n\u001b[0;32m    250\u001b[0m ):\n\u001b[1;32m--> 251\u001b[0m     \u001b[38;5;28;01mraise\u001b[39;00m func_err\n\u001b[0;32m    252\u001b[0m \u001b[38;5;28;01mreturn\u001b[39;00m frozen_trial\n",
      "File \u001b[1;32mc:\\Users\\caior\\OneDrive\\Documentos\\GitHub\\xai-nui-classification\\venv\\Lib\\site-packages\\optuna\\study\\_optimize.py:200\u001b[0m, in \u001b[0;36m_run_trial\u001b[1;34m(study, func, catch)\u001b[0m\n\u001b[0;32m    198\u001b[0m \u001b[38;5;28;01mwith\u001b[39;00m get_heartbeat_thread(trial\u001b[38;5;241m.\u001b[39m_trial_id, study\u001b[38;5;241m.\u001b[39m_storage):\n\u001b[0;32m    199\u001b[0m     \u001b[38;5;28;01mtry\u001b[39;00m:\n\u001b[1;32m--> 200\u001b[0m         value_or_values \u001b[38;5;241m=\u001b[39m \u001b[43mfunc\u001b[49m\u001b[43m(\u001b[49m\u001b[43mtrial\u001b[49m\u001b[43m)\u001b[49m\n\u001b[0;32m    201\u001b[0m     \u001b[38;5;28;01mexcept\u001b[39;00m exceptions\u001b[38;5;241m.\u001b[39mTrialPruned \u001b[38;5;28;01mas\u001b[39;00m e:\n\u001b[0;32m    202\u001b[0m         \u001b[38;5;66;03m# TODO(mamu): Handle multi-objective cases.\u001b[39;00m\n\u001b[0;32m    203\u001b[0m         state \u001b[38;5;241m=\u001b[39m TrialState\u001b[38;5;241m.\u001b[39mPRUNED\n",
      "File \u001b[1;32mc:\\Users\\caior\\OneDrive\\Documentos\\GitHub\\xai-nui-classification\\notebooks\\Modeling\\binary_classfication_comparsion\\../../../src\\tuning.py:96\u001b[0m, in \u001b[0;36mfind_best_model.<locals>.<lambda>\u001b[1;34m(trial)\u001b[0m\n\u001b[0;32m     93\u001b[0m     study\u001b[38;5;241m.\u001b[39moptimize(\u001b[38;5;28;01mlambda\u001b[39;00m trial: _objective_cat(trial, x_train, y_train, x_val, y_val), n_trials\u001b[38;5;241m=\u001b[39mtrials, show_progress_bar\u001b[38;5;241m=\u001b[39m\u001b[38;5;28;01mTrue\u001b[39;00m)\n\u001b[0;32m     95\u001b[0m \u001b[38;5;28;01melif\u001b[39;00m model \u001b[38;5;241m==\u001b[39m \u001b[38;5;124m\"\u001b[39m\u001b[38;5;124mrandom_forest\u001b[39m\u001b[38;5;124m\"\u001b[39m:\n\u001b[1;32m---> 96\u001b[0m     study\u001b[38;5;241m.\u001b[39moptimize(\u001b[38;5;28;01mlambda\u001b[39;00m trial: \u001b[43m_objective_random_forest\u001b[49m\u001b[43m(\u001b[49m\u001b[43mtrial\u001b[49m\u001b[43m,\u001b[49m\u001b[43m \u001b[49m\u001b[43mx_train\u001b[49m\u001b[43m,\u001b[49m\u001b[43m \u001b[49m\u001b[43my_train\u001b[49m\u001b[43m,\u001b[49m\u001b[43m \u001b[49m\u001b[43mx_val\u001b[49m\u001b[43m,\u001b[49m\u001b[43m \u001b[49m\u001b[43my_val\u001b[49m\u001b[43m)\u001b[49m, n_trials\u001b[38;5;241m=\u001b[39mtrials, show_progress_bar\u001b[38;5;241m=\u001b[39m\u001b[38;5;28;01mTrue\u001b[39;00m)\n\u001b[0;32m     98\u001b[0m \u001b[38;5;28;01melif\u001b[39;00m model \u001b[38;5;241m==\u001b[39m \u001b[38;5;124m\"\u001b[39m\u001b[38;5;124mlr\u001b[39m\u001b[38;5;124m\"\u001b[39m:\n\u001b[0;32m     99\u001b[0m     study\u001b[38;5;241m.\u001b[39moptimize(\u001b[38;5;28;01mlambda\u001b[39;00m trial: _objective_lr(trial, x_train, y_train, x_val, y_val), n_trials\u001b[38;5;241m=\u001b[39mtrials, show_progress_bar\u001b[38;5;241m=\u001b[39m\u001b[38;5;28;01mTrue\u001b[39;00m)\n",
      "File \u001b[1;32mc:\\Users\\caior\\OneDrive\\Documentos\\GitHub\\xai-nui-classification\\notebooks\\Modeling\\binary_classfication_comparsion\\../../../src\\tuning.py:50\u001b[0m, in \u001b[0;36m_objective_random_forest\u001b[1;34m(trial, x_train, y_train, x_val, y_val)\u001b[0m\n\u001b[0;32m     41\u001b[0m \u001b[38;5;28;01mdef\u001b[39;00m \u001b[38;5;21m_objective_random_forest\u001b[39m(trial, x_train, y_train, x_val, y_val):\n\u001b[0;32m     42\u001b[0m     params \u001b[38;5;241m=\u001b[39m {\n\u001b[0;32m     43\u001b[0m         \u001b[38;5;124m\"\u001b[39m\u001b[38;5;124mn_estimators\u001b[39m\u001b[38;5;124m\"\u001b[39m: trial\u001b[38;5;241m.\u001b[39msuggest_int(\u001b[38;5;124m\"\u001b[39m\u001b[38;5;124mn_estimators\u001b[39m\u001b[38;5;124m\"\u001b[39m, \u001b[38;5;241m100\u001b[39m, \u001b[38;5;241m1000\u001b[39m),\n\u001b[0;32m     44\u001b[0m         \u001b[38;5;124m\"\u001b[39m\u001b[38;5;124mmax_depth\u001b[39m\u001b[38;5;124m\"\u001b[39m: trial\u001b[38;5;241m.\u001b[39msuggest_int(\u001b[38;5;124m\"\u001b[39m\u001b[38;5;124mmax_depth\u001b[39m\u001b[38;5;124m\"\u001b[39m, \u001b[38;5;241m2\u001b[39m, \u001b[38;5;241m8\u001b[39m),\n\u001b[1;32m   (...)\u001b[0m\n\u001b[0;32m     47\u001b[0m         \u001b[38;5;124m\"\u001b[39m\u001b[38;5;124mbootstrap\u001b[39m\u001b[38;5;124m\"\u001b[39m: trial\u001b[38;5;241m.\u001b[39msuggest_categorical(\u001b[38;5;124m\"\u001b[39m\u001b[38;5;124mbootstrap\u001b[39m\u001b[38;5;124m\"\u001b[39m, [\u001b[38;5;28;01mTrue\u001b[39;00m, \u001b[38;5;28;01mFalse\u001b[39;00m]),\n\u001b[0;32m     48\u001b[0m     }\n\u001b[1;32m---> 50\u001b[0m     rf_clf \u001b[38;5;241m=\u001b[39m \u001b[43mRandomForestClassifier\u001b[49m\u001b[43m(\u001b[49m\u001b[38;5;241;43m*\u001b[39;49m\u001b[38;5;241;43m*\u001b[39;49m\u001b[43mparams\u001b[49m\u001b[43m,\u001b[49m\u001b[43m \u001b[49m\u001b[43mrandom_state\u001b[49m\u001b[38;5;241;43m=\u001b[39;49m\u001b[38;5;241;43m42\u001b[39;49m\u001b[43m)\u001b[49m\u001b[38;5;241;43m.\u001b[39;49m\u001b[43mfit\u001b[49m\u001b[43m(\u001b[49m\u001b[43mx_train\u001b[49m\u001b[43m,\u001b[49m\u001b[43m \u001b[49m\u001b[43my_train\u001b[49m\u001b[43m)\u001b[49m\n\u001b[0;32m     51\u001b[0m     y_pred \u001b[38;5;241m=\u001b[39m rf_clf\u001b[38;5;241m.\u001b[39mpredict_proba(x_val)\n\u001b[0;32m     52\u001b[0m     roc_auc \u001b[38;5;241m=\u001b[39m roc_auc_score(y_val, y_pred[:,\u001b[38;5;241m1\u001b[39m])\n",
      "File \u001b[1;32mc:\\Users\\caior\\OneDrive\\Documentos\\GitHub\\xai-nui-classification\\venv\\Lib\\site-packages\\sklearn\\base.py:1152\u001b[0m, in \u001b[0;36m_fit_context.<locals>.decorator.<locals>.wrapper\u001b[1;34m(estimator, *args, **kwargs)\u001b[0m\n\u001b[0;32m   1145\u001b[0m     estimator\u001b[38;5;241m.\u001b[39m_validate_params()\n\u001b[0;32m   1147\u001b[0m \u001b[38;5;28;01mwith\u001b[39;00m config_context(\n\u001b[0;32m   1148\u001b[0m     skip_parameter_validation\u001b[38;5;241m=\u001b[39m(\n\u001b[0;32m   1149\u001b[0m         prefer_skip_nested_validation \u001b[38;5;129;01mor\u001b[39;00m global_skip_validation\n\u001b[0;32m   1150\u001b[0m     )\n\u001b[0;32m   1151\u001b[0m ):\n\u001b[1;32m-> 1152\u001b[0m     \u001b[38;5;28;01mreturn\u001b[39;00m \u001b[43mfit_method\u001b[49m\u001b[43m(\u001b[49m\u001b[43mestimator\u001b[49m\u001b[43m,\u001b[49m\u001b[43m \u001b[49m\u001b[38;5;241;43m*\u001b[39;49m\u001b[43margs\u001b[49m\u001b[43m,\u001b[49m\u001b[43m \u001b[49m\u001b[38;5;241;43m*\u001b[39;49m\u001b[38;5;241;43m*\u001b[39;49m\u001b[43mkwargs\u001b[49m\u001b[43m)\u001b[49m\n",
      "File \u001b[1;32mc:\\Users\\caior\\OneDrive\\Documentos\\GitHub\\xai-nui-classification\\venv\\Lib\\site-packages\\sklearn\\ensemble\\_forest.py:456\u001b[0m, in \u001b[0;36mBaseForest.fit\u001b[1;34m(self, X, y, sample_weight)\u001b[0m\n\u001b[0;32m    445\u001b[0m trees \u001b[38;5;241m=\u001b[39m [\n\u001b[0;32m    446\u001b[0m     \u001b[38;5;28mself\u001b[39m\u001b[38;5;241m.\u001b[39m_make_estimator(append\u001b[38;5;241m=\u001b[39m\u001b[38;5;28;01mFalse\u001b[39;00m, random_state\u001b[38;5;241m=\u001b[39mrandom_state)\n\u001b[0;32m    447\u001b[0m     \u001b[38;5;28;01mfor\u001b[39;00m i \u001b[38;5;129;01min\u001b[39;00m \u001b[38;5;28mrange\u001b[39m(n_more_estimators)\n\u001b[0;32m    448\u001b[0m ]\n\u001b[0;32m    450\u001b[0m \u001b[38;5;66;03m# Parallel loop: we prefer the threading backend as the Cython code\u001b[39;00m\n\u001b[0;32m    451\u001b[0m \u001b[38;5;66;03m# for fitting the trees is internally releasing the Python GIL\u001b[39;00m\n\u001b[0;32m    452\u001b[0m \u001b[38;5;66;03m# making threading more efficient than multiprocessing in\u001b[39;00m\n\u001b[0;32m    453\u001b[0m \u001b[38;5;66;03m# that case. However, for joblib 0.12+ we respect any\u001b[39;00m\n\u001b[0;32m    454\u001b[0m \u001b[38;5;66;03m# parallel_backend contexts set at a higher level,\u001b[39;00m\n\u001b[0;32m    455\u001b[0m \u001b[38;5;66;03m# since correctness does not rely on using threads.\u001b[39;00m\n\u001b[1;32m--> 456\u001b[0m trees \u001b[38;5;241m=\u001b[39m \u001b[43mParallel\u001b[49m\u001b[43m(\u001b[49m\n\u001b[0;32m    457\u001b[0m \u001b[43m    \u001b[49m\u001b[43mn_jobs\u001b[49m\u001b[38;5;241;43m=\u001b[39;49m\u001b[38;5;28;43mself\u001b[39;49m\u001b[38;5;241;43m.\u001b[39;49m\u001b[43mn_jobs\u001b[49m\u001b[43m,\u001b[49m\n\u001b[0;32m    458\u001b[0m \u001b[43m    \u001b[49m\u001b[43mverbose\u001b[49m\u001b[38;5;241;43m=\u001b[39;49m\u001b[38;5;28;43mself\u001b[39;49m\u001b[38;5;241;43m.\u001b[39;49m\u001b[43mverbose\u001b[49m\u001b[43m,\u001b[49m\n\u001b[0;32m    459\u001b[0m \u001b[43m    \u001b[49m\u001b[43mprefer\u001b[49m\u001b[38;5;241;43m=\u001b[39;49m\u001b[38;5;124;43m\"\u001b[39;49m\u001b[38;5;124;43mthreads\u001b[39;49m\u001b[38;5;124;43m\"\u001b[39;49m\u001b[43m,\u001b[49m\n\u001b[0;32m    460\u001b[0m \u001b[43m\u001b[49m\u001b[43m)\u001b[49m\u001b[43m(\u001b[49m\n\u001b[0;32m    461\u001b[0m \u001b[43m    \u001b[49m\u001b[43mdelayed\u001b[49m\u001b[43m(\u001b[49m\u001b[43m_parallel_build_trees\u001b[49m\u001b[43m)\u001b[49m\u001b[43m(\u001b[49m\n\u001b[0;32m    462\u001b[0m \u001b[43m        \u001b[49m\u001b[43mt\u001b[49m\u001b[43m,\u001b[49m\n\u001b[0;32m    463\u001b[0m \u001b[43m        \u001b[49m\u001b[38;5;28;43mself\u001b[39;49m\u001b[38;5;241;43m.\u001b[39;49m\u001b[43mbootstrap\u001b[49m\u001b[43m,\u001b[49m\n\u001b[0;32m    464\u001b[0m \u001b[43m        \u001b[49m\u001b[43mX\u001b[49m\u001b[43m,\u001b[49m\n\u001b[0;32m    465\u001b[0m \u001b[43m        \u001b[49m\u001b[43my\u001b[49m\u001b[43m,\u001b[49m\n\u001b[0;32m    466\u001b[0m \u001b[43m        \u001b[49m\u001b[43msample_weight\u001b[49m\u001b[43m,\u001b[49m\n\u001b[0;32m    467\u001b[0m \u001b[43m        \u001b[49m\u001b[43mi\u001b[49m\u001b[43m,\u001b[49m\n\u001b[0;32m    468\u001b[0m \u001b[43m        \u001b[49m\u001b[38;5;28;43mlen\u001b[39;49m\u001b[43m(\u001b[49m\u001b[43mtrees\u001b[49m\u001b[43m)\u001b[49m\u001b[43m,\u001b[49m\n\u001b[0;32m    469\u001b[0m \u001b[43m        \u001b[49m\u001b[43mverbose\u001b[49m\u001b[38;5;241;43m=\u001b[39;49m\u001b[38;5;28;43mself\u001b[39;49m\u001b[38;5;241;43m.\u001b[39;49m\u001b[43mverbose\u001b[49m\u001b[43m,\u001b[49m\n\u001b[0;32m    470\u001b[0m \u001b[43m        \u001b[49m\u001b[43mclass_weight\u001b[49m\u001b[38;5;241;43m=\u001b[39;49m\u001b[38;5;28;43mself\u001b[39;49m\u001b[38;5;241;43m.\u001b[39;49m\u001b[43mclass_weight\u001b[49m\u001b[43m,\u001b[49m\n\u001b[0;32m    471\u001b[0m \u001b[43m        \u001b[49m\u001b[43mn_samples_bootstrap\u001b[49m\u001b[38;5;241;43m=\u001b[39;49m\u001b[43mn_samples_bootstrap\u001b[49m\u001b[43m,\u001b[49m\n\u001b[0;32m    472\u001b[0m \u001b[43m    \u001b[49m\u001b[43m)\u001b[49m\n\u001b[0;32m    473\u001b[0m \u001b[43m    \u001b[49m\u001b[38;5;28;43;01mfor\u001b[39;49;00m\u001b[43m \u001b[49m\u001b[43mi\u001b[49m\u001b[43m,\u001b[49m\u001b[43m \u001b[49m\u001b[43mt\u001b[49m\u001b[43m \u001b[49m\u001b[38;5;129;43;01min\u001b[39;49;00m\u001b[43m \u001b[49m\u001b[38;5;28;43menumerate\u001b[39;49m\u001b[43m(\u001b[49m\u001b[43mtrees\u001b[49m\u001b[43m)\u001b[49m\n\u001b[0;32m    474\u001b[0m \u001b[43m\u001b[49m\u001b[43m)\u001b[49m\n\u001b[0;32m    476\u001b[0m \u001b[38;5;66;03m# Collect newly grown trees\u001b[39;00m\n\u001b[0;32m    477\u001b[0m \u001b[38;5;28mself\u001b[39m\u001b[38;5;241m.\u001b[39mestimators_\u001b[38;5;241m.\u001b[39mextend(trees)\n",
      "File \u001b[1;32mc:\\Users\\caior\\OneDrive\\Documentos\\GitHub\\xai-nui-classification\\venv\\Lib\\site-packages\\sklearn\\utils\\parallel.py:65\u001b[0m, in \u001b[0;36mParallel.__call__\u001b[1;34m(self, iterable)\u001b[0m\n\u001b[0;32m     60\u001b[0m config \u001b[38;5;241m=\u001b[39m get_config()\n\u001b[0;32m     61\u001b[0m iterable_with_config \u001b[38;5;241m=\u001b[39m (\n\u001b[0;32m     62\u001b[0m     (_with_config(delayed_func, config), args, kwargs)\n\u001b[0;32m     63\u001b[0m     \u001b[38;5;28;01mfor\u001b[39;00m delayed_func, args, kwargs \u001b[38;5;129;01min\u001b[39;00m iterable\n\u001b[0;32m     64\u001b[0m )\n\u001b[1;32m---> 65\u001b[0m \u001b[38;5;28;01mreturn\u001b[39;00m \u001b[38;5;28;43msuper\u001b[39;49m\u001b[43m(\u001b[49m\u001b[43m)\u001b[49m\u001b[38;5;241;43m.\u001b[39;49m\u001b[38;5;21;43m__call__\u001b[39;49m\u001b[43m(\u001b[49m\u001b[43miterable_with_config\u001b[49m\u001b[43m)\u001b[49m\n",
      "File \u001b[1;32mc:\\Users\\caior\\OneDrive\\Documentos\\GitHub\\xai-nui-classification\\venv\\Lib\\site-packages\\joblib\\parallel.py:1863\u001b[0m, in \u001b[0;36mParallel.__call__\u001b[1;34m(self, iterable)\u001b[0m\n\u001b[0;32m   1861\u001b[0m     output \u001b[38;5;241m=\u001b[39m \u001b[38;5;28mself\u001b[39m\u001b[38;5;241m.\u001b[39m_get_sequential_output(iterable)\n\u001b[0;32m   1862\u001b[0m     \u001b[38;5;28mnext\u001b[39m(output)\n\u001b[1;32m-> 1863\u001b[0m     \u001b[38;5;28;01mreturn\u001b[39;00m output \u001b[38;5;28;01mif\u001b[39;00m \u001b[38;5;28mself\u001b[39m\u001b[38;5;241m.\u001b[39mreturn_generator \u001b[38;5;28;01melse\u001b[39;00m \u001b[38;5;28;43mlist\u001b[39;49m\u001b[43m(\u001b[49m\u001b[43moutput\u001b[49m\u001b[43m)\u001b[49m\n\u001b[0;32m   1865\u001b[0m \u001b[38;5;66;03m# Let's create an ID that uniquely identifies the current call. If the\u001b[39;00m\n\u001b[0;32m   1866\u001b[0m \u001b[38;5;66;03m# call is interrupted early and that the same instance is immediately\u001b[39;00m\n\u001b[0;32m   1867\u001b[0m \u001b[38;5;66;03m# re-used, this id will be used to prevent workers that were\u001b[39;00m\n\u001b[0;32m   1868\u001b[0m \u001b[38;5;66;03m# concurrently finalizing a task from the previous call to run the\u001b[39;00m\n\u001b[0;32m   1869\u001b[0m \u001b[38;5;66;03m# callback.\u001b[39;00m\n\u001b[0;32m   1870\u001b[0m \u001b[38;5;28;01mwith\u001b[39;00m \u001b[38;5;28mself\u001b[39m\u001b[38;5;241m.\u001b[39m_lock:\n",
      "File \u001b[1;32mc:\\Users\\caior\\OneDrive\\Documentos\\GitHub\\xai-nui-classification\\venv\\Lib\\site-packages\\joblib\\parallel.py:1792\u001b[0m, in \u001b[0;36mParallel._get_sequential_output\u001b[1;34m(self, iterable)\u001b[0m\n\u001b[0;32m   1790\u001b[0m \u001b[38;5;28mself\u001b[39m\u001b[38;5;241m.\u001b[39mn_dispatched_batches \u001b[38;5;241m+\u001b[39m\u001b[38;5;241m=\u001b[39m \u001b[38;5;241m1\u001b[39m\n\u001b[0;32m   1791\u001b[0m \u001b[38;5;28mself\u001b[39m\u001b[38;5;241m.\u001b[39mn_dispatched_tasks \u001b[38;5;241m+\u001b[39m\u001b[38;5;241m=\u001b[39m \u001b[38;5;241m1\u001b[39m\n\u001b[1;32m-> 1792\u001b[0m res \u001b[38;5;241m=\u001b[39m \u001b[43mfunc\u001b[49m\u001b[43m(\u001b[49m\u001b[38;5;241;43m*\u001b[39;49m\u001b[43margs\u001b[49m\u001b[43m,\u001b[49m\u001b[43m \u001b[49m\u001b[38;5;241;43m*\u001b[39;49m\u001b[38;5;241;43m*\u001b[39;49m\u001b[43mkwargs\u001b[49m\u001b[43m)\u001b[49m\n\u001b[0;32m   1793\u001b[0m \u001b[38;5;28mself\u001b[39m\u001b[38;5;241m.\u001b[39mn_completed_tasks \u001b[38;5;241m+\u001b[39m\u001b[38;5;241m=\u001b[39m \u001b[38;5;241m1\u001b[39m\n\u001b[0;32m   1794\u001b[0m \u001b[38;5;28mself\u001b[39m\u001b[38;5;241m.\u001b[39mprint_progress()\n",
      "File \u001b[1;32mc:\\Users\\caior\\OneDrive\\Documentos\\GitHub\\xai-nui-classification\\venv\\Lib\\site-packages\\sklearn\\utils\\parallel.py:127\u001b[0m, in \u001b[0;36m_FuncWrapper.__call__\u001b[1;34m(self, *args, **kwargs)\u001b[0m\n\u001b[0;32m    125\u001b[0m     config \u001b[38;5;241m=\u001b[39m {}\n\u001b[0;32m    126\u001b[0m \u001b[38;5;28;01mwith\u001b[39;00m config_context(\u001b[38;5;241m*\u001b[39m\u001b[38;5;241m*\u001b[39mconfig):\n\u001b[1;32m--> 127\u001b[0m     \u001b[38;5;28;01mreturn\u001b[39;00m \u001b[38;5;28;43mself\u001b[39;49m\u001b[38;5;241;43m.\u001b[39;49m\u001b[43mfunction\u001b[49m\u001b[43m(\u001b[49m\u001b[38;5;241;43m*\u001b[39;49m\u001b[43margs\u001b[49m\u001b[43m,\u001b[49m\u001b[43m \u001b[49m\u001b[38;5;241;43m*\u001b[39;49m\u001b[38;5;241;43m*\u001b[39;49m\u001b[43mkwargs\u001b[49m\u001b[43m)\u001b[49m\n",
      "File \u001b[1;32mc:\\Users\\caior\\OneDrive\\Documentos\\GitHub\\xai-nui-classification\\venv\\Lib\\site-packages\\sklearn\\ensemble\\_forest.py:188\u001b[0m, in \u001b[0;36m_parallel_build_trees\u001b[1;34m(tree, bootstrap, X, y, sample_weight, tree_idx, n_trees, verbose, class_weight, n_samples_bootstrap)\u001b[0m\n\u001b[0;32m    185\u001b[0m     \u001b[38;5;28;01melif\u001b[39;00m class_weight \u001b[38;5;241m==\u001b[39m \u001b[38;5;124m\"\u001b[39m\u001b[38;5;124mbalanced_subsample\u001b[39m\u001b[38;5;124m\"\u001b[39m:\n\u001b[0;32m    186\u001b[0m         curr_sample_weight \u001b[38;5;241m*\u001b[39m\u001b[38;5;241m=\u001b[39m compute_sample_weight(\u001b[38;5;124m\"\u001b[39m\u001b[38;5;124mbalanced\u001b[39m\u001b[38;5;124m\"\u001b[39m, y, indices\u001b[38;5;241m=\u001b[39mindices)\n\u001b[1;32m--> 188\u001b[0m     \u001b[43mtree\u001b[49m\u001b[38;5;241;43m.\u001b[39;49m\u001b[43mfit\u001b[49m\u001b[43m(\u001b[49m\u001b[43mX\u001b[49m\u001b[43m,\u001b[49m\u001b[43m \u001b[49m\u001b[43my\u001b[49m\u001b[43m,\u001b[49m\u001b[43m \u001b[49m\u001b[43msample_weight\u001b[49m\u001b[38;5;241;43m=\u001b[39;49m\u001b[43mcurr_sample_weight\u001b[49m\u001b[43m,\u001b[49m\u001b[43m \u001b[49m\u001b[43mcheck_input\u001b[49m\u001b[38;5;241;43m=\u001b[39;49m\u001b[38;5;28;43;01mFalse\u001b[39;49;00m\u001b[43m)\u001b[49m\n\u001b[0;32m    189\u001b[0m \u001b[38;5;28;01melse\u001b[39;00m:\n\u001b[0;32m    190\u001b[0m     tree\u001b[38;5;241m.\u001b[39mfit(X, y, sample_weight\u001b[38;5;241m=\u001b[39msample_weight, check_input\u001b[38;5;241m=\u001b[39m\u001b[38;5;28;01mFalse\u001b[39;00m)\n",
      "File \u001b[1;32mc:\\Users\\caior\\OneDrive\\Documentos\\GitHub\\xai-nui-classification\\venv\\Lib\\site-packages\\sklearn\\base.py:1152\u001b[0m, in \u001b[0;36m_fit_context.<locals>.decorator.<locals>.wrapper\u001b[1;34m(estimator, *args, **kwargs)\u001b[0m\n\u001b[0;32m   1145\u001b[0m     estimator\u001b[38;5;241m.\u001b[39m_validate_params()\n\u001b[0;32m   1147\u001b[0m \u001b[38;5;28;01mwith\u001b[39;00m config_context(\n\u001b[0;32m   1148\u001b[0m     skip_parameter_validation\u001b[38;5;241m=\u001b[39m(\n\u001b[0;32m   1149\u001b[0m         prefer_skip_nested_validation \u001b[38;5;129;01mor\u001b[39;00m global_skip_validation\n\u001b[0;32m   1150\u001b[0m     )\n\u001b[0;32m   1151\u001b[0m ):\n\u001b[1;32m-> 1152\u001b[0m     \u001b[38;5;28;01mreturn\u001b[39;00m \u001b[43mfit_method\u001b[49m\u001b[43m(\u001b[49m\u001b[43mestimator\u001b[49m\u001b[43m,\u001b[49m\u001b[43m \u001b[49m\u001b[38;5;241;43m*\u001b[39;49m\u001b[43margs\u001b[49m\u001b[43m,\u001b[49m\u001b[43m \u001b[49m\u001b[38;5;241;43m*\u001b[39;49m\u001b[38;5;241;43m*\u001b[39;49m\u001b[43mkwargs\u001b[49m\u001b[43m)\u001b[49m\n",
      "File \u001b[1;32mc:\\Users\\caior\\OneDrive\\Documentos\\GitHub\\xai-nui-classification\\venv\\Lib\\site-packages\\sklearn\\tree\\_classes.py:959\u001b[0m, in \u001b[0;36mDecisionTreeClassifier.fit\u001b[1;34m(self, X, y, sample_weight, check_input)\u001b[0m\n\u001b[0;32m    928\u001b[0m \u001b[38;5;129m@_fit_context\u001b[39m(prefer_skip_nested_validation\u001b[38;5;241m=\u001b[39m\u001b[38;5;28;01mTrue\u001b[39;00m)\n\u001b[0;32m    929\u001b[0m \u001b[38;5;28;01mdef\u001b[39;00m \u001b[38;5;21mfit\u001b[39m(\u001b[38;5;28mself\u001b[39m, X, y, sample_weight\u001b[38;5;241m=\u001b[39m\u001b[38;5;28;01mNone\u001b[39;00m, check_input\u001b[38;5;241m=\u001b[39m\u001b[38;5;28;01mTrue\u001b[39;00m):\n\u001b[0;32m    930\u001b[0m \u001b[38;5;250m    \u001b[39m\u001b[38;5;124;03m\"\"\"Build a decision tree classifier from the training set (X, y).\u001b[39;00m\n\u001b[0;32m    931\u001b[0m \n\u001b[0;32m    932\u001b[0m \u001b[38;5;124;03m    Parameters\u001b[39;00m\n\u001b[1;32m   (...)\u001b[0m\n\u001b[0;32m    956\u001b[0m \u001b[38;5;124;03m        Fitted estimator.\u001b[39;00m\n\u001b[0;32m    957\u001b[0m \u001b[38;5;124;03m    \"\"\"\u001b[39;00m\n\u001b[1;32m--> 959\u001b[0m     \u001b[38;5;28;43msuper\u001b[39;49m\u001b[43m(\u001b[49m\u001b[43m)\u001b[49m\u001b[38;5;241;43m.\u001b[39;49m\u001b[43m_fit\u001b[49m\u001b[43m(\u001b[49m\n\u001b[0;32m    960\u001b[0m \u001b[43m        \u001b[49m\u001b[43mX\u001b[49m\u001b[43m,\u001b[49m\n\u001b[0;32m    961\u001b[0m \u001b[43m        \u001b[49m\u001b[43my\u001b[49m\u001b[43m,\u001b[49m\n\u001b[0;32m    962\u001b[0m \u001b[43m        \u001b[49m\u001b[43msample_weight\u001b[49m\u001b[38;5;241;43m=\u001b[39;49m\u001b[43msample_weight\u001b[49m\u001b[43m,\u001b[49m\n\u001b[0;32m    963\u001b[0m \u001b[43m        \u001b[49m\u001b[43mcheck_input\u001b[49m\u001b[38;5;241;43m=\u001b[39;49m\u001b[43mcheck_input\u001b[49m\u001b[43m,\u001b[49m\n\u001b[0;32m    964\u001b[0m \u001b[43m    \u001b[49m\u001b[43m)\u001b[49m\n\u001b[0;32m    965\u001b[0m     \u001b[38;5;28;01mreturn\u001b[39;00m \u001b[38;5;28mself\u001b[39m\n",
      "File \u001b[1;32mc:\\Users\\caior\\OneDrive\\Documentos\\GitHub\\xai-nui-classification\\venv\\Lib\\site-packages\\sklearn\\tree\\_classes.py:443\u001b[0m, in \u001b[0;36mBaseDecisionTree._fit\u001b[1;34m(self, X, y, sample_weight, check_input, missing_values_in_feature_mask)\u001b[0m\n\u001b[0;32m    432\u001b[0m \u001b[38;5;28;01melse\u001b[39;00m:\n\u001b[0;32m    433\u001b[0m     builder \u001b[38;5;241m=\u001b[39m BestFirstTreeBuilder(\n\u001b[0;32m    434\u001b[0m         splitter,\n\u001b[0;32m    435\u001b[0m         min_samples_split,\n\u001b[1;32m   (...)\u001b[0m\n\u001b[0;32m    440\u001b[0m         \u001b[38;5;28mself\u001b[39m\u001b[38;5;241m.\u001b[39mmin_impurity_decrease,\n\u001b[0;32m    441\u001b[0m     )\n\u001b[1;32m--> 443\u001b[0m \u001b[43mbuilder\u001b[49m\u001b[38;5;241;43m.\u001b[39;49m\u001b[43mbuild\u001b[49m\u001b[43m(\u001b[49m\u001b[38;5;28;43mself\u001b[39;49m\u001b[38;5;241;43m.\u001b[39;49m\u001b[43mtree_\u001b[49m\u001b[43m,\u001b[49m\u001b[43m \u001b[49m\u001b[43mX\u001b[49m\u001b[43m,\u001b[49m\u001b[43m \u001b[49m\u001b[43my\u001b[49m\u001b[43m,\u001b[49m\u001b[43m \u001b[49m\u001b[43msample_weight\u001b[49m\u001b[43m,\u001b[49m\u001b[43m \u001b[49m\u001b[43mmissing_values_in_feature_mask\u001b[49m\u001b[43m)\u001b[49m\n\u001b[0;32m    445\u001b[0m \u001b[38;5;28;01mif\u001b[39;00m \u001b[38;5;28mself\u001b[39m\u001b[38;5;241m.\u001b[39mn_outputs_ \u001b[38;5;241m==\u001b[39m \u001b[38;5;241m1\u001b[39m \u001b[38;5;129;01mand\u001b[39;00m is_classifier(\u001b[38;5;28mself\u001b[39m):\n\u001b[0;32m    446\u001b[0m     \u001b[38;5;28mself\u001b[39m\u001b[38;5;241m.\u001b[39mn_classes_ \u001b[38;5;241m=\u001b[39m \u001b[38;5;28mself\u001b[39m\u001b[38;5;241m.\u001b[39mn_classes_[\u001b[38;5;241m0\u001b[39m]\n",
      "\u001b[1;31mKeyboardInterrupt\u001b[0m: "
     ]
    }
   ],
   "source": [
    "\n",
    "scores = []\n",
    "for i in range(0, len(dataset)):\n",
    "    x_train, y_train, x_val, y_val, x_test, y_test = dataset[i][0], dataset[i][1], dataset[i][2], dataset[i][3], dataset[i][4], dataset[i][5]\n",
    "    best_params = find_best_model(\"random_forest\", x_train, y_train, x_val, y_val, trials=5)\n",
    "    rf_clf = RandomForestClassifier(**best_params.params, random_state=42, verbose=False)\n",
    "    rf_clf.fit(x_train, y_train)\n",
    "    y_pred = rf_clf.predict_proba(x_test)\n",
    "    scores.append(roc_auc_score(y_test, y_pred[:,1]))\n",
    "mean =  np.mean(np.array(scores))\n",
    "print(scores)\n",
    "print(mean)"
   ]
  },
  {
   "cell_type": "markdown",
   "metadata": {},
   "source": [
    "## 5. Logistic Regression"
   ]
  },
  {
   "cell_type": "code",
   "execution_count": 17,
   "metadata": {},
   "outputs": [
    {
     "name": "stderr",
     "output_type": "stream",
     "text": [
      "c:\\Users\\caior\\OneDrive\\Documentos\\GitHub\\xai-nui-classification\\venv\\Lib\\site-packages\\sklearn\\linear_model\\_sag.py:350: ConvergenceWarning: The max_iter was reached which means the coef_ did not converge\n",
      "  warnings.warn(\n",
      "c:\\Users\\caior\\OneDrive\\Documentos\\GitHub\\xai-nui-classification\\venv\\Lib\\site-packages\\sklearn\\linear_model\\_sag.py:350: ConvergenceWarning: The max_iter was reached which means the coef_ did not converge\n",
      "  warnings.warn(\n",
      "c:\\Users\\caior\\OneDrive\\Documentos\\GitHub\\xai-nui-classification\\venv\\Lib\\site-packages\\sklearn\\linear_model\\_sag.py:350: ConvergenceWarning: The max_iter was reached which means the coef_ did not converge\n",
      "  warnings.warn(\n",
      "c:\\Users\\caior\\OneDrive\\Documentos\\GitHub\\xai-nui-classification\\venv\\Lib\\site-packages\\sklearn\\linear_model\\_sag.py:350: ConvergenceWarning: The max_iter was reached which means the coef_ did not converge\n",
      "  warnings.warn(\n",
      "c:\\Users\\caior\\OneDrive\\Documentos\\GitHub\\xai-nui-classification\\venv\\Lib\\site-packages\\sklearn\\linear_model\\_sag.py:350: ConvergenceWarning: The max_iter was reached which means the coef_ did not converge\n",
      "  warnings.warn(\n"
     ]
    },
    {
     "name": "stdout",
     "output_type": "stream",
     "text": [
      "[0.63691483025621, 0.6219127525835161, 0.4746259835525888, 0.5993430897283265, 0.7113281637915438]\n",
      "0.608824963982437\n"
     ]
    }
   ],
   "source": [
    "scores = []\n",
    "for i in range(0, len(dataset)):\n",
    "    x_train, y_train, x_val, y_val, x_test, y_test = dataset[i][0], dataset[i][1], dataset[i][2], dataset[i][3], dataset[i][4], dataset[i][5]\n",
    "    best_params = find_best_model(\"random_forest\", x_train, y_train, x_val, y_val, trials=5)\n",
    "    lr_clf = LogisticRegression(**best_params, random_state=42, verbose=False)\n",
    "    lr_clf.fit(x_train, y_train)\n",
    "    y_pred = lr_clf.predict_proba(x_test)\n",
    "    scores.append(roc_auc_score(y_test, y_pred[:,1]))\n",
    "mean =  np.mean(np.array(scores))\n",
    "print(scores)\n",
    "print(mean)"
   ]
  },
  {
   "cell_type": "markdown",
   "metadata": {},
   "source": [
    "## 6. MLP"
   ]
  },
  {
   "cell_type": "code",
   "execution_count": null,
   "metadata": {},
   "outputs": [],
   "source": [
    "scores = []\n",
    "for i in range(0, len(dataset)):\n",
    "    x_train, y_train, x_val, y_val, x_test, y_test = dataset[i][0], dataset[i][1], dataset[i][2], dataset[i][3], dataset[i][4], dataset[i][5]\n",
    "    best_params = find_best_model(\"mlp\", x_train, y_train, x_val, y_val, trials=5)\n",
    "    lr_clf = MLPClassifier(**best_params, random_state=42, verbose=False)\n",
    "    lr_clf.fit(x_train, y_train)\n",
    "    y_pred = lr_clf.predict_proba(x_test)\n",
    "    scores.append(roc_auc_score(y_test, y_pred[:,1]))\n",
    "mean =  np.mean(np.array(scores))\n",
    "print(scores)\n",
    "print(mean)"
   ]
  }
 ],
 "metadata": {
  "kernelspec": {
   "display_name": "venv",
   "language": "python",
   "name": "python3"
  },
  "language_info": {
   "codemirror_mode": {
    "name": "ipython",
    "version": 3
   },
   "file_extension": ".py",
   "mimetype": "text/x-python",
   "name": "python",
   "nbconvert_exporter": "python",
   "pygments_lexer": "ipython3",
   "version": "3.12.0"
  }
 },
 "nbformat": 4,
 "nbformat_minor": 2
}
