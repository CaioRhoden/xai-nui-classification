{
 "cells": [
  {
   "cell_type": "markdown",
   "metadata": {},
   "source": [
    "# Logistic Regression Evaluation"
   ]
  },
  {
   "cell_type": "markdown",
   "metadata": {},
   "source": [
    "## 1. Generate Random Data"
   ]
  },
  {
   "cell_type": "code",
   "execution_count": 1,
   "metadata": {},
   "outputs": [],
   "source": [
    "import sys\n",
    "sys.path.append('../../src')\n",
    "\n",
    "import pandas as pd\n",
    "import numpy as np\n",
    "import random\n",
    "from random_data_generator import random_data_generator\n",
    "\n",
    "#tunning\n",
    "from tuning import find_best_model\n",
    "\n",
    "#models\n",
    "from xgboost import XGBClassifier\n",
    "from catboost import CatBoostClassifier, Pool\n",
    "from sklearn.linear_model import LogisticRegression\n",
    "from sklearn.ensemble import RandomForestClassifier\n",
    "from sklearn.neural_network import MLPClassifier\n",
    "\n",
    "#metrics\n",
    "from sklearn.metrics import roc_auc_score\n",
    "\n",
    "random.seed(42)"
   ]
  },
  {
   "cell_type": "code",
   "execution_count": 2,
   "metadata": {},
   "outputs": [],
   "source": [
    "dataset = random_data_generator(\"binary\", 5)\n"
   ]
  },
  {
   "cell_type": "markdown",
   "metadata": {},
   "source": [
    "## 2. Logistic Regression"
   ]
  },
  {
   "cell_type": "code",
   "execution_count": 3,
   "metadata": {},
   "outputs": [
    {
     "name": "stderr",
     "output_type": "stream",
     "text": [
      "[I 2024-03-15 02:17:12,714] A new study created in memory with name: no-name-9f4c6fb9-0324-4286-9f4d-c11c6dcb5640\n"
     ]
    },
    {
     "data": {
      "application/vnd.jupyter.widget-view+json": {
       "model_id": "9be85fd166cf4d4fa66dd132c78a773c",
       "version_major": 2,
       "version_minor": 0
      },
      "text/plain": [
       "  0%|          | 0/25 [00:00<?, ?it/s]"
      ]
     },
     "metadata": {},
     "output_type": "display_data"
    },
    {
     "name": "stdout",
     "output_type": "stream",
     "text": [
      "[I 2024-03-15 02:17:18,245] Trial 0 finished with value: 0.6354607341723156 and parameters: {'solver': 'liblinear', 'max_iter': 193, 'C': 0.04747340910595557, 'tol': 0.009384952462852633}. Best is trial 0 with value: 0.6354607341723156.\n",
      "[I 2024-03-15 02:17:38,600] Trial 1 finished with value: 0.6628573143841852 and parameters: {'solver': 'newton-cg', 'max_iter': 185, 'C': 2.6210607899616716, 'tol': 0.009717025330840548}. Best is trial 1 with value: 0.6628573143841852.\n",
      "[I 2024-03-15 02:18:37,544] Trial 2 finished with value: 0.6787100523115064 and parameters: {'solver': 'sag', 'max_iter': 844, 'C': 5.6289367442217415, 'tol': 0.004733203224143182}. Best is trial 2 with value: 0.6787100523115064.\n",
      "[I 2024-03-15 02:18:48,982] Trial 3 finished with value: 0.6025273129822275 and parameters: {'solver': 'liblinear', 'max_iter': 697, 'C': 7.095729372888599, 'tol': 0.0035897667236149664}. Best is trial 2 with value: 0.6787100523115064.\n",
      "[I 2024-03-15 02:19:20,221] Trial 4 finished with value: 0.6685018281849515 and parameters: {'solver': 'newton-cg', 'max_iter': 101, 'C': 1.2136945151315064, 'tol': 0.008248739128260999}. Best is trial 2 with value: 0.6787100523115064.\n"
     ]
    },
    {
     "name": "stderr",
     "output_type": "stream",
     "text": [
      "/usr/local/lib/python3.11/dist-packages/sklearn/linear_model/_sag.py:350: ConvergenceWarning: The max_iter was reached which means the coef_ did not converge\n",
      "  warnings.warn(\n"
     ]
    },
    {
     "name": "stdout",
     "output_type": "stream",
     "text": [
      "[I 2024-03-15 02:20:22,981] Trial 5 finished with value: 0.679169684162952 and parameters: {'solver': 'sag', 'max_iter': 126, 'C': 4.785994498339751, 'tol': 0.0006770109962191562}. Best is trial 5 with value: 0.679169684162952.\n",
      "[I 2024-03-15 02:22:36,304] Trial 6 finished with value: 0.6863009394919581 and parameters: {'solver': 'sag', 'max_iter': 680, 'C': 4.03694653941876, 'tol': 0.0017533884336846958}. Best is trial 6 with value: 0.6863009394919581.\n",
      "[I 2024-03-15 02:23:36,186] Trial 7 finished with value: 0.6782253600191153 and parameters: {'solver': 'sag', 'max_iter': 818, 'C': 2.3396798918792445, 'tol': 0.005095193993368376}. Best is trial 6 with value: 0.6863009394919581.\n",
      "[I 2024-03-15 02:23:41,747] Trial 8 finished with value: 0.6708691841150487 and parameters: {'solver': 'saga', 'max_iter': 856, 'C': 8.033529149474568, 'tol': 0.008259391036700774}. Best is trial 6 with value: 0.6863009394919581.\n",
      "[I 2024-03-15 02:24:44,231] Trial 9 finished with value: 0.679169684162952 and parameters: {'solver': 'sag', 'max_iter': 340, 'C': 9.816137808819335, 'tol': 0.004417650266777759}. Best is trial 6 with value: 0.6863009394919581.\n"
     ]
    },
    {
     "name": "stderr",
     "output_type": "stream",
     "text": [
      "/usr/local/lib/python3.11/dist-packages/sklearn/linear_model/_logistic.py:469: ConvergenceWarning: lbfgs failed to converge (status=1):\n",
      "STOP: TOTAL NO. of ITERATIONS REACHED LIMIT.\n",
      "\n",
      "Increase the number of iterations (max_iter) or scale the data as shown in:\n",
      "    https://scikit-learn.org/stable/modules/preprocessing.html\n",
      "Please also refer to the documentation for alternative solver options:\n",
      "    https://scikit-learn.org/stable/modules/linear_model.html#logistic-regression\n",
      "  n_iter_i = _check_optimize_result(\n"
     ]
    },
    {
     "name": "stdout",
     "output_type": "stream",
     "text": [
      "[I 2024-03-15 02:25:19,937] Trial 10 finished with value: 0.5970979237125182 and parameters: {'solver': 'lbfgs', 'max_iter': 562, 'C': 3.6832266749465723, 'tol': 0.0002727237030672224}. Best is trial 6 with value: 0.6863009394919581.\n"
     ]
    },
    {
     "name": "stderr",
     "output_type": "stream",
     "text": [
      "/usr/local/lib/python3.11/dist-packages/sklearn/linear_model/_sag.py:350: ConvergenceWarning: The max_iter was reached which means the coef_ did not converge\n",
      "  warnings.warn(\n"
     ]
    },
    {
     "name": "stdout",
     "output_type": "stream",
     "text": [
      "[I 2024-03-15 02:29:04,360] Trial 11 finished with value: 0.6867036198469637 and parameters: {'solver': 'sag', 'max_iter': 454, 'C': 4.938236664366346, 'tol': 0.0009036341456253264}. Best is trial 11 with value: 0.6867036198469637.\n",
      "[I 2024-03-15 02:31:02,510] Trial 12 finished with value: 0.6853245302562552 and parameters: {'solver': 'sag', 'max_iter': 435, 'C': 5.392245851918867, 'tol': 0.002069846762368132}. Best is trial 11 with value: 0.6867036198469637.\n",
      "[I 2024-03-15 02:33:11,210] Trial 13 finished with value: 0.6783345516194702 and parameters: {'solver': 'saga', 'max_iter': 607, 'C': 3.7240063212334187, 'tol': 0.0025189631291669366}. Best is trial 11 with value: 0.6867036198469637.\n"
     ]
    },
    {
     "name": "stderr",
     "output_type": "stream",
     "text": [
      "/usr/local/lib/python3.11/dist-packages/sklearn/linear_model/_logistic.py:469: ConvergenceWarning: lbfgs failed to converge (status=1):\n",
      "STOP: TOTAL NO. of ITERATIONS REACHED LIMIT.\n",
      "\n",
      "Increase the number of iterations (max_iter) or scale the data as shown in:\n",
      "    https://scikit-learn.org/stable/modules/preprocessing.html\n",
      "Please also refer to the documentation for alternative solver options:\n",
      "    https://scikit-learn.org/stable/modules/linear_model.html#logistic-regression\n",
      "  n_iter_i = _check_optimize_result(\n"
     ]
    },
    {
     "name": "stdout",
     "output_type": "stream",
     "text": [
      "[I 2024-03-15 02:33:35,577] Trial 14 finished with value: 0.5971896764457539 and parameters: {'solver': 'lbfgs', 'max_iter': 376, 'C': 6.71912144498865, 'tol': 0.0016972168822035384}. Best is trial 11 with value: 0.6867036198469637.\n",
      "[I 2024-03-15 02:34:25,771] Trial 15 finished with value: 0.6771894666144816 and parameters: {'solver': 'sag', 'max_iter': 984, 'C': 3.8709395897984358, 'tol': 0.0063580228313214705}. Best is trial 11 with value: 0.6867036198469637.\n",
      "[I 2024-03-15 02:35:46,782] Trial 16 finished with value: 0.6816874056529106 and parameters: {'solver': 'sag', 'max_iter': 467, 'C': 6.474127057051444, 'tol': 0.003164215315826239}. Best is trial 11 with value: 0.6867036198469637.\n",
      "[I 2024-03-15 02:39:58,685] Trial 17 finished with value: 0.6863844051236124 and parameters: {'solver': 'sag', 'max_iter': 734, 'C': 8.497997728632967, 'tol': 0.0010865358665810047}. Best is trial 11 with value: 0.6867036198469637.\n"
     ]
    },
    {
     "name": "stderr",
     "output_type": "stream",
     "text": [
      "/usr/local/lib/python3.11/dist-packages/sklearn/linear_model/_logistic.py:469: ConvergenceWarning: lbfgs failed to converge (status=1):\n",
      "STOP: TOTAL NO. of ITERATIONS REACHED LIMIT.\n",
      "\n",
      "Increase the number of iterations (max_iter) or scale the data as shown in:\n",
      "    https://scikit-learn.org/stable/modules/preprocessing.html\n",
      "Please also refer to the documentation for alternative solver options:\n",
      "    https://scikit-learn.org/stable/modules/linear_model.html#logistic-regression\n",
      "  n_iter_i = _check_optimize_result(\n"
     ]
    },
    {
     "name": "stdout",
     "output_type": "stream",
     "text": [
      "[I 2024-03-15 02:40:38,836] Trial 18 finished with value: 0.6036511004919254 and parameters: {'solver': 'lbfgs', 'max_iter': 712, 'C': 9.970700671202533, 'tol': 1.9678813095883128e-05}. Best is trial 11 with value: 0.6867036198469637.\n",
      "[I 2024-03-15 02:40:58,306] Trial 19 finished with value: 0.6069822494079855 and parameters: {'solver': 'liblinear', 'max_iter': 298, 'C': 8.67921132067093, 'tol': 0.0010635599680168006}. Best is trial 11 with value: 0.6867036198469637.\n",
      "[I 2024-03-15 02:41:11,702] Trial 20 finished with value: 0.6728169867826757 and parameters: {'solver': 'saga', 'max_iter': 487, 'C': 8.2688030131025, 'tol': 0.006159342982551353}. Best is trial 11 with value: 0.6867036198469637.\n",
      "[I 2024-03-15 02:43:45,897] Trial 21 finished with value: 0.6869965823477752 and parameters: {'solver': 'sag', 'max_iter': 647, 'C': 4.750084225525827, 'tol': 0.001493664019358866}. Best is trial 21 with value: 0.6869965823477752.\n",
      "[I 2024-03-15 02:47:09,450] Trial 22 finished with value: 0.6870948597057875 and parameters: {'solver': 'sag', 'max_iter': 765, 'C': 5.8930979484526205, 'tol': 0.0012283549364301596}. Best is trial 22 with value: 0.6870948597057875.\n",
      "[I 2024-03-15 02:48:38,732] Trial 23 finished with value: 0.6827067182974574 and parameters: {'solver': 'sag', 'max_iter': 615, 'C': 4.812618262596188, 'tol': 0.002823372579983982}. Best is trial 22 with value: 0.6870948597057875.\n",
      "[I 2024-03-15 02:49:51,044] Trial 24 finished with value: 0.6805030762453503 and parameters: {'solver': 'sag', 'max_iter': 984, 'C': 6.135694808191447, 'tol': 0.003646021444828132}. Best is trial 22 with value: 0.6870948597057875.\n"
     ]
    },
    {
     "name": "stderr",
     "output_type": "stream",
     "text": [
      "[I 2024-03-15 02:53:15,620] A new study created in memory with name: no-name-08c57fb6-1aa6-4983-bedf-8bbeaabce082\n"
     ]
    },
    {
     "data": {
      "application/vnd.jupyter.widget-view+json": {
       "model_id": "0b5ef56c666b4140b9721387a6b41a0c",
       "version_major": 2,
       "version_minor": 0
      },
      "text/plain": [
       "  0%|          | 0/25 [00:00<?, ?it/s]"
      ]
     },
     "metadata": {},
     "output_type": "display_data"
    },
    {
     "name": "stdout",
     "output_type": "stream",
     "text": [
      "[I 2024-03-15 02:56:13,999] Trial 0 finished with value: 0.572645663883089 and parameters: {'solver': 'saga', 'max_iter': 705, 'C': 8.899156604676122, 'tol': 0.0031051727030816404}. Best is trial 0 with value: 0.572645663883089.\n",
      "[I 2024-03-15 02:58:14,243] Trial 1 finished with value: 0.5786239461845473 and parameters: {'solver': 'sag', 'max_iter': 758, 'C': 6.5672910118719825, 'tol': 0.003371852735138687}. Best is trial 1 with value: 0.5786239461845473.\n"
     ]
    },
    {
     "name": "stderr",
     "output_type": "stream",
     "text": [
      "/usr/local/lib/python3.11/dist-packages/sklearn/linear_model/_sag.py:350: ConvergenceWarning: The max_iter was reached which means the coef_ did not converge\n",
      "  warnings.warn(\n"
     ]
    },
    {
     "name": "stdout",
     "output_type": "stream",
     "text": [
      "[I 2024-03-15 03:02:57,042] Trial 2 finished with value: 0.5787037879400151 and parameters: {'solver': 'saga', 'max_iter': 272, 'C': 2.787358878338978, 'tol': 0.0015227288321071684}. Best is trial 2 with value: 0.5787037879400151.\n",
      "[I 2024-03-15 03:05:26,975] Trial 3 finished with value: 0.5709224005713961 and parameters: {'solver': 'saga', 'max_iter': 391, 'C': 8.217187756108668, 'tol': 0.0040082071703522095}. Best is trial 2 with value: 0.5787037879400151.\n"
     ]
    },
    {
     "name": "stderr",
     "output_type": "stream",
     "text": [
      "/usr/local/lib/python3.11/dist-packages/sklearn/linear_model/_logistic.py:469: ConvergenceWarning: lbfgs failed to converge (status=1):\n",
      "STOP: TOTAL NO. of ITERATIONS REACHED LIMIT.\n",
      "\n",
      "Increase the number of iterations (max_iter) or scale the data as shown in:\n",
      "    https://scikit-learn.org/stable/modules/preprocessing.html\n",
      "Please also refer to the documentation for alternative solver options:\n",
      "    https://scikit-learn.org/stable/modules/linear_model.html#logistic-regression\n",
      "  n_iter_i = _check_optimize_result(\n"
     ]
    },
    {
     "name": "stdout",
     "output_type": "stream",
     "text": [
      "[I 2024-03-15 03:06:07,864] Trial 4 finished with value: 0.5212568587358581 and parameters: {'solver': 'lbfgs', 'max_iter': 374, 'C': 2.1584662071341763, 'tol': 0.003351325460188405}. Best is trial 2 with value: 0.5787037879400151.\n"
     ]
    },
    {
     "name": "stderr",
     "output_type": "stream",
     "text": [
      "/usr/local/lib/python3.11/dist-packages/sklearn/linear_model/_logistic.py:469: ConvergenceWarning: lbfgs failed to converge (status=1):\n",
      "STOP: TOTAL NO. of ITERATIONS REACHED LIMIT.\n",
      "\n",
      "Increase the number of iterations (max_iter) or scale the data as shown in:\n",
      "    https://scikit-learn.org/stable/modules/preprocessing.html\n",
      "Please also refer to the documentation for alternative solver options:\n",
      "    https://scikit-learn.org/stable/modules/linear_model.html#logistic-regression\n",
      "  n_iter_i = _check_optimize_result(\n"
     ]
    },
    {
     "name": "stdout",
     "output_type": "stream",
     "text": [
      "[I 2024-03-15 03:07:46,269] Trial 5 finished with value: 0.506938669265193 and parameters: {'solver': 'lbfgs', 'max_iter': 945, 'C': 7.830509751896973, 'tol': 0.0068540711368689595}. Best is trial 2 with value: 0.5787037879400151.\n"
     ]
    },
    {
     "name": "stderr",
     "output_type": "stream",
     "text": [
      "/usr/local/lib/python3.11/dist-packages/sklearn/linear_model/_sag.py:350: ConvergenceWarning: The max_iter was reached which means the coef_ did not converge\n",
      "  warnings.warn(\n"
     ]
    },
    {
     "name": "stdout",
     "output_type": "stream",
     "text": [
      "[I 2024-03-15 03:15:21,757] Trial 6 finished with value: 0.5816013814195986 and parameters: {'solver': 'saga', 'max_iter': 437, 'C': 2.6746277919493675, 'tol': 8.874284319906565e-05}. Best is trial 6 with value: 0.5816013814195986.\n"
     ]
    },
    {
     "name": "stderr",
     "output_type": "stream",
     "text": [
      "/usr/local/lib/python3.11/dist-packages/sklearn/linear_model/_logistic.py:469: ConvergenceWarning: lbfgs failed to converge (status=1):\n",
      "STOP: TOTAL NO. of ITERATIONS REACHED LIMIT.\n",
      "\n",
      "Increase the number of iterations (max_iter) or scale the data as shown in:\n",
      "    https://scikit-learn.org/stable/modules/preprocessing.html\n",
      "Please also refer to the documentation for alternative solver options:\n",
      "    https://scikit-learn.org/stable/modules/linear_model.html#logistic-regression\n",
      "  n_iter_i = _check_optimize_result(\n"
     ]
    },
    {
     "name": "stdout",
     "output_type": "stream",
     "text": [
      "[I 2024-03-15 03:16:30,129] Trial 7 finished with value: 0.5037789679630692 and parameters: {'solver': 'lbfgs', 'max_iter': 642, 'C': 4.94380562526942, 'tol': 0.006534430007808602}. Best is trial 6 with value: 0.5816013814195986.\n",
      "[I 2024-03-15 03:17:34,014] Trial 8 finished with value: 0.570720536750836 and parameters: {'solver': 'sag', 'max_iter': 232, 'C': 5.513812971518724, 'tol': 0.008239902883837816}. Best is trial 6 with value: 0.5816013814195986.\n",
      "[I 2024-03-15 03:22:10,485] Trial 9 finished with value: 0.5827856648505768 and parameters: {'solver': 'sag', 'max_iter': 734, 'C': 8.68635168858635, 'tol': 0.000857791203466649}. Best is trial 9 with value: 0.5827856648505768.\n",
      "[I 2024-03-15 03:28:33,397] Trial 10 finished with value: 0.517342279768738 and parameters: {'solver': 'newton-cg', 'max_iter': 997, 'C': 9.77515342951547, 'tol': 0.0001461148324224563}. Best is trial 9 with value: 0.5827856648505768.\n",
      "[I 2024-03-15 03:36:06,731] Trial 11 finished with value: 0.5199610662146366 and parameters: {'solver': 'liblinear', 'max_iter': 548, 'C': 0.41484808827785713, 'tol': 9.497296977029068e-05}. Best is trial 9 with value: 0.5827856648505768.\n",
      "[I 2024-03-15 03:39:18,579] Trial 12 finished with value: 0.5815010714657327 and parameters: {'solver': 'sag', 'max_iter': 510, 'C': 3.654023840927546, 'tol': 0.0016384389160071884}. Best is trial 9 with value: 0.5827856648505768.\n",
      "[I 2024-03-15 03:39:36,970] Trial 13 finished with value: 0.5322276062485594 and parameters: {'solver': 'liblinear', 'max_iter': 821, 'C': 0.36676182382362565, 'tol': 0.001622315865099808}. Best is trial 9 with value: 0.5827856648505768.\n",
      "[I 2024-03-15 03:40:46,467] Trial 14 finished with value: 0.5170889891218402 and parameters: {'solver': 'newton-cg', 'max_iter': 439, 'C': 4.258819645893227, 'tol': 0.005068336642093483}. Best is trial 9 with value: 0.5827856648505768.\n"
     ]
    },
    {
     "name": "stderr",
     "output_type": "stream",
     "text": [
      "/usr/local/lib/python3.11/dist-packages/sklearn/linear_model/_sag.py:350: ConvergenceWarning: The max_iter was reached which means the coef_ did not converge\n",
      "  warnings.warn(\n"
     ]
    },
    {
     "name": "stdout",
     "output_type": "stream",
     "text": [
      "[I 2024-03-15 03:42:43,387] Trial 15 finished with value: 0.5784311583205491 and parameters: {'solver': 'sag', 'max_iter': 130, 'C': 6.549433251565291, 'tol': 0.001018251601840301}. Best is trial 9 with value: 0.5827856648505768.\n",
      "[I 2024-03-15 03:44:54,128] Trial 16 finished with value: 0.5673556408040461 and parameters: {'solver': 'saga', 'max_iter': 612, 'C': 1.9799544699252531, 'tol': 0.004920665622647992}. Best is trial 9 with value: 0.5827856648505768.\n",
      "[I 2024-03-15 03:45:53,290] Trial 17 finished with value: 0.5682709440146596 and parameters: {'solver': 'sag', 'max_iter': 851, 'C': 6.862380791759424, 'tol': 0.009469479385429518}. Best is trial 9 with value: 0.5827856648505768.\n",
      "[I 2024-03-15 03:49:30,199] Trial 18 finished with value: 0.5759384393520693 and parameters: {'solver': 'saga', 'max_iter': 494, 'C': 1.444630161463432, 'tol': 0.0023510019010447884}. Best is trial 9 with value: 0.5827856648505768.\n",
      "[I 2024-03-15 03:52:13,301] Trial 19 finished with value: 0.5218784250181551 and parameters: {'solver': 'liblinear', 'max_iter': 641, 'C': 3.19345029385896, 'tol': 0.00045584036139624876}. Best is trial 9 with value: 0.5827856648505768.\n",
      "[I 2024-03-15 03:53:37,634] Trial 20 finished with value: 0.5189297115244602 and parameters: {'solver': 'newton-cg', 'max_iter': 312, 'C': 9.87071602799999, 'tol': 0.002501609847304832}. Best is trial 9 with value: 0.5827856648505768.\n",
      "[I 2024-03-15 03:57:04,900] Trial 21 finished with value: 0.5817369159656506 and parameters: {'solver': 'sag', 'max_iter': 542, 'C': 3.7881393127919147, 'tol': 0.001431696940147888}. Best is trial 9 with value: 0.5827856648505768.\n",
      "[I 2024-03-15 04:01:26,513] Trial 22 finished with value: 0.5827266647614249 and parameters: {'solver': 'sag', 'max_iter': 715, 'C': 4.362097354086092, 'tol': 0.0009256148090866277}. Best is trial 9 with value: 0.5827856648505768.\n",
      "[I 2024-03-15 04:05:31,789] Trial 23 finished with value: 0.5824234342982447 and parameters: {'solver': 'sag', 'max_iter': 713, 'C': 5.3103232708529156, 'tol': 0.0010854426814964787}. Best is trial 9 with value: 0.5827856648505768.\n",
      "[I 2024-03-15 04:07:55,176] Trial 24 finished with value: 0.5798972355483232 and parameters: {'solver': 'sag', 'max_iter': 744, 'C': 5.171563978560741, 'tol': 0.002582275166970352}. Best is trial 9 with value: 0.5827856648505768.\n"
     ]
    },
    {
     "name": "stderr",
     "output_type": "stream",
     "text": [
      "[I 2024-03-15 04:12:30,159] A new study created in memory with name: no-name-868a19bf-9409-4a67-83a9-2410f80ed211\n"
     ]
    },
    {
     "data": {
      "application/vnd.jupyter.widget-view+json": {
       "model_id": "e0e9da535b9446dcbc8e9cb6246e620b",
       "version_major": 2,
       "version_minor": 0
      },
      "text/plain": [
       "  0%|          | 0/25 [00:00<?, ?it/s]"
      ]
     },
     "metadata": {},
     "output_type": "display_data"
    },
    {
     "name": "stderr",
     "output_type": "stream",
     "text": [
      "/usr/local/lib/python3.11/dist-packages/sklearn/linear_model/_sag.py:350: ConvergenceWarning: The max_iter was reached which means the coef_ did not converge\n",
      "  warnings.warn(\n"
     ]
    },
    {
     "name": "stdout",
     "output_type": "stream",
     "text": [
      "[I 2024-03-15 04:19:50,978] Trial 0 finished with value: 0.6935304010940508 and parameters: {'solver': 'saga', 'max_iter': 743, 'C': 4.962438157443529, 'tol': 0.0007901453934133398}. Best is trial 0 with value: 0.6935304010940508.\n"
     ]
    },
    {
     "name": "stderr",
     "output_type": "stream",
     "text": [
      "/usr/local/lib/python3.11/dist-packages/sklearn/linear_model/_logistic.py:469: ConvergenceWarning: lbfgs failed to converge (status=1):\n",
      "STOP: TOTAL NO. of ITERATIONS REACHED LIMIT.\n",
      "\n",
      "Increase the number of iterations (max_iter) or scale the data as shown in:\n",
      "    https://scikit-learn.org/stable/modules/preprocessing.html\n",
      "Please also refer to the documentation for alternative solver options:\n",
      "    https://scikit-learn.org/stable/modules/linear_model.html#logistic-regression\n",
      "  n_iter_i = _check_optimize_result(\n"
     ]
    },
    {
     "name": "stdout",
     "output_type": "stream",
     "text": [
      "[I 2024-03-15 04:20:37,156] Trial 1 finished with value: 0.7400255627184402 and parameters: {'solver': 'lbfgs', 'max_iter': 758, 'C': 0.2052609868985108, 'tol': 0.006184365943695706}. Best is trial 1 with value: 0.7400255627184402.\n",
      "[I 2024-03-15 04:21:14,678] Trial 2 finished with value: 0.7675409149574413 and parameters: {'solver': 'newton-cg', 'max_iter': 947, 'C': 0.2889741549280066, 'tol': 0.00809179857065045}. Best is trial 2 with value: 0.7675409149574413.\n"
     ]
    },
    {
     "name": "stderr",
     "output_type": "stream",
     "text": [
      "/usr/local/lib/python3.11/dist-packages/sklearn/linear_model/_logistic.py:469: ConvergenceWarning: lbfgs failed to converge (status=1):\n",
      "STOP: TOTAL NO. of ITERATIONS REACHED LIMIT.\n",
      "\n",
      "Increase the number of iterations (max_iter) or scale the data as shown in:\n",
      "    https://scikit-learn.org/stable/modules/preprocessing.html\n",
      "Please also refer to the documentation for alternative solver options:\n",
      "    https://scikit-learn.org/stable/modules/linear_model.html#logistic-regression\n",
      "  n_iter_i = _check_optimize_result(\n"
     ]
    },
    {
     "name": "stdout",
     "output_type": "stream",
     "text": [
      "[I 2024-03-15 04:21:32,592] Trial 3 finished with value: 0.7582388779112597 and parameters: {'solver': 'lbfgs', 'max_iter': 292, 'C': 6.594183105345568, 'tol': 0.002691811199132871}. Best is trial 2 with value: 0.7675409149574413.\n",
      "[I 2024-03-15 04:22:15,762] Trial 4 finished with value: 0.7694763229293042 and parameters: {'solver': 'newton-cg', 'max_iter': 922, 'C': 2.33327013831577, 'tol': 0.004150769587767841}. Best is trial 4 with value: 0.7694763229293042.\n",
      "[I 2024-03-15 04:22:23,376] Trial 5 finished with value: 0.6787974851962161 and parameters: {'solver': 'sag', 'max_iter': 686, 'C': 1.6272019272270277, 'tol': 0.005782145607823465}. Best is trial 4 with value: 0.7694763229293042.\n",
      "[I 2024-03-15 04:22:52,266] Trial 6 finished with value: 0.7659943229352542 and parameters: {'solver': 'newton-cg', 'max_iter': 279, 'C': 2.678449293517775, 'tol': 0.007285936067606016}. Best is trial 4 with value: 0.7694763229293042.\n",
      "[I 2024-03-15 04:23:20,643] Trial 7 finished with value: 0.7664555248016749 and parameters: {'solver': 'newton-cg', 'max_iter': 339, 'C': 3.1548901844938313, 'tol': 0.00957539697605798}. Best is trial 4 with value: 0.7694763229293042.\n",
      "[I 2024-03-15 04:23:45,329] Trial 8 finished with value: 0.7661024968121656 and parameters: {'solver': 'newton-cg', 'max_iter': 211, 'C': 8.059977396225705, 'tol': 0.009303390319542998}. Best is trial 4 with value: 0.7694763229293042.\n"
     ]
    },
    {
     "name": "stderr",
     "output_type": "stream",
     "text": [
      "/usr/local/lib/python3.11/dist-packages/sklearn/linear_model/_sag.py:350: ConvergenceWarning: The max_iter was reached which means the coef_ did not converge\n",
      "  warnings.warn(\n"
     ]
    },
    {
     "name": "stdout",
     "output_type": "stream",
     "text": [
      "[I 2024-03-15 04:29:12,683] Trial 9 finished with value: 0.6961099599080733 and parameters: {'solver': 'sag', 'max_iter': 644, 'C': 4.2648383954480105, 'tol': 0.0010169909524356201}. Best is trial 4 with value: 0.7694763229293042.\n",
      "[I 2024-03-15 04:29:21,919] Trial 10 finished with value: 0.7492548514496085 and parameters: {'solver': 'liblinear', 'max_iter': 974, 'C': 9.463246497102874, 'tol': 0.0038584795122624978}. Best is trial 4 with value: 0.7694763229293042.\n",
      "[I 2024-03-15 04:29:53,926] Trial 11 finished with value: 0.7653147202370465 and parameters: {'solver': 'newton-cg', 'max_iter': 999, 'C': 0.4716017934073602, 'tol': 0.007673609193817483}. Best is trial 4 with value: 0.7694763229293042.\n",
      "[I 2024-03-15 04:30:36,363] Trial 12 finished with value: 0.7704308301972312 and parameters: {'solver': 'newton-cg', 'max_iter': 856, 'C': 2.0141581065191745, 'tol': 0.004020451702882238}. Best is trial 12 with value: 0.7704308301972312.\n",
      "[I 2024-03-15 04:30:54,946] Trial 13 finished with value: 0.6782535451159424 and parameters: {'solver': 'saga', 'max_iter': 473, 'C': 2.732743658918103, 'tol': 0.0038333947654913937}. Best is trial 12 with value: 0.7704308301972312.\n",
      "[I 2024-03-15 04:31:37,045] Trial 14 finished with value: 0.7695962257045196 and parameters: {'solver': 'newton-cg', 'max_iter': 823, 'C': 6.228946633681968, 'tol': 0.002516588442486482}. Best is trial 12 with value: 0.7704308301972312.\n",
      "[I 2024-03-15 04:31:53,092] Trial 15 finished with value: 0.7482513600584195 and parameters: {'solver': 'liblinear', 'max_iter': 822, 'C': 6.424451688987483, 'tol': 0.0022886117974325977}. Best is trial 12 with value: 0.7704308301972312.\n",
      "[I 2024-03-15 04:32:36,038] Trial 16 finished with value: 0.7681518272621648 and parameters: {'solver': 'newton-cg', 'max_iter': 502, 'C': 6.390162244841111, 'tol': 0.002060217817969035}. Best is trial 12 with value: 0.7704308301972312.\n",
      "[I 2024-03-15 04:33:10,637] Trial 17 finished with value: 0.769103056469147 and parameters: {'solver': 'newton-cg', 'max_iter': 834, 'C': 3.926366033762335, 'tol': 0.004740723513562292}. Best is trial 12 with value: 0.7704308301972312.\n"
     ]
    },
    {
     "name": "stderr",
     "output_type": "stream",
     "text": [
      "/usr/local/lib/python3.11/dist-packages/sklearn/linear_model/_logistic.py:469: ConvergenceWarning: lbfgs failed to converge (status=1):\n",
      "STOP: TOTAL NO. of ITERATIONS REACHED LIMIT.\n",
      "\n",
      "Increase the number of iterations (max_iter) or scale the data as shown in:\n",
      "    https://scikit-learn.org/stable/modules/preprocessing.html\n",
      "Please also refer to the documentation for alternative solver options:\n",
      "    https://scikit-learn.org/stable/modules/linear_model.html#logistic-regression\n",
      "  n_iter_i = _check_optimize_result(\n"
     ]
    },
    {
     "name": "stdout",
     "output_type": "stream",
     "text": [
      "[I 2024-03-15 04:33:47,134] Trial 18 finished with value: 0.7435054489360176 and parameters: {'solver': 'lbfgs', 'max_iter': 604, 'C': 7.637988336651452, 'tol': 0.00012302150232603023}. Best is trial 12 with value: 0.7704308301972312.\n",
      "[I 2024-03-15 04:34:06,776] Trial 19 finished with value: 0.6786283547353691 and parameters: {'solver': 'saga', 'max_iter': 847, 'C': 5.265511028737514, 'tol': 0.0031255490581994596}. Best is trial 12 with value: 0.7704308301972312.\n",
      "[I 2024-03-15 04:34:14,479] Trial 20 finished with value: 0.6787974851962161 and parameters: {'solver': 'sag', 'max_iter': 415, 'C': 9.548589683081698, 'tol': 0.005456539883591506}. Best is trial 12 with value: 0.7704308301972312.\n",
      "[I 2024-03-15 04:34:53,799] Trial 21 finished with value: 0.7687617470480971 and parameters: {'solver': 'newton-cg', 'max_iter': 890, 'C': 1.4783178092401692, 'tol': 0.0043634392811063025}. Best is trial 12 with value: 0.7704308301972312.\n",
      "[I 2024-03-15 04:35:31,979] Trial 22 finished with value: 0.7700101068941474 and parameters: {'solver': 'newton-cg', 'max_iter': 912, 'C': 1.855488561486133, 'tol': 0.003313177739475266}. Best is trial 12 with value: 0.7704308301972312.\n",
      "[I 2024-03-15 04:36:58,045] Trial 23 finished with value: 0.7704288787956719 and parameters: {'solver': 'newton-cg', 'max_iter': 742, 'C': 1.5512459412583195, 'tol': 0.0030776331878361596}. Best is trial 12 with value: 0.7704308301972312.\n",
      "[I 2024-03-15 04:38:10,425] Trial 24 finished with value: 0.7700103158814174 and parameters: {'solver': 'newton-cg', 'max_iter': 737, 'C': 1.3804318082930116, 'tol': 0.001592864374232797}. Best is trial 12 with value: 0.7704308301972312.\n"
     ]
    },
    {
     "name": "stderr",
     "output_type": "stream",
     "text": [
      "[I 2024-03-15 04:38:51,396] A new study created in memory with name: no-name-7d3f8ef8-27b3-4959-99d3-9e437ecac604\n"
     ]
    },
    {
     "data": {
      "application/vnd.jupyter.widget-view+json": {
       "model_id": "b7b755233ba143b3ba9a1249a3dfc3a8",
       "version_major": 2,
       "version_minor": 0
      },
      "text/plain": [
       "  0%|          | 0/25 [00:00<?, ?it/s]"
      ]
     },
     "metadata": {},
     "output_type": "display_data"
    },
    {
     "name": "stdout",
     "output_type": "stream",
     "text": [
      "[I 2024-03-15 04:39:28,138] Trial 0 finished with value: 0.6656157388172964 and parameters: {'solver': 'newton-cg', 'max_iter': 980, 'C': 1.7413828448960544, 'tol': 0.0037362524034647853}. Best is trial 0 with value: 0.6656157388172964.\n",
      "[I 2024-03-15 04:40:03,327] Trial 1 finished with value: 0.6620231713434109 and parameters: {'solver': 'newton-cg', 'max_iter': 332, 'C': 0.5043269154993394, 'tol': 0.004311148306575445}. Best is trial 0 with value: 0.6656157388172964.\n",
      "[I 2024-03-15 04:40:44,074] Trial 2 finished with value: 0.6654255283303837 and parameters: {'solver': 'newton-cg', 'max_iter': 796, 'C': 9.110289713879599, 'tol': 0.0033698211343072344}. Best is trial 0 with value: 0.6656157388172964.\n",
      "[I 2024-03-15 04:40:50,195] Trial 3 finished with value: 0.6607846483934943 and parameters: {'solver': 'saga', 'max_iter': 968, 'C': 1.8531622035532376, 'tol': 0.007226125239262945}. Best is trial 0 with value: 0.6656157388172964.\n"
     ]
    },
    {
     "name": "stderr",
     "output_type": "stream",
     "text": [
      "/usr/local/lib/python3.11/dist-packages/sklearn/linear_model/_logistic.py:469: ConvergenceWarning: lbfgs failed to converge (status=1):\n",
      "STOP: TOTAL NO. of ITERATIONS REACHED LIMIT.\n",
      "\n",
      "Increase the number of iterations (max_iter) or scale the data as shown in:\n",
      "    https://scikit-learn.org/stable/modules/preprocessing.html\n",
      "Please also refer to the documentation for alternative solver options:\n",
      "    https://scikit-learn.org/stable/modules/linear_model.html#logistic-regression\n",
      "  n_iter_i = _check_optimize_result(\n"
     ]
    },
    {
     "name": "stdout",
     "output_type": "stream",
     "text": [
      "[I 2024-03-15 04:40:59,992] Trial 4 finished with value: 0.6286193681557777 and parameters: {'solver': 'lbfgs', 'max_iter': 130, 'C': 6.050515038532431, 'tol': 0.00601389848113708}. Best is trial 0 with value: 0.6656157388172964.\n"
     ]
    },
    {
     "name": "stderr",
     "output_type": "stream",
     "text": [
      "/usr/local/lib/python3.11/dist-packages/sklearn/linear_model/_sag.py:350: ConvergenceWarning: The max_iter was reached which means the coef_ did not converge\n",
      "  warnings.warn(\n"
     ]
    },
    {
     "name": "stdout",
     "output_type": "stream",
     "text": [
      "[I 2024-03-15 04:48:40,923] Trial 5 finished with value: 0.6793442755409409 and parameters: {'solver': 'sag', 'max_iter': 924, 'C': 3.0139436178717385, 'tol': 0.00010490584943324225}. Best is trial 5 with value: 0.6793442755409409.\n",
      "[I 2024-03-15 04:48:51,530] Trial 6 finished with value: 0.6638527931147578 and parameters: {'solver': 'saga', 'max_iter': 561, 'C': 2.493596002784069, 'tol': 0.006286085702226139}. Best is trial 5 with value: 0.6793442755409409.\n",
      "[I 2024-03-15 04:48:57,091] Trial 7 finished with value: 0.6431531857792804 and parameters: {'solver': 'liblinear', 'max_iter': 275, 'C': 2.431884611621585, 'tol': 0.00925315338320775}. Best is trial 5 with value: 0.6793442755409409.\n",
      "[I 2024-03-15 04:50:44,113] Trial 8 finished with value: 0.6579465279608923 and parameters: {'solver': 'newton-cg', 'max_iter': 535, 'C': 1.2114804545092093, 'tol': 0.0012610220183398848}. Best is trial 5 with value: 0.6793442755409409.\n",
      "[I 2024-03-15 04:51:06,223] Trial 9 finished with value: 0.6232255498402386 and parameters: {'solver': 'liblinear', 'max_iter': 196, 'C': 0.01216015819168902, 'tol': 0.0011929978628327502}. Best is trial 5 with value: 0.6793442755409409.\n"
     ]
    },
    {
     "name": "stderr",
     "output_type": "stream",
     "text": [
      "/usr/local/lib/python3.11/dist-packages/sklearn/linear_model/_sag.py:350: ConvergenceWarning: The max_iter was reached which means the coef_ did not converge\n",
      "  warnings.warn(\n"
     ]
    },
    {
     "name": "stdout",
     "output_type": "stream",
     "text": [
      "[I 2024-03-15 04:57:17,129] Trial 10 finished with value: 0.6818238696053645 and parameters: {'solver': 'sag', 'max_iter': 746, 'C': 4.853777064609327, 'tol': 0.0001122898304181839}. Best is trial 10 with value: 0.6818238696053645.\n"
     ]
    },
    {
     "name": "stderr",
     "output_type": "stream",
     "text": [
      "/usr/local/lib/python3.11/dist-packages/sklearn/linear_model/_sag.py:350: ConvergenceWarning: The max_iter was reached which means the coef_ did not converge\n",
      "  warnings.warn(\n"
     ]
    },
    {
     "name": "stdout",
     "output_type": "stream",
     "text": [
      "[I 2024-03-15 05:03:16,646] Trial 11 finished with value: 0.6820803691835526 and parameters: {'solver': 'sag', 'max_iter': 721, 'C': 4.838918673821765, 'tol': 5.4524369459012e-05}. Best is trial 11 with value: 0.6820803691835526.\n",
      "[I 2024-03-15 05:05:04,593] Trial 12 finished with value: 0.6827451951927339 and parameters: {'solver': 'sag', 'max_iter': 717, 'C': 5.334838818411106, 'tol': 0.002226699510846175}. Best is trial 12 with value: 0.6827451951927339.\n",
      "[I 2024-03-15 05:06:52,467] Trial 13 finished with value: 0.6827451951927339 and parameters: {'solver': 'sag', 'max_iter': 618, 'C': 5.971304368774887, 'tol': 0.002237298454062267}. Best is trial 12 with value: 0.6827451951927339.\n",
      "[I 2024-03-15 05:08:34,620] Trial 14 finished with value: 0.6820927564310969 and parameters: {'solver': 'sag', 'max_iter': 574, 'C': 6.751000150746524, 'tol': 0.002461033531209591}. Best is trial 12 with value: 0.6827451951927339.\n",
      "[I 2024-03-15 05:10:22,358] Trial 15 finished with value: 0.6825918443679884 and parameters: {'solver': 'sag', 'max_iter': 437, 'C': 7.927299478566455, 'tol': 0.0022758623256663286}. Best is trial 12 with value: 0.6827451951927339.\n"
     ]
    },
    {
     "name": "stderr",
     "output_type": "stream",
     "text": [
      "/usr/local/lib/python3.11/dist-packages/sklearn/linear_model/_logistic.py:469: ConvergenceWarning: lbfgs failed to converge (status=1):\n",
      "STOP: TOTAL NO. of ITERATIONS REACHED LIMIT.\n",
      "\n",
      "Increase the number of iterations (max_iter) or scale the data as shown in:\n",
      "    https://scikit-learn.org/stable/modules/preprocessing.html\n",
      "Please also refer to the documentation for alternative solver options:\n",
      "    https://scikit-learn.org/stable/modules/linear_model.html#logistic-regression\n",
      "  n_iter_i = _check_optimize_result(\n"
     ]
    },
    {
     "name": "stdout",
     "output_type": "stream",
     "text": [
      "[I 2024-03-15 05:11:05,664] Trial 16 finished with value: 0.6135481551598726 and parameters: {'solver': 'lbfgs', 'max_iter': 701, 'C': 3.7344990701292864, 'tol': 0.005241558713024238}. Best is trial 12 with value: 0.6827451951927339.\n",
      "[I 2024-03-15 05:12:41,836] Trial 17 finished with value: 0.6818742649914644 and parameters: {'solver': 'sag', 'max_iter': 828, 'C': 6.609238418208826, 'tol': 0.0025352946203852722}. Best is trial 12 with value: 0.6827451951927339.\n",
      "[I 2024-03-15 05:15:12,494] Trial 18 finished with value: 0.684455008483402 and parameters: {'solver': 'sag', 'max_iter': 625, 'C': 8.029777566969255, 'tol': 0.001536188209570031}. Best is trial 18 with value: 0.684455008483402.\n",
      "[I 2024-03-15 05:18:07,669] Trial 19 finished with value: 0.6847577297826173 and parameters: {'solver': 'sag', 'max_iter': 434, 'C': 9.611472752585817, 'tol': 0.0013182043106343324}. Best is trial 19 with value: 0.6847577297826173.\n",
      "[I 2024-03-15 05:18:23,994] Trial 20 finished with value: 0.6159336843874373 and parameters: {'solver': 'liblinear', 'max_iter': 441, 'C': 9.967837199017744, 'tol': 0.001038889066980714}. Best is trial 19 with value: 0.6847577297826173.\n",
      "[I 2024-03-15 05:20:56,611] Trial 21 finished with value: 0.684573275873551 and parameters: {'solver': 'sag', 'max_iter': 443, 'C': 8.25745739221162, 'tol': 0.0014874743959148616}. Best is trial 19 with value: 0.6847577297826173.\n",
      "[I 2024-03-15 05:23:41,792] Trial 22 finished with value: 0.6847324656680505 and parameters: {'solver': 'sag', 'max_iter': 433, 'C': 7.98202393686246, 'tol': 0.0013777368326557769}. Best is trial 19 with value: 0.6847577297826173.\n",
      "[I 2024-03-15 05:25:02,728] Trial 23 finished with value: 0.6803257521616402 and parameters: {'solver': 'sag', 'max_iter': 423, 'C': 8.387051476131514, 'tol': 0.0030983940013458375}. Best is trial 19 with value: 0.6847577297826173.\n",
      "[I 2024-03-15 05:26:06,762] Trial 24 finished with value: 0.6780452379616495 and parameters: {'solver': 'sag', 'max_iter': 357, 'C': 9.788599985418687, 'tol': 0.0042174792549391545}. Best is trial 19 with value: 0.6847577297826173.\n"
     ]
    },
    {
     "name": "stderr",
     "output_type": "stream",
     "text": [
      "[I 2024-03-15 05:29:03,562] A new study created in memory with name: no-name-11534add-efe2-4ca1-8da3-233cbb49dbdb\n"
     ]
    },
    {
     "data": {
      "application/vnd.jupyter.widget-view+json": {
       "model_id": "32d0f8e09b954a439214939f168f5023",
       "version_major": 2,
       "version_minor": 0
      },
      "text/plain": [
       "  0%|          | 0/25 [00:00<?, ?it/s]"
      ]
     },
     "metadata": {},
     "output_type": "display_data"
    },
    {
     "name": "stdout",
     "output_type": "stream",
     "text": [
      "[I 2024-03-15 05:29:45,263] Trial 0 finished with value: 0.7442326445642455 and parameters: {'solver': 'newton-cg', 'max_iter': 435, 'C': 4.286318674528917, 'tol': 0.00435108904456159}. Best is trial 0 with value: 0.7442326445642455.\n"
     ]
    },
    {
     "name": "stderr",
     "output_type": "stream",
     "text": [
      "/usr/local/lib/python3.11/dist-packages/sklearn/linear_model/_logistic.py:469: ConvergenceWarning: lbfgs failed to converge (status=1):\n",
      "STOP: TOTAL NO. of ITERATIONS REACHED LIMIT.\n",
      "\n",
      "Increase the number of iterations (max_iter) or scale the data as shown in:\n",
      "    https://scikit-learn.org/stable/modules/preprocessing.html\n",
      "Please also refer to the documentation for alternative solver options:\n",
      "    https://scikit-learn.org/stable/modules/linear_model.html#logistic-regression\n",
      "  n_iter_i = _check_optimize_result(\n"
     ]
    },
    {
     "name": "stdout",
     "output_type": "stream",
     "text": [
      "[I 2024-03-15 05:30:17,601] Trial 1 finished with value: 0.7213070211073034 and parameters: {'solver': 'lbfgs', 'max_iter': 506, 'C': 9.876472498413788, 'tol': 0.00524654818524141}. Best is trial 0 with value: 0.7442326445642455.\n",
      "[I 2024-03-15 05:31:32,279] Trial 2 finished with value: 0.7378064729963313 and parameters: {'solver': 'liblinear', 'max_iter': 629, 'C': 8.084097409501458, 'tol': 0.0012569417648035893}. Best is trial 0 with value: 0.7442326445642455.\n",
      "[I 2024-03-15 05:32:22,636] Trial 3 finished with value: 0.7452299784139947 and parameters: {'solver': 'newton-cg', 'max_iter': 521, 'C': 7.694058877006954, 'tol': 0.0038832583957761056}. Best is trial 3 with value: 0.7452299784139947.\n",
      "[I 2024-03-15 05:35:06,629] Trial 4 finished with value: 0.6198206516178952 and parameters: {'solver': 'saga', 'max_iter': 503, 'C': 7.513495630132784, 'tol': 0.0023047203703935163}. Best is trial 3 with value: 0.7452299784139947.\n"
     ]
    },
    {
     "name": "stderr",
     "output_type": "stream",
     "text": [
      "/usr/local/lib/python3.11/dist-packages/sklearn/linear_model/_sag.py:350: ConvergenceWarning: The max_iter was reached which means the coef_ did not converge\n",
      "  warnings.warn(\n"
     ]
    },
    {
     "name": "stdout",
     "output_type": "stream",
     "text": [
      "[I 2024-03-15 05:36:30,841] Trial 5 finished with value: 0.49654383617810094 and parameters: {'solver': 'saga', 'max_iter': 134, 'C': 8.205961746953728, 'tol': 0.004120162479514123}. Best is trial 3 with value: 0.7452299784139947.\n",
      "[I 2024-03-15 05:37:07,289] Trial 6 finished with value: 0.7441399116446563 and parameters: {'solver': 'newton-cg', 'max_iter': 408, 'C': 1.455182048405434, 'tol': 0.00402772734342969}. Best is trial 3 with value: 0.7452299784139947.\n",
      "[I 2024-03-15 05:38:54,997] Trial 7 finished with value: 0.5330401734155727 and parameters: {'solver': 'saga', 'max_iter': 261, 'C': 0.4847713798402055, 'tol': 0.0038957797111003624}. Best is trial 3 with value: 0.7452299784139947.\n",
      "[I 2024-03-15 05:39:29,951] Trial 8 finished with value: 0.7431615357637599 and parameters: {'solver': 'newton-cg', 'max_iter': 301, 'C': 4.237393584642436, 'tol': 0.00908695797669884}. Best is trial 3 with value: 0.7452299784139947.\n",
      "[I 2024-03-15 05:39:52,962] Trial 9 finished with value: 0.7198291708411374 and parameters: {'solver': 'liblinear', 'max_iter': 496, 'C': 5.031522940781099, 'tol': 0.002549066753388209}. Best is trial 3 with value: 0.7452299784139947.\n",
      "[I 2024-03-15 05:40:41,577] Trial 10 finished with value: 0.5371972312615068 and parameters: {'solver': 'sag', 'max_iter': 878, 'C': 6.164067226127392, 'tol': 0.007616522174651495}. Best is trial 3 with value: 0.7452299784139947.\n",
      "[I 2024-03-15 05:41:21,098] Trial 11 finished with value: 0.7428113443611324 and parameters: {'solver': 'newton-cg', 'max_iter': 717, 'C': 2.777067925260965, 'tol': 0.006418552223864959}. Best is trial 3 with value: 0.7452299784139947.\n",
      "[I 2024-03-15 05:41:58,901] Trial 12 finished with value: 0.7433846673021809 and parameters: {'solver': 'newton-cg', 'max_iter': 682, 'C': 4.449846926751144, 'tol': 0.00569709256936167}. Best is trial 3 with value: 0.7452299784139947.\n",
      "[I 2024-03-15 05:47:05,045] Trial 13 finished with value: 0.7427591239185579 and parameters: {'solver': 'newton-cg', 'max_iter': 818, 'C': 6.301277810251618, 'tol': 0.0001649656206593464}. Best is trial 3 with value: 0.7452299784139947.\n"
     ]
    },
    {
     "name": "stderr",
     "output_type": "stream",
     "text": [
      "/usr/local/lib/python3.11/dist-packages/sklearn/linear_model/_logistic.py:469: ConvergenceWarning: lbfgs failed to converge (status=1):\n",
      "STOP: TOTAL NO. of ITERATIONS REACHED LIMIT.\n",
      "\n",
      "Increase the number of iterations (max_iter) or scale the data as shown in:\n",
      "    https://scikit-learn.org/stable/modules/preprocessing.html\n",
      "Please also refer to the documentation for alternative solver options:\n",
      "    https://scikit-learn.org/stable/modules/linear_model.html#logistic-regression\n",
      "  n_iter_i = _check_optimize_result(\n"
     ]
    },
    {
     "name": "stdout",
     "output_type": "stream",
     "text": [
      "[I 2024-03-15 05:47:27,554] Trial 14 finished with value: 0.7227506498858228 and parameters: {'solver': 'lbfgs', 'max_iter': 356, 'C': 2.7617785538012285, 'tol': 0.0068789832108275845}. Best is trial 3 with value: 0.7452299784139947.\n"
     ]
    },
    {
     "name": "stderr",
     "output_type": "stream",
     "text": [
      "/usr/local/lib/python3.11/dist-packages/sklearn/linear_model/_sag.py:350: ConvergenceWarning: The max_iter was reached which means the coef_ did not converge\n",
      "  warnings.warn(\n"
     ]
    },
    {
     "name": "stdout",
     "output_type": "stream",
     "text": [
      "[I 2024-03-15 05:48:53,953] Trial 15 finished with value: 0.6548247413307702 and parameters: {'solver': 'sag', 'max_iter': 157, 'C': 9.378394170296545, 'tol': 0.002718389438008299}. Best is trial 3 with value: 0.7452299784139947.\n",
      "[I 2024-03-15 05:49:22,924] Trial 16 finished with value: 0.7399313040213842 and parameters: {'solver': 'newton-cg', 'max_iter': 998, 'C': 6.23373969441625, 'tol': 0.008948140738504761}. Best is trial 3 with value: 0.7452299784139947.\n",
      "[I 2024-03-15 05:50:21,126] Trial 17 finished with value: 0.7450392712045648 and parameters: {'solver': 'newton-cg', 'max_iter': 600, 'C': 3.2392896537363525, 'tol': 0.004692397400829175}. Best is trial 3 with value: 0.7452299784139947.\n",
      "[I 2024-03-15 05:51:16,614] Trial 18 finished with value: 0.7450127947795089 and parameters: {'solver': 'newton-cg', 'max_iter': 601, 'C': 2.443273163950777, 'tol': 0.00306640261714964}. Best is trial 3 with value: 0.7452299784139947.\n",
      "[I 2024-03-15 05:51:42,342] Trial 19 finished with value: 0.7185857848613677 and parameters: {'solver': 'liblinear', 'max_iter': 780, 'C': 0.04732319997995926, 'tol': 0.0010869776160459333}. Best is trial 3 with value: 0.7452299784139947.\n"
     ]
    },
    {
     "name": "stderr",
     "output_type": "stream",
     "text": [
      "/usr/local/lib/python3.11/dist-packages/sklearn/linear_model/_logistic.py:469: ConvergenceWarning: lbfgs failed to converge (status=1):\n",
      "STOP: TOTAL NO. of ITERATIONS REACHED LIMIT.\n",
      "\n",
      "Increase the number of iterations (max_iter) or scale the data as shown in:\n",
      "    https://scikit-learn.org/stable/modules/preprocessing.html\n",
      "Please also refer to the documentation for alternative solver options:\n",
      "    https://scikit-learn.org/stable/modules/linear_model.html#logistic-regression\n",
      "  n_iter_i = _check_optimize_result(\n"
     ]
    },
    {
     "name": "stdout",
     "output_type": "stream",
     "text": [
      "[I 2024-03-15 05:52:21,438] Trial 20 finished with value: 0.7140517728006173 and parameters: {'solver': 'lbfgs', 'max_iter': 635, 'C': 5.38485060891557, 'tol': 0.007722522651224136}. Best is trial 3 with value: 0.7452299784139947.\n",
      "[I 2024-03-15 05:53:08,666] Trial 21 finished with value: 0.7447540432576313 and parameters: {'solver': 'newton-cg', 'max_iter': 587, 'C': 2.893671943822901, 'tol': 0.0030851533577964715}. Best is trial 3 with value: 0.7452299784139947.\n",
      "[I 2024-03-15 05:54:27,073] Trial 22 finished with value: 0.7448566242143418 and parameters: {'solver': 'newton-cg', 'max_iter': 563, 'C': 1.6710943528573874, 'tol': 0.004792568152228488}. Best is trial 3 with value: 0.7452299784139947.\n",
      "[I 2024-03-15 05:55:08,065] Trial 23 finished with value: 0.7440071594392007 and parameters: {'solver': 'newton-cg', 'max_iter': 735, 'C': 3.4820482828904904, 'tol': 0.0032856480725837554}. Best is trial 3 with value: 0.7452299784139947.\n",
      "[I 2024-03-15 05:55:40,229] Trial 24 finished with value: 0.7414226964945085 and parameters: {'solver': 'newton-cg', 'max_iter': 434, 'C': 1.618184023259037, 'tol': 0.0061327064049742485}. Best is trial 3 with value: 0.7452299784139947.\n",
      "[0.7445173040225396, 0.7242238816223774, 0.6509600544826963, 0.7116821193704835, 0.5825104414735732]\n",
      "0.6827787601943339\n"
     ]
    }
   ],
   "source": [
    "scores = []\n",
    "for i in range(0, len(dataset)):\n",
    "    x_train, y_train, x_val, y_val, x_test, y_test = dataset[i][0], dataset[i][1], dataset[i][2], dataset[i][3], dataset[i][4], dataset[i][5]\n",
    "    best_params = find_best_model(\"lr\", x_train, y_train, x_val, y_val, trials=25)\n",
    "    lr_clf = LogisticRegression(**best_params.params, random_state=42, verbose=False)\n",
    "    lr_clf.fit(x_train, y_train)\n",
    "    y_pred = lr_clf.predict_proba(x_test)\n",
    "    scores.append(roc_auc_score(y_test, y_pred[:,1]))\n",
    "mean =  np.mean(np.array(scores))\n",
    "print(scores)\n",
    "print(mean)"
   ]
  },
  {
   "cell_type": "code",
   "execution_count": 4,
   "metadata": {},
   "outputs": [
    {
     "name": "stdout",
     "output_type": "stream",
     "text": [
      "[0.7445173040225396, 0.7242238816223774, 0.6509600544826963, 0.7116821193704835, 0.5825104414735732]\n",
      "0.6827787601943339\n"
     ]
    }
   ],
   "source": [
    "print(scores)\n",
    "print(mean)"
   ]
  }
 ],
 "metadata": {
  "kernelspec": {
   "display_name": "Python 3 (ipykernel)",
   "language": "python",
   "name": "python3"
  },
  "language_info": {
   "codemirror_mode": {
    "name": "ipython",
    "version": 3
   },
   "file_extension": ".py",
   "mimetype": "text/x-python",
   "name": "python",
   "nbconvert_exporter": "python",
   "pygments_lexer": "ipython3",
   "version": "3.11.8"
  }
 },
 "nbformat": 4,
 "nbformat_minor": 4
}
