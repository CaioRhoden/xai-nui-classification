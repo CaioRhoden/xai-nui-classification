{
 "cells": [
  {
   "cell_type": "markdown",
   "metadata": {},
   "source": [
    "# Catboost Evaluation"
   ]
  },
  {
   "cell_type": "markdown",
   "metadata": {},
   "source": [
    "## 1. Generate Random Data"
   ]
  },
  {
   "cell_type": "code",
   "execution_count": 1,
   "metadata": {},
   "outputs": [],
   "source": [
    "import sys\n",
    "sys.path.append('../../src')\n",
    "\n",
    "import pandas as pd\n",
    "import numpy as np\n",
    "import random\n",
    "from random_data_generator import random_data_generator\n",
    "\n",
    "#tunning\n",
    "from tuning import find_best_model\n",
    "\n",
    "#models\n",
    "from xgboost import XGBClassifier\n",
    "from catboost import CatBoostClassifier, Pool\n",
    "from sklearn.linear_model import LogisticRegression\n",
    "from sklearn.ensemble import RandomForestClassifier\n",
    "from sklearn.neural_network import MLPClassifier\n",
    "\n",
    "#metrics\n",
    "from sklearn.metrics import roc_auc_score\n",
    "\n",
    "random.seed(42)"
   ]
  },
  {
   "cell_type": "code",
   "execution_count": 2,
   "metadata": {},
   "outputs": [],
   "source": [
    "dataset = random_data_generator(\"binary\", 5)\n"
   ]
  },
  {
   "cell_type": "markdown",
   "metadata": {},
   "source": [
    "## 3. Catboost"
   ]
  },
  {
   "cell_type": "code",
   "execution_count": 3,
   "metadata": {},
   "outputs": [
    {
     "name": "stderr",
     "output_type": "stream",
     "text": [
      "[I 2024-03-13 13:29:28,205] A new study created in memory with name: no-name-6229357e-07d9-4b61-9a6e-85c3a74b688a\n"
     ]
    },
    {
     "data": {
      "application/vnd.jupyter.widget-view+json": {
       "model_id": "325cc119e476480cb3c675da71c5334c",
       "version_major": 2,
       "version_minor": 0
      },
      "text/plain": [
       "  0%|          | 0/25 [00:00<?, ?it/s]"
      ]
     },
     "metadata": {},
     "output_type": "display_data"
    },
    {
     "name": "stdout",
     "output_type": "stream",
     "text": [
      "[I 2024-03-13 13:29:41,172] Trial 0 finished with value: 0.7184743797731077 and parameters: {'learning_rate': 0.013044377639691278, 'max_depth': 7, 'n_estimators': 87, 'l2_leaf_reg': 0.44324106200048496}. Best is trial 0 with value: 0.7184743797731077.\n",
      "[I 2024-03-13 13:29:47,091] Trial 1 finished with value: 0.7180887808114556 and parameters: {'learning_rate': 0.07185523754929483, 'max_depth': 5, 'n_estimators': 52, 'l2_leaf_reg': 0.80206903973449}. Best is trial 0 with value: 0.7184743797731077.\n",
      "[I 2024-03-13 13:29:56,423] Trial 2 finished with value: 0.7172501404352204 and parameters: {'learning_rate': 0.05425966786196492, 'max_depth': 7, 'n_estimators': 93, 'l2_leaf_reg': 0.11329667991032943}. Best is trial 0 with value: 0.7184743797731077.\n",
      "[I 2024-03-13 13:30:03,482] Trial 3 finished with value: 0.7159944495378627 and parameters: {'learning_rate': 0.06631555875120021, 'max_depth': 3, 'n_estimators': 147, 'l2_leaf_reg': 0.27574563058947144}. Best is trial 0 with value: 0.7184743797731077.\n",
      "[I 2024-03-13 13:30:14,447] Trial 4 finished with value: 0.7073011121095314 and parameters: {'learning_rate': 0.06525757268673063, 'max_depth': 6, 'n_estimators': 119, 'l2_leaf_reg': 0.5574515067319472}. Best is trial 0 with value: 0.7184743797731077.\n",
      "[I 2024-03-13 13:30:23,602] Trial 5 finished with value: 0.6988857169090528 and parameters: {'learning_rate': 0.0933562843990771, 'max_depth': 6, 'n_estimators': 96, 'l2_leaf_reg': 0.0023479120765654837}. Best is trial 0 with value: 0.7184743797731077.\n",
      "[I 2024-03-13 13:30:34,280] Trial 6 finished with value: 0.7212301802483171 and parameters: {'learning_rate': 0.042181540364273004, 'max_depth': 5, 'n_estimators': 139, 'l2_leaf_reg': 0.7806785952456755}. Best is trial 6 with value: 0.7212301802483171.\n",
      "[I 2024-03-13 13:30:41,401] Trial 7 finished with value: 0.6928633353667957 and parameters: {'learning_rate': 0.08495469605001073, 'max_depth': 7, 'n_estimators': 72, 'l2_leaf_reg': 0.6484088399469825}. Best is trial 6 with value: 0.7212301802483171.\n",
      "[I 2024-03-13 13:30:51,388] Trial 8 finished with value: 0.713334561253291 and parameters: {'learning_rate': 0.0012149358816035624, 'max_depth': 4, 'n_estimators': 124, 'l2_leaf_reg': 0.918020028053853}. Best is trial 6 with value: 0.7212301802483171.\n",
      "[I 2024-03-13 13:31:03,829] Trial 9 finished with value: 0.7266761341286526 and parameters: {'learning_rate': 0.033773977309780184, 'max_depth': 7, 'n_estimators': 113, 'l2_leaf_reg': 0.26547480998509976}. Best is trial 9 with value: 0.7266761341286526.\n",
      "[I 2024-03-13 13:31:17,841] Trial 10 finished with value: 0.7174188698741405 and parameters: {'learning_rate': 0.031421359244593716, 'max_depth': 8, 'n_estimators': 119, 'l2_leaf_reg': 0.3407601228497418}. Best is trial 9 with value: 0.7266761341286526.\n",
      "[I 2024-03-13 13:31:25,242] Trial 11 finished with value: 0.7050218339390746 and parameters: {'learning_rate': 0.035103727568928246, 'max_depth': 2, 'n_estimators': 149, 'l2_leaf_reg': 0.7140073309972713}. Best is trial 9 with value: 0.7266761341286526.\n",
      "[I 2024-03-13 13:31:34,878] Trial 12 finished with value: 0.7180102192123164 and parameters: {'learning_rate': 0.03819715675192538, 'max_depth': 5, 'n_estimators': 131, 'l2_leaf_reg': 0.9557502771083646}. Best is trial 9 with value: 0.7266761341286526.\n",
      "[I 2024-03-13 13:31:43,236] Trial 13 finished with value: 0.7150190563217715 and parameters: {'learning_rate': 0.020776732172207605, 'max_depth': 4, 'n_estimators': 133, 'l2_leaf_reg': 0.27805532122950993}. Best is trial 9 with value: 0.7266761341286526.\n",
      "[I 2024-03-13 13:31:56,221] Trial 14 finished with value: 0.7181790559297937 and parameters: {'learning_rate': 0.049377361655332, 'max_depth': 8, 'n_estimators': 107, 'l2_leaf_reg': 0.4598902141947907}. Best is trial 9 with value: 0.7266761341286526.\n",
      "[I 2024-03-13 13:32:05,689] Trial 15 finished with value: 0.7135175153310493 and parameters: {'learning_rate': 0.04714207065291175, 'max_depth': 6, 'n_estimators': 111, 'l2_leaf_reg': 0.16130707579881545}. Best is trial 9 with value: 0.7266761341286526.\n",
      "[I 2024-03-13 13:32:14,480] Trial 16 finished with value: 0.7205001647235229 and parameters: {'learning_rate': 0.022454879442677638, 'max_depth': 4, 'n_estimators': 138, 'l2_leaf_reg': 0.8066984235101576}. Best is trial 9 with value: 0.7266761341286526.\n",
      "[I 2024-03-13 13:32:20,790] Trial 17 finished with value: 0.7161620041946205 and parameters: {'learning_rate': 0.04191957946457948, 'max_depth': 5, 'n_estimators': 78, 'l2_leaf_reg': 0.567346872737177}. Best is trial 9 with value: 0.7266761341286526.\n",
      "[I 2024-03-13 13:32:27,438] Trial 18 finished with value: 0.7161176628159825 and parameters: {'learning_rate': 0.05916438540020075, 'max_depth': 3, 'n_estimators': 107, 'l2_leaf_reg': 0.3969219848331418}. Best is trial 9 with value: 0.7266761341286526.\n",
      "[I 2024-03-13 13:32:38,655] Trial 19 finished with value: 0.7218255729013484 and parameters: {'learning_rate': 0.02764938781169724, 'max_depth': 6, 'n_estimators': 137, 'l2_leaf_reg': 0.6692586448084575}. Best is trial 9 with value: 0.7266761341286526.\n",
      "[I 2024-03-13 13:32:54,278] Trial 20 finished with value: 0.7182974951603395 and parameters: {'learning_rate': 0.008661688729691225, 'max_depth': 8, 'n_estimators': 125, 'l2_leaf_reg': 0.18476063209450982}. Best is trial 9 with value: 0.7266761341286526.\n",
      "[I 2024-03-13 13:33:05,847] Trial 21 finished with value: 0.7200637326644992 and parameters: {'learning_rate': 0.028172833409606666, 'max_depth': 6, 'n_estimators': 142, 'l2_leaf_reg': 0.6905179660260761}. Best is trial 9 with value: 0.7266761341286526.\n",
      "[I 2024-03-13 13:33:18,406] Trial 22 finished with value: 0.7188367933311428 and parameters: {'learning_rate': 0.023472257335666498, 'max_depth': 7, 'n_estimators': 135, 'l2_leaf_reg': 0.8185391414017447}. Best is trial 9 with value: 0.7266761341286526.\n",
      "[I 2024-03-13 13:33:27,243] Trial 23 finished with value: 0.718044014325598 and parameters: {'learning_rate': 0.04159194281951573, 'max_depth': 5, 'n_estimators': 116, 'l2_leaf_reg': 0.6125769135466773}. Best is trial 9 with value: 0.7266761341286526.\n",
      "[I 2024-03-13 13:33:38,539] Trial 24 finished with value: 0.7205608353920812 and parameters: {'learning_rate': 0.014975865802018887, 'max_depth': 6, 'n_estimators': 130, 'l2_leaf_reg': 0.7344052519422134}. Best is trial 9 with value: 0.7266761341286526.\n"
     ]
    },
    {
     "name": "stderr",
     "output_type": "stream",
     "text": [
      "[I 2024-03-13 13:33:50,242] A new study created in memory with name: no-name-00dd821f-7283-4ea7-8a67-42bc6abf6d3a\n"
     ]
    },
    {
     "data": {
      "application/vnd.jupyter.widget-view+json": {
       "model_id": "e9895e3f8d02418382b82e49d09d785d",
       "version_major": 2,
       "version_minor": 0
      },
      "text/plain": [
       "  0%|          | 0/25 [00:00<?, ?it/s]"
      ]
     },
     "metadata": {},
     "output_type": "display_data"
    },
    {
     "name": "stdout",
     "output_type": "stream",
     "text": [
      "[I 2024-03-13 13:34:01,207] Trial 0 finished with value: 0.5780016613931069 and parameters: {'learning_rate': 0.09988766399083042, 'max_depth': 3, 'n_estimators': 117, 'l2_leaf_reg': 0.4159374967807071}. Best is trial 0 with value: 0.5780016613931069.\n",
      "[I 2024-03-13 13:34:13,196] Trial 1 finished with value: 0.5869378110731669 and parameters: {'learning_rate': 0.09116486088929016, 'max_depth': 5, 'n_estimators': 95, 'l2_leaf_reg': 0.09635659208223679}. Best is trial 1 with value: 0.5869378110731669.\n",
      "[I 2024-03-13 13:34:25,319] Trial 2 finished with value: 0.5899545065104231 and parameters: {'learning_rate': 0.056483205419911045, 'max_depth': 3, 'n_estimators': 128, 'l2_leaf_reg': 0.4017024379511215}. Best is trial 2 with value: 0.5899545065104231.\n",
      "[I 2024-03-13 13:34:36,107] Trial 3 finished with value: 0.5862561537048875 and parameters: {'learning_rate': 0.06305520534222529, 'max_depth': 2, 'n_estimators': 137, 'l2_leaf_reg': 0.7686264102370722}. Best is trial 2 with value: 0.5899545065104231.\n",
      "[I 2024-03-13 13:34:48,614] Trial 4 finished with value: 0.5872985355009437 and parameters: {'learning_rate': 0.06445929729737443, 'max_depth': 8, 'n_estimators': 64, 'l2_leaf_reg': 0.7216942180985544}. Best is trial 2 with value: 0.5899545065104231.\n",
      "[I 2024-03-13 13:35:00,610] Trial 5 finished with value: 0.5957882581980741 and parameters: {'learning_rate': 0.07978579827499183, 'max_depth': 7, 'n_estimators': 62, 'l2_leaf_reg': 0.7912657093088131}. Best is trial 5 with value: 0.5957882581980741.\n",
      "[I 2024-03-13 13:35:10,623] Trial 6 finished with value: 0.586452965906251 and parameters: {'learning_rate': 0.08051506730057766, 'max_depth': 5, 'n_estimators': 61, 'l2_leaf_reg': 0.24240444014120188}. Best is trial 5 with value: 0.5957882581980741.\n",
      "[I 2024-03-13 13:35:19,696] Trial 7 finished with value: 0.5887600066243994 and parameters: {'learning_rate': 0.04890516134084948, 'max_depth': 3, 'n_estimators': 99, 'l2_leaf_reg': 0.8806892711111107}. Best is trial 5 with value: 0.5957882581980741.\n",
      "[I 2024-03-13 13:35:29,375] Trial 8 finished with value: 0.5883042370621425 and parameters: {'learning_rate': 0.08050662720703408, 'max_depth': 2, 'n_estimators': 132, 'l2_leaf_reg': 0.8475905617104491}. Best is trial 5 with value: 0.5957882581980741.\n",
      "[I 2024-03-13 13:35:44,116] Trial 9 finished with value: 0.5703982971627368 and parameters: {'learning_rate': 0.08111514550646719, 'max_depth': 5, 'n_estimators': 115, 'l2_leaf_reg': 0.35540573423231914}. Best is trial 5 with value: 0.5957882581980741.\n",
      "[I 2024-03-13 13:35:59,257] Trial 10 finished with value: 0.5935489641681059 and parameters: {'learning_rate': 0.014965158312547341, 'max_depth': 8, 'n_estimators': 78, 'l2_leaf_reg': 0.6121643794718318}. Best is trial 5 with value: 0.5957882581980741.\n",
      "[I 2024-03-13 13:36:19,171] Trial 11 finished with value: 0.5881676752342592 and parameters: {'learning_rate': 0.004183756084935743, 'max_depth': 8, 'n_estimators': 78, 'l2_leaf_reg': 0.6265515361392915}. Best is trial 5 with value: 0.5957882581980741.\n",
      "[I 2024-03-13 13:36:34,085] Trial 12 finished with value: 0.5942093270034605 and parameters: {'learning_rate': 0.021481029302215494, 'max_depth': 7, 'n_estimators': 79, 'l2_leaf_reg': 0.5768991489207385}. Best is trial 5 with value: 0.5957882581980741.\n",
      "[I 2024-03-13 13:36:44,000] Trial 13 finished with value: 0.5952299310128297 and parameters: {'learning_rate': 0.03191363839191727, 'max_depth': 7, 'n_estimators': 52, 'l2_leaf_reg': 0.9689686110948875}. Best is trial 5 with value: 0.5957882581980741.\n",
      "[I 2024-03-13 13:36:55,726] Trial 14 finished with value: 0.5972694201969391 and parameters: {'learning_rate': 0.0363452673863013, 'max_depth': 6, 'n_estimators': 57, 'l2_leaf_reg': 0.9854180943482073}. Best is trial 14 with value: 0.5972694201969391.\n",
      "[I 2024-03-13 13:37:05,269] Trial 15 finished with value: 0.595962995602832 and parameters: {'learning_rate': 0.040358994898036946, 'max_depth': 6, 'n_estimators': 50, 'l2_leaf_reg': 0.9797970815948285}. Best is trial 14 with value: 0.5972694201969391.\n",
      "[I 2024-03-13 13:37:13,530] Trial 16 finished with value: 0.597464776265516 and parameters: {'learning_rate': 0.040018061909421275, 'max_depth': 6, 'n_estimators': 50, 'l2_leaf_reg': 0.9889439981638098}. Best is trial 16 with value: 0.597464776265516.\n",
      "[I 2024-03-13 13:37:26,056] Trial 17 finished with value: 0.5951620671870744 and parameters: {'learning_rate': 0.03058784239469097, 'max_depth': 6, 'n_estimators': 68, 'l2_leaf_reg': 0.9909217697390876}. Best is trial 16 with value: 0.597464776265516.\n",
      "[I 2024-03-13 13:37:39,959] Trial 18 finished with value: 0.5868799642254984 and parameters: {'learning_rate': 0.04425170895989818, 'max_depth': 6, 'n_estimators': 89, 'l2_leaf_reg': 0.879749017598979}. Best is trial 16 with value: 0.597464776265516.\n",
      "[I 2024-03-13 13:37:50,994] Trial 19 finished with value: 0.5855357208585116 and parameters: {'learning_rate': 0.030849666261201218, 'max_depth': 4, 'n_estimators': 111, 'l2_leaf_reg': 0.6862334314824396}. Best is trial 16 with value: 0.597464776265516.\n",
      "[I 2024-03-13 13:37:58,233] Trial 20 finished with value: 0.5885861426052446 and parameters: {'learning_rate': 0.01652859346009556, 'max_depth': 4, 'n_estimators': 50, 'l2_leaf_reg': 0.014653133168532007}. Best is trial 16 with value: 0.597464776265516.\n",
      "[I 2024-03-13 13:38:06,171] Trial 21 finished with value: 0.5967335662721026 and parameters: {'learning_rate': 0.046334041747479744, 'max_depth': 6, 'n_estimators': 50, 'l2_leaf_reg': 0.9853692289423619}. Best is trial 16 with value: 0.597464776265516.\n",
      "[I 2024-03-13 13:38:26,049] Trial 22 finished with value: 0.5808403150677297 and parameters: {'learning_rate': 0.03926597045616188, 'max_depth': 6, 'n_estimators': 150, 'l2_leaf_reg': 0.8991376929274603}. Best is trial 16 with value: 0.597464776265516.\n",
      "[I 2024-03-13 13:38:34,716] Trial 23 finished with value: 0.5863485502558672 and parameters: {'learning_rate': 0.05692439616762115, 'max_depth': 7, 'n_estimators': 67, 'l2_leaf_reg': 0.929310925164459}. Best is trial 16 with value: 0.597464776265516.\n",
      "[I 2024-03-13 13:38:42,950] Trial 24 finished with value: 0.5878620726126517 and parameters: {'learning_rate': 0.024285507906142128, 'max_depth': 5, 'n_estimators': 57, 'l2_leaf_reg': 0.8135206689050952}. Best is trial 16 with value: 0.597464776265516.\n"
     ]
    },
    {
     "name": "stderr",
     "output_type": "stream",
     "text": [
      "[I 2024-03-13 13:38:51,283] A new study created in memory with name: no-name-65d78225-6b8f-4365-9627-44ac2e1b70a3\n"
     ]
    },
    {
     "data": {
      "application/vnd.jupyter.widget-view+json": {
       "model_id": "b610fd518474417ca04904c897fc4199",
       "version_major": 2,
       "version_minor": 0
      },
      "text/plain": [
       "  0%|          | 0/25 [00:00<?, ?it/s]"
      ]
     },
     "metadata": {},
     "output_type": "display_data"
    },
    {
     "name": "stdout",
     "output_type": "stream",
     "text": [
      "[I 2024-03-13 13:39:00,252] Trial 0 finished with value: 0.7563975533533163 and parameters: {'learning_rate': 0.00928967828747444, 'max_depth': 5, 'n_estimators': 121, 'l2_leaf_reg': 0.7137915312598919}. Best is trial 0 with value: 0.7563975533533163.\n",
      "[I 2024-03-13 13:39:11,451] Trial 1 finished with value: 0.772077609120217 and parameters: {'learning_rate': 0.09403856584033325, 'max_depth': 7, 'n_estimators': 97, 'l2_leaf_reg': 0.9335054865515398}. Best is trial 1 with value: 0.772077609120217.\n",
      "[I 2024-03-13 13:39:17,452] Trial 2 finished with value: 0.7436009651249993 and parameters: {'learning_rate': 0.0293083512039647, 'max_depth': 4, 'n_estimators': 58, 'l2_leaf_reg': 0.10489444225607136}. Best is trial 1 with value: 0.772077609120217.\n",
      "[I 2024-03-13 13:39:31,057] Trial 3 finished with value: 0.768522270174541 and parameters: {'learning_rate': 0.01901812644320048, 'max_depth': 7, 'n_estimators': 113, 'l2_leaf_reg': 0.7144472314525362}. Best is trial 1 with value: 0.772077609120217.\n",
      "[I 2024-03-13 13:39:37,931] Trial 4 finished with value: 0.7646207119729003 and parameters: {'learning_rate': 0.04398130170977093, 'max_depth': 5, 'n_estimators': 54, 'l2_leaf_reg': 0.9220345220263046}. Best is trial 1 with value: 0.772077609120217.\n",
      "[I 2024-03-13 13:39:52,048] Trial 5 finished with value: 0.7614914362623904 and parameters: {'learning_rate': 0.012969991490680566, 'max_depth': 8, 'n_estimators': 99, 'l2_leaf_reg': 0.6466933606030468}. Best is trial 1 with value: 0.772077609120217.\n",
      "[I 2024-03-13 13:40:00,696] Trial 6 finished with value: 0.7608501521228582 and parameters: {'learning_rate': 0.03596351440320894, 'max_depth': 4, 'n_estimators': 124, 'l2_leaf_reg': 0.9173633214527622}. Best is trial 1 with value: 0.772077609120217.\n",
      "[I 2024-03-13 13:40:11,484] Trial 7 finished with value: 0.7702346838632083 and parameters: {'learning_rate': 0.07017944944893593, 'max_depth': 6, 'n_estimators': 103, 'l2_leaf_reg': 0.7915705075357243}. Best is trial 1 with value: 0.772077609120217.\n",
      "[I 2024-03-13 13:40:19,039] Trial 8 finished with value: 0.7593728293496227 and parameters: {'learning_rate': 0.05693451952063205, 'max_depth': 2, 'n_estimators': 115, 'l2_leaf_reg': 0.9763497752939911}. Best is trial 1 with value: 0.772077609120217.\n",
      "[I 2024-03-13 13:40:30,729] Trial 9 finished with value: 0.7596262809662995 and parameters: {'learning_rate': 0.07637263602348333, 'max_depth': 8, 'n_estimators': 83, 'l2_leaf_reg': 0.5359080779980645}. Best is trial 1 with value: 0.772077609120217.\n",
      "[I 2024-03-13 13:40:39,057] Trial 10 finished with value: 0.7579836221146521 and parameters: {'learning_rate': 0.09845264563368614, 'max_depth': 2, 'n_estimators': 138, 'l2_leaf_reg': 0.22731255901166247}. Best is trial 1 with value: 0.772077609120217.\n",
      "[I 2024-03-13 13:40:51,826] Trial 11 finished with value: 0.7703032668177711 and parameters: {'learning_rate': 0.0926314546298189, 'max_depth': 6, 'n_estimators': 87, 'l2_leaf_reg': 0.8151490783213702}. Best is trial 1 with value: 0.772077609120217.\n",
      "[I 2024-03-13 13:41:05,287] Trial 12 finished with value: 0.770405538383662 and parameters: {'learning_rate': 0.09785685117296936, 'max_depth': 7, 'n_estimators': 81, 'l2_leaf_reg': 0.3682422421457071}. Best is trial 1 with value: 0.772077609120217.\n",
      "[I 2024-03-13 13:41:17,139] Trial 13 finished with value: 0.7618235795256827 and parameters: {'learning_rate': 0.08468236581654479, 'max_depth': 7, 'n_estimators': 72, 'l2_leaf_reg': 0.33358639351585684}. Best is trial 1 with value: 0.772077609120217.\n",
      "[I 2024-03-13 13:41:27,774] Trial 14 finished with value: 0.7745502718847208 and parameters: {'learning_rate': 0.06399629154378728, 'max_depth': 7, 'n_estimators': 71, 'l2_leaf_reg': 0.43900719823988293}. Best is trial 14 with value: 0.7745502718847208.\n",
      "[I 2024-03-13 13:41:36,381] Trial 15 finished with value: 0.7613069630369734 and parameters: {'learning_rate': 0.062395709788823986, 'max_depth': 6, 'n_estimators': 65, 'l2_leaf_reg': 0.5201905492222465}. Best is trial 14 with value: 0.7745502718847208.\n",
      "[I 2024-03-13 13:41:49,788] Trial 16 finished with value: 0.7659946764549784 and parameters: {'learning_rate': 0.08273822098370692, 'max_depth': 8, 'n_estimators': 98, 'l2_leaf_reg': 0.014073519792189126}. Best is trial 14 with value: 0.7745502718847208.\n",
      "[I 2024-03-13 13:42:00,184] Trial 17 finished with value: 0.7696073032677025 and parameters: {'learning_rate': 0.06708024792936466, 'max_depth': 7, 'n_estimators': 73, 'l2_leaf_reg': 0.3979438631468142}. Best is trial 14 with value: 0.7745502718847208.\n",
      "[I 2024-03-13 13:42:11,700] Trial 18 finished with value: 0.7597289892028953 and parameters: {'learning_rate': 0.05168487418589951, 'max_depth': 4, 'n_estimators': 148, 'l2_leaf_reg': 0.5947804858108485}. Best is trial 14 with value: 0.7745502718847208.\n",
      "[I 2024-03-13 13:42:20,707] Trial 19 finished with value: 0.767102810538255 and parameters: {'learning_rate': 0.08327555250928599, 'max_depth': 5, 'n_estimators': 90, 'l2_leaf_reg': 0.221195185635511}. Best is trial 14 with value: 0.7745502718847208.\n",
      "[I 2024-03-13 13:42:29,661] Trial 20 finished with value: 0.7681185869319457 and parameters: {'learning_rate': 0.07344534474921527, 'max_depth': 6, 'n_estimators': 72, 'l2_leaf_reg': 0.4538522076272879}. Best is trial 14 with value: 0.7745502718847208.\n",
      "[I 2024-03-13 13:42:40,253] Trial 21 finished with value: 0.7708162600067613 and parameters: {'learning_rate': 0.0940902310137845, 'max_depth': 7, 'n_estimators': 81, 'l2_leaf_reg': 0.3195413771455159}. Best is trial 14 with value: 0.7745502718847208.\n",
      "[I 2024-03-13 13:42:49,405] Trial 22 finished with value: 0.7586395866281382 and parameters: {'learning_rate': 0.08879039732640637, 'max_depth': 7, 'n_estimators': 61, 'l2_leaf_reg': 0.25833732364014605}. Best is trial 14 with value: 0.7745502718847208.\n",
      "[I 2024-03-13 13:43:03,839] Trial 23 finished with value: 0.7581894718437243 and parameters: {'learning_rate': 0.07942178486919496, 'max_depth': 8, 'n_estimators': 93, 'l2_leaf_reg': 0.4565366929898728}. Best is trial 14 with value: 0.7745502718847208.\n",
      "[I 2024-03-13 13:43:13,825] Trial 24 finished with value: 0.7655363063746029 and parameters: {'learning_rate': 0.0624450489150531, 'max_depth': 6, 'n_estimators': 78, 'l2_leaf_reg': 0.3187354413894977}. Best is trial 14 with value: 0.7745502718847208.\n"
     ]
    },
    {
     "name": "stderr",
     "output_type": "stream",
     "text": [
      "[I 2024-03-13 13:43:25,238] A new study created in memory with name: no-name-0336a7ad-64cf-43d3-b265-c6dbf89f87a5\n"
     ]
    },
    {
     "data": {
      "application/vnd.jupyter.widget-view+json": {
       "model_id": "e996f569f4e94b68a6b8a0b4576d63dc",
       "version_major": 2,
       "version_minor": 0
      },
      "text/plain": [
       "  0%|          | 0/25 [00:00<?, ?it/s]"
      ]
     },
     "metadata": {},
     "output_type": "display_data"
    },
    {
     "name": "stdout",
     "output_type": "stream",
     "text": [
      "[I 2024-03-13 13:43:34,376] Trial 0 finished with value: 0.7287718463152209 and parameters: {'learning_rate': 0.09813294295205202, 'max_depth': 5, 'n_estimators': 111, 'l2_leaf_reg': 0.10995183124480135}. Best is trial 0 with value: 0.7287718463152209.\n",
      "[I 2024-03-13 13:43:47,010] Trial 1 finished with value: 0.7139206616742125 and parameters: {'learning_rate': 0.08637040312184484, 'max_depth': 8, 'n_estimators': 99, 'l2_leaf_reg': 0.36716022743564847}. Best is trial 0 with value: 0.7287718463152209.\n",
      "[I 2024-03-13 13:43:54,332] Trial 2 finished with value: 0.7170123063559486 and parameters: {'learning_rate': 0.0937921162582543, 'max_depth': 2, 'n_estimators': 106, 'l2_leaf_reg': 0.7322763902084779}. Best is trial 0 with value: 0.7287718463152209.\n",
      "[I 2024-03-13 13:44:02,479] Trial 3 finished with value: 0.7126990639984236 and parameters: {'learning_rate': 0.09091978346459982, 'max_depth': 6, 'n_estimators': 76, 'l2_leaf_reg': 0.3627454630522219}. Best is trial 0 with value: 0.7287718463152209.\n",
      "[I 2024-03-13 13:44:16,596] Trial 4 finished with value: 0.7230856609416064 and parameters: {'learning_rate': 0.01232136369864167, 'max_depth': 6, 'n_estimators': 147, 'l2_leaf_reg': 0.13509411003820615}. Best is trial 0 with value: 0.7287718463152209.\n",
      "[I 2024-03-13 13:44:27,701] Trial 5 finished with value: 0.7225435529817252 and parameters: {'learning_rate': 0.004759161818927073, 'max_depth': 6, 'n_estimators': 101, 'l2_leaf_reg': 0.27049882443737205}. Best is trial 0 with value: 0.7287718463152209.\n",
      "[I 2024-03-13 13:44:39,142] Trial 6 finished with value: 0.7245319176201839 and parameters: {'learning_rate': 0.0038432219798014643, 'max_depth': 6, 'n_estimators': 88, 'l2_leaf_reg': 0.26330483787977865}. Best is trial 0 with value: 0.7287718463152209.\n",
      "[I 2024-03-13 13:44:46,090] Trial 7 finished with value: 0.7105163096409585 and parameters: {'learning_rate': 0.09105450824487889, 'max_depth': 6, 'n_estimators': 54, 'l2_leaf_reg': 0.14526726577059668}. Best is trial 0 with value: 0.7287718463152209.\n",
      "[I 2024-03-13 13:45:03,868] Trial 8 finished with value: 0.720039680548147 and parameters: {'learning_rate': 0.07590801508635922, 'max_depth': 7, 'n_estimators': 123, 'l2_leaf_reg': 0.9822162314710079}. Best is trial 0 with value: 0.7287718463152209.\n",
      "[I 2024-03-13 13:45:22,769] Trial 9 finished with value: 0.717128989371981 and parameters: {'learning_rate': 0.09865524455506845, 'max_depth': 7, 'n_estimators': 130, 'l2_leaf_reg': 0.385449426592668}. Best is trial 0 with value: 0.7287718463152209.\n",
      "[I 2024-03-13 13:45:29,414] Trial 10 finished with value: 0.7143382225749078 and parameters: {'learning_rate': 0.04271961948682408, 'max_depth': 3, 'n_estimators': 68, 'l2_leaf_reg': 0.004321092717401678}. Best is trial 0 with value: 0.7287718463152209.\n",
      "[I 2024-03-13 13:45:38,530] Trial 11 finished with value: 0.7200408168466779 and parameters: {'learning_rate': 0.04886465713516305, 'max_depth': 4, 'n_estimators': 85, 'l2_leaf_reg': 0.5813680915445973}. Best is trial 0 with value: 0.7287718463152209.\n",
      "[I 2024-03-13 13:45:49,942] Trial 12 finished with value: 0.7197995892766187 and parameters: {'learning_rate': 0.02835179054705529, 'max_depth': 4, 'n_estimators': 117, 'l2_leaf_reg': 0.0027149608088400112}. Best is trial 0 with value: 0.7287718463152209.\n",
      "[I 2024-03-13 13:45:57,423] Trial 13 finished with value: 0.715555544813525 and parameters: {'learning_rate': 0.0708321812674581, 'max_depth': 5, 'n_estimators': 87, 'l2_leaf_reg': 0.19638228803382826}. Best is trial 0 with value: 0.7287718463152209.\n",
      "[I 2024-03-13 13:46:08,158] Trial 14 finished with value: 0.7301361366152803 and parameters: {'learning_rate': 0.06094269185409516, 'max_depth': 5, 'n_estimators': 139, 'l2_leaf_reg': 0.5668956161839745}. Best is trial 14 with value: 0.7301361366152803.\n",
      "[I 2024-03-13 13:46:18,334] Trial 15 finished with value: 0.718336142020579 and parameters: {'learning_rate': 0.0625339694863041, 'max_depth': 4, 'n_estimators': 144, 'l2_leaf_reg': 0.6200701415854375}. Best is trial 14 with value: 0.7301361366152803.\n",
      "[I 2024-03-13 13:46:27,450] Trial 16 finished with value: 0.7238962179158291 and parameters: {'learning_rate': 0.038242970123367345, 'max_depth': 5, 'n_estimators': 134, 'l2_leaf_reg': 0.8161479685703592}. Best is trial 14 with value: 0.7301361366152803.\n",
      "[I 2024-03-13 13:46:35,456] Trial 17 finished with value: 0.7203788246375732 and parameters: {'learning_rate': 0.059565159478090504, 'max_depth': 3, 'n_estimators': 116, 'l2_leaf_reg': 0.5084878795348602}. Best is trial 14 with value: 0.7301361366152803.\n",
      "[I 2024-03-13 13:46:44,819] Trial 18 finished with value: 0.7276813114093366 and parameters: {'learning_rate': 0.07857760662350115, 'max_depth': 5, 'n_estimators': 135, 'l2_leaf_reg': 0.7150180680169264}. Best is trial 14 with value: 0.7301361366152803.\n",
      "[I 2024-03-13 13:46:52,588] Trial 19 finished with value: 0.709990666458204 and parameters: {'learning_rate': 0.027713768686498802, 'max_depth': 3, 'n_estimators': 111, 'l2_leaf_reg': 0.4591063428111891}. Best is trial 14 with value: 0.7301361366152803.\n",
      "[I 2024-03-13 13:47:05,183] Trial 20 finished with value: 0.7286516314768184 and parameters: {'learning_rate': 0.060996910783396995, 'max_depth': 5, 'n_estimators': 125, 'l2_leaf_reg': 0.5866129541031728}. Best is trial 14 with value: 0.7301361366152803.\n",
      "[I 2024-03-13 13:47:15,318] Trial 21 finished with value: 0.7304863076855146 and parameters: {'learning_rate': 0.060779822431532626, 'max_depth': 5, 'n_estimators': 125, 'l2_leaf_reg': 0.5883480208578004}. Best is trial 21 with value: 0.7304863076855146.\n",
      "[I 2024-03-13 13:47:24,495] Trial 22 finished with value: 0.7226699987429388 and parameters: {'learning_rate': 0.051835078183121046, 'max_depth': 4, 'n_estimators': 143, 'l2_leaf_reg': 0.7004867201231175}. Best is trial 21 with value: 0.7304863076855146.\n",
      "[I 2024-03-13 13:47:36,591] Trial 23 finished with value: 0.7237100659610407 and parameters: {'learning_rate': 0.06664748925652617, 'max_depth': 5, 'n_estimators': 137, 'l2_leaf_reg': 0.8421012999909654}. Best is trial 21 with value: 0.7304863076855146.\n",
      "[I 2024-03-13 13:47:56,427] Trial 24 finished with value: 0.7222976954944456 and parameters: {'learning_rate': 0.07741783193937046, 'max_depth': 7, 'n_estimators': 124, 'l2_leaf_reg': 0.4850704512976363}. Best is trial 21 with value: 0.7304863076855146.\n"
     ]
    },
    {
     "name": "stderr",
     "output_type": "stream",
     "text": [
      "[I 2024-03-13 13:48:17,127] A new study created in memory with name: no-name-b47ff0c9-5132-46c9-b3a3-4c1249a7aa4c\n"
     ]
    },
    {
     "data": {
      "application/vnd.jupyter.widget-view+json": {
       "model_id": "3c8d58c3bd0745be9e6f67fb48c272f8",
       "version_major": 2,
       "version_minor": 0
      },
      "text/plain": [
       "  0%|          | 0/25 [00:00<?, ?it/s]"
      ]
     },
     "metadata": {},
     "output_type": "display_data"
    },
    {
     "name": "stdout",
     "output_type": "stream",
     "text": [
      "[I 2024-03-13 13:48:35,761] Trial 0 finished with value: 0.791766479588055 and parameters: {'learning_rate': 0.014681733934572165, 'max_depth': 4, 'n_estimators': 141, 'l2_leaf_reg': 0.30452844254146805}. Best is trial 0 with value: 0.791766479588055.\n",
      "[I 2024-03-13 13:48:52,934] Trial 1 finished with value: 0.7905449484212851 and parameters: {'learning_rate': 0.07307034962082654, 'max_depth': 4, 'n_estimators': 125, 'l2_leaf_reg': 0.13535417499884683}. Best is trial 0 with value: 0.791766479588055.\n",
      "[I 2024-03-13 13:49:14,895] Trial 2 finished with value: 0.7852449906107988 and parameters: {'learning_rate': 0.088899969715525, 'max_depth': 5, 'n_estimators': 141, 'l2_leaf_reg': 0.21539098570104298}. Best is trial 0 with value: 0.791766479588055.\n",
      "[I 2024-03-13 13:49:34,152] Trial 3 finished with value: 0.7938754661936036 and parameters: {'learning_rate': 0.06842657361294403, 'max_depth': 4, 'n_estimators': 145, 'l2_leaf_reg': 0.6396356632320398}. Best is trial 3 with value: 0.7938754661936036.\n",
      "[I 2024-03-13 13:49:58,486] Trial 4 finished with value: 0.7960743844303799 and parameters: {'learning_rate': 0.02287557939642656, 'max_depth': 6, 'n_estimators': 131, 'l2_leaf_reg': 0.7254035634176983}. Best is trial 4 with value: 0.7960743844303799.\n",
      "[I 2024-03-13 13:50:11,318] Trial 5 finished with value: 0.7918936439284548 and parameters: {'learning_rate': 0.0902398939078409, 'max_depth': 3, 'n_estimators': 105, 'l2_leaf_reg': 0.8929736935710845}. Best is trial 4 with value: 0.7960743844303799.\n",
      "[I 2024-03-13 13:50:29,874] Trial 6 finished with value: 0.7920024841160132 and parameters: {'learning_rate': 0.04400605038729039, 'max_depth': 7, 'n_estimators': 81, 'l2_leaf_reg': 0.6801044073042367}. Best is trial 4 with value: 0.7960743844303799.\n",
      "[I 2024-03-13 13:50:45,837] Trial 7 finished with value: 0.7933204356468758 and parameters: {'learning_rate': 0.014852158062642978, 'max_depth': 4, 'n_estimators': 108, 'l2_leaf_reg': 0.9369267937144619}. Best is trial 4 with value: 0.7960743844303799.\n",
      "[I 2024-03-13 13:51:08,169] Trial 8 finished with value: 0.7760172601265649 and parameters: {'learning_rate': 0.09316249244992908, 'max_depth': 5, 'n_estimators': 140, 'l2_leaf_reg': 0.9070508435841598}. Best is trial 4 with value: 0.7960743844303799.\n",
      "[I 2024-03-13 13:51:24,025] Trial 9 finished with value: 0.7902918255367996 and parameters: {'learning_rate': 0.08043294605417627, 'max_depth': 3, 'n_estimators': 113, 'l2_leaf_reg': 0.23790161094087925}. Best is trial 4 with value: 0.7960743844303799.\n",
      "[I 2024-03-13 13:51:37,951] Trial 10 finished with value: 0.7858039460903814 and parameters: {'learning_rate': 0.03600301221135043, 'max_depth': 8, 'n_estimators': 52, 'l2_leaf_reg': 0.47473436642653355}. Best is trial 4 with value: 0.7960743844303799.\n",
      "[I 2024-03-13 13:52:04,836] Trial 11 finished with value: 0.7877842204545604 and parameters: {'learning_rate': 0.06062270095580213, 'max_depth': 6, 'n_estimators': 150, 'l2_leaf_reg': 0.661035300324607}. Best is trial 4 with value: 0.7960743844303799.\n",
      "[I 2024-03-13 13:52:17,162] Trial 12 finished with value: 0.792337110667528 and parameters: {'learning_rate': 0.03099709389605459, 'max_depth': 2, 'n_estimators': 126, 'l2_leaf_reg': 0.6943309416553631}. Best is trial 4 with value: 0.7960743844303799.\n",
      "[I 2024-03-13 13:52:35,425] Trial 13 finished with value: 0.7842391423482892 and parameters: {'learning_rate': 0.002374265752546536, 'max_depth': 6, 'n_estimators': 88, 'l2_leaf_reg': 0.502463566665167}. Best is trial 4 with value: 0.7960743844303799.\n",
      "[I 2024-03-13 13:52:58,994] Trial 14 finished with value: 0.7919563843810906 and parameters: {'learning_rate': 0.06036864373026786, 'max_depth': 6, 'n_estimators': 126, 'l2_leaf_reg': 0.7681998697864887}. Best is trial 4 with value: 0.7960743844303799.\n",
      "[I 2024-03-13 13:53:34,770] Trial 15 finished with value: 0.7865521219201698 and parameters: {'learning_rate': 0.05696956813810572, 'max_depth': 8, 'n_estimators': 150, 'l2_leaf_reg': 0.4966918179588547}. Best is trial 4 with value: 0.7960743844303799.\n",
      "[I 2024-03-13 13:53:53,905] Trial 16 finished with value: 0.7963580146901915 and parameters: {'learning_rate': 0.0248723752831827, 'max_depth': 7, 'n_estimators': 88, 'l2_leaf_reg': 0.8082396281602133}. Best is trial 16 with value: 0.7963580146901915.\n",
      "[I 2024-03-13 13:54:08,196] Trial 17 finished with value: 0.7922657221361218 and parameters: {'learning_rate': 0.022841655828772824, 'max_depth': 7, 'n_estimators': 70, 'l2_leaf_reg': 0.7787849758489302}. Best is trial 16 with value: 0.7963580146901915.\n",
      "[I 2024-03-13 13:54:28,277] Trial 18 finished with value: 0.7933934031839209 and parameters: {'learning_rate': 0.04385940880609037, 'max_depth': 7, 'n_estimators': 91, 'l2_leaf_reg': 0.8189902271836837}. Best is trial 16 with value: 0.7963580146901915.\n",
      "[I 2024-03-13 13:54:45,236] Trial 19 finished with value: 0.7874500032143359 and parameters: {'learning_rate': 0.0013998715465413786, 'max_depth': 7, 'n_estimators': 71, 'l2_leaf_reg': 0.9791975043818932}. Best is trial 16 with value: 0.7963580146901915.\n",
      "[I 2024-03-13 13:55:02,706] Trial 20 finished with value: 0.7956839290611637 and parameters: {'learning_rate': 0.029022257292416753, 'max_depth': 6, 'n_estimators': 97, 'l2_leaf_reg': 0.015174349873643633}. Best is trial 16 with value: 0.7963580146901915.\n",
      "[I 2024-03-13 13:55:21,817] Trial 21 finished with value: 0.7929200816137197 and parameters: {'learning_rate': 0.02700744006802243, 'max_depth': 6, 'n_estimators': 100, 'l2_leaf_reg': 0.36939492007463437}. Best is trial 16 with value: 0.7963580146901915.\n",
      "[I 2024-03-13 13:55:38,950] Trial 22 finished with value: 0.7917896558357481 and parameters: {'learning_rate': 0.015323751857086197, 'max_depth': 6, 'n_estimators': 92, 'l2_leaf_reg': 0.024701045836498015}. Best is trial 16 with value: 0.7963580146901915.\n",
      "[I 2024-03-13 13:56:07,145] Trial 23 finished with value: 0.7856579821534001 and parameters: {'learning_rate': 0.04162264608173112, 'max_depth': 8, 'n_estimators': 116, 'l2_leaf_reg': 0.5891709524378885}. Best is trial 16 with value: 0.7963580146901915.\n",
      "[I 2024-03-13 13:56:21,249] Trial 24 finished with value: 0.7855630220741223 and parameters: {'learning_rate': 0.023264268859676578, 'max_depth': 5, 'n_estimators': 82, 'l2_leaf_reg': 0.8302630619256246}. Best is trial 16 with value: 0.7963580146901915.\n"
     ]
    }
   ],
   "source": [
    "\n",
    "\n",
    "scores = []\n",
    "for i in range(0, len(dataset)):\n",
    "    x_train, y_train, x_val, y_val, x_test, y_test = dataset[i][0], dataset[i][1], dataset[i][2], dataset[i][3], dataset[i][4], dataset[i][5]\n",
    "    best_params = find_best_model(\"cat\", x_train, y_train, x_val, y_val, trials=25)\n",
    "    cat_clf = CatBoostClassifier(**best_params.params, random_seed=42).fit(x_train, y_train, eval_set=[(x_val, y_val)], verbose=False)\n",
    "    y_pred = cat_clf.predict_proba(x_test)\n",
    "    scores.append(roc_auc_score(y_test, y_pred[:,1]))\n",
    "mean =  np.mean(np.array(scores))\n"
   ]
  },
  {
   "cell_type": "code",
   "execution_count": 4,
   "metadata": {},
   "outputs": [
    {
     "name": "stdout",
     "output_type": "stream",
     "text": [
      "[0.8062313044452484, 0.7971450711227592, 0.6871483319792024, 0.7846146392303832, 0.714212513969113]\n",
      "0.7578703721493413\n"
     ]
    }
   ],
   "source": [
    "print(scores)\n",
    "print(mean)"
   ]
  }
 ],
 "metadata": {
  "kernelspec": {
   "display_name": "Python 3 (ipykernel)",
   "language": "python",
   "name": "python3"
  },
  "language_info": {
   "codemirror_mode": {
    "name": "ipython",
    "version": 3
   },
   "file_extension": ".py",
   "mimetype": "text/x-python",
   "name": "python",
   "nbconvert_exporter": "python",
   "pygments_lexer": "ipython3",
   "version": "3.11.8"
  }
 },
 "nbformat": 4,
 "nbformat_minor": 4
}
