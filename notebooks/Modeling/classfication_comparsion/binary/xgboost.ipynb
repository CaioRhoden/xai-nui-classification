{
 "cells": [
  {
   "cell_type": "markdown",
   "metadata": {},
   "source": [
    "# XGBoost Evaluation"
   ]
  },
  {
   "cell_type": "markdown",
   "metadata": {},
   "source": [
    "## 1. Generate Random Data"
   ]
  },
  {
   "cell_type": "code",
   "execution_count": 1,
   "metadata": {},
   "outputs": [],
   "source": [
    "import sys\n",
    "sys.path.append('../../src')\n",
    "\n",
    "import pandas as pd\n",
    "import numpy as np\n",
    "import random\n",
    "from random_data_generator import random_data_generator\n",
    "\n",
    "#tunning\n",
    "from tuning import find_best_model\n",
    "\n",
    "#models\n",
    "from xgboost import XGBClassifier\n",
    "from catboost import CatBoostClassifier, Pool\n",
    "from sklearn.linear_model import LogisticRegression\n",
    "from sklearn.ensemble import RandomForestClassifier\n",
    "from sklearn.neural_network import MLPClassifier\n",
    "\n",
    "#metrics\n",
    "from sklearn.metrics import roc_auc_score\n",
    "\n",
    "random.seed(42)"
   ]
  },
  {
   "cell_type": "code",
   "execution_count": 2,
   "metadata": {},
   "outputs": [],
   "source": [
    "dataset = random_data_generator(\"binary\", 5)\n"
   ]
  },
  {
   "cell_type": "markdown",
   "metadata": {},
   "source": [
    "## 2. XGBoost"
   ]
  },
  {
   "cell_type": "code",
   "execution_count": 3,
   "metadata": {},
   "outputs": [
    {
     "name": "stderr",
     "output_type": "stream",
     "text": [
      "[I 2024-03-13 13:47:45,079] A new study created in memory with name: no-name-7ec6b02e-6c6e-4916-9383-746a4d1e234a\n"
     ]
    },
    {
     "data": {
      "application/vnd.jupyter.widget-view+json": {
       "model_id": "ccee60cfe91b45f981d163c4449b078d",
       "version_major": 2,
       "version_minor": 0
      },
      "text/plain": [
       "  0%|          | 0/25 [00:00<?, ?it/s]"
      ]
     },
     "metadata": {},
     "output_type": "display_data"
    },
    {
     "name": "stdout",
     "output_type": "stream",
     "text": [
      "[I 2024-03-13 13:49:12,416] Trial 0 finished with value: 0.7130515470021098 and parameters: {'n_estimators': 79, 'learning_rate': 0.05414611899791147, 'max_depth': 4, 'subsample': 0.3606311665564293, 'colsample_bytree': 0.7167051793932449, 'min_child_weight': 3, 'gamma': 2.119711757924736}. Best is trial 0 with value: 0.7130515470021098.\n",
      "[I 2024-03-13 13:49:48,621] Trial 1 finished with value: 0.7152228129077933 and parameters: {'n_estimators': 57, 'learning_rate': 0.09554567839601556, 'max_depth': 2, 'subsample': 0.7760409034403136, 'colsample_bytree': 0.7699128621610842, 'min_child_weight': 12, 'gamma': 4.07594920759284}. Best is trial 1 with value: 0.7152228129077933.\n",
      "[I 2024-03-13 13:50:45,479] Trial 2 finished with value: 0.7128139172268446 and parameters: {'n_estimators': 94, 'learning_rate': 0.05837445051745511, 'max_depth': 2, 'subsample': 0.6356596026175128, 'colsample_bytree': 0.6434415415322129, 'min_child_weight': 1, 'gamma': 2.8802255900533935}. Best is trial 1 with value: 0.7152228129077933.\n",
      "[I 2024-03-13 13:54:24,065] Trial 3 finished with value: 0.7138535315642517 and parameters: {'n_estimators': 115, 'learning_rate': 0.049677896399639286, 'max_depth': 8, 'subsample': 0.8649078534303507, 'colsample_bytree': 0.8336505830103075, 'min_child_weight': 1, 'gamma': 4.302706709507039}. Best is trial 1 with value: 0.7152228129077933.\n",
      "[I 2024-03-13 13:58:07,802] Trial 4 finished with value: 0.7084021409620629 and parameters: {'n_estimators': 137, 'learning_rate': 0.007033981565275612, 'max_depth': 7, 'subsample': 0.5993934401227792, 'colsample_bytree': 0.8710139005288149, 'min_child_weight': 2, 'gamma': 4.035970799608857}. Best is trial 1 with value: 0.7152228129077933.\n",
      "[I 2024-03-13 14:00:38,341] Trial 5 finished with value: 0.71693886893923 and parameters: {'n_estimators': 135, 'learning_rate': 0.0995870655841574, 'max_depth': 5, 'subsample': 0.7118002727842345, 'colsample_bytree': 0.8600180264561632, 'min_child_weight': 8, 'gamma': 1.1624010659920554}. Best is trial 5 with value: 0.71693886893923.\n",
      "[I 2024-03-13 14:02:47,544] Trial 6 finished with value: 0.7138874640693695 and parameters: {'n_estimators': 145, 'learning_rate': 0.0434263034334961, 'max_depth': 4, 'subsample': 0.7808608457002213, 'colsample_bytree': 0.8082678863693961, 'min_child_weight': 9, 'gamma': 0.4006179973964519}. Best is trial 5 with value: 0.71693886893923.\n",
      "[I 2024-03-13 14:04:09,661] Trial 7 finished with value: 0.7173318388545136 and parameters: {'n_estimators': 115, 'learning_rate': 0.009937918395303749, 'max_depth': 3, 'subsample': 0.5844616331454449, 'colsample_bytree': 0.6979224579962044, 'min_child_weight': 16, 'gamma': 3.4265994842179177}. Best is trial 7 with value: 0.7173318388545136.\n",
      "[I 2024-03-13 14:07:14,547] Trial 8 finished with value: 0.7180567859987147 and parameters: {'n_estimators': 123, 'learning_rate': 0.08984511670371174, 'max_depth': 7, 'subsample': 0.8791913201040202, 'colsample_bytree': 0.7403083187258721, 'min_child_weight': 15, 'gamma': 4.931598811556556}. Best is trial 8 with value: 0.7180567859987147.\n",
      "[I 2024-03-13 14:08:00,481] Trial 9 finished with value: 0.705813662129971 and parameters: {'n_estimators': 51, 'learning_rate': 0.08425741250146568, 'max_depth': 4, 'subsample': 0.7093719117133546, 'colsample_bytree': 0.7062784445814833, 'min_child_weight': 5, 'gamma': 3.6305141528539284}. Best is trial 8 with value: 0.7180567859987147.\n",
      "[I 2024-03-13 14:10:25,634] Trial 10 finished with value: 0.7180331819840893 and parameters: {'n_estimators': 112, 'learning_rate': 0.0727678129716812, 'max_depth': 6, 'subsample': 0.3982538588121419, 'colsample_bytree': 0.9917028725348841, 'min_child_weight': 19, 'gamma': 4.978471355054128}. Best is trial 8 with value: 0.7180567859987147.\n",
      "[I 2024-03-13 14:12:56,342] Trial 11 finished with value: 0.7117911934641689 and parameters: {'n_estimators': 115, 'learning_rate': 0.07548970560051843, 'max_depth': 6, 'subsample': 0.3877225644625334, 'colsample_bytree': 0.9849631346341287, 'min_child_weight': 20, 'gamma': 4.984324894980087}. Best is trial 8 with value: 0.7180567859987147.\n",
      "[I 2024-03-13 14:16:44,359] Trial 12 finished with value: 0.7226140171732068 and parameters: {'n_estimators': 98, 'learning_rate': 0.0731979591450013, 'max_depth': 7, 'subsample': 0.46653775599916447, 'colsample_bytree': 0.9964612531474508, 'min_child_weight': 20, 'gamma': 4.673626108982789}. Best is trial 12 with value: 0.7226140171732068.\n",
      "[I 2024-03-13 14:20:57,016] Trial 13 finished with value: 0.722719801237456 and parameters: {'n_estimators': 93, 'learning_rate': 0.0704223727136862, 'max_depth': 8, 'subsample': 0.4922246465466788, 'colsample_bytree': 0.9349495612481729, 'min_child_weight': 15, 'gamma': 2.1969087585187252}. Best is trial 13 with value: 0.722719801237456.\n",
      "[I 2024-03-13 14:25:09,745] Trial 14 finished with value: 0.7131262984821707 and parameters: {'n_estimators': 89, 'learning_rate': 0.03077964699790184, 'max_depth': 8, 'subsample': 0.5012486666157357, 'colsample_bytree': 0.924373851686025, 'min_child_weight': 16, 'gamma': 2.167594995012163}. Best is trial 13 with value: 0.722719801237456.\n",
      "[I 2024-03-13 14:28:19,498] Trial 15 finished with value: 0.7195634571751072 and parameters: {'n_estimators': 75, 'learning_rate': 0.06432534398634678, 'max_depth': 7, 'subsample': 0.49217217227697263, 'colsample_bytree': 0.933587285572583, 'min_child_weight': 13, 'gamma': 1.4297390680112956}. Best is trial 13 with value: 0.722719801237456.\n",
      "[I 2024-03-13 14:33:04,521] Trial 16 finished with value: 0.71448132816992 and parameters: {'n_estimators': 100, 'learning_rate': 0.035808413094550066, 'max_depth': 8, 'subsample': 0.301037573958042, 'colsample_bytree': 0.9238373327556435, 'min_child_weight': 18, 'gamma': 2.850112397531943}. Best is trial 13 with value: 0.722719801237456.\n",
      "[I 2024-03-13 14:35:36,173] Trial 17 finished with value: 0.7150453131584426 and parameters: {'n_estimators': 69, 'learning_rate': 0.07277082749768739, 'max_depth': 6, 'subsample': 0.49219059575795926, 'colsample_bytree': 0.9565863657047425, 'min_child_weight': 17, 'gamma': 1.5015075346134357}. Best is trial 13 with value: 0.722719801237456.\n",
      "[I 2024-03-13 14:39:13,039] Trial 18 finished with value: 0.7265048912023154 and parameters: {'n_estimators': 86, 'learning_rate': 0.08137068986848106, 'max_depth': 7, 'subsample': 0.44845597383264885, 'colsample_bytree': 0.8919475883069395, 'min_child_weight': 14, 'gamma': 0.09877440269233606}. Best is trial 18 with value: 0.7265048912023154.\n",
      "[I 2024-03-13 14:43:08,876] Trial 19 finished with value: 0.7154092212093824 and parameters: {'n_estimators': 83, 'learning_rate': 0.08471970297881028, 'max_depth': 8, 'subsample': 0.5406970226723246, 'colsample_bytree': 0.8608885957160914, 'min_child_weight': 13, 'gamma': 0.3046672987194714}. Best is trial 18 with value: 0.7265048912023154.\n",
      "[I 2024-03-13 14:45:17,319] Trial 20 finished with value: 0.71268690603281 and parameters: {'n_estimators': 69, 'learning_rate': 0.02082984735856739, 'max_depth': 5, 'subsample': 0.41916400975732154, 'colsample_bytree': 0.8967065855027438, 'min_child_weight': 10, 'gamma': 0.006022666929208498}. Best is trial 18 with value: 0.7265048912023154.\n",
      "[I 2024-03-13 14:49:32,141] Trial 21 finished with value: 0.7111681526316851 and parameters: {'n_estimators': 102, 'learning_rate': 0.06574135509209142, 'max_depth': 7, 'subsample': 0.4291296349595547, 'colsample_bytree': 0.9601772163705892, 'min_child_weight': 15, 'gamma': 0.95288980550372}. Best is trial 18 with value: 0.7265048912023154.\n",
      "[I 2024-03-13 14:53:19,319] Trial 22 finished with value: 0.7136980579786935 and parameters: {'n_estimators': 90, 'learning_rate': 0.07917134221923751, 'max_depth': 7, 'subsample': 0.46066251258695606, 'colsample_bytree': 0.9998688372693566, 'min_child_weight': 20, 'gamma': 1.8464600464323506}. Best is trial 18 with value: 0.7265048912023154.\n",
      "[I 2024-03-13 14:57:08,716] Trial 23 finished with value: 0.7200918056476099 and parameters: {'n_estimators': 105, 'learning_rate': 0.06572694112041362, 'max_depth': 6, 'subsample': 0.5587287658963339, 'colsample_bytree': 0.9042338087107114, 'min_child_weight': 12, 'gamma': 2.704584402909386}. Best is trial 18 with value: 0.7265048912023154.\n",
      "[I 2024-03-13 15:01:37,626] Trial 24 finished with value: 0.7173952375068913 and parameters: {'n_estimators': 94, 'learning_rate': 0.0916255303083911, 'max_depth': 8, 'subsample': 0.3325791746330794, 'colsample_bytree': 0.9464935028917045, 'min_child_weight': 7, 'gamma': 3.300308288643904}. Best is trial 18 with value: 0.7265048912023154.\n"
     ]
    },
    {
     "name": "stderr",
     "output_type": "stream",
     "text": [
      "[I 2024-03-13 15:05:37,426] A new study created in memory with name: no-name-b952db0a-5033-435b-9d4c-33410f6844ab\n"
     ]
    },
    {
     "data": {
      "application/vnd.jupyter.widget-view+json": {
       "model_id": "136522fd949c4ab99ba287df29b51207",
       "version_major": 2,
       "version_minor": 0
      },
      "text/plain": [
       "  0%|          | 0/25 [00:00<?, ?it/s]"
      ]
     },
     "metadata": {},
     "output_type": "display_data"
    },
    {
     "name": "stdout",
     "output_type": "stream",
     "text": [
      "[I 2024-03-13 15:07:31,054] Trial 0 finished with value: 0.5875386969371073 and parameters: {'n_estimators': 59, 'learning_rate': 0.01641020015734228, 'max_depth': 5, 'subsample': 0.42999619018823754, 'colsample_bytree': 0.9342389987684656, 'min_child_weight': 1, 'gamma': 3.2155316158057574}. Best is trial 0 with value: 0.5875386969371073.\n",
      "[I 2024-03-13 15:11:42,002] Trial 1 finished with value: 0.5918342489587132 and parameters: {'n_estimators': 87, 'learning_rate': 0.044196221600772315, 'max_depth': 8, 'subsample': 0.5794242750038319, 'colsample_bytree': 0.954518026532054, 'min_child_weight': 19, 'gamma': 1.0522031913255014}. Best is trial 1 with value: 0.5918342489587132.\n",
      "[I 2024-03-13 15:15:49,248] Trial 2 finished with value: 0.5967664437017454 and parameters: {'n_estimators': 86, 'learning_rate': 0.08228583787528365, 'max_depth': 8, 'subsample': 0.47918348031698926, 'colsample_bytree': 0.7200577634537271, 'min_child_weight': 7, 'gamma': 0.5003149757892517}. Best is trial 2 with value: 0.5967664437017454.\n",
      "[I 2024-03-13 15:20:35,347] Trial 3 finished with value: 0.6087106044646864 and parameters: {'n_estimators': 130, 'learning_rate': 0.08670655734298059, 'max_depth': 6, 'subsample': 0.7534329342441861, 'colsample_bytree': 0.6916230659570761, 'min_child_weight': 7, 'gamma': 3.1661742682795695}. Best is trial 3 with value: 0.6087106044646864.\n",
      "[I 2024-03-13 15:25:48,452] Trial 4 finished with value: 0.6042115364435827 and parameters: {'n_estimators': 113, 'learning_rate': 0.05935064522660388, 'max_depth': 7, 'subsample': 0.8011272904964686, 'colsample_bytree': 0.6969846670543597, 'min_child_weight': 2, 'gamma': 3.442473106339978}. Best is trial 3 with value: 0.6087106044646864.\n",
      "[I 2024-03-13 15:32:44,638] Trial 5 finished with value: 0.5917855457035286 and parameters: {'n_estimators': 133, 'learning_rate': 0.05294340039009184, 'max_depth': 8, 'subsample': 0.8783100375611748, 'colsample_bytree': 0.9077940747185591, 'min_child_weight': 12, 'gamma': 0.35559813034333365}. Best is trial 3 with value: 0.6087106044646864.\n",
      "[I 2024-03-13 15:37:00,084] Trial 6 finished with value: 0.5915828075171348 and parameters: {'n_estimators': 122, 'learning_rate': 0.05322046230322196, 'max_depth': 5, 'subsample': 0.3554764535989384, 'colsample_bytree': 0.6864049763086495, 'min_child_weight': 14, 'gamma': 3.3321120094007117}. Best is trial 3 with value: 0.6087106044646864.\n",
      "[I 2024-03-13 15:40:03,855] Trial 7 finished with value: 0.6013452035030113 and parameters: {'n_estimators': 63, 'learning_rate': 0.08470066498246805, 'max_depth': 7, 'subsample': 0.8709072980174708, 'colsample_bytree': 0.7557577959980871, 'min_child_weight': 18, 'gamma': 2.853352615826056}. Best is trial 3 with value: 0.6087106044646864.\n",
      "[I 2024-03-13 15:44:20,026] Trial 8 finished with value: 0.5991359834427263 and parameters: {'n_estimators': 93, 'learning_rate': 0.038046887572610016, 'max_depth': 7, 'subsample': 0.4402088176639406, 'colsample_bytree': 0.8082056716619501, 'min_child_weight': 20, 'gamma': 0.5622621105516534}. Best is trial 3 with value: 0.6087106044646864.\n",
      "[I 2024-03-13 15:46:20,930] Trial 9 finished with value: 0.5920204766283826 and parameters: {'n_estimators': 115, 'learning_rate': 0.028894017677672336, 'max_depth': 2, 'subsample': 0.7510277486103556, 'colsample_bytree': 0.9432837152786598, 'min_child_weight': 15, 'gamma': 4.4069565626729315}. Best is trial 3 with value: 0.6087106044646864.\n",
      "[I 2024-03-13 15:50:32,442] Trial 10 finished with value: 0.5939868008988127 and parameters: {'n_estimators': 150, 'learning_rate': 0.09993953943756839, 'max_depth': 4, 'subsample': 0.6791884137549525, 'colsample_bytree': 0.6109709958937117, 'min_child_weight': 7, 'gamma': 1.805142674691003}. Best is trial 3 with value: 0.6087106044646864.\n",
      "[I 2024-03-13 15:55:01,835] Trial 11 finished with value: 0.602484172826641 and parameters: {'n_estimators': 110, 'learning_rate': 0.0700386760820436, 'max_depth': 6, 'subsample': 0.7583698050496125, 'colsample_bytree': 0.6359084958305414, 'min_child_weight': 2, 'gamma': 4.253526837645938}. Best is trial 3 with value: 0.6087106044646864.\n",
      "[I 2024-03-13 16:00:31,057] Trial 12 finished with value: 0.5972950703852242 and parameters: {'n_estimators': 136, 'learning_rate': 0.07523818727811328, 'max_depth': 6, 'subsample': 0.7673012551566384, 'colsample_bytree': 0.7947838276474201, 'min_child_weight': 5, 'gamma': 2.084688336730479}. Best is trial 3 with value: 0.6087106044646864.\n",
      "[I 2024-03-13 16:02:56,203] Trial 13 finished with value: 0.5828233341382661 and parameters: {'n_estimators': 103, 'learning_rate': 0.06361093111006694, 'max_depth': 3, 'subsample': 0.6035300848176892, 'colsample_bytree': 0.6729628493652174, 'min_child_weight': 5, 'gamma': 3.7602591925174407}. Best is trial 3 with value: 0.6087106044646864.\n",
      "[I 2024-03-13 16:08:09,084] Trial 14 finished with value: 0.603817920372817 and parameters: {'n_estimators': 128, 'learning_rate': 0.09747759041409311, 'max_depth': 6, 'subsample': 0.8327589013999106, 'colsample_bytree': 0.8261771911937911, 'min_child_weight': 9, 'gamma': 4.9212256392066305}. Best is trial 3 with value: 0.6087106044646864.\n",
      "[I 2024-03-13 16:15:08,081] Trial 15 finished with value: 0.6050468317496153 and parameters: {'n_estimators': 148, 'learning_rate': 0.0017975319834693942, 'max_depth': 7, 'subsample': 0.6262507466727235, 'colsample_bytree': 0.7431171083119325, 'min_child_weight': 5, 'gamma': 2.5181702245607873}. Best is trial 3 with value: 0.6087106044646864.\n",
      "[I 2024-03-13 16:20:25,553] Trial 16 finished with value: 0.5908577146537489 and parameters: {'n_estimators': 149, 'learning_rate': 0.004625221722475536, 'max_depth': 5, 'subsample': 0.6560980274476744, 'colsample_bytree': 0.8827005565506716, 'min_child_weight': 10, 'gamma': 2.4119466858300562}. Best is trial 3 with value: 0.6087106044646864.\n",
      "[I 2024-03-13 16:24:34,961] Trial 17 finished with value: 0.5915723322811699 and parameters: {'n_estimators': 139, 'learning_rate': 0.0012096923099495058, 'max_depth': 4, 'subsample': 0.5440167580623453, 'colsample_bytree': 0.7405843375436761, 'min_child_weight': 5, 'gamma': 1.679830063972604}. Best is trial 3 with value: 0.6087106044646864.\n",
      "[I 2024-03-13 16:31:06,670] Trial 18 finished with value: 0.5985890264441263 and parameters: {'n_estimators': 142, 'learning_rate': 0.02742314166893609, 'max_depth': 7, 'subsample': 0.683509453155781, 'colsample_bytree': 0.8495375782091773, 'min_child_weight': 8, 'gamma': 2.703686833308458}. Best is trial 3 with value: 0.6087106044646864.\n",
      "[I 2024-03-13 16:36:15,340] Trial 19 finished with value: 0.5998470345005447 and parameters: {'n_estimators': 124, 'learning_rate': 0.015055091993297019, 'max_depth': 6, 'subsample': 0.705817088419701, 'colsample_bytree': 0.773242787579829, 'min_child_weight': 12, 'gamma': 1.117353866206383}. Best is trial 3 with value: 0.6087106044646864.\n",
      "[I 2024-03-13 16:38:25,828] Trial 20 finished with value: 0.6000763467427103 and parameters: {'n_estimators': 76, 'learning_rate': 0.08854643040242868, 'max_depth': 4, 'subsample': 0.5488915663975291, 'colsample_bytree': 0.6480856982263322, 'min_child_weight': 4, 'gamma': 3.917123225735082}. Best is trial 3 with value: 0.6087106044646864.\n",
      "[I 2024-03-13 16:43:55,018] Trial 21 finished with value: 0.5924951097512914 and parameters: {'n_estimators': 115, 'learning_rate': 0.06097685464345794, 'max_depth': 7, 'subsample': 0.7892724347917445, 'colsample_bytree': 0.7124410037140033, 'min_child_weight': 3, 'gamma': 3.215838845689379}. Best is trial 3 with value: 0.6087106044646864.\n",
      "[I 2024-03-13 16:48:59,251] Trial 22 finished with value: 0.5930068607820898 and parameters: {'n_estimators': 106, 'learning_rate': 0.038049366250455796, 'max_depth': 7, 'subsample': 0.8119062948092831, 'colsample_bytree': 0.6878916451381544, 'min_child_weight': 1, 'gamma': 2.4491732796368364}. Best is trial 3 with value: 0.6087106044646864.\n",
      "[I 2024-03-13 16:54:14,670] Trial 23 finished with value: 0.5999989222362848 and parameters: {'n_estimators': 128, 'learning_rate': 0.07185530608608415, 'max_depth': 6, 'subsample': 0.6329529903555892, 'colsample_bytree': 0.7266322122386136, 'min_child_weight': 6, 'gamma': 3.4007132024821773}. Best is trial 3 with value: 0.6087106044646864.\n",
      "[I 2024-03-13 17:02:01,227] Trial 24 finished with value: 0.597064976899147 and parameters: {'n_estimators': 143, 'learning_rate': 0.062091438604004255, 'max_depth': 8, 'subsample': 0.7113211142986777, 'colsample_bytree': 0.6586912850622652, 'min_child_weight': 4, 'gamma': 2.901250036626465}. Best is trial 3 with value: 0.6087106044646864.\n"
     ]
    },
    {
     "name": "stderr",
     "output_type": "stream",
     "text": [
      "[I 2024-03-13 17:08:00,840] A new study created in memory with name: no-name-6f3daa29-49d1-435c-9a4b-f18978379d1b\n"
     ]
    },
    {
     "data": {
      "application/vnd.jupyter.widget-view+json": {
       "model_id": "7d132a5529a346c8aabbac3807622fc7",
       "version_major": 2,
       "version_minor": 0
      },
      "text/plain": [
       "  0%|          | 0/25 [00:00<?, ?it/s]"
      ]
     },
     "metadata": {},
     "output_type": "display_data"
    },
    {
     "name": "stdout",
     "output_type": "stream",
     "text": [
      "[I 2024-03-13 17:09:27,740] Trial 0 finished with value: 0.752365124002296 and parameters: {'n_estimators': 85, 'learning_rate': 0.0937837886178058, 'max_depth': 2, 'subsample': 0.7823335893166139, 'colsample_bytree': 0.7580124949809035, 'min_child_weight': 11, 'gamma': 0.8632422313453947}. Best is trial 0 with value: 0.752365124002296.\n",
      "[I 2024-03-13 17:15:36,522] Trial 1 finished with value: 0.7707545446487836 and parameters: {'n_estimators': 116, 'learning_rate': 0.05632352874104713, 'max_depth': 8, 'subsample': 0.7090844903925562, 'colsample_bytree': 0.7937782769499305, 'min_child_weight': 7, 'gamma': 3.5640467262831628}. Best is trial 1 with value: 0.7707545446487836.\n",
      "[I 2024-03-13 17:16:57,416] Trial 2 finished with value: 0.7559226816876181 and parameters: {'n_estimators': 65, 'learning_rate': 0.08821782874176858, 'max_depth': 3, 'subsample': 0.891583494725662, 'colsample_bytree': 0.6795492981502846, 'min_child_weight': 14, 'gamma': 2.9539123312072184}. Best is trial 1 with value: 0.7707545446487836.\n",
      "[I 2024-03-13 17:20:38,292] Trial 3 finished with value: 0.7633361005188638 and parameters: {'n_estimators': 122, 'learning_rate': 0.06531888818151252, 'max_depth': 4, 'subsample': 0.4369938456709136, 'colsample_bytree': 0.9572331172937559, 'min_child_weight': 5, 'gamma': 0.4535221953756907}. Best is trial 1 with value: 0.7707545446487836.\n",
      "[I 2024-03-13 17:24:05,970] Trial 4 finished with value: 0.7363677135106287 and parameters: {'n_estimators': 140, 'learning_rate': 0.005374211150687651, 'max_depth': 3, 'subsample': 0.5374252066510372, 'colsample_bytree': 0.7236148408874388, 'min_child_weight': 9, 'gamma': 3.053787077769451}. Best is trial 1 with value: 0.7707545446487836.\n",
      "[I 2024-03-13 17:26:26,709] Trial 5 finished with value: 0.7560647740789287 and parameters: {'n_estimators': 133, 'learning_rate': 0.0538402669160132, 'max_depth': 2, 'subsample': 0.6190638684392948, 'colsample_bytree': 0.7868827842871567, 'min_child_weight': 15, 'gamma': 1.806540499044449}. Best is trial 1 with value: 0.7707545446487836.\n",
      "[I 2024-03-13 17:28:41,231] Trial 6 finished with value: 0.7468846530178482 and parameters: {'n_estimators': 126, 'learning_rate': 0.010689522796117061, 'max_depth': 2, 'subsample': 0.3035915199912645, 'colsample_bytree': 0.7450939777441574, 'min_child_weight': 8, 'gamma': 4.309763528503866}. Best is trial 1 with value: 0.7707545446487836.\n",
      "[I 2024-03-13 17:33:48,278] Trial 7 finished with value: 0.7648559569396101 and parameters: {'n_estimators': 147, 'learning_rate': 0.0914567545333176, 'max_depth': 5, 'subsample': 0.6209780459902943, 'colsample_bytree': 0.6871771555461438, 'min_child_weight': 10, 'gamma': 2.222652051175424}. Best is trial 1 with value: 0.7707545446487836.\n",
      "[I 2024-03-13 17:36:55,193] Trial 8 finished with value: 0.7636156191996812 and parameters: {'n_estimators': 80, 'learning_rate': 0.04766546693878774, 'max_depth': 6, 'subsample': 0.6523156950772877, 'colsample_bytree': 0.8878423789672361, 'min_child_weight': 18, 'gamma': 0.5637791438222872}. Best is trial 1 with value: 0.7707545446487836.\n",
      "[I 2024-03-13 17:41:02,968] Trial 9 finished with value: 0.7649176528330871 and parameters: {'n_estimators': 81, 'learning_rate': 0.07408556557300007, 'max_depth': 8, 'subsample': 0.5485327523149165, 'colsample_bytree': 0.9250359815480771, 'min_child_weight': 5, 'gamma': 3.753681488015632}. Best is trial 1 with value: 0.7707545446487836.\n",
      "[I 2024-03-13 17:46:27,235] Trial 10 finished with value: 0.7636516865351912 and parameters: {'n_estimators': 107, 'learning_rate': 0.03105408445366988, 'max_depth': 8, 'subsample': 0.7870376582685716, 'colsample_bytree': 0.8388078540385393, 'min_child_weight': 1, 'gamma': 4.819028072469699}. Best is trial 1 with value: 0.7707545446487836.\n",
      "[I 2024-03-13 17:51:10,420] Trial 11 finished with value: 0.7638648677220949 and parameters: {'n_estimators': 102, 'learning_rate': 0.07006395179047512, 'max_depth': 8, 'subsample': 0.47485579347306317, 'colsample_bytree': 0.996053701771595, 'min_child_weight': 4, 'gamma': 3.9133481823609757}. Best is trial 1 with value: 0.7707545446487836.\n",
      "[I 2024-03-13 17:53:32,647] Trial 12 finished with value: 0.7748216621303134 and parameters: {'n_estimators': 53, 'learning_rate': 0.07293549996551077, 'max_depth': 7, 'subsample': 0.7278572818025504, 'colsample_bytree': 0.6031851863315256, 'min_child_weight': 5, 'gamma': 3.6232485246322}. Best is trial 12 with value: 0.7748216621303134.\n",
      "[I 2024-03-13 17:55:49,340] Trial 13 finished with value: 0.7682050556710125 and parameters: {'n_estimators': 51, 'learning_rate': 0.0430258375272497, 'max_depth': 7, 'subsample': 0.7191961038214528, 'colsample_bytree': 0.6030031895752388, 'min_child_weight': 2, 'gamma': 3.2692754352997127}. Best is trial 12 with value: 0.7748216621303134.\n",
      "[I 2024-03-13 18:00:16,332] Trial 14 finished with value: 0.7670295759948934 and parameters: {'n_estimators': 113, 'learning_rate': 0.03022730974968584, 'max_depth': 6, 'subsample': 0.889940031428716, 'colsample_bytree': 0.6003001700472761, 'min_child_weight': 7, 'gamma': 1.6188378271593296}. Best is trial 12 with value: 0.7748216621303134.\n",
      "[I 2024-03-13 18:04:31,648] Trial 15 finished with value: 0.7679000610748906 and parameters: {'n_estimators': 91, 'learning_rate': 0.07872303248981463, 'max_depth': 7, 'subsample': 0.7162201576432254, 'colsample_bytree': 0.853122683869516, 'min_child_weight': 12, 'gamma': 4.8161711596678085}. Best is trial 12 with value: 0.7748216621303134.\n",
      "[I 2024-03-13 18:07:11,904] Trial 16 finished with value: 0.772258385712555 and parameters: {'n_estimators': 52, 'learning_rate': 0.05785950131202604, 'max_depth': 7, 'subsample': 0.792764895233691, 'colsample_bytree': 0.6615030483493058, 'min_child_weight': 6, 'gamma': 3.64233700140432}. Best is trial 12 with value: 0.7748216621303134.\n",
      "[I 2024-03-13 18:09:27,847] Trial 17 finished with value: 0.7700249585642441 and parameters: {'n_estimators': 52, 'learning_rate': 0.06381741855896099, 'max_depth': 6, 'subsample': 0.8145796331561881, 'colsample_bytree': 0.6617087492882064, 'min_child_weight': 3, 'gamma': 2.642530567183013}. Best is trial 12 with value: 0.7748216621303134.\n",
      "[I 2024-03-13 18:12:47,602] Trial 18 finished with value: 0.7721346123189434 and parameters: {'n_estimators': 66, 'learning_rate': 0.08167037774426554, 'max_depth': 7, 'subsample': 0.8360952081467515, 'colsample_bytree': 0.6491312318799931, 'min_child_weight': 20, 'gamma': 4.213954628977983}. Best is trial 12 with value: 0.7748216621303134.\n",
      "[I 2024-03-13 18:15:20,725] Trial 19 finished with value: 0.7661190607180386 and parameters: {'n_estimators': 68, 'learning_rate': 0.03693993983723137, 'max_depth': 5, 'subsample': 0.6806736345464978, 'colsample_bytree': 0.6395972669858083, 'min_child_weight': 6, 'gamma': 2.395526666276772}. Best is trial 12 with value: 0.7748216621303134.\n",
      "[I 2024-03-13 18:18:21,441] Trial 20 finished with value: 0.75677954362338 and parameters: {'n_estimators': 62, 'learning_rate': 0.01620691557308679, 'max_depth': 7, 'subsample': 0.7466438150959906, 'colsample_bytree': 0.7152728084348026, 'min_child_weight': 3, 'gamma': 4.392654275122411}. Best is trial 12 with value: 0.7748216621303134.\n",
      "[I 2024-03-13 18:21:44,904] Trial 21 finished with value: 0.780526541092686 and parameters: {'n_estimators': 71, 'learning_rate': 0.08229215389607032, 'max_depth': 7, 'subsample': 0.8404091387523869, 'colsample_bytree': 0.6398562759393152, 'min_child_weight': 20, 'gamma': 4.1615514685041255}. Best is trial 21 with value: 0.780526541092686.\n",
      "[I 2024-03-13 18:24:20,994] Trial 22 finished with value: 0.7626751690148349 and parameters: {'n_estimators': 57, 'learning_rate': 0.09893374985491168, 'max_depth': 6, 'subsample': 0.8425939942503846, 'colsample_bytree': 0.6334277932514352, 'min_child_weight': 17, 'gamma': 3.467865557264608}. Best is trial 21 with value: 0.780526541092686.\n",
      "[I 2024-03-13 18:27:55,671] Trial 23 finished with value: 0.7772903146527771 and parameters: {'n_estimators': 71, 'learning_rate': 0.06146951713601754, 'max_depth': 7, 'subsample': 0.7650280020977142, 'colsample_bytree': 0.6919269990476398, 'min_child_weight': 12, 'gamma': 4.029230552682865}. Best is trial 21 with value: 0.780526541092686.\n",
      "[I 2024-03-13 18:31:07,886] Trial 24 finished with value: 0.7701117093251436 and parameters: {'n_estimators': 73, 'learning_rate': 0.08208631620063972, 'max_depth': 6, 'subsample': 0.7556909469088867, 'colsample_bytree': 0.6931443155567173, 'min_child_weight': 13, 'gamma': 4.112266932174285}. Best is trial 21 with value: 0.780526541092686.\n"
     ]
    },
    {
     "name": "stderr",
     "output_type": "stream",
     "text": [
      "[I 2024-03-13 18:34:51,604] A new study created in memory with name: no-name-c867c841-dcef-4333-bfa6-9ad1106ff892\n"
     ]
    },
    {
     "data": {
      "application/vnd.jupyter.widget-view+json": {
       "model_id": "15aecdaee7f4490291150ceb45e1cf14",
       "version_major": 2,
       "version_minor": 0
      },
      "text/plain": [
       "  0%|          | 0/25 [00:00<?, ?it/s]"
      ]
     },
     "metadata": {},
     "output_type": "display_data"
    },
    {
     "name": "stdout",
     "output_type": "stream",
     "text": [
      "[I 2024-03-13 18:38:12,690] Trial 0 finished with value: 0.7275495366174731 and parameters: {'n_estimators': 141, 'learning_rate': 0.05275857661735221, 'max_depth': 3, 'subsample': 0.6513999515532688, 'colsample_bytree': 0.9431866322936762, 'min_child_weight': 5, 'gamma': 2.2537495436000814}. Best is trial 0 with value: 0.7275495366174731.\n",
      "[I 2024-03-13 18:39:24,103] Trial 1 finished with value: 0.7267690658416364 and parameters: {'n_estimators': 66, 'learning_rate': 0.07932520589005021, 'max_depth': 2, 'subsample': 0.4940398592495343, 'colsample_bytree': 0.9902162474128013, 'min_child_weight': 11, 'gamma': 1.8490224191932985}. Best is trial 0 with value: 0.7275495366174731.\n",
      "[I 2024-03-13 18:44:09,376] Trial 2 finished with value: 0.7221339830174635 and parameters: {'n_estimators': 83, 'learning_rate': 0.056226239033984944, 'max_depth': 8, 'subsample': 0.8297046447330148, 'colsample_bytree': 0.9680896448169379, 'min_child_weight': 18, 'gamma': 4.347575810699177}. Best is trial 0 with value: 0.7275495366174731.\n",
      "[I 2024-03-13 18:49:41,245] Trial 3 finished with value: 0.7238400788604124 and parameters: {'n_estimators': 131, 'learning_rate': 0.09990858058188416, 'max_depth': 6, 'subsample': 0.623148995282905, 'colsample_bytree': 0.6655611255119978, 'min_child_weight': 16, 'gamma': 2.6098934759540358}. Best is trial 0 with value: 0.7275495366174731.\n",
      "[I 2024-03-13 18:54:10,149] Trial 4 finished with value: 0.7326125284249647 and parameters: {'n_estimators': 80, 'learning_rate': 0.08121990572993323, 'max_depth': 8, 'subsample': 0.6961112828104956, 'colsample_bytree': 0.6522735252561047, 'min_child_weight': 13, 'gamma': 3.8377768734366438}. Best is trial 4 with value: 0.7326125284249647.\n",
      "[I 2024-03-13 18:55:50,734] Trial 5 finished with value: 0.7263896181570142 and parameters: {'n_estimators': 93, 'learning_rate': 0.011215832846129915, 'max_depth': 2, 'subsample': 0.6947076310450417, 'colsample_bytree': 0.812533825644611, 'min_child_weight': 20, 'gamma': 4.124399875735521}. Best is trial 4 with value: 0.7326125284249647.\n",
      "[I 2024-03-13 18:59:14,969] Trial 6 finished with value: 0.7254072787176806 and parameters: {'n_estimators': 92, 'learning_rate': 0.024873398344630166, 'max_depth': 5, 'subsample': 0.38829793714556987, 'colsample_bytree': 0.8184103613208136, 'min_child_weight': 7, 'gamma': 0.15750027182870607}. Best is trial 4 with value: 0.7326125284249647.\n",
      "[I 2024-03-13 19:01:39,737] Trial 7 finished with value: 0.7222143075771693 and parameters: {'n_estimators': 77, 'learning_rate': 0.046506202967589276, 'max_depth': 4, 'subsample': 0.8438691491976766, 'colsample_bytree': 0.6918978048589493, 'min_child_weight': 13, 'gamma': 1.031935333590504}. Best is trial 4 with value: 0.7326125284249647.\n",
      "[I 2024-03-13 19:03:13,277] Trial 8 finished with value: 0.7181885879258173 and parameters: {'n_estimators': 86, 'learning_rate': 0.0454255514571545, 'max_depth': 2, 'subsample': 0.6331046021089466, 'colsample_bytree': 0.9018736853597659, 'min_child_weight': 6, 'gamma': 3.906715588956034}. Best is trial 4 with value: 0.7326125284249647.\n",
      "[I 2024-03-13 19:07:14,435] Trial 9 finished with value: 0.7239599479868237 and parameters: {'n_estimators': 139, 'learning_rate': 0.0030180847079681497, 'max_depth': 4, 'subsample': 0.8214446832055362, 'colsample_bytree': 0.6036040088552475, 'min_child_weight': 17, 'gamma': 4.303441846692975}. Best is trial 4 with value: 0.7326125284249647.\n",
      "[I 2024-03-13 19:13:50,328] Trial 10 finished with value: 0.7394455728633211 and parameters: {'n_estimators': 118, 'learning_rate': 0.0802053004336762, 'max_depth': 8, 'subsample': 0.30842097778964606, 'colsample_bytree': 0.686199930045275, 'min_child_weight': 2, 'gamma': 2.979284939742109}. Best is trial 10 with value: 0.7394455728633211.\n",
      "[I 2024-03-13 19:20:07,391] Trial 11 finished with value: 0.7280438647167965 and parameters: {'n_estimators': 115, 'learning_rate': 0.07770407393189682, 'max_depth': 8, 'subsample': 0.3045208893138795, 'colsample_bytree': 0.7191127615076742, 'min_child_weight': 2, 'gamma': 3.1834473065106517}. Best is trial 10 with value: 0.7394455728633211.\n",
      "[I 2024-03-13 19:22:40,594] Trial 12 finished with value: 0.7275629443695155 and parameters: {'n_estimators': 52, 'learning_rate': 0.08262389752625893, 'max_depth': 7, 'subsample': 0.5073503335421508, 'colsample_bytree': 0.604752522472756, 'min_child_weight': 13, 'gamma': 3.269975722406122}. Best is trial 10 with value: 0.7394455728633211.\n",
      "[I 2024-03-13 19:28:20,591] Trial 13 finished with value: 0.7316647288006477 and parameters: {'n_estimators': 116, 'learning_rate': 0.09904233455179709, 'max_depth': 7, 'subsample': 0.7514905129988008, 'colsample_bytree': 0.7436687937290232, 'min_child_weight': 1, 'gamma': 4.8620721179703645}. Best is trial 10 with value: 0.7394455728633211.\n",
      "[I 2024-03-13 19:33:46,081] Trial 14 finished with value: 0.7283581068959457 and parameters: {'n_estimators': 110, 'learning_rate': 0.06597915084400634, 'max_depth': 7, 'subsample': 0.5396906267707681, 'colsample_bytree': 0.6520460220946682, 'min_child_weight': 8, 'gamma': 3.327407687720566}. Best is trial 10 with value: 0.7394455728633211.\n",
      "[I 2024-03-13 19:39:08,828] Trial 15 finished with value: 0.7280001265133309 and parameters: {'n_estimators': 101, 'learning_rate': 0.06893193926420171, 'max_depth': 8, 'subsample': 0.4177598912270766, 'colsample_bytree': 0.7466436560893152, 'min_child_weight': 10, 'gamma': 1.5033494580540299}. Best is trial 10 with value: 0.7394455728633211.\n",
      "[I 2024-03-13 19:44:34,544] Trial 16 finished with value: 0.7309179859594337 and parameters: {'n_estimators': 126, 'learning_rate': 0.08758833180945187, 'max_depth': 6, 'subsample': 0.7361536006076135, 'colsample_bytree': 0.7783437735494855, 'min_child_weight': 3, 'gamma': 2.598083360860593}. Best is trial 10 with value: 0.7394455728633211.\n",
      "[I 2024-03-13 19:50:43,828] Trial 17 finished with value: 0.7217416405469705 and parameters: {'n_estimators': 150, 'learning_rate': 0.06428364520458257, 'max_depth': 6, 'subsample': 0.5727603676803084, 'colsample_bytree': 0.8634377716303208, 'min_child_weight': 14, 'gamma': 4.9654415193375225}. Best is trial 10 with value: 0.7394455728633211.\n",
      "[I 2024-03-13 19:54:27,450] Trial 18 finished with value: 0.7297943883431172 and parameters: {'n_estimators': 69, 'learning_rate': 0.03601999387118211, 'max_depth': 8, 'subsample': 0.30639693029786075, 'colsample_bytree': 0.6439704683925171, 'min_child_weight': 10, 'gamma': 3.5148297654000427}. Best is trial 10 with value: 0.7394455728633211.\n",
      "[I 2024-03-13 19:59:17,364] Trial 19 finished with value: 0.72808874349844 and parameters: {'n_estimators': 104, 'learning_rate': 0.0881617418244745, 'max_depth': 7, 'subsample': 0.891217038420767, 'colsample_bytree': 0.6961975695683641, 'min_child_weight': 4, 'gamma': 2.7842566074023494}. Best is trial 10 with value: 0.7394455728633211.\n",
      "[I 2024-03-13 20:01:06,888] Trial 20 finished with value: 0.7233415111964074 and parameters: {'n_estimators': 51, 'learning_rate': 0.06988059463637791, 'max_depth': 5, 'subsample': 0.43230183933769045, 'colsample_bytree': 0.773562901247583, 'min_child_weight': 8, 'gamma': 3.6634442640529854}. Best is trial 10 with value: 0.7394455728633211.\n",
      "[I 2024-03-13 20:06:31,980] Trial 21 finished with value: 0.7247622734597269 and parameters: {'n_estimators': 117, 'learning_rate': 0.0944620876086514, 'max_depth': 7, 'subsample': 0.7442374104019933, 'colsample_bytree': 0.7327511492350068, 'min_child_weight': 1, 'gamma': 4.816050895285139}. Best is trial 10 with value: 0.7394455728633211.\n",
      "[I 2024-03-13 20:12:51,997] Trial 22 finished with value: 0.7366129718882736 and parameters: {'n_estimators': 124, 'learning_rate': 0.09635744287596211, 'max_depth': 8, 'subsample': 0.7488523869313929, 'colsample_bytree': 0.6872768150024866, 'min_child_weight': 1, 'gamma': 4.543639284178287}. Best is trial 10 with value: 0.7394455728633211.\n",
      "[I 2024-03-13 20:19:15,106] Trial 23 finished with value: 0.7261361414363203 and parameters: {'n_estimators': 124, 'learning_rate': 0.09006732435764965, 'max_depth': 8, 'subsample': 0.6853091160648676, 'colsample_bytree': 0.6305767844331773, 'min_child_weight': 4, 'gamma': 4.503573487413355}. Best is trial 10 with value: 0.7394455728633211.\n",
      "[I 2024-03-13 20:24:42,792] Trial 24 finished with value: 0.7337494843512201 and parameters: {'n_estimators': 106, 'learning_rate': 0.07671820119700856, 'max_depth': 8, 'subsample': 0.7863531954431765, 'colsample_bytree': 0.6805394151362256, 'min_child_weight': 15, 'gamma': 3.8316465742512653}. Best is trial 10 with value: 0.7394455728633211.\n"
     ]
    },
    {
     "name": "stderr",
     "output_type": "stream",
     "text": [
      "[I 2024-03-13 20:31:41,567] A new study created in memory with name: no-name-ba592121-0b89-48a5-ac22-b73281813d88\n"
     ]
    },
    {
     "data": {
      "application/vnd.jupyter.widget-view+json": {
       "model_id": "1199fecf64da4aef8673ae433eb03463",
       "version_major": 2,
       "version_minor": 0
      },
      "text/plain": [
       "  0%|          | 0/25 [00:00<?, ?it/s]"
      ]
     },
     "metadata": {},
     "output_type": "display_data"
    },
    {
     "name": "stdout",
     "output_type": "stream",
     "text": [
      "[I 2024-03-13 20:35:15,048] Trial 0 finished with value: 0.7964121071574641 and parameters: {'n_estimators': 126, 'learning_rate': 0.03565682330912511, 'max_depth': 4, 'subsample': 0.8650021930414857, 'colsample_bytree': 0.6865402592159283, 'min_child_weight': 11, 'gamma': 1.7243943045342407}. Best is trial 0 with value: 0.7964121071574641.\n",
      "[I 2024-03-13 20:38:18,073] Trial 1 finished with value: 0.7896907590057096 and parameters: {'n_estimators': 73, 'learning_rate': 0.08220794477543913, 'max_depth': 7, 'subsample': 0.468156611539696, 'colsample_bytree': 0.9623046543344115, 'min_child_weight': 14, 'gamma': 4.559711985500037}. Best is trial 0 with value: 0.7964121071574641.\n",
      "[I 2024-03-13 20:41:03,757] Trial 2 finished with value: 0.7879269977975951 and parameters: {'n_estimators': 75, 'learning_rate': 0.09269499352795477, 'max_depth': 6, 'subsample': 0.640551843609513, 'colsample_bytree': 0.9973109556885217, 'min_child_weight': 9, 'gamma': 0.4007201244584918}. Best is trial 0 with value: 0.7964121071574641.\n",
      "[I 2024-03-13 20:46:42,500] Trial 3 finished with value: 0.793067871992581 and parameters: {'n_estimators': 138, 'learning_rate': 0.08326804167732879, 'max_depth': 7, 'subsample': 0.6074151166266557, 'colsample_bytree': 0.6253542317129228, 'min_child_weight': 12, 'gamma': 0.553197618716037}. Best is trial 0 with value: 0.7964121071574641.\n",
      "[I 2024-03-13 20:51:25,460] Trial 4 finished with value: 0.7894727900950896 and parameters: {'n_estimators': 114, 'learning_rate': 0.050842278323748845, 'max_depth': 7, 'subsample': 0.5690001428471788, 'colsample_bytree': 0.9284537164819961, 'min_child_weight': 3, 'gamma': 1.900229663538573}. Best is trial 0 with value: 0.7964121071574641.\n",
      "[I 2024-03-13 20:53:56,706] Trial 5 finished with value: 0.7897680465889731 and parameters: {'n_estimators': 120, 'learning_rate': 0.06607676714697508, 'max_depth': 3, 'subsample': 0.5516644081354979, 'colsample_bytree': 0.7654237061753671, 'min_child_weight': 16, 'gamma': 2.279921418524524}. Best is trial 0 with value: 0.7964121071574641.\n",
      "[I 2024-03-13 21:00:43,779] Trial 6 finished with value: 0.7831002404078936 and parameters: {'n_estimators': 135, 'learning_rate': 0.0781337519789305, 'max_depth': 8, 'subsample': 0.5713818142802825, 'colsample_bytree': 0.8654003005926589, 'min_child_weight': 12, 'gamma': 0.5337710872400236}. Best is trial 0 with value: 0.7964121071574641.\n",
      "[I 2024-03-13 21:05:44,178] Trial 7 finished with value: 0.7922405029281618 and parameters: {'n_estimators': 120, 'learning_rate': 0.049213386366862975, 'max_depth': 7, 'subsample': 0.5195316213933288, 'colsample_bytree': 0.7282648848379466, 'min_child_weight': 19, 'gamma': 3.329958973985754}. Best is trial 0 with value: 0.7964121071574641.\n",
      "[I 2024-03-13 21:09:05,244] Trial 8 finished with value: 0.7968561868826951 and parameters: {'n_estimators': 90, 'learning_rate': 0.04155055850952972, 'max_depth': 6, 'subsample': 0.4759027522888777, 'colsample_bytree': 0.8320498404400014, 'min_child_weight': 19, 'gamma': 4.211024661492155}. Best is trial 8 with value: 0.7968561868826951.\n",
      "[I 2024-03-13 21:10:20,874] Trial 9 finished with value: 0.7950981669146111 and parameters: {'n_estimators': 58, 'learning_rate': 0.08847365720797681, 'max_depth': 3, 'subsample': 0.4703908777163197, 'colsample_bytree': 0.721021630181404, 'min_child_weight': 16, 'gamma': 0.2208810527072136}. Best is trial 8 with value: 0.7968561868826951.\n",
      "[I 2024-03-13 21:11:48,388] Trial 10 finished with value: 0.7535480259041627 and parameters: {'n_estimators': 98, 'learning_rate': 0.007190744503725595, 'max_depth': 2, 'subsample': 0.3343647941087162, 'colsample_bytree': 0.838749040064988, 'min_child_weight': 20, 'gamma': 4.939702005951229}. Best is trial 8 with value: 0.7968561868826951.\n",
      "[I 2024-03-13 21:14:58,035] Trial 11 finished with value: 0.7969928022320009 and parameters: {'n_estimators': 98, 'learning_rate': 0.025927797388102018, 'max_depth': 5, 'subsample': 0.837128753689864, 'colsample_bytree': 0.6237617704809941, 'min_child_weight': 7, 'gamma': 3.60522499886955}. Best is trial 11 with value: 0.7969928022320009.\n",
      "[I 2024-03-13 21:17:55,967] Trial 12 finished with value: 0.7941535692097718 and parameters: {'n_estimators': 96, 'learning_rate': 0.0158186762870684, 'max_depth': 5, 'subsample': 0.8758284595330932, 'colsample_bytree': 0.6255436692732136, 'min_child_weight': 6, 'gamma': 3.6889575288693623}. Best is trial 11 with value: 0.7969928022320009.\n",
      "[I 2024-03-13 21:20:57,725] Trial 13 finished with value: 0.7953957405662266 and parameters: {'n_estimators': 87, 'learning_rate': 0.028396467594756003, 'max_depth': 5, 'subsample': 0.7737166017412449, 'colsample_bytree': 0.8212935526204902, 'min_child_weight': 6, 'gamma': 3.7232126507586}. Best is trial 11 with value: 0.7969928022320009.\n",
      "[I 2024-03-13 21:24:22,467] Trial 14 finished with value: 0.7909376833050455 and parameters: {'n_estimators': 82, 'learning_rate': 0.027261458794668892, 'max_depth': 6, 'subsample': 0.6924249006740564, 'colsample_bytree': 0.873955077429425, 'min_child_weight': 2, 'gamma': 4.242114541395301}. Best is trial 11 with value: 0.7969928022320009.\n",
      "[I 2024-03-13 21:27:25,521] Trial 15 finished with value: 0.7967064555444636 and parameters: {'n_estimators': 106, 'learning_rate': 0.04626446565372579, 'max_depth': 4, 'subsample': 0.35427685217593075, 'colsample_bytree': 0.778464462905564, 'min_child_weight': 8, 'gamma': 2.9997231669246}. Best is trial 11 with value: 0.7969928022320009.\n",
      "[I 2024-03-13 21:29:12,588] Trial 16 finished with value: 0.791527072181282 and parameters: {'n_estimators': 53, 'learning_rate': 0.06357330347119809, 'max_depth': 5, 'subsample': 0.7160341741671513, 'colsample_bytree': 0.9035445305329791, 'min_child_weight': 6, 'gamma': 2.849632439641569}. Best is trial 11 with value: 0.7969928022320009.\n",
      "[I 2024-03-13 21:31:41,588] Trial 17 finished with value: 0.7893005295890291 and parameters: {'n_estimators': 68, 'learning_rate': 0.017970592322968076, 'max_depth': 6, 'subsample': 0.3952772787692458, 'colsample_bytree': 0.6808445038726534, 'min_child_weight': 17, 'gamma': 3.936295556037648}. Best is trial 11 with value: 0.7969928022320009.\n",
      "[I 2024-03-13 21:33:58,809] Trial 18 finished with value: 0.7724443415200599 and parameters: {'n_estimators': 90, 'learning_rate': 0.0037404298603986343, 'max_depth': 4, 'subsample': 0.7960709481410467, 'colsample_bytree': 0.6017116631130484, 'min_child_weight': 9, 'gamma': 4.820744126747328}. Best is trial 11 with value: 0.7969928022320009.\n",
      "[I 2024-03-13 21:41:01,299] Trial 19 finished with value: 0.7908513551917593 and parameters: {'n_estimators': 149, 'learning_rate': 0.03577202935634245, 'max_depth': 8, 'subsample': 0.4359631107575511, 'colsample_bytree': 0.8032241764617805, 'min_child_weight': 4, 'gamma': 4.1687008997252075}. Best is trial 11 with value: 0.7969928022320009.\n",
      "[I 2024-03-13 21:44:19,669] Trial 20 finished with value: 0.7951792272233473 and parameters: {'n_estimators': 107, 'learning_rate': 0.019178398567517924, 'max_depth': 5, 'subsample': 0.6686749113160735, 'colsample_bytree': 0.7532726785975036, 'min_child_weight': 14, 'gamma': 3.2839121976700842}. Best is trial 11 with value: 0.7969928022320009.\n",
      "[I 2024-03-13 21:47:01,155] Trial 21 finished with value: 0.7980165126542798 and parameters: {'n_estimators': 105, 'learning_rate': 0.04752455256628714, 'max_depth': 4, 'subsample': 0.35345094790520537, 'colsample_bytree': 0.7780795905306983, 'min_child_weight': 8, 'gamma': 2.809123379839454}. Best is trial 21 with value: 0.7980165126542798.\n",
      "[I 2024-03-13 21:49:12,604] Trial 22 finished with value: 0.796348822092898 and parameters: {'n_estimators': 108, 'learning_rate': 0.038459811297369945, 'max_depth': 3, 'subsample': 0.31823992003897605, 'colsample_bytree': 0.6787247267714964, 'min_child_weight': 8, 'gamma': 2.384254745700723}. Best is trial 21 with value: 0.7980165126542798.\n",
      "[I 2024-03-13 21:51:32,361] Trial 23 finished with value: 0.7963689917894359 and parameters: {'n_estimators': 91, 'learning_rate': 0.06082144402503025, 'max_depth': 4, 'subsample': 0.39453361119832986, 'colsample_bytree': 0.8416651745038883, 'min_child_weight': 1, 'gamma': 1.1495291199759317}. Best is trial 21 with value: 0.7980165126542798.\n",
      "[I 2024-03-13 21:54:27,598] Trial 24 finished with value: 0.793867508489034 and parameters: {'n_estimators': 80, 'learning_rate': 0.05651421378649079, 'max_depth': 6, 'subsample': 0.3983378295174293, 'colsample_bytree': 0.7936565983857639, 'min_child_weight': 5, 'gamma': 2.738410815215008}. Best is trial 21 with value: 0.7980165126542798.\n",
      "[0.8105024414129285, 0.8122161479442824, 0.7041972517674223, 0.7790856457886611, 0.717678612206739]\n",
      "0.7647360198240066\n"
     ]
    }
   ],
   "source": [
    "xgboost_params = {\n",
    "    'learning_rate': np.arange(0.001, 0.1, 0.005),\n",
    "    'max_depth': np.arange(2, 8),\n",
    "    'n_estimators': np.arange(50, 150, 10),\n",
    "    'subsample': np.arange(0.3, 0.9, 0.1),\n",
    "    'colsample_bytree': np.arange(0.6, 1.0, 0.05),\n",
    "    'gamma': np.arange(0.1, 5, 0.1),\n",
    "    'early_stopping_rounds': np.arange(5, 15, 5),\n",
    "    'eval_metric':['auc']\n",
    "}\n",
    "\n",
    "scores = []\n",
    "for i in range(0, len(dataset)):\n",
    "    x_train, y_train, x_val, y_val, x_test, y_test = dataset[i][0], dataset[i][1], dataset[i][2], dataset[i][3], dataset[i][4], dataset[i][5]\n",
    "    best_params = find_best_model(\"xgb\", x_train, y_train, x_val, y_val, trials=25)\n",
    "    xgb_clf = XGBClassifier(**best_params.params, random_state=42).fit(x_train, y_train, eval_set=[(x_val, y_val)], verbose=False)\n",
    "    y_pred = xgb_clf.predict_proba(x_test)\n",
    "    scores.append(roc_auc_score(y_test, y_pred[:,1]))\n",
    "mean =  np.mean(np.array(scores))\n",
    "print(scores)\n",
    "print(mean)"
   ]
  },
  {
   "cell_type": "code",
   "execution_count": 4,
   "metadata": {},
   "outputs": [
    {
     "name": "stdout",
     "output_type": "stream",
     "text": [
      "[0.8105024414129285, 0.8122161479442824, 0.7041972517674223, 0.7790856457886611, 0.717678612206739]\n",
      "0.7647360198240066\n"
     ]
    }
   ],
   "source": [
    "print(scores)\n",
    "print(mean)"
   ]
  }
 ],
 "metadata": {
  "kernelspec": {
   "display_name": "Python 3 (ipykernel)",
   "language": "python",
   "name": "python3"
  },
  "language_info": {
   "codemirror_mode": {
    "name": "ipython",
    "version": 3
   },
   "file_extension": ".py",
   "mimetype": "text/x-python",
   "name": "python",
   "nbconvert_exporter": "python",
   "pygments_lexer": "ipython3",
   "version": "3.11.8"
  }
 },
 "nbformat": 4,
 "nbformat_minor": 4
}
