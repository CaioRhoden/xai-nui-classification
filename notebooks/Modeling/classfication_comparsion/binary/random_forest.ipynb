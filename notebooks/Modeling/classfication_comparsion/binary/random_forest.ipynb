{
 "cells": [
  {
   "cell_type": "markdown",
   "metadata": {},
   "source": [
    "# Random Forest Evaluation"
   ]
  },
  {
   "cell_type": "markdown",
   "metadata": {},
   "source": [
    "## 1. Generate Random Data"
   ]
  },
  {
   "cell_type": "code",
   "execution_count": 1,
   "metadata": {},
   "outputs": [],
   "source": [
    "import sys\n",
    "sys.path.append('../../src')\n",
    "\n",
    "import pandas as pd\n",
    "import numpy as np\n",
    "import random\n",
    "from random_data_generator import random_data_generator\n",
    "\n",
    "#tunning\n",
    "from tuning import find_best_model\n",
    "\n",
    "#models\n",
    "from xgboost import XGBClassifier\n",
    "from catboost import CatBoostClassifier, Pool\n",
    "from sklearn.linear_model import LogisticRegression\n",
    "from sklearn.ensemble import RandomForestClassifier\n",
    "from sklearn.neural_network import MLPClassifier\n",
    "\n",
    "#metrics\n",
    "from sklearn.metrics import roc_auc_score\n",
    "\n",
    "random.seed(42)"
   ]
  },
  {
   "cell_type": "code",
   "execution_count": 2,
   "metadata": {},
   "outputs": [],
   "source": [
    "dataset = random_data_generator(\"binary\", 5)\n"
   ]
  },
  {
   "cell_type": "markdown",
   "metadata": {},
   "source": [
    "## 4. Random Forest"
   ]
  },
  {
   "cell_type": "code",
   "execution_count": null,
   "metadata": {
    "scrolled": true
   },
   "outputs": [
    {
     "name": "stderr",
     "output_type": "stream",
     "text": [
      "[I 2024-03-19 20:05:12,581] A new study created in memory with name: no-name-d9c35e04-8dab-4742-b14b-fb234516594f\n"
     ]
    },
    {
     "data": {
      "application/vnd.jupyter.widget-view+json": {
       "model_id": "1d434d23f6bc4f408b043c1c923e7273",
       "version_major": 2,
       "version_minor": 0
      },
      "text/plain": [
       "  0%|          | 0/25 [00:00<?, ?it/s]"
      ]
     },
     "metadata": {},
     "output_type": "display_data"
    },
    {
     "name": "stdout",
     "output_type": "stream",
     "text": [
      "[I 2024-03-19 20:07:59,196] Trial 0 finished with value: 0.717705557641823 and parameters: {'n_estimators': 212, 'max_depth': 8, 'min_samples_split': 8, 'min_samples_leaf': 2, 'bootstrap': True}. Best is trial 0 with value: 0.717705557641823.\n",
      "[I 2024-03-19 20:09:28,671] Trial 1 finished with value: 0.7039811611441884 and parameters: {'n_estimators': 185, 'max_depth': 3, 'min_samples_split': 10, 'min_samples_leaf': 2, 'bootstrap': False}. Best is trial 0 with value: 0.717705557641823.\n",
      "[I 2024-03-19 20:19:34,570] Trial 2 finished with value: 0.7137239833871567 and parameters: {'n_estimators': 778, 'max_depth': 8, 'min_samples_split': 3, 'min_samples_leaf': 3, 'bootstrap': True}. Best is trial 0 with value: 0.717705557641823.\n",
      "[I 2024-03-19 20:25:43,454] Trial 3 finished with value: 0.7131222508567451 and parameters: {'n_estimators': 598, 'max_depth': 6, 'min_samples_split': 5, 'min_samples_leaf': 8, 'bootstrap': True}. Best is trial 0 with value: 0.717705557641823.\n",
      "[I 2024-03-19 20:32:25,682] Trial 4 finished with value: 0.7100105741978514 and parameters: {'n_estimators': 459, 'max_depth': 6, 'min_samples_split': 5, 'min_samples_leaf': 6, 'bootstrap': False}. Best is trial 0 with value: 0.717705557641823.\n",
      "[I 2024-03-19 20:35:54,293] Trial 5 finished with value: 0.7054504166318859 and parameters: {'n_estimators': 607, 'max_depth': 3, 'min_samples_split': 2, 'min_samples_leaf': 3, 'bootstrap': True}. Best is trial 0 with value: 0.717705557641823.\n",
      "[I 2024-03-19 20:46:25,886] Trial 6 finished with value: 0.7136861842398496 and parameters: {'n_estimators': 811, 'max_depth': 8, 'min_samples_split': 3, 'min_samples_leaf': 1, 'bootstrap': True}. Best is trial 0 with value: 0.717705557641823.\n",
      "[I 2024-03-19 20:48:54,299] Trial 7 finished with value: 0.7130722840018487 and parameters: {'n_estimators': 280, 'max_depth': 5, 'min_samples_split': 9, 'min_samples_leaf': 10, 'bootstrap': True}. Best is trial 0 with value: 0.717705557641823.\n",
      "[I 2024-03-19 20:56:54,294] Trial 8 finished with value: 0.7116050955843469 and parameters: {'n_estimators': 547, 'max_depth': 6, 'min_samples_split': 10, 'min_samples_leaf': 9, 'bootstrap': False}. Best is trial 0 with value: 0.717705557641823.\n",
      "[I 2024-03-19 20:58:41,741] Trial 9 finished with value: 0.7054395070036745 and parameters: {'n_estimators': 312, 'max_depth': 3, 'min_samples_split': 3, 'min_samples_leaf': 3, 'bootstrap': True}. Best is trial 0 with value: 0.717705557641823.\n",
      "[I 2024-03-19 21:00:37,516] Trial 10 finished with value: 0.7147916770824613 and parameters: {'n_estimators': 104, 'max_depth': 8, 'min_samples_split': 8, 'min_samples_leaf': 5, 'bootstrap': False}. Best is trial 0 with value: 0.717705557641823.\n",
      "[I 2024-03-19 21:02:37,847] Trial 11 finished with value: 0.7159774884154895 and parameters: {'n_estimators': 108, 'max_depth': 8, 'min_samples_split': 8, 'min_samples_leaf': 5, 'bootstrap': False}. Best is trial 0 with value: 0.717705557641823.\n",
      "[I 2024-03-19 21:07:52,406] Trial 12 finished with value: 0.7158302018170019 and parameters: {'n_estimators': 315, 'max_depth': 7, 'min_samples_split': 7, 'min_samples_leaf': 5, 'bootstrap': False}. Best is trial 0 with value: 0.717705557641823.\n",
      "[I 2024-03-19 21:23:57,896] Trial 13 finished with value: 0.7150115833715491 and parameters: {'n_estimators': 968, 'max_depth': 7, 'min_samples_split': 7, 'min_samples_leaf': 6, 'bootstrap': False}. Best is trial 0 with value: 0.717705557641823.\n",
      "[I 2024-03-19 21:24:55,643] Trial 14 finished with value: 0.7150090236213924 and parameters: {'n_estimators': 108, 'max_depth': 5, 'min_samples_split': 8, 'min_samples_leaf': 1, 'bootstrap': True}. Best is trial 0 with value: 0.717705557641823.\n",
      "[I 2024-03-19 21:31:46,770] Trial 15 finished with value: 0.714812630582107 and parameters: {'n_estimators': 411, 'max_depth': 7, 'min_samples_split': 6, 'min_samples_leaf': 7, 'bootstrap': False}. Best is trial 0 with value: 0.717705557641823.\n",
      "[I 2024-03-19 21:34:03,225] Trial 16 finished with value: 0.7091560545916529 and parameters: {'n_estimators': 220, 'max_depth': 4, 'min_samples_split': 8, 'min_samples_leaf': 4, 'bootstrap': False}. Best is trial 0 with value: 0.717705557641823.\n",
      "[I 2024-03-19 21:35:39,756] Trial 17 finished with value: 0.6877179223946835 and parameters: {'n_estimators': 392, 'max_depth': 2, 'min_samples_split': 9, 'min_samples_leaf': 4, 'bootstrap': True}. Best is trial 0 with value: 0.717705557641823.\n",
      "[I 2024-03-19 21:39:05,014] Trial 18 finished with value: 0.7161621604072563 and parameters: {'n_estimators': 184, 'max_depth': 8, 'min_samples_split': 6, 'min_samples_leaf': 7, 'bootstrap': False}. Best is trial 0 with value: 0.717705557641823.\n",
      "[I 2024-03-19 21:41:46,273] Trial 19 finished with value: 0.7121361826653138 and parameters: {'n_estimators': 230, 'max_depth': 7, 'min_samples_split': 5, 'min_samples_leaf': 8, 'bootstrap': True}. Best is trial 0 with value: 0.717705557641823.\n",
      "[I 2024-03-19 21:46:06,939] Trial 20 finished with value: 0.7120054034257947 and parameters: {'n_estimators': 489, 'max_depth': 5, 'min_samples_split': 6, 'min_samples_leaf': 7, 'bootstrap': True}. Best is trial 0 with value: 0.717705557641823.\n",
      "[I 2024-03-19 21:49:16,723] Trial 21 finished with value: 0.7153025866878449 and parameters: {'n_estimators': 170, 'max_depth': 8, 'min_samples_split': 7, 'min_samples_leaf': 7, 'bootstrap': False}. Best is trial 0 with value: 0.717705557641823.\n",
      "[I 2024-03-19 21:51:29,328] Trial 22 finished with value: 0.7143660599405288 and parameters: {'n_estimators': 119, 'max_depth': 8, 'min_samples_split': 9, 'min_samples_leaf': 4, 'bootstrap': False}. Best is trial 0 with value: 0.717705557641823.\n",
      "[I 2024-03-19 21:57:10,811] Trial 23 finished with value: 0.7138956518456995 and parameters: {'n_estimators': 342, 'max_depth': 7, 'min_samples_split': 7, 'min_samples_leaf': 2, 'bootstrap': False}. Best is trial 0 with value: 0.717705557641823.\n",
      "[I 2024-03-19 22:01:35,390] Trial 24 finished with value: 0.713948535317396 and parameters: {'n_estimators': 237, 'max_depth': 8, 'min_samples_split': 8, 'min_samples_leaf': 8, 'bootstrap': False}. Best is trial 0 with value: 0.717705557641823.\n"
     ]
    },
    {
     "name": "stderr",
     "output_type": "stream",
     "text": [
      "[I 2024-03-19 22:04:23,058] A new study created in memory with name: no-name-6568fc7d-b65b-4dfb-a9ee-3f9ddd111ae7\n"
     ]
    },
    {
     "data": {
      "application/vnd.jupyter.widget-view+json": {
       "model_id": "06b8b834d6b14d5ea82a2ac72f28d902",
       "version_major": 2,
       "version_minor": 0
      },
      "text/plain": [
       "  0%|          | 0/25 [00:00<?, ?it/s]"
      ]
     },
     "metadata": {},
     "output_type": "display_data"
    },
    {
     "name": "stdout",
     "output_type": "stream",
     "text": [
      "[I 2024-03-19 22:13:28,774] Trial 0 finished with value: 0.5725503187979979 and parameters: {'n_estimators': 376, 'max_depth': 7, 'min_samples_split': 8, 'min_samples_leaf': 2, 'bootstrap': True}. Best is trial 0 with value: 0.5725503187979979.\n",
      "[I 2024-03-19 22:32:43,371] Trial 1 finished with value: 0.562694733744576 and parameters: {'n_estimators': 900, 'max_depth': 4, 'min_samples_split': 5, 'min_samples_leaf': 1, 'bootstrap': False}. Best is trial 0 with value: 0.5725503187979979.\n",
      "[I 2024-03-19 22:42:57,285] Trial 2 finished with value: 0.5673143147655246 and parameters: {'n_estimators': 562, 'max_depth': 5, 'min_samples_split': 6, 'min_samples_leaf': 9, 'bootstrap': True}. Best is trial 0 with value: 0.5725503187979979.\n",
      "[I 2024-03-19 23:07:52,162] Trial 3 finished with value: 0.5746832474986103 and parameters: {'n_estimators': 947, 'max_depth': 8, 'min_samples_split': 2, 'min_samples_leaf': 5, 'bootstrap': True}. Best is trial 3 with value: 0.5746832474986103.\n",
      "[I 2024-03-19 23:34:03,848] Trial 4 finished with value: 0.5711244374026846 and parameters: {'n_estimators': 870, 'max_depth': 6, 'min_samples_split': 9, 'min_samples_leaf': 1, 'bootstrap': False}. Best is trial 3 with value: 0.5746832474986103.\n",
      "[I 2024-03-19 23:51:17,040] Trial 5 finished with value: 0.5728289126314936 and parameters: {'n_estimators': 720, 'max_depth': 7, 'min_samples_split': 4, 'min_samples_leaf': 3, 'bootstrap': True}. Best is trial 3 with value: 0.5746832474986103.\n",
      "[I 2024-03-19 23:59:05,147] Trial 6 finished with value: 0.5657230684418189 and parameters: {'n_estimators': 429, 'max_depth': 5, 'min_samples_split': 3, 'min_samples_leaf': 4, 'bootstrap': True}. Best is trial 3 with value: 0.5746832474986103.\n",
      "[I 2024-03-20 00:12:06,899] Trial 7 finished with value: 0.5609444606645406 and parameters: {'n_estimators': 606, 'max_depth': 4, 'min_samples_split': 2, 'min_samples_leaf': 10, 'bootstrap': False}. Best is trial 3 with value: 0.5746832474986103.\n",
      "[I 2024-03-20 00:21:27,589] Trial 8 finished with value: 0.5551196408395305 and parameters: {'n_estimators': 555, 'max_depth': 3, 'min_samples_split': 9, 'min_samples_leaf': 2, 'bootstrap': False}. Best is trial 3 with value: 0.5746832474986103.\n",
      "[I 2024-03-20 00:31:52,847] Trial 9 finished with value: 0.5540814284549912 and parameters: {'n_estimators': 619, 'max_depth': 3, 'min_samples_split': 9, 'min_samples_leaf': 7, 'bootstrap': False}. Best is trial 3 with value: 0.5746832474986103.\n",
      "[I 2024-03-20 00:35:50,311] Trial 10 finished with value: 0.570293223287401 and parameters: {'n_estimators': 149, 'max_depth': 8, 'min_samples_split': 2, 'min_samples_leaf': 6, 'bootstrap': True}. Best is trial 3 with value: 0.5746832474986103.\n",
      "[I 2024-03-20 01:02:03,678] Trial 11 finished with value: 0.5710645438331993 and parameters: {'n_estimators': 997, 'max_depth': 8, 'min_samples_split': 4, 'min_samples_leaf': 4, 'bootstrap': True}. Best is trial 3 with value: 0.5746832474986103.\n",
      "[I 2024-03-20 01:20:05,398] Trial 12 finished with value: 0.5738092095522115 and parameters: {'n_estimators': 757, 'max_depth': 7, 'min_samples_split': 6, 'min_samples_leaf': 4, 'bootstrap': True}. Best is trial 3 with value: 0.5746832474986103.\n",
      "[I 2024-03-20 01:38:45,088] Trial 13 finished with value: 0.5724134325137347 and parameters: {'n_estimators': 789, 'max_depth': 7, 'min_samples_split': 7, 'min_samples_leaf': 6, 'bootstrap': True}. Best is trial 3 with value: 0.5746832474986103.\n",
      "[I 2024-03-20 01:58:17,202] Trial 14 finished with value: 0.5719940280421474 and parameters: {'n_estimators': 738, 'max_depth': 8, 'min_samples_split': 6, 'min_samples_leaf': 5, 'bootstrap': True}. Best is trial 3 with value: 0.5746832474986103.\n",
      "[I 2024-03-20 02:18:57,284] Trial 15 finished with value: 0.573342029123734 and parameters: {'n_estimators': 974, 'max_depth': 6, 'min_samples_split': 10, 'min_samples_leaf': 8, 'bootstrap': True}. Best is trial 3 with value: 0.5746832474986103.\n",
      "[I 2024-03-20 02:36:34,548] Trial 16 finished with value: 0.5725909861214519 and parameters: {'n_estimators': 828, 'max_depth': 6, 'min_samples_split': 4, 'min_samples_leaf': 5, 'bootstrap': True}. Best is trial 3 with value: 0.5746832474986103.\n",
      "[I 2024-03-20 02:53:18,367] Trial 17 finished with value: 0.5736034865631683 and parameters: {'n_estimators': 697, 'max_depth': 7, 'min_samples_split': 7, 'min_samples_leaf': 4, 'bootstrap': True}. Best is trial 3 with value: 0.5746832474986103.\n",
      "[I 2024-03-20 03:17:20,307] Trial 18 finished with value: 0.5722421224858123 and parameters: {'n_estimators': 909, 'max_depth': 8, 'min_samples_split': 3, 'min_samples_leaf': 7, 'bootstrap': True}. Best is trial 3 with value: 0.5746832474986103.\n",
      "[I 2024-03-20 03:21:02,754] Trial 19 finished with value: 0.5538192079059139 and parameters: {'n_estimators': 415, 'max_depth': 2, 'min_samples_split': 5, 'min_samples_leaf': 3, 'bootstrap': True}. Best is trial 3 with value: 0.5746832474986103.\n",
      "[I 2024-03-20 03:23:16,739] Trial 20 finished with value: 0.5807587613392481 and parameters: {'n_estimators': 104, 'max_depth': 6, 'min_samples_split': 7, 'min_samples_leaf': 7, 'bootstrap': True}. Best is trial 20 with value: 0.5807587613392481.\n",
      "[I 2024-03-20 03:25:37,028] Trial 21 finished with value: 0.580258946578355 and parameters: {'n_estimators': 109, 'max_depth': 6, 'min_samples_split': 7, 'min_samples_leaf': 7, 'bootstrap': True}. Best is trial 20 with value: 0.5807587613392481.\n",
      "[I 2024-03-20 03:27:30,470] Trial 22 finished with value: 0.564575959772114 and parameters: {'n_estimators': 101, 'max_depth': 5, 'min_samples_split': 7, 'min_samples_leaf': 7, 'bootstrap': True}. Best is trial 20 with value: 0.5807587613392481.\n",
      "[I 2024-03-20 03:32:05,752] Trial 23 finished with value: 0.5761755017887005 and parameters: {'n_estimators': 215, 'max_depth': 6, 'min_samples_split': 8, 'min_samples_leaf': 8, 'bootstrap': True}. Best is trial 20 with value: 0.5807587613392481.\n",
      "[I 2024-03-20 03:36:43,800] Trial 24 finished with value: 0.5768970040668304 and parameters: {'n_estimators': 217, 'max_depth': 6, 'min_samples_split': 8, 'min_samples_leaf': 8, 'bootstrap': True}. Best is trial 20 with value: 0.5807587613392481.\n"
     ]
    },
    {
     "name": "stderr",
     "output_type": "stream",
     "text": [
      "[I 2024-03-20 03:38:58,019] A new study created in memory with name: no-name-1fdb0f13-afed-4e43-8337-1e55a8f71cd2\n"
     ]
    },
    {
     "data": {
      "application/vnd.jupyter.widget-view+json": {
       "model_id": "cd107b1e7309494183eac98caa4338f8",
       "version_major": 2,
       "version_minor": 0
      },
      "text/plain": [
       "  0%|          | 0/25 [00:00<?, ?it/s]"
      ]
     },
     "metadata": {},
     "output_type": "display_data"
    },
    {
     "name": "stdout",
     "output_type": "stream",
     "text": [
      "[I 2024-03-20 03:44:38,470] Trial 0 finished with value: 0.7617030712166822 and parameters: {'n_estimators': 635, 'max_depth': 4, 'min_samples_split': 8, 'min_samples_leaf': 4, 'bootstrap': True}. Best is trial 0 with value: 0.7617030712166822.\n",
      "[I 2024-03-20 03:53:16,725] Trial 1 finished with value: 0.7622821206034036 and parameters: {'n_estimators': 967, 'max_depth': 4, 'min_samples_split': 2, 'min_samples_leaf': 6, 'bootstrap': True}. Best is trial 1 with value: 0.7622821206034036.\n",
      "[I 2024-03-20 03:58:41,285] Trial 2 finished with value: 0.771010264392008 and parameters: {'n_estimators': 271, 'max_depth': 7, 'min_samples_split': 9, 'min_samples_leaf': 4, 'bootstrap': False}. Best is trial 2 with value: 0.771010264392008.\n",
      "[I 2024-03-20 04:00:17,750] Trial 3 finished with value: 0.7680050396149849 and parameters: {'n_estimators': 128, 'max_depth': 6, 'min_samples_split': 5, 'min_samples_leaf': 7, 'bootstrap': True}. Best is trial 2 with value: 0.771010264392008.\n",
      "[I 2024-03-20 04:10:44,939] Trial 4 finished with value: 0.7679575728690666 and parameters: {'n_estimators': 697, 'max_depth': 5, 'min_samples_split': 6, 'min_samples_leaf': 9, 'bootstrap': False}. Best is trial 2 with value: 0.771010264392008.\n",
      "[I 2024-03-20 04:14:48,061] Trial 5 finished with value: 0.760818348409379 and parameters: {'n_estimators': 450, 'max_depth': 4, 'min_samples_split': 6, 'min_samples_leaf': 10, 'bootstrap': True}. Best is trial 2 with value: 0.771010264392008.\n",
      "[I 2024-03-20 04:30:29,135] Trial 6 finished with value: 0.7698108172566986 and parameters: {'n_estimators': 900, 'max_depth': 6, 'min_samples_split': 2, 'min_samples_leaf': 7, 'bootstrap': False}. Best is trial 2 with value: 0.771010264392008.\n",
      "[I 2024-03-20 04:36:19,411] Trial 7 finished with value: 0.7620578545968146 and parameters: {'n_estimators': 650, 'max_depth': 4, 'min_samples_split': 6, 'min_samples_leaf': 7, 'bootstrap': True}. Best is trial 2 with value: 0.771010264392008.\n"
     ]
    }
   ],
   "source": [
    "\n",
    "scores = []\n",
    "for i in range(0, len(dataset)):\n",
    "    x_train, y_train, x_val, y_val, x_test, y_test = dataset[i][0], dataset[i][1], dataset[i][2], dataset[i][3], dataset[i][4], dataset[i][5]\n",
    "    best_params = find_best_model(\"random_forest\", x_train, y_train, x_val, y_val, trials=25)\n",
    "    rf_clf = RandomForestClassifier(**best_params.params, random_state=42, verbose=False)\n",
    "    rf_clf.fit(x_train, y_train)\n",
    "    y_pred = rf_clf.predict_proba(x_test)\n",
    "    scores.append(roc_auc_score(y_test, y_pred[:,1]))\n",
    "mean =  np.mean(np.array(scores))\n",
    "print(scores)\n",
    "print(mean)"
   ]
  },
  {
   "cell_type": "code",
   "execution_count": null,
   "metadata": {},
   "outputs": [],
   "source": [
    "print(scores)\n",
    "print(mean)"
   ]
  }
 ],
 "metadata": {
  "kernelspec": {
   "display_name": "Python 3 (ipykernel)",
   "language": "python",
   "name": "python3"
  },
  "language_info": {
   "codemirror_mode": {
    "name": "ipython",
    "version": 3
   },
   "file_extension": ".py",
   "mimetype": "text/x-python",
   "name": "python",
   "nbconvert_exporter": "python",
   "pygments_lexer": "ipython3",
   "version": "3.11.8"
  }
 },
 "nbformat": 4,
 "nbformat_minor": 4
}
