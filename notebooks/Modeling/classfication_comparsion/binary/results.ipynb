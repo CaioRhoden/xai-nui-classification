{
 "cells": [
  {
   "cell_type": "code",
   "execution_count": 1,
   "metadata": {},
   "outputs": [],
   "source": [
    "import sys\n",
    "sys.path.append('../../src')\n",
    "\n",
    "import pandas as pd\n",
    "import numpy as np\n",
    "import random\n",
    "from random_data_generator import random_data_generator\n",
    "\n",
    "#tunning\n",
    "from tuning import find_best_model\n",
    "\n",
    "#models\n",
    "from xgboost import XGBClassifier\n",
    "from catboost import CatBoostClassifier, Pool\n",
    "from sklearn.linear_model import LogisticRegression\n",
    "from sklearn.ensemble import RandomForestClassifier\n",
    "from sklearn.neural_network import MLPClassifier\n",
    "\n",
    "#metrics\n",
    "from sklearn.metrics import roc_auc_score\n",
    "\n",
    "random.seed(42)"
   ]
  },
  {
   "cell_type": "markdown",
   "metadata": {},
   "source": [
    "# Model Evaluation Binary Classification\n",
    "\n",
    "In this notebook will be evaluated the performance of five different basemodels\n",
    "\n",
    "- XGBoost\n",
    "- CatBoost\n",
    "- RandomForest\n",
    "- LogisticRegression\n",
    "- MLP\n",
    "\n",
    "It will be training five different models with a different data split each\\\n",
    "The data split will consist on 2 cities for training, 2 cities for validation and 2 cities for evaluation \\\n",
    "The evaluation will use the mean ROCAU metrics of the five models for each basemodel\\\n",
    "The models will have learning rate fixed to 0.01 and 10 early-stopping rounds (when applied) \n",
    "\n",
    "**Results**\n",
    "\n",
    "| Model           |   ROCAU       |\n",
    "| -----------     | -----------   |\n",
    "| XGBoost         |    0.772      |\n",
    "| Catboost        |               |\n",
    "| RandomForest    |               |\n",
    "| LR              |    0.688      |\n",
    "| MLP             |               |"
   ]
  }
 ],
 "metadata": {
  "kernelspec": {
   "display_name": "Python 3 (ipykernel)",
   "language": "python",
   "name": "python3"
  },
  "language_info": {
   "codemirror_mode": {
    "name": "ipython",
    "version": 3
   },
   "file_extension": ".py",
   "mimetype": "text/x-python",
   "name": "python",
   "nbconvert_exporter": "python",
   "pygments_lexer": "ipython3",
   "version": "3.11.8"
  }
 },
 "nbformat": 4,
 "nbformat_minor": 4
}
