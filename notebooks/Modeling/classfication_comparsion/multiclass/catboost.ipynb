{
 "cells": [
  {
   "cell_type": "markdown",
   "metadata": {},
   "source": [
    "# Catboost Evaluation"
   ]
  },
  {
   "cell_type": "markdown",
   "metadata": {},
   "source": [
    "## 1. Generate Random Data"
   ]
  },
  {
   "cell_type": "code",
   "execution_count": 1,
   "metadata": {},
   "outputs": [],
   "source": [
    "import sys\n",
    "sys.path.append('../../src')\n",
    "\n",
    "import pandas as pd\n",
    "import numpy as np\n",
    "import random\n",
    "from random_data_generator import random_data_generator\n",
    "\n",
    "#tunning\n",
    "from tuning import find_best_model\n",
    "\n",
    "#models\n",
    "from xgboost import XGBClassifier\n",
    "from catboost import CatBoostClassifier, Pool\n",
    "from sklearn.linear_model import LogisticRegression\n",
    "from sklearn.ensemble import RandomForestClassifier\n",
    "from sklearn.neural_network import MLPClassifier\n",
    "\n",
    "from evaluator import MultiClassEvaluator\n",
    "\n",
    "\n",
    "#metrics\n",
    "from sklearn.metrics import roc_auc_score\n",
    "\n",
    "random.seed(42)"
   ]
  },
  {
   "cell_type": "code",
   "execution_count": 2,
   "metadata": {},
   "outputs": [],
   "source": [
    "dataset = random_data_generator(\"multiclass\", 5)\n"
   ]
  },
  {
   "cell_type": "markdown",
   "metadata": {},
   "source": [
    "## 3. Catboost"
   ]
  },
  {
   "cell_type": "code",
   "execution_count": 4,
   "metadata": {},
   "outputs": [
    {
     "name": "stderr",
     "output_type": "stream",
     "text": [
      "[I 2024-03-18 09:46:06,123] A new study created in memory with name: no-name-519f0a79-0c36-4d72-9a09-834070aff991\n"
     ]
    },
    {
     "data": {
      "application/vnd.jupyter.widget-view+json": {
       "model_id": "10e460b37cda43009981cc3b94938d25",
       "version_major": 2,
       "version_minor": 0
      },
      "text/plain": [
       "  0%|          | 0/60 [00:00<?, ?it/s]"
      ]
     },
     "metadata": {},
     "output_type": "display_data"
    },
    {
     "name": "stdout",
     "output_type": "stream",
     "text": [
      "[I 2024-03-18 09:46:15,220] Trial 0 finished with value: 0.7263775475712251 and parameters: {'learning_rate': 0.06736526292566136, 'max_depth': 5, 'n_estimators': 99, 'l2_leaf_reg': 0.3050235007102542}. Best is trial 0 with value: 0.7263775475712251.\n",
      "[I 2024-03-18 09:46:30,909] Trial 1 finished with value: 0.7291081354629424 and parameters: {'learning_rate': 0.00778042007033149, 'max_depth': 7, 'n_estimators': 111, 'l2_leaf_reg': 0.7712212447155757}. Best is trial 1 with value: 0.7291081354629424.\n",
      "[I 2024-03-18 09:46:49,393] Trial 2 finished with value: 0.7486283669506874 and parameters: {'learning_rate': 0.06128707913076782, 'max_depth': 7, 'n_estimators': 145, 'l2_leaf_reg': 0.0033930634079131217}. Best is trial 2 with value: 0.7486283669506874.\n",
      "[I 2024-03-18 09:46:55,099] Trial 3 finished with value: 0.7126552775695253 and parameters: {'learning_rate': 0.011647473982859636, 'max_depth': 3, 'n_estimators': 76, 'l2_leaf_reg': 0.41440841624483127}. Best is trial 2 with value: 0.7486283669506874.\n",
      "[I 2024-03-18 09:47:10,375] Trial 4 finished with value: 0.7341931863991635 and parameters: {'learning_rate': 0.050717585461666166, 'max_depth': 6, 'n_estimators': 148, 'l2_leaf_reg': 0.5200886237698594}. Best is trial 2 with value: 0.7486283669506874.\n",
      "[I 2024-03-18 09:47:24,872] Trial 5 finished with value: 0.7485652053805576 and parameters: {'learning_rate': 0.08237726854567946, 'max_depth': 6, 'n_estimators': 147, 'l2_leaf_reg': 0.8610466491166463}. Best is trial 2 with value: 0.7486283669506874.\n",
      "[I 2024-03-18 09:47:30,270] Trial 6 finished with value: 0.7186259223581605 and parameters: {'learning_rate': 0.09091759716521342, 'max_depth': 3, 'n_estimators': 79, 'l2_leaf_reg': 0.3401591339532113}. Best is trial 2 with value: 0.7486283669506874.\n",
      "[I 2024-03-18 09:47:38,330] Trial 7 finished with value: 0.7262818751832848 and parameters: {'learning_rate': 0.0911743648403761, 'max_depth': 4, 'n_estimators': 111, 'l2_leaf_reg': 0.3821154109196587}. Best is trial 2 with value: 0.7486283669506874.\n",
      "[I 2024-03-18 09:47:56,795] Trial 8 finished with value: 0.7523270658374234 and parameters: {'learning_rate': 0.05273932716765736, 'max_depth': 7, 'n_estimators': 145, 'l2_leaf_reg': 0.06992850892304625}. Best is trial 8 with value: 0.7523270658374234.\n",
      "[I 2024-03-18 09:48:36,118] Trial 9 finished with value: 0.738815205740411 and parameters: {'learning_rate': 0.0291007857968128, 'max_depth': 8, 'n_estimators': 121, 'l2_leaf_reg': 0.611705218149414}. Best is trial 8 with value: 0.7523270658374234.\n",
      "[I 2024-03-18 09:48:53,376] Trial 10 finished with value: 0.727811114218661 and parameters: {'learning_rate': 0.03569602763867513, 'max_depth': 8, 'n_estimators': 51, 'l2_leaf_reg': 0.009912852218064261}. Best is trial 8 with value: 0.7523270658374234.\n",
      "[I 2024-03-18 09:49:10,917] Trial 11 finished with value: 0.7490408226036684 and parameters: {'learning_rate': 0.05976182811474776, 'max_depth': 7, 'n_estimators': 138, 'l2_leaf_reg': 0.02088993761396362}. Best is trial 8 with value: 0.7523270658374234.\n",
      "[I 2024-03-18 09:49:24,428] Trial 12 finished with value: 0.7373568482962282 and parameters: {'learning_rate': 0.041073097438881455, 'max_depth': 6, 'n_estimators': 127, 'l2_leaf_reg': 0.16842735951049861}. Best is trial 8 with value: 0.7523270658374234.\n",
      "[I 2024-03-18 09:49:41,301] Trial 13 finished with value: 0.7403975318894409 and parameters: {'learning_rate': 0.0688350254093473, 'max_depth': 7, 'n_estimators': 131, 'l2_leaf_reg': 0.1803381142506204}. Best is trial 8 with value: 0.7523270658374234.\n",
      "[I 2024-03-18 09:49:53,023] Trial 14 finished with value: 0.731929809660202 and parameters: {'learning_rate': 0.05333885246908755, 'max_depth': 5, 'n_estimators': 132, 'l2_leaf_reg': 0.15315801794598638}. Best is trial 8 with value: 0.7523270658374234.\n",
      "[I 2024-03-18 09:50:24,349] Trial 15 finished with value: 0.7330065139825905 and parameters: {'learning_rate': 0.02455906878696385, 'max_depth': 8, 'n_estimators': 95, 'l2_leaf_reg': 0.9923322423264543}. Best is trial 8 with value: 0.7523270658374234.\n",
      "[I 2024-03-18 09:50:31,556] Trial 16 finished with value: 0.7126457868553109 and parameters: {'learning_rate': 0.07728849204129906, 'max_depth': 2, 'n_estimators': 138, 'l2_leaf_reg': 0.07739318727616395}. Best is trial 8 with value: 0.7523270658374234.\n",
      "[I 2024-03-18 09:50:42,081] Trial 17 finished with value: 0.7361403907094537 and parameters: {'learning_rate': 0.057905873817045025, 'max_depth': 5, 'n_estimators': 117, 'l2_leaf_reg': 0.2096392699841766}. Best is trial 8 with value: 0.7523270658374234.\n",
      "[I 2024-03-18 09:50:59,822] Trial 18 finished with value: 0.7419622080716151 and parameters: {'learning_rate': 0.04190206574045234, 'max_depth': 7, 'n_estimators': 139, 'l2_leaf_reg': 0.24831406222982982}. Best is trial 8 with value: 0.7523270658374234.\n",
      "[I 2024-03-18 09:51:08,936] Trial 19 finished with value: 0.7384532712106044 and parameters: {'learning_rate': 0.07686474183980575, 'max_depth': 6, 'n_estimators': 85, 'l2_leaf_reg': 0.5726550181603938}. Best is trial 8 with value: 0.7523270658374234.\n",
      "[I 2024-03-18 09:51:27,146] Trial 20 finished with value: 0.7259666513378291 and parameters: {'learning_rate': 0.01986607101647206, 'max_depth': 8, 'n_estimators': 54, 'l2_leaf_reg': 0.08124206253881416}. Best is trial 8 with value: 0.7523270658374234.\n",
      "[I 2024-03-18 09:51:45,976] Trial 21 finished with value: 0.7494504876513344 and parameters: {'learning_rate': 0.06015233916948866, 'max_depth': 7, 'n_estimators': 150, 'l2_leaf_reg': 0.006617169252526145}. Best is trial 8 with value: 0.7523270658374234.\n",
      "[I 2024-03-18 09:52:03,339] Trial 22 finished with value: 0.7458775164120135 and parameters: {'learning_rate': 0.04454594669065276, 'max_depth': 7, 'n_estimators': 138, 'l2_leaf_reg': 0.09408489586660293}. Best is trial 8 with value: 0.7523270658374234.\n",
      "[I 2024-03-18 09:52:18,472] Trial 23 finished with value: 0.7451111235864549 and parameters: {'learning_rate': 0.06483087747027305, 'max_depth': 6, 'n_estimators': 149, 'l2_leaf_reg': 0.011829353260271992}. Best is trial 8 with value: 0.7523270658374234.\n",
      "[I 2024-03-18 09:52:34,373] Trial 24 finished with value: 0.7416771904439303 and parameters: {'learning_rate': 0.04871301210377739, 'max_depth': 7, 'n_estimators': 124, 'l2_leaf_reg': 0.2903467404638698}. Best is trial 8 with value: 0.7523270658374234.\n",
      "[I 2024-03-18 09:53:19,295] Trial 25 finished with value: 0.7507677155650423 and parameters: {'learning_rate': 0.055249191262909926, 'max_depth': 8, 'n_estimators': 138, 'l2_leaf_reg': 0.11762858170787036}. Best is trial 8 with value: 0.7523270658374234.\n",
      "[I 2024-03-18 09:53:56,284] Trial 26 finished with value: 0.7365735919461092 and parameters: {'learning_rate': 0.033367166272047374, 'max_depth': 8, 'n_estimators': 113, 'l2_leaf_reg': 0.12527836473935697}. Best is trial 8 with value: 0.7523270658374234.\n",
      "[I 2024-03-18 09:54:44,939] Trial 27 finished with value: 0.7529015111030141 and parameters: {'learning_rate': 0.07139633495827158, 'max_depth': 8, 'n_estimators': 150, 'l2_leaf_reg': 0.4367089347061882}. Best is trial 27 with value: 0.7529015111030141.\n",
      "[I 2024-03-18 09:55:27,806] Trial 28 finished with value: 0.7551457674367844 and parameters: {'learning_rate': 0.09763587040583757, 'max_depth': 8, 'n_estimators': 132, 'l2_leaf_reg': 0.6819344299523308}. Best is trial 28 with value: 0.7551457674367844.\n",
      "[I 2024-03-18 09:55:37,094] Trial 29 finished with value: 0.7331644918899309 and parameters: {'learning_rate': 0.09508004987139215, 'max_depth': 5, 'n_estimators': 105, 'l2_leaf_reg': 0.694963202000771}. Best is trial 28 with value: 0.7551457674367844.\n",
      "[I 2024-03-18 09:56:19,456] Trial 30 finished with value: 0.7464773572165064 and parameters: {'learning_rate': 0.07050799768404357, 'max_depth': 8, 'n_estimators': 130, 'l2_leaf_reg': 0.44164287944976116}. Best is trial 28 with value: 0.7551457674367844.\n",
      "[I 2024-03-18 09:57:05,266] Trial 31 finished with value: 0.7487824079264073 and parameters: {'learning_rate': 0.09835729050496123, 'max_depth': 8, 'n_estimators': 141, 'l2_leaf_reg': 0.6960362183445089}. Best is trial 28 with value: 0.7551457674367844.\n",
      "[I 2024-03-18 09:57:51,568] Trial 32 finished with value: 0.7477828800748375 and parameters: {'learning_rate': 0.08426810032029981, 'max_depth': 8, 'n_estimators': 143, 'l2_leaf_reg': 0.477089439498502}. Best is trial 28 with value: 0.7551457674367844.\n",
      "[I 2024-03-18 09:58:34,584] Trial 33 finished with value: 0.7396206709111905 and parameters: {'learning_rate': 0.07420263415830297, 'max_depth': 8, 'n_estimators': 133, 'l2_leaf_reg': 0.8235902041490122}. Best is trial 28 with value: 0.7551457674367844.\n",
      "[I 2024-03-18 09:58:52,797] Trial 34 finished with value: 0.7523978839516834 and parameters: {'learning_rate': 0.08337180006737493, 'max_depth': 7, 'n_estimators': 143, 'l2_leaf_reg': 0.6603435519292296}. Best is trial 28 with value: 0.7551457674367844.\n",
      "[I 2024-03-18 09:59:07,708] Trial 35 finished with value: 0.7504955263022265 and parameters: {'learning_rate': 0.0859818297235607, 'max_depth': 7, 'n_estimators': 120, 'l2_leaf_reg': 0.6516355377513356}. Best is trial 28 with value: 0.7551457674367844.\n",
      "[I 2024-03-18 09:59:22,357] Trial 36 finished with value: 0.7462963406208634 and parameters: {'learning_rate': 0.09969436923379384, 'max_depth': 6, 'n_estimators': 145, 'l2_leaf_reg': 0.7645549561932963}. Best is trial 28 with value: 0.7551457674367844.\n",
      "[I 2024-03-18 09:59:30,827] Trial 37 finished with value: 0.7272424545488483 and parameters: {'learning_rate': 0.08522759612558195, 'max_depth': 7, 'n_estimators': 62, 'l2_leaf_reg': 0.514158079906176}. Best is trial 28 with value: 0.7551457674367844.\n",
      "[I 2024-03-18 09:59:41,143] Trial 38 finished with value: 0.7388616194806188 and parameters: {'learning_rate': 0.090689462149466, 'max_depth': 4, 'n_estimators': 145, 'l2_leaf_reg': 0.9174830993997791}. Best is trial 28 with value: 0.7551457674367844.\n",
      "[I 2024-03-18 10:00:01,855] Trial 39 finished with value: 0.7254900272343359 and parameters: {'learning_rate': 0.004831051648758793, 'max_depth': 7, 'n_estimators': 150, 'l2_leaf_reg': 0.58262592367318}. Best is trial 28 with value: 0.7551457674367844.\n",
      "[I 2024-03-18 10:00:14,918] Trial 40 finished with value: 0.7447199861951862 and parameters: {'learning_rate': 0.08053582581167074, 'max_depth': 6, 'n_estimators': 126, 'l2_leaf_reg': 0.7546232565045063}. Best is trial 28 with value: 0.7551457674367844.\n",
      "[I 2024-03-18 10:00:58,219] Trial 41 finished with value: 0.7436628914749119 and parameters: {'learning_rate': 0.05488665554873068, 'max_depth': 8, 'n_estimators': 133, 'l2_leaf_reg': 0.7001459753441032}. Best is trial 28 with value: 0.7551457674367844.\n",
      "[I 2024-03-18 10:01:42,682] Trial 42 finished with value: 0.7489838168405695 and parameters: {'learning_rate': 0.06717738336789876, 'max_depth': 8, 'n_estimators': 136, 'l2_leaf_reg': 0.3604913977471499}. Best is trial 28 with value: 0.7551457674367844.\n",
      "[I 2024-03-18 10:02:29,262] Trial 43 finished with value: 0.7564020911788396 and parameters: {'learning_rate': 0.06366781388987877, 'max_depth': 8, 'n_estimators': 143, 'l2_leaf_reg': 0.2790308262025433}. Best is trial 43 with value: 0.7564020911788396.\n",
      "[I 2024-03-18 10:02:47,512] Trial 44 finished with value: 0.7455180537345834 and parameters: {'learning_rate': 0.07240596908239165, 'max_depth': 7, 'n_estimators': 144, 'l2_leaf_reg': 0.4199114020103727}. Best is trial 43 with value: 0.7564020911788396.\n",
      "[I 2024-03-18 10:03:33,911] Trial 45 finished with value: 0.7441126884286487 and parameters: {'learning_rate': 0.06558703777078931, 'max_depth': 8, 'n_estimators': 143, 'l2_leaf_reg': 0.27915393328018645}. Best is trial 43 with value: 0.7564020911788396.\n",
      "[I 2024-03-18 10:06:31,580] Trial 51 finished with value: 0.7346901515623139 and parameters: {'learning_rate': 0.09376550801399061, 'max_depth': 8, 'n_estimators': 147, 'l2_leaf_reg': 0.546389245053618}. Best is trial 43 with value: 0.7564020911788396.\n",
      "[I 2024-03-18 10:07:19,456] Trial 52 finished with value: 0.748069136695206 and parameters: {'learning_rate': 0.08638761604367025, 'max_depth': 8, 'n_estimators': 147, 'l2_leaf_reg': 0.3880175016511098}. Best is trial 43 with value: 0.7564020911788396.\n",
      "[I 2024-03-18 10:08:08,080] Trial 53 finished with value: 0.7458099045801578 and parameters: {'learning_rate': 0.08920558375766975, 'max_depth': 8, 'n_estimators': 150, 'l2_leaf_reg': 0.534974146187218}. Best is trial 43 with value: 0.7564020911788396.\n",
      "[I 2024-03-18 10:08:25,583] Trial 54 finished with value: 0.7479876049943932 and parameters: {'learning_rate': 0.0742990413907908, 'max_depth': 7, 'n_estimators': 141, 'l2_leaf_reg': 0.6349683356422982}. Best is trial 43 with value: 0.7564020911788396.\n",
      "[I 2024-03-18 10:09:13,081] Trial 55 finished with value: 0.7428636545503613 and parameters: {'learning_rate': 0.08032660845770245, 'max_depth': 8, 'n_estimators': 146, 'l2_leaf_reg': 0.6642451878317658}. Best is trial 43 with value: 0.7564020911788396.\n",
      "[I 2024-03-18 10:09:29,822] Trial 56 finished with value: 0.7467829941136814 and parameters: {'learning_rate': 0.08855723187499624, 'max_depth': 7, 'n_estimators': 134, 'l2_leaf_reg': 0.8040499643344065}. Best is trial 43 with value: 0.7564020911788396.\n",
      "[I 2024-03-18 10:09:42,783] Trial 57 finished with value: 0.7426929324368068 and parameters: {'learning_rate': 0.07753350130342665, 'max_depth': 6, 'n_estimators': 123, 'l2_leaf_reg': 0.5743735315391745}. Best is trial 43 with value: 0.7564020911788396.\n",
      "[I 2024-03-18 10:10:10,986] Trial 58 finished with value: 0.7375969842802971 and parameters: {'learning_rate': 0.05968228107440336, 'max_depth': 8, 'n_estimators': 85, 'l2_leaf_reg': 0.3346688102864015}. Best is trial 43 with value: 0.7564020911788396.\n",
      "[I 2024-03-18 10:10:28,605] Trial 59 finished with value: 0.7391408256101755 and parameters: {'learning_rate': 0.09596394480330395, 'max_depth': 7, 'n_estimators': 140, 'l2_leaf_reg': 0.053714799949810765}. Best is trial 43 with value: 0.7564020911788396.\n"
     ]
    },
    {
     "name": "stderr",
     "output_type": "stream",
     "text": [
      "[I 2024-03-18 10:11:17,444] A new study created in memory with name: no-name-6ad1729d-5a7d-4a09-9b56-b5aa804ef850\n"
     ]
    },
    {
     "name": "stdout",
     "output_type": "stream",
     "text": [
      "F1 Score: 0.23595112214017308\n",
      "ROC AUC Score: 0.7940611379934558\n",
      "ROC AUC Score Class 1: 0.7301600503080703\n",
      "ROC AUC Score Class 2: 0.7610523822691728\n",
      "ROC AUC Score Class 3: 0.9020017226114984\n"
     ]
    },
    {
     "data": {
      "application/vnd.jupyter.widget-view+json": {
       "model_id": "a5211cdf1c864a6d877c369643691072",
       "version_major": 2,
       "version_minor": 0
      },
      "text/plain": [
       "  0%|          | 0/60 [00:00<?, ?it/s]"
      ]
     },
     "metadata": {},
     "output_type": "display_data"
    },
    {
     "name": "stdout",
     "output_type": "stream",
     "text": [
      "[I 2024-03-18 10:11:49,504] Trial 0 finished with value: 0.6220357472517479 and parameters: {'learning_rate': 0.04940267634634648, 'max_depth': 7, 'n_estimators': 149, 'l2_leaf_reg': 0.6528275523694127}. Best is trial 0 with value: 0.6220357472517479.\n",
      "[I 2024-03-18 10:13:08,458] Trial 1 finished with value: 0.6077299378871333 and parameters: {'learning_rate': 0.0981865423927658, 'max_depth': 8, 'n_estimators': 143, 'l2_leaf_reg': 0.3099485622260185}. Best is trial 0 with value: 0.6220357472517479.\n",
      "[I 2024-03-18 10:13:22,077] Trial 2 finished with value: 0.6234928908375328 and parameters: {'learning_rate': 0.0970007867504525, 'max_depth': 5, 'n_estimators': 89, 'l2_leaf_reg': 0.3868308943842642}. Best is trial 2 with value: 0.6234928908375328.\n",
      "[I 2024-03-18 10:13:39,860] Trial 3 finished with value: 0.6214168812226366 and parameters: {'learning_rate': 0.08836439968239265, 'max_depth': 5, 'n_estimators': 122, 'l2_leaf_reg': 0.40564544049661366}. Best is trial 2 with value: 0.6234928908375328.\n",
      "[I 2024-03-18 10:13:52,011] Trial 4 finished with value: 0.6184780548696354 and parameters: {'learning_rate': 0.0879674464109385, 'max_depth': 6, 'n_estimators': 65, 'l2_leaf_reg': 0.38775353428079706}. Best is trial 2 with value: 0.6234928908375328.\n",
      "[I 2024-03-18 10:14:07,495] Trial 5 finished with value: 0.6251774369928988 and parameters: {'learning_rate': 0.07482034257647663, 'max_depth': 5, 'n_estimators': 100, 'l2_leaf_reg': 0.9409261037078243}. Best is trial 5 with value: 0.6251774369928988.\n",
      "[I 2024-03-18 10:14:16,896] Trial 6 finished with value: 0.5915901218384346 and parameters: {'learning_rate': 0.0063112819582776414, 'max_depth': 2, 'n_estimators': 98, 'l2_leaf_reg': 0.08905881580267783}. Best is trial 5 with value: 0.6251774369928988.\n",
      "[I 2024-03-18 10:14:27,853] Trial 7 finished with value: 0.6138154391242693 and parameters: {'learning_rate': 0.05446940428117484, 'max_depth': 2, 'n_estimators': 118, 'l2_leaf_reg': 0.03419199473663681}. Best is trial 5 with value: 0.6251774369928988.\n",
      "[I 2024-03-18 10:14:56,655] Trial 8 finished with value: 0.6264010517165874 and parameters: {'learning_rate': 0.04869597665154327, 'max_depth': 7, 'n_estimators': 134, 'l2_leaf_reg': 0.9677509992376075}. Best is trial 8 with value: 0.6264010517165874.\n",
      "[I 2024-03-18 10:15:21,290] Trial 9 finished with value: 0.6128778233201184 and parameters: {'learning_rate': 0.05655760661081109, 'max_depth': 6, 'n_estimators': 140, 'l2_leaf_reg': 0.31508865463418156}. Best is trial 8 with value: 0.6264010517165874.\n",
      "[I 2024-03-18 10:16:29,528] Trial 10 finished with value: 0.6082201007637889 and parameters: {'learning_rate': 0.02190515927179228, 'max_depth': 8, 'n_estimators': 123, 'l2_leaf_reg': 0.9833337021774254}. Best is trial 8 with value: 0.6264010517165874.\n",
      "[I 2024-03-18 10:16:40,888] Trial 11 finished with value: 0.6376813479273918 and parameters: {'learning_rate': 0.06891975533547202, 'max_depth': 4, 'n_estimators': 80, 'l2_leaf_reg': 0.9846919919213953}. Best is trial 11 with value: 0.6376813479273918.\n",
      "[I 2024-03-18 10:16:50,295] Trial 12 finished with value: 0.5973829912100617 and parameters: {'learning_rate': 0.039590885434272485, 'max_depth': 3, 'n_estimators': 74, 'l2_leaf_reg': 0.7589622090643536}. Best is trial 11 with value: 0.6376813479273918.\n",
      "[I 2024-03-18 10:16:58,500] Trial 13 finished with value: 0.6345067286382708 and parameters: {'learning_rate': 0.06846980881604717, 'max_depth': 4, 'n_estimators': 55, 'l2_leaf_reg': 0.8326186039737563}. Best is trial 11 with value: 0.6376813479273918.\n",
      "[I 2024-03-18 10:17:06,218] Trial 14 finished with value: 0.6272765080002718 and parameters: {'learning_rate': 0.07051886885629881, 'max_depth': 4, 'n_estimators': 51, 'l2_leaf_reg': 0.7718472444582137}. Best is trial 11 with value: 0.6376813479273918.\n",
      "[I 2024-03-18 10:17:14,625] Trial 15 finished with value: 0.637301683362253 and parameters: {'learning_rate': 0.06952312013707809, 'max_depth': 4, 'n_estimators': 56, 'l2_leaf_reg': 0.8308639396156954}. Best is trial 11 with value: 0.6376813479273918.\n",
      "[I 2024-03-18 10:17:24,323] Trial 16 finished with value: 0.5908376411308063 and parameters: {'learning_rate': 0.030770284502419386, 'max_depth': 3, 'n_estimators': 77, 'l2_leaf_reg': 0.6148312553989864}. Best is trial 11 with value: 0.6376813479273918.\n",
      "[I 2024-03-18 10:17:35,350] Trial 17 finished with value: 0.6209480773048294 and parameters: {'learning_rate': 0.07704861269794196, 'max_depth': 4, 'n_estimators': 80, 'l2_leaf_reg': 0.8411464553643104}. Best is trial 11 with value: 0.6376813479273918.\n",
      "[I 2024-03-18 10:17:44,194] Trial 18 finished with value: 0.6375512119875509 and parameters: {'learning_rate': 0.0660782670169603, 'max_depth': 4, 'n_estimators': 58, 'l2_leaf_reg': 0.6009611090584441}. Best is trial 11 with value: 0.6376813479273918.\n",
      "[I 2024-03-18 10:17:52,539] Trial 19 finished with value: 0.6038890878711509 and parameters: {'learning_rate': 0.06391081324009609, 'max_depth': 3, 'n_estimators': 65, 'l2_leaf_reg': 0.5667503159174955}. Best is trial 11 with value: 0.6376813479273918.\n",
      "[I 2024-03-18 10:18:08,493] Trial 20 finished with value: 0.6056590466012812 and parameters: {'learning_rate': 0.08697119258451495, 'max_depth': 6, 'n_estimators': 89, 'l2_leaf_reg': 0.513765313517674}. Best is trial 11 with value: 0.6376813479273918.\n",
      "[I 2024-03-18 10:18:17,350] Trial 21 finished with value: 0.6283967834817179 and parameters: {'learning_rate': 0.05835001268838481, 'max_depth': 4, 'n_estimators': 60, 'l2_leaf_reg': 0.7317662938030828}. Best is trial 11 with value: 0.6376813479273918.\n",
      "[I 2024-03-18 10:18:25,767] Trial 22 finished with value: 0.6201943235441416 and parameters: {'learning_rate': 0.07922089851101115, 'max_depth': 3, 'n_estimators': 69, 'l2_leaf_reg': 0.900795764892399}. Best is trial 11 with value: 0.6376813479273918.\n",
      "[I 2024-03-18 10:18:34,425] Trial 23 finished with value: 0.6179646028646879 and parameters: {'learning_rate': 0.06360789519402715, 'max_depth': 5, 'n_estimators': 50, 'l2_leaf_reg': 0.6897783670208675}. Best is trial 11 with value: 0.6376813479273918.\n",
      "[I 2024-03-18 10:18:46,788] Trial 24 finished with value: 0.6229259224866988 and parameters: {'learning_rate': 0.03938922096105215, 'max_depth': 4, 'n_estimators': 86, 'l2_leaf_reg': 0.8475075230829192}. Best is trial 11 with value: 0.6376813479273918.\n",
      "[I 2024-03-18 10:18:54,267] Trial 25 finished with value: 0.6205017532160377 and parameters: {'learning_rate': 0.08187153576690058, 'max_depth': 3, 'n_estimators': 61, 'l2_leaf_reg': 0.9981089160147727}. Best is trial 11 with value: 0.6376813479273918.\n",
      "[I 2024-03-18 10:19:04,787] Trial 26 finished with value: 0.6194299675149555 and parameters: {'learning_rate': 0.06703501186774152, 'max_depth': 4, 'n_estimators': 75, 'l2_leaf_reg': 0.8869172856870788}. Best is trial 11 with value: 0.6376813479273918.\n",
      "[I 2024-03-18 10:19:14,383] Trial 27 finished with value: 0.6027631599019996 and parameters: {'learning_rate': 0.040985601793424954, 'max_depth': 2, 'n_estimators': 101, 'l2_leaf_reg': 0.7898932475908816}. Best is trial 11 with value: 0.6376813479273918.\n",
      "[I 2024-03-18 10:19:25,811] Trial 28 finished with value: 0.6253809044963473 and parameters: {'learning_rate': 0.060561585056113386, 'max_depth': 5, 'n_estimators': 69, 'l2_leaf_reg': 0.5972112523544819}. Best is trial 11 with value: 0.6376813479273918.\n",
      "[I 2024-03-18 10:19:33,143] Trial 29 finished with value: 0.6075103602691437 and parameters: {'learning_rate': 0.04983272087130232, 'max_depth': 3, 'n_estimators': 58, 'l2_leaf_reg': 0.6817913747845084}. Best is trial 11 with value: 0.6376813479273918.\n",
      "[I 2024-03-18 10:19:44,521] Trial 30 finished with value: 0.6197974762736832 and parameters: {'learning_rate': 0.07259851435220822, 'max_depth': 4, 'n_estimators': 83, 'l2_leaf_reg': 0.16016177922188413}. Best is trial 11 with value: 0.6376813479273918.\n",
      "[I 2024-03-18 10:19:52,744] Trial 31 finished with value: 0.6221888964977368 and parameters: {'learning_rate': 0.07294053580818592, 'max_depth': 4, 'n_estimators': 56, 'l2_leaf_reg': 0.8174767040470001}. Best is trial 11 with value: 0.6376813479273918.\n",
      "[I 2024-03-18 10:20:01,804] Trial 32 finished with value: 0.6187221967297009 and parameters: {'learning_rate': 0.06691369210276527, 'max_depth': 5, 'n_estimators': 53, 'l2_leaf_reg': 0.8994391374042575}. Best is trial 11 with value: 0.6376813479273918.\n",
      "[I 2024-03-18 10:20:11,944] Trial 33 finished with value: 0.6345429385819434 and parameters: {'learning_rate': 0.052623789943057823, 'max_depth': 4, 'n_estimators': 69, 'l2_leaf_reg': 0.4919583773981904}. Best is trial 11 with value: 0.6376813479273918.\n",
      "[I 2024-03-18 10:20:23,522] Trial 34 finished with value: 0.6021338267103985 and parameters: {'learning_rate': 0.045076024454705946, 'max_depth': 5, 'n_estimators': 66, 'l2_leaf_reg': 0.48857141660950004}. Best is trial 11 with value: 0.6376813479273918.\n",
      "[I 2024-03-18 10:21:00,326] Trial 35 finished with value: 0.623378543083392 and parameters: {'learning_rate': 0.09771282737064976, 'max_depth': 6, 'n_estimators': 91, 'l2_leaf_reg': 0.46562755402308037}. Best is trial 11 with value: 0.6376813479273918.\n",
      "[I 2024-03-18 10:21:29,986] Trial 36 finished with value: 0.634132304895558 and parameters: {'learning_rate': 0.08356562419846307, 'max_depth': 4, 'n_estimators': 72, 'l2_leaf_reg': 0.27415430601742885}. Best is trial 11 with value: 0.6376813479273918.\n",
      "[I 2024-03-18 10:22:03,193] Trial 37 finished with value: 0.6227027426965945 and parameters: {'learning_rate': 0.054288691625478704, 'max_depth': 3, 'n_estimators': 95, 'l2_leaf_reg': 0.5249386259890674}. Best is trial 11 with value: 0.6376813479273918.\n",
      "[I 2024-03-18 10:22:51,731] Trial 38 finished with value: 0.6219666173852889 and parameters: {'learning_rate': 0.09030660375171207, 'max_depth': 5, 'n_estimators': 105, 'l2_leaf_reg': 0.6418074446220398}. Best is trial 11 with value: 0.6376813479273918.\n",
      "[I 2024-03-18 10:23:17,973] Trial 39 finished with value: 0.63601225191842 and parameters: {'learning_rate': 0.0612139430934651, 'max_depth': 4, 'n_estimators': 61, 'l2_leaf_reg': 0.7217038764286453}. Best is trial 11 with value: 0.6376813479273918.\n",
      "[I 2024-03-18 10:23:35,924] Trial 40 finished with value: 0.6134139652059638 and parameters: {'learning_rate': 0.061317154876721486, 'max_depth': 2, 'n_estimators': 62, 'l2_leaf_reg': 0.7058253616458117}. Best is trial 11 with value: 0.6376813479273918.\n",
      "[I 2024-03-18 10:24:05,538] Trial 41 finished with value: 0.6330999443070323 and parameters: {'learning_rate': 0.05304013861245731, 'max_depth': 4, 'n_estimators': 68, 'l2_leaf_reg': 0.41521787209940786}. Best is trial 11 with value: 0.6376813479273918.\n",
      "[I 2024-03-18 10:24:32,515] Trial 42 finished with value: 0.6121240846131362 and parameters: {'learning_rate': 0.045026021586935625, 'max_depth': 4, 'n_estimators': 61, 'l2_leaf_reg': 0.5620918808399546}. Best is trial 11 with value: 0.6376813479273918.\n",
      "[I 2024-03-18 10:25:15,639] Trial 43 finished with value: 0.5980389066989447 and parameters: {'learning_rate': 0.0025437949735170814, 'max_depth': 5, 'n_estimators': 82, 'l2_leaf_reg': 0.9528984301638527}. Best is trial 11 with value: 0.6376813479273918.\n",
      "[I 2024-03-18 10:25:35,985] Trial 44 finished with value: 0.6228807339862763 and parameters: {'learning_rate': 0.07514737862928432, 'max_depth': 3, 'n_estimators': 56, 'l2_leaf_reg': 0.6397242462438071}. Best is trial 11 with value: 0.6376813479273918.\n",
      "[I 2024-03-18 10:26:06,016] Trial 45 finished with value: 0.6366706872000024 and parameters: {'learning_rate': 0.05739400048339793, 'max_depth': 4, 'n_estimators': 72, 'l2_leaf_reg': 0.9303499870211315}. Best is trial 11 with value: 0.6376813479273918.\n",
      "[I 2024-03-18 10:26:56,532] Trial 46 finished with value: 0.6274818266641307 and parameters: {'learning_rate': 0.05764322317489814, 'max_depth': 7, 'n_estimators': 79, 'l2_leaf_reg': 0.9359217494002178}. Best is trial 11 with value: 0.6376813479273918.\n",
      "[I 2024-03-18 10:27:32,699] Trial 47 finished with value: 0.6116660872028692 and parameters: {'learning_rate': 0.06828990973936333, 'max_depth': 5, 'n_estimators': 73, 'l2_leaf_reg': 0.8767397084515631}. Best is trial 11 with value: 0.6376813479273918.\n",
      "[I 2024-03-18 10:28:03,456] Trial 48 finished with value: 0.6441703835263295 and parameters: {'learning_rate': 0.09289203601406976, 'max_depth': 5, 'n_estimators': 64, 'l2_leaf_reg': 0.7744832840828013}. Best is trial 48 with value: 0.6441703835263295.\n",
      "[I 2024-03-18 10:28:43,898] Trial 49 finished with value: 0.5974162522464439 and parameters: {'learning_rate': 0.09359524905405302, 'max_depth': 6, 'n_estimators': 109, 'l2_leaf_reg': 0.9353024916643689}. Best is trial 48 with value: 0.6441703835263295.\n",
      "[I 2024-03-18 10:28:53,424] Trial 50 finished with value: 0.5855140214343986 and parameters: {'learning_rate': 0.019375528838628073, 'max_depth': 5, 'n_estimators': 50, 'l2_leaf_reg': 0.7959701715115152}. Best is trial 48 with value: 0.6441703835263295.\n",
      "[I 2024-03-18 10:29:02,727] Trial 51 finished with value: 0.6360499797705776 and parameters: {'learning_rate': 0.06570426734600397, 'max_depth': 4, 'n_estimators': 63, 'l2_leaf_reg': 0.7431772660026974}. Best is trial 48 with value: 0.6441703835263295.\n",
      "[I 2024-03-18 10:29:11,856] Trial 52 finished with value: 0.6335651209123327 and parameters: {'learning_rate': 0.07823098222072533, 'max_depth': 4, 'n_estimators': 64, 'l2_leaf_reg': 0.8655064937289856}. Best is trial 48 with value: 0.6441703835263295.\n",
      "[I 2024-03-18 10:29:18,744] Trial 53 finished with value: 0.5970092844944774 and parameters: {'learning_rate': 0.08524888075598147, 'max_depth': 3, 'n_estimators': 55, 'l2_leaf_reg': 0.7430769207743887}. Best is trial 48 with value: 0.6441703835263295.\n",
      "[I 2024-03-18 10:29:29,436] Trial 54 finished with value: 0.623488306248587 and parameters: {'learning_rate': 0.06452320943988517, 'max_depth': 4, 'n_estimators': 76, 'l2_leaf_reg': 0.7673861444723395}. Best is trial 48 with value: 0.6441703835263295.\n",
      "[I 2024-03-18 10:29:40,180] Trial 55 finished with value: 0.6283924926101704 and parameters: {'learning_rate': 0.07163021700964287, 'max_depth': 5, 'n_estimators': 64, 'l2_leaf_reg': 0.8158642441841173}. Best is trial 48 with value: 0.6441703835263295.\n",
      "[I 2024-03-18 10:29:55,779] Trial 56 finished with value: 0.6106182867969198 and parameters: {'learning_rate': 0.09224483634293254, 'max_depth': 3, 'n_estimators': 150, 'l2_leaf_reg': 0.9212046393472011}. Best is trial 48 with value: 0.6441703835263295.\n",
      "[I 2024-03-18 10:30:07,086] Trial 57 finished with value: 0.6313074100584097 and parameters: {'learning_rate': 0.08237910173938122, 'max_depth': 5, 'n_estimators': 70, 'l2_leaf_reg': 0.9995703703232347}. Best is trial 48 with value: 0.6441703835263295.\n",
      "[I 2024-03-18 10:30:18,226] Trial 58 finished with value: 0.6196002019560858 and parameters: {'learning_rate': 0.09988796737613426, 'max_depth': 6, 'n_estimators': 58, 'l2_leaf_reg': 0.8554651468457162}. Best is trial 48 with value: 0.6441703835263295.\n",
      "[I 2024-03-18 10:30:27,619] Trial 59 finished with value: 0.6261930749158051 and parameters: {'learning_rate': 0.07914415389491142, 'max_depth': 4, 'n_estimators': 66, 'l2_leaf_reg': 0.9600191754294402}. Best is trial 48 with value: 0.6441703835263295.\n"
     ]
    },
    {
     "name": "stderr",
     "output_type": "stream",
     "text": [
      "[I 2024-03-18 10:30:39,685] A new study created in memory with name: no-name-2e426871-d976-44e5-b9d7-8ed59fa3671e\n"
     ]
    },
    {
     "name": "stdout",
     "output_type": "stream",
     "text": [
      "F1 Score: 0.2875538714718434\n",
      "ROC AUC Score: 0.7750099913005112\n",
      "ROC AUC Score Class 1: 0.8449315036619504\n",
      "ROC AUC Score Class 2: 0.6963651378421359\n",
      "ROC AUC Score Class 3: 0.7797185338577527\n"
     ]
    },
    {
     "data": {
      "application/vnd.jupyter.widget-view+json": {
       "model_id": "2c1f262f0f4a4b0cb242e7bdac280233",
       "version_major": 2,
       "version_minor": 0
      },
      "text/plain": [
       "  0%|          | 0/60 [00:00<?, ?it/s]"
      ]
     },
     "metadata": {},
     "output_type": "display_data"
    },
    {
     "name": "stdout",
     "output_type": "stream",
     "text": [
      "[I 2024-03-18 10:30:48,264] Trial 0 finished with value: 0.7435479609756339 and parameters: {'learning_rate': 0.009101258951210164, 'max_depth': 2, 'n_estimators': 133, 'l2_leaf_reg': 0.13914579007261219}. Best is trial 0 with value: 0.7435479609756339.\n",
      "[I 2024-03-18 10:31:00,211] Trial 1 finished with value: 0.7978617030972749 and parameters: {'learning_rate': 0.07894880631357774, 'max_depth': 6, 'n_estimators': 100, 'l2_leaf_reg': 0.4636796109863649}. Best is trial 1 with value: 0.7978617030972749.\n",
      "[I 2024-03-18 10:31:06,225] Trial 2 finished with value: 0.7836291005197258 and parameters: {'learning_rate': 0.08382091024783571, 'max_depth': 2, 'n_estimators': 94, 'l2_leaf_reg': 0.019444799179716088}. Best is trial 1 with value: 0.7978617030972749.\n",
      "[I 2024-03-18 10:31:32,510] Trial 3 finished with value: 0.7816508939567595 and parameters: {'learning_rate': 0.04879138340611103, 'max_depth': 8, 'n_estimators': 76, 'l2_leaf_reg': 0.1631382430175784}. Best is trial 1 with value: 0.7978617030972749.\n",
      "[I 2024-03-18 10:31:50,617] Trial 4 finished with value: 0.7917327324830526 and parameters: {'learning_rate': 0.037893716763100195, 'max_depth': 7, 'n_estimators': 125, 'l2_leaf_reg': 0.9751747042863188}. Best is trial 1 with value: 0.7978617030972749.\n",
      "[I 2024-03-18 10:32:02,587] Trial 5 finished with value: 0.7911617993873514 and parameters: {'learning_rate': 0.09572722914114208, 'max_depth': 5, 'n_estimators': 123, 'l2_leaf_reg': 0.6522255618182914}. Best is trial 1 with value: 0.7978617030972749.\n",
      "[I 2024-03-18 10:32:08,222] Trial 6 finished with value: 0.7522552803822562 and parameters: {'learning_rate': 0.014153793964733062, 'max_depth': 4, 'n_estimators': 51, 'l2_leaf_reg': 0.47482332421277573}. Best is trial 1 with value: 0.7978617030972749.\n",
      "[I 2024-03-18 10:32:16,253] Trial 7 finished with value: 0.7977085657197606 and parameters: {'learning_rate': 0.07002717067683133, 'max_depth': 5, 'n_estimators': 75, 'l2_leaf_reg': 0.37539572400243104}. Best is trial 1 with value: 0.7978617030972749.\n",
      "[I 2024-03-18 10:32:31,129] Trial 8 finished with value: 0.7944486582338681 and parameters: {'learning_rate': 0.08273587826020287, 'max_depth': 7, 'n_estimators': 106, 'l2_leaf_reg': 0.46440444992184027}. Best is trial 1 with value: 0.7978617030972749.\n",
      "[I 2024-03-18 10:32:43,441] Trial 9 finished with value: 0.7957780881320813 and parameters: {'learning_rate': 0.08678913530171971, 'max_depth': 5, 'n_estimators': 129, 'l2_leaf_reg': 0.056956571266384204}. Best is trial 1 with value: 0.7978617030972749.\n",
      "[I 2024-03-18 10:33:03,571] Trial 10 finished with value: 0.8049754273765637 and parameters: {'learning_rate': 0.06427606536288424, 'max_depth': 7, 'n_estimators': 149, 'l2_leaf_reg': 0.7397971695440804}. Best is trial 10 with value: 0.8049754273765637.\n",
      "[I 2024-03-18 10:33:23,150] Trial 11 finished with value: 0.8039628987319389 and parameters: {'learning_rate': 0.06454798478199676, 'max_depth': 7, 'n_estimators': 146, 'l2_leaf_reg': 0.754283837524939}. Best is trial 10 with value: 0.8049754273765637.\n",
      "[I 2024-03-18 10:34:13,764] Trial 12 finished with value: 0.7990984861278119 and parameters: {'learning_rate': 0.05735573169972305, 'max_depth': 8, 'n_estimators': 150, 'l2_leaf_reg': 0.819695569030518}. Best is trial 10 with value: 0.8049754273765637.\n",
      "[I 2024-03-18 10:34:33,917] Trial 13 finished with value: 0.803783571961944 and parameters: {'learning_rate': 0.058379098098616466, 'max_depth': 7, 'n_estimators': 146, 'l2_leaf_reg': 0.6849324857481509}. Best is trial 10 with value: 0.8049754273765637.\n",
      "[I 2024-03-18 10:34:50,662] Trial 14 finished with value: 0.7997757324256061 and parameters: {'learning_rate': 0.0340821844432068, 'max_depth': 6, 'n_estimators': 141, 'l2_leaf_reg': 0.8022104641905233}. Best is trial 10 with value: 0.8049754273765637.\n",
      "[I 2024-03-18 10:35:04,316] Trial 15 finished with value: 0.7973268214171556 and parameters: {'learning_rate': 0.06481681027762709, 'max_depth': 6, 'n_estimators': 116, 'l2_leaf_reg': 0.9710248747605466}. Best is trial 10 with value: 0.8049754273765637.\n",
      "[I 2024-03-18 10:35:50,564] Trial 16 finished with value: 0.7958946179291119 and parameters: {'learning_rate': 0.043358446456468164, 'max_depth': 8, 'n_estimators': 137, 'l2_leaf_reg': 0.6368934527754487}. Best is trial 10 with value: 0.8049754273765637.\n",
      "[I 2024-03-18 10:36:02,444] Trial 17 finished with value: 0.7904969634443215 and parameters: {'learning_rate': 0.09683875336975703, 'max_depth': 4, 'n_estimators': 150, 'l2_leaf_reg': 0.8171910371722549}. Best is trial 10 with value: 0.8049754273765637.\n",
      "[I 2024-03-18 10:36:19,524] Trial 18 finished with value: 0.795038836948477 and parameters: {'learning_rate': 0.026800897779156323, 'max_depth': 7, 'n_estimators': 117, 'l2_leaf_reg': 0.31667662929155077}. Best is trial 10 with value: 0.8049754273765637.\n",
      "[I 2024-03-18 10:36:27,427] Trial 19 finished with value: 0.7875855081699397 and parameters: {'learning_rate': 0.07214060616726928, 'max_depth': 4, 'n_estimators': 87, 'l2_leaf_reg': 0.7396686753751558}. Best is trial 10 with value: 0.8049754273765637.\n",
      "[I 2024-03-18 10:36:40,634] Trial 20 finished with value: 0.8006561787104528 and parameters: {'learning_rate': 0.05589255681197958, 'max_depth': 6, 'n_estimators': 111, 'l2_leaf_reg': 0.5892050194989666}. Best is trial 10 with value: 0.8049754273765637.\n",
      "[I 2024-03-18 10:37:00,000] Trial 21 finished with value: 0.7934186146054603 and parameters: {'learning_rate': 0.06268442412961192, 'max_depth': 7, 'n_estimators': 142, 'l2_leaf_reg': 0.7066401941919555}. Best is trial 10 with value: 0.8049754273765637.\n",
      "[I 2024-03-18 10:37:20,450] Trial 22 finished with value: 0.8058669058615741 and parameters: {'learning_rate': 0.05083786498770239, 'max_depth': 7, 'n_estimators': 150, 'l2_leaf_reg': 0.9087436517905985}. Best is trial 22 with value: 0.8058669058615741.\n",
      "[I 2024-03-18 10:38:05,700] Trial 23 finished with value: 0.7957329700620351 and parameters: {'learning_rate': 0.04585716622907948, 'max_depth': 8, 'n_estimators': 134, 'l2_leaf_reg': 0.8822960503257862}. Best is trial 22 with value: 0.8058669058615741.\n",
      "[I 2024-03-18 10:38:22,409] Trial 24 finished with value: 0.7991765609966536 and parameters: {'learning_rate': 0.02451605940194866, 'max_depth': 6, 'n_estimators': 141, 'l2_leaf_reg': 0.8994615885623195}. Best is trial 22 with value: 0.8058669058615741.\n",
      "[I 2024-03-18 10:38:40,091] Trial 25 finished with value: 0.8053871048161776 and parameters: {'learning_rate': 0.07084560128020598, 'max_depth': 7, 'n_estimators': 130, 'l2_leaf_reg': 0.5474737617307278}. Best is trial 22 with value: 0.8058669058615741.\n",
      "[I 2024-03-18 10:39:23,209] Trial 26 finished with value: 0.7920119541302524 and parameters: {'learning_rate': 0.07214281599080868, 'max_depth': 8, 'n_estimators': 128, 'l2_leaf_reg': 0.5617232973481027}. Best is trial 22 with value: 0.8058669058615741.\n",
      "[I 2024-03-18 10:39:32,679] Trial 27 finished with value: 0.7898336072552383 and parameters: {'learning_rate': 0.055589184298755354, 'max_depth': 3, 'n_estimators': 135, 'l2_leaf_reg': 0.8893228488235507}. Best is trial 22 with value: 0.8058669058615741.\n",
      "[I 2024-03-18 10:39:49,140] Trial 28 finished with value: 0.8086577741003416 and parameters: {'learning_rate': 0.07760449617592068, 'max_depth': 7, 'n_estimators': 120, 'l2_leaf_reg': 0.5660396644438159}. Best is trial 28 with value: 0.8086577741003416.\n",
      "[I 2024-03-18 10:40:02,631] Trial 29 finished with value: 0.7547901515314395 and parameters: {'learning_rate': 0.0019131216510589188, 'max_depth': 5, 'n_estimators': 123, 'l2_leaf_reg': 0.2594856717691366}. Best is trial 28 with value: 0.8086577741003416.\n",
      "[I 2024-03-18 10:40:15,846] Trial 30 finished with value: 0.7946175953400787 and parameters: {'learning_rate': 0.08908273850894, 'max_depth': 6, 'n_estimators': 116, 'l2_leaf_reg': 0.5538792202087248}. Best is trial 28 with value: 0.8086577741003416.\n",
      "[I 2024-03-18 10:40:33,664] Trial 31 finished with value: 0.7983054976314496 and parameters: {'learning_rate': 0.07685334127980296, 'max_depth': 7, 'n_estimators': 132, 'l2_leaf_reg': 0.41612689221058424}. Best is trial 28 with value: 0.8086577741003416.\n",
      "[I 2024-03-18 10:40:52,472] Trial 32 finished with value: 0.79102507488859 and parameters: {'learning_rate': 0.06896699547611389, 'max_depth': 7, 'n_estimators': 139, 'l2_leaf_reg': 0.5437409894779839}. Best is trial 28 with value: 0.8086577741003416.\n",
      "[I 2024-03-18 10:41:04,728] Trial 33 finished with value: 0.7887496388918548 and parameters: {'learning_rate': 0.07905109541835173, 'max_depth': 6, 'n_estimators': 105, 'l2_leaf_reg': 0.6243393901727912}. Best is trial 28 with value: 0.8086577741003416.\n",
      "[I 2024-03-18 10:41:36,781] Trial 34 finished with value: 0.7833434832825796 and parameters: {'learning_rate': 0.05005115670218223, 'max_depth': 8, 'n_estimators': 94, 'l2_leaf_reg': 0.507054218915475}. Best is trial 28 with value: 0.8086577741003416.\n",
      "[I 2024-03-18 10:41:56,492] Trial 35 finished with value: 0.8009057177265082 and parameters: {'learning_rate': 0.07655027432860892, 'max_depth': 7, 'n_estimators': 145, 'l2_leaf_reg': 0.7544338562134592}. Best is trial 28 with value: 0.8086577741003416.\n",
      "[I 2024-03-18 10:42:03,686] Trial 36 finished with value: 0.7895442183914978 and parameters: {'learning_rate': 0.0909594833816293, 'max_depth': 2, 'n_estimators': 122, 'l2_leaf_reg': 0.994151694317742}. Best is trial 28 with value: 0.8086577741003416.\n",
      "[I 2024-03-18 10:42:54,113] Trial 37 finished with value: 0.7973512591698505 and parameters: {'learning_rate': 0.040472072985156336, 'max_depth': 8, 'n_estimators': 150, 'l2_leaf_reg': 0.9107698051685934}. Best is trial 28 with value: 0.8086577741003416.\n",
      "[I 2024-03-18 10:43:08,844] Trial 38 finished with value: 0.8002901057833915 and parameters: {'learning_rate': 0.051510921700313995, 'max_depth': 6, 'n_estimators': 130, 'l2_leaf_reg': 0.39221793239547176}. Best is trial 28 with value: 0.8086577741003416.\n",
      "[I 2024-03-18 10:43:27,221] Trial 39 finished with value: 0.7953121996662377 and parameters: {'learning_rate': 0.08177181486909073, 'max_depth': 7, 'n_estimators': 136, 'l2_leaf_reg': 0.6759414531847224}. Best is trial 28 with value: 0.8086577741003416.\n",
      "[I 2024-03-18 10:43:33,342] Trial 40 finished with value: 0.7862839127303458 and parameters: {'learning_rate': 0.06712541008642835, 'max_depth': 5, 'n_estimators': 53, 'l2_leaf_reg': 0.8476626808733059}. Best is trial 28 with value: 0.8086577741003416.\n",
      "[I 2024-03-18 10:43:52,874] Trial 41 finished with value: 0.8122524269500782 and parameters: {'learning_rate': 0.06069750700871602, 'max_depth': 7, 'n_estimators': 143, 'l2_leaf_reg': 0.7618552469814329}. Best is trial 41 with value: 0.8122524269500782.\n",
      "[I 2024-03-18 10:44:12,379] Trial 42 finished with value: 0.8025294870699884 and parameters: {'learning_rate': 0.059043089577177535, 'max_depth': 7, 'n_estimators': 144, 'l2_leaf_reg': 0.6004150596046984}. Best is trial 41 with value: 0.8122524269500782.\n",
      "[I 2024-03-18 10:44:55,175] Trial 43 finished with value: 0.7923951350077606 and parameters: {'learning_rate': 0.07451898813793222, 'max_depth': 8, 'n_estimators': 126, 'l2_leaf_reg': 0.9439510996420892}. Best is trial 41 with value: 0.8122524269500782.\n",
      "[I 2024-03-18 10:45:14,188] Trial 44 finished with value: 0.8057444192005281 and parameters: {'learning_rate': 0.06041726671065108, 'max_depth': 7, 'n_estimators': 138, 'l2_leaf_reg': 0.7762391053976614}. Best is trial 41 with value: 0.8122524269500782.\n",
      "[I 2024-03-18 10:45:28,313] Trial 45 finished with value: 0.7968480780968461 and parameters: {'learning_rate': 0.05090969651735404, 'max_depth': 6, 'n_estimators': 121, 'l2_leaf_reg': 0.7843213817252819}. Best is trial 41 with value: 0.8122524269500782.\n",
      "[I 2024-03-18 10:45:46,996] Trial 46 finished with value: 0.7976511059947564 and parameters: {'learning_rate': 0.05944507918788798, 'max_depth': 7, 'n_estimators': 133, 'l2_leaf_reg': 0.5155877516092328}. Best is trial 41 with value: 0.8122524269500782.\n",
      "[I 2024-03-18 10:46:33,331] Trial 47 finished with value: 0.7944039609084352 and parameters: {'learning_rate': 0.08428545962252518, 'max_depth': 8, 'n_estimators': 138, 'l2_leaf_reg': 0.4411341462416454}. Best is trial 41 with value: 0.8122524269500782.\n",
      "[I 2024-03-18 10:46:51,461] Trial 48 finished with value: 0.787036331001315 and parameters: {'learning_rate': 0.054238368534013814, 'max_depth': 7, 'n_estimators': 130, 'l2_leaf_reg': 0.7163072342774044}. Best is trial 41 with value: 0.8122524269500782.\n",
      "[I 2024-03-18 10:47:07,312] Trial 49 finished with value: 0.7938359150987233 and parameters: {'learning_rate': 0.035174762863246806, 'max_depth': 7, 'n_estimators': 110, 'l2_leaf_reg': 0.8463813957876978}. Best is trial 41 with value: 0.8122524269500782.\n",
      "[I 2024-03-18 10:47:23,395] Trial 50 finished with value: 0.8087264278364262 and parameters: {'learning_rate': 0.06740224320377336, 'max_depth': 6, 'n_estimators': 145, 'l2_leaf_reg': 0.317418488243318}. Best is trial 41 with value: 0.8122524269500782.\n",
      "[I 2024-03-18 10:47:39,408] Trial 51 finished with value: 0.7954011764779179 and parameters: {'learning_rate': 0.06251140438562963, 'max_depth': 6, 'n_estimators': 145, 'l2_leaf_reg': 0.18974145652539873}. Best is trial 41 with value: 0.8122524269500782.\n",
      "[I 2024-03-18 10:47:58,204] Trial 52 finished with value: 0.8029050214117246 and parameters: {'learning_rate': 0.0687876849351586, 'max_depth': 7, 'n_estimators': 139, 'l2_leaf_reg': 0.34359659829112504}. Best is trial 41 with value: 0.8122524269500782.\n",
      "[I 2024-03-18 10:48:14,587] Trial 53 finished with value: 0.7976944279219891 and parameters: {'learning_rate': 0.062107811179935045, 'max_depth': 6, 'n_estimators': 147, 'l2_leaf_reg': 0.09824691160580218}. Best is trial 41 with value: 0.8122524269500782.\n",
      "[I 2024-03-18 10:48:34,112] Trial 54 finished with value: 0.7942171412788495 and parameters: {'learning_rate': 0.04600074173941954, 'max_depth': 7, 'n_estimators': 143, 'l2_leaf_reg': 0.2557412749921848}. Best is trial 41 with value: 0.8122524269500782.\n",
      "[I 2024-03-18 10:48:51,487] Trial 55 finished with value: 0.7980218715886281 and parameters: {'learning_rate': 0.0663688872245015, 'max_depth': 7, 'n_estimators': 126, 'l2_leaf_reg': 0.6717572872214149}. Best is trial 41 with value: 0.8122524269500782.\n",
      "[I 2024-03-18 10:49:31,664] Trial 56 finished with value: 0.7887430903365042 and parameters: {'learning_rate': 0.07104499637927919, 'max_depth': 8, 'n_estimators': 119, 'l2_leaf_reg': 0.7765970356202092}. Best is trial 41 with value: 0.8122524269500782.\n",
      "[I 2024-03-18 10:49:47,631] Trial 57 finished with value: 0.8031534096696055 and parameters: {'learning_rate': 0.07921028104328595, 'max_depth': 6, 'n_estimators': 140, 'l2_leaf_reg': 0.938461147264637}. Best is trial 41 with value: 0.8122524269500782.\n",
      "[I 2024-03-18 10:50:07,582] Trial 58 finished with value: 0.8023253063306198 and parameters: {'learning_rate': 0.0538654691863632, 'max_depth': 7, 'n_estimators': 147, 'l2_leaf_reg': 0.47403116739209045}. Best is trial 41 with value: 0.8122524269500782.\n",
      "[I 2024-03-18 10:50:22,828] Trial 59 finished with value: 0.7936614845522482 and parameters: {'learning_rate': 0.09349383474303773, 'max_depth': 6, 'n_estimators': 135, 'l2_leaf_reg': 0.004009822633570248}. Best is trial 41 with value: 0.8122524269500782.\n"
     ]
    },
    {
     "name": "stderr",
     "output_type": "stream",
     "text": [
      "[I 2024-03-18 10:50:44,153] A new study created in memory with name: no-name-3f54a7e4-a2b4-4722-b7f2-2861a5fee8e4\n"
     ]
    },
    {
     "name": "stdout",
     "output_type": "stream",
     "text": [
      "F1 Score: 0.3194480850419098\n",
      "ROC AUC Score: 0.7504748350162156\n",
      "ROC AUC Score Class 1: 0.7958231821532387\n",
      "ROC AUC Score Class 2: 0.6438097427000152\n",
      "ROC AUC Score Class 3: 0.854244006016091\n"
     ]
    },
    {
     "data": {
      "application/vnd.jupyter.widget-view+json": {
       "model_id": "1f22883233984e5db90eefa12d5c47fe",
       "version_major": 2,
       "version_minor": 0
      },
      "text/plain": [
       "  0%|          | 0/60 [00:00<?, ?it/s]"
      ]
     },
     "metadata": {},
     "output_type": "display_data"
    },
    {
     "name": "stdout",
     "output_type": "stream",
     "text": [
      "[I 2024-03-18 10:51:01,837] Trial 0 finished with value: 0.6936386642764787 and parameters: {'learning_rate': 0.009375252406526112, 'max_depth': 6, 'n_estimators': 101, 'l2_leaf_reg': 0.2355440491424261}. Best is trial 0 with value: 0.6936386642764787.\n",
      "[I 2024-03-18 10:51:26,075] Trial 1 finished with value: 0.696752329034403 and parameters: {'learning_rate': 0.02504862432452608, 'max_depth': 5, 'n_estimators': 78, 'l2_leaf_reg': 0.31624483661054104}. Best is trial 1 with value: 0.696752329034403.\n",
      "[I 2024-03-18 10:51:43,826] Trial 2 finished with value: 0.7012341024692641 and parameters: {'learning_rate': 0.09382194930764656, 'max_depth': 3, 'n_estimators': 86, 'l2_leaf_reg': 0.830634771672212}. Best is trial 2 with value: 0.7012341024692641.\n",
      "[I 2024-03-18 10:52:23,934] Trial 3 finished with value: 0.7109885315966388 and parameters: {'learning_rate': 0.048646627936931745, 'max_depth': 5, 'n_estimators': 136, 'l2_leaf_reg': 0.4902825265824684}. Best is trial 3 with value: 0.7109885315966388.\n",
      "[I 2024-03-18 10:52:47,295] Trial 4 finished with value: 0.6902316469945712 and parameters: {'learning_rate': 0.05464479025147351, 'max_depth': 2, 'n_estimators': 134, 'l2_leaf_reg': 0.03913804440460522}. Best is trial 3 with value: 0.7109885315966388.\n",
      "[I 2024-03-18 10:54:07,138] Trial 5 finished with value: 0.7185863092905909 and parameters: {'learning_rate': 0.084357210513644, 'max_depth': 8, 'n_estimators': 94, 'l2_leaf_reg': 0.2515760316291725}. Best is trial 5 with value: 0.7185863092905909.\n",
      "[I 2024-03-18 10:54:36,183] Trial 6 finished with value: 0.6977061038822284 and parameters: {'learning_rate': 0.061125880432563826, 'max_depth': 3, 'n_estimators': 136, 'l2_leaf_reg': 0.5186537833772649}. Best is trial 5 with value: 0.7185863092905909.\n",
      "[I 2024-03-18 10:54:56,588] Trial 7 finished with value: 0.7092882328653535 and parameters: {'learning_rate': 0.06593898991832249, 'max_depth': 5, 'n_estimators': 62, 'l2_leaf_reg': 0.7564659737122343}. Best is trial 5 with value: 0.7185863092905909.\n",
      "[I 2024-03-18 10:55:16,592] Trial 8 finished with value: 0.7209912416287501 and parameters: {'learning_rate': 0.08795146873762393, 'max_depth': 6, 'n_estimators': 114, 'l2_leaf_reg': 0.21296375364174258}. Best is trial 8 with value: 0.7209912416287501.\n",
      "[I 2024-03-18 10:55:21,226] Trial 9 finished with value: 0.696682630794782 and parameters: {'learning_rate': 0.014449847520782166, 'max_depth': 3, 'n_estimators': 58, 'l2_leaf_reg': 0.1336270976999897}. Best is trial 8 with value: 0.7209912416287501.\n",
      "[I 2024-03-18 10:55:59,823] Trial 10 finished with value: 0.7298690027170547 and parameters: {'learning_rate': 0.07955053185742643, 'max_depth': 8, 'n_estimators': 117, 'l2_leaf_reg': 0.9806787254581073}. Best is trial 10 with value: 0.7298690027170547.\n",
      "[I 2024-03-18 10:56:14,883] Trial 11 finished with value: 0.7330793020636143 and parameters: {'learning_rate': 0.0807995003858241, 'max_depth': 7, 'n_estimators': 119, 'l2_leaf_reg': 0.62320571934079}. Best is trial 11 with value: 0.7330793020636143.\n",
      "[I 2024-03-18 10:56:52,882] Trial 12 finished with value: 0.7300940759367298 and parameters: {'learning_rate': 0.07474109490288652, 'max_depth': 8, 'n_estimators': 116, 'l2_leaf_reg': 0.9844870491111969}. Best is trial 11 with value: 0.7330793020636143.\n",
      "[I 2024-03-18 10:57:07,399] Trial 13 finished with value: 0.7267863488175254 and parameters: {'learning_rate': 0.0711699584040612, 'max_depth': 7, 'n_estimators': 114, 'l2_leaf_reg': 0.6608465471031142}. Best is trial 11 with value: 0.7330793020636143.\n",
      "[I 2024-03-18 10:57:23,362] Trial 14 finished with value: 0.720834211233264 and parameters: {'learning_rate': 0.041453408741500344, 'max_depth': 7, 'n_estimators': 123, 'l2_leaf_reg': 0.9976400375837396}. Best is trial 11 with value: 0.7330793020636143.\n",
      "[I 2024-03-18 10:57:42,469] Trial 15 finished with value: 0.7289246873551551 and parameters: {'learning_rate': 0.07661275206951061, 'max_depth': 7, 'n_estimators': 150, 'l2_leaf_reg': 0.5362023492181417}. Best is trial 11 with value: 0.7330793020636143.\n",
      "[I 2024-03-18 10:58:16,922] Trial 16 finished with value: 0.7315975801488169 and parameters: {'learning_rate': 0.09624048951248422, 'max_depth': 8, 'n_estimators': 103, 'l2_leaf_reg': 0.864996793238063}. Best is trial 11 with value: 0.7330793020636143.\n",
      "[I 2024-03-18 10:58:42,874] Trial 17 finished with value: 0.7246239297438108 and parameters: {'learning_rate': 0.09984013410911437, 'max_depth': 6, 'n_estimators': 99, 'l2_leaf_reg': 0.8368047241775176}. Best is trial 11 with value: 0.7330793020636143.\n",
      "[I 2024-03-18 10:59:16,434] Trial 18 finished with value: 0.7009283251862755 and parameters: {'learning_rate': 0.03543250596642364, 'max_depth': 7, 'n_estimators': 74, 'l2_leaf_reg': 0.6740057563770432}. Best is trial 11 with value: 0.7330793020636143.\n",
      "[I 2024-03-18 11:00:41,023] Trial 19 finished with value: 0.73043560214744 and parameters: {'learning_rate': 0.09388796592423546, 'max_depth': 8, 'n_estimators': 103, 'l2_leaf_reg': 0.38910628792817825}. Best is trial 11 with value: 0.7330793020636143.\n",
      "[I 2024-03-18 11:01:12,183] Trial 20 finished with value: 0.7192462200060352 and parameters: {'learning_rate': 0.09868843024957627, 'max_depth': 4, 'n_estimators': 127, 'l2_leaf_reg': 0.6379877172073092}. Best is trial 11 with value: 0.7330793020636143.\n",
      "[I 2024-03-18 11:02:38,906] Trial 21 finished with value: 0.7232404335361906 and parameters: {'learning_rate': 0.08883891718642069, 'max_depth': 8, 'n_estimators': 105, 'l2_leaf_reg': 0.3699202219280133}. Best is trial 11 with value: 0.7330793020636143.\n",
      "[I 2024-03-18 11:03:56,911] Trial 22 finished with value: 0.7107640985606789 and parameters: {'learning_rate': 0.09056306461315461, 'max_depth': 8, 'n_estimators': 92, 'l2_leaf_reg': 0.3883809755160618}. Best is trial 11 with value: 0.7330793020636143.\n",
      "[I 2024-03-18 11:04:41,314] Trial 23 finished with value: 0.7253703200772734 and parameters: {'learning_rate': 0.08252306708007022, 'max_depth': 7, 'n_estimators': 107, 'l2_leaf_reg': 0.44072942004621884}. Best is trial 11 with value: 0.7330793020636143.\n",
      "[I 2024-03-18 11:05:09,702] Trial 24 finished with value: 0.7085122614663804 and parameters: {'learning_rate': 0.06747053678903128, 'max_depth': 6, 'n_estimators': 78, 'l2_leaf_reg': 0.8630895696380083}. Best is trial 11 with value: 0.7330793020636143.\n",
      "[I 2024-03-18 11:06:22,613] Trial 25 finished with value: 0.7209452716001297 and parameters: {'learning_rate': 0.09407251438021598, 'max_depth': 8, 'n_estimators': 86, 'l2_leaf_reg': 0.6145212207627222}. Best is trial 11 with value: 0.7330793020636143.\n",
      "[I 2024-03-18 11:07:07,303] Trial 26 finished with value: 0.7167988097506575 and parameters: {'learning_rate': 0.05891454106120056, 'max_depth': 7, 'n_estimators': 107, 'l2_leaf_reg': 0.75085762962381}. Best is trial 11 with value: 0.7330793020636143.\n",
      "[I 2024-03-18 11:08:52,788] Trial 27 finished with value: 0.7347807116745221 and parameters: {'learning_rate': 0.08260053107475766, 'max_depth': 8, 'n_estimators': 125, 'l2_leaf_reg': 0.7272458493539231}. Best is trial 27 with value: 0.7347807116745221.\n",
      "[I 2024-03-18 11:09:51,018] Trial 28 finished with value: 0.7262091143115219 and parameters: {'learning_rate': 0.0805931061480814, 'max_depth': 7, 'n_estimators': 147, 'l2_leaf_reg': 0.9078108377574904}. Best is trial 27 with value: 0.7347807116745221.\n",
      "[I 2024-03-18 11:10:34,838] Trial 29 finished with value: 0.7184041796603199 and parameters: {'learning_rate': 0.048529819999651766, 'max_depth': 6, 'n_estimators': 125, 'l2_leaf_reg': 0.7406594115304106}. Best is trial 27 with value: 0.7347807116745221.\n",
      "[I 2024-03-18 11:11:16,238] Trial 30 finished with value: 0.7295555102321587 and parameters: {'learning_rate': 0.0709081992948137, 'max_depth': 6, 'n_estimators': 130, 'l2_leaf_reg': 0.5801505844260386}. Best is trial 27 with value: 0.7347807116745221.\n",
      "[I 2024-03-18 11:12:43,194] Trial 31 finished with value: 0.7275151815926668 and parameters: {'learning_rate': 0.09971990186091183, 'max_depth': 8, 'n_estimators': 103, 'l2_leaf_reg': 0.7120436421291906}. Best is trial 27 with value: 0.7347807116745221.\n",
      "[I 2024-03-18 11:14:25,308] Trial 32 finished with value: 0.7259249668522274 and parameters: {'learning_rate': 0.08760177101596194, 'max_depth': 8, 'n_estimators': 121, 'l2_leaf_reg': 0.4559599716482933}. Best is trial 27 with value: 0.7347807116745221.\n",
      "[I 2024-03-18 11:15:58,397] Trial 33 finished with value: 0.7324272663132856 and parameters: {'learning_rate': 0.08256507346369199, 'max_depth': 8, 'n_estimators': 111, 'l2_leaf_reg': 0.8121395160783175}. Best is trial 27 with value: 0.7347807116745221.\n",
      "[I 2024-03-18 11:16:54,672] Trial 34 finished with value: 0.7362254616486343 and parameters: {'learning_rate': 0.0786452598375956, 'max_depth': 7, 'n_estimators': 141, 'l2_leaf_reg': 0.7903450726658744}. Best is trial 34 with value: 0.7362254616486343.\n",
      "[I 2024-03-18 11:17:58,236] Trial 35 finished with value: 0.6995340923055303 and parameters: {'learning_rate': 0.001544847071412933, 'max_depth': 7, 'n_estimators': 140, 'l2_leaf_reg': 0.793833927094675}. Best is trial 34 with value: 0.7362254616486343.\n",
      "[I 2024-03-18 11:18:32,859] Trial 36 finished with value: 0.7122319935362963 and parameters: {'learning_rate': 0.07515963883287889, 'max_depth': 4, 'n_estimators': 143, 'l2_leaf_reg': 0.917325771719898}. Best is trial 34 with value: 0.7362254616486343.\n",
      "[I 2024-03-18 11:19:25,750] Trial 37 finished with value: 0.722994995188315 and parameters: {'learning_rate': 0.06264988986119734, 'max_depth': 7, 'n_estimators': 130, 'l2_leaf_reg': 0.5765003403058176}. Best is trial 34 with value: 0.7362254616486343.\n",
      "[I 2024-03-18 11:20:13,967] Trial 38 finished with value: 0.7159936229269658 and parameters: {'learning_rate': 0.05424354926044443, 'max_depth': 6, 'n_estimators': 139, 'l2_leaf_reg': 0.7824176187670998}. Best is trial 34 with value: 0.7362254616486343.\n",
      "[I 2024-03-18 11:20:52,445] Trial 39 finished with value: 0.7177199991469544 and parameters: {'learning_rate': 0.08409644935862236, 'max_depth': 5, 'n_estimators': 132, 'l2_leaf_reg': 0.6962596246421734}. Best is trial 34 with value: 0.7362254616486343.\n",
      "[I 2024-03-18 11:21:12,270] Trial 40 finished with value: 0.6873833666684019 and parameters: {'learning_rate': 0.07027066219151518, 'max_depth': 2, 'n_estimators': 118, 'l2_leaf_reg': 0.8151852848430493}. Best is trial 34 with value: 0.7362254616486343.\n",
      "[I 2024-03-18 11:22:47,228] Trial 41 finished with value: 0.7211479671321245 and parameters: {'learning_rate': 0.09167516840354788, 'max_depth': 8, 'n_estimators': 111, 'l2_leaf_reg': 0.8846611314590648}. Best is trial 34 with value: 0.7362254616486343.\n",
      "[I 2024-03-18 11:23:52,050] Trial 42 finished with value: 0.7193008788817428 and parameters: {'learning_rate': 0.08508237751331739, 'max_depth': 8, 'n_estimators': 97, 'l2_leaf_reg': 0.9398249231747666}. Best is trial 34 with value: 0.7362254616486343.\n",
      "[I 2024-03-18 11:24:07,630] Trial 43 finished with value: 0.7203408657135604 and parameters: {'learning_rate': 0.07845252327017671, 'max_depth': 7, 'n_estimators': 121, 'l2_leaf_reg': 0.8442940488947658}. Best is trial 34 with value: 0.7362254616486343.\n",
      "[I 2024-03-18 11:24:43,876] Trial 44 finished with value: 0.7223663636037977 and parameters: {'learning_rate': 0.09603497886102609, 'max_depth': 8, 'n_estimators': 110, 'l2_leaf_reg': 0.7231574222639173}. Best is trial 34 with value: 0.7362254616486343.\n",
      "[I 2024-03-18 11:25:27,857] Trial 45 finished with value: 0.7298779756376651 and parameters: {'learning_rate': 0.08511719672298615, 'max_depth': 8, 'n_estimators': 135, 'l2_leaf_reg': 0.7867313388646514}. Best is trial 34 with value: 0.7362254616486343.\n",
      "[I 2024-03-18 11:25:43,161] Trial 46 finished with value: 0.7032913486778745 and parameters: {'learning_rate': 0.021326605988055667, 'max_depth': 7, 'n_estimators': 112, 'l2_leaf_reg': 0.9441546196488477}. Best is trial 34 with value: 0.7362254616486343.\n",
      "[I 2024-03-18 11:26:13,161] Trial 47 finished with value: 0.7222785272101105 and parameters: {'learning_rate': 0.07384601948164153, 'max_depth': 8, 'n_estimators': 91, 'l2_leaf_reg': 0.006678919878559841}. Best is trial 34 with value: 0.7362254616486343.\n",
      "[I 2024-03-18 11:26:28,158] Trial 48 finished with value: 0.7271413423467092 and parameters: {'learning_rate': 0.0811148003992476, 'max_depth': 7, 'n_estimators': 118, 'l2_leaf_reg': 0.6169046051065524}. Best is trial 34 with value: 0.7362254616486343.\n",
      "[I 2024-03-18 11:27:09,997] Trial 49 finished with value: 0.7330449986865571 and parameters: {'learning_rate': 0.08875382354948985, 'max_depth': 8, 'n_estimators': 127, 'l2_leaf_reg': 0.6804470766175007}. Best is trial 34 with value: 0.7362254616486343.\n",
      "[I 2024-03-18 11:27:26,015] Trial 50 finished with value: 0.7215439361052559 and parameters: {'learning_rate': 0.07776089760976644, 'max_depth': 7, 'n_estimators': 126, 'l2_leaf_reg': 0.56289517542965}. Best is trial 34 with value: 0.7362254616486343.\n",
      "[I 2024-03-18 11:29:21,910] Trial 51 finished with value: 0.723940681097321 and parameters: {'learning_rate': 0.08816425647564001, 'max_depth': 8, 'n_estimators': 141, 'l2_leaf_reg': 0.6820141632194843}. Best is trial 34 with value: 0.7362254616486343.\n",
      "[I 2024-03-18 11:31:22,026] Trial 52 finished with value: 0.7302030163662927 and parameters: {'learning_rate': 0.09535390752766906, 'max_depth': 8, 'n_estimators': 145, 'l2_leaf_reg': 0.6502600115334544}. Best is trial 34 with value: 0.7362254616486343.\n",
      "[I 2024-03-18 11:33:03,636] Trial 53 finished with value: 0.7232434082277073 and parameters: {'learning_rate': 0.06533723831196232, 'max_depth': 8, 'n_estimators': 122, 'l2_leaf_reg': 0.764984811201366}. Best is trial 34 with value: 0.7362254616486343.\n",
      "[I 2024-03-18 11:34:57,860] Trial 54 finished with value: 0.7245076200549663 and parameters: {'learning_rate': 0.0913319068488487, 'max_depth': 8, 'n_estimators': 137, 'l2_leaf_reg': 0.8165707654937062}. Best is trial 34 with value: 0.7362254616486343.\n",
      "[I 2024-03-18 11:36:34,054] Trial 55 finished with value: 0.7300614953239178 and parameters: {'learning_rate': 0.08530765041134927, 'max_depth': 8, 'n_estimators': 116, 'l2_leaf_reg': 0.8781621620242317}. Best is trial 34 with value: 0.7362254616486343.\n",
      "[I 2024-03-18 11:37:28,595] Trial 56 finished with value: 0.7257029929852492 and parameters: {'learning_rate': 0.07400799705300506, 'max_depth': 7, 'n_estimators': 130, 'l2_leaf_reg': 0.7084056431793135}. Best is trial 34 with value: 0.7362254616486343.\n",
      "[I 2024-03-18 11:37:55,580] Trial 57 finished with value: 0.7043377692312547 and parameters: {'learning_rate': 0.09134100408328819, 'max_depth': 4, 'n_estimators': 107, 'l2_leaf_reg': 0.5067029955197768}. Best is trial 34 with value: 0.7362254616486343.\n",
      "[I 2024-03-18 11:38:10,532] Trial 58 finished with value: 0.7098595051076233 and parameters: {'learning_rate': 0.09697168872603032, 'max_depth': 5, 'n_estimators': 53, 'l2_leaf_reg': 0.12384353201967602}. Best is trial 34 with value: 0.7362254616486343.\n",
      "[I 2024-03-18 11:38:51,372] Trial 59 finished with value: 0.7191354328280904 and parameters: {'learning_rate': 0.08074660350017517, 'max_depth': 7, 'n_estimators': 100, 'l2_leaf_reg': 0.6074530205253258}. Best is trial 34 with value: 0.7362254616486343.\n"
     ]
    },
    {
     "name": "stderr",
     "output_type": "stream",
     "text": [
      "[I 2024-03-18 11:39:52,982] A new study created in memory with name: no-name-9769150e-3d0c-41b6-a560-15923babca16\n"
     ]
    },
    {
     "name": "stdout",
     "output_type": "stream",
     "text": [
      "F1 Score: 0.23887378305244725\n",
      "ROC AUC Score: 0.7803600184517747\n",
      "ROC AUC Score Class 1: 0.6925050780703264\n",
      "ROC AUC Score Class 2: 0.7261899695478022\n",
      "ROC AUC Score Class 3: 0.9336287792261829\n"
     ]
    },
    {
     "data": {
      "application/vnd.jupyter.widget-view+json": {
       "model_id": "c28cdb7c59bf4f3fb57a64aa661158b9",
       "version_major": 2,
       "version_minor": 0
      },
      "text/plain": [
       "  0%|          | 0/60 [00:00<?, ?it/s]"
      ]
     },
     "metadata": {},
     "output_type": "display_data"
    },
    {
     "name": "stdout",
     "output_type": "stream",
     "text": [
      "[I 2024-03-18 11:40:09,650] Trial 0 finished with value: 0.7809552331566145 and parameters: {'learning_rate': 0.046571252019130885, 'max_depth': 2, 'n_estimators': 82, 'l2_leaf_reg': 0.8230381454404972}. Best is trial 0 with value: 0.7809552331566145.\n",
      "[I 2024-03-18 11:40:46,163] Trial 1 finished with value: 0.8062949577078095 and parameters: {'learning_rate': 0.09113936211599168, 'max_depth': 5, 'n_estimators': 121, 'l2_leaf_reg': 0.41973104344726964}. Best is trial 1 with value: 0.8062949577078095.\n",
      "[I 2024-03-18 11:41:05,270] Trial 2 finished with value: 0.7879001138396227 and parameters: {'learning_rate': 0.04604233473141312, 'max_depth': 2, 'n_estimators': 102, 'l2_leaf_reg': 0.5184766573481012}. Best is trial 1 with value: 0.8062949577078095.\n",
      "[I 2024-03-18 11:41:31,600] Trial 3 finished with value: 0.7874854298867698 and parameters: {'learning_rate': 0.01792097087575961, 'max_depth': 6, 'n_estimators': 62, 'l2_leaf_reg': 0.33951932253884}. Best is trial 1 with value: 0.8062949577078095.\n",
      "[I 2024-03-18 11:42:03,769] Trial 4 finished with value: 0.798821695349732 and parameters: {'learning_rate': 0.03931786130761414, 'max_depth': 4, 'n_estimators': 113, 'l2_leaf_reg': 0.3396072166012336}. Best is trial 1 with value: 0.8062949577078095.\n",
      "[I 2024-03-18 11:42:36,063] Trial 5 finished with value: 0.7977188008787476 and parameters: {'learning_rate': 0.09498514262989954, 'max_depth': 7, 'n_estimators': 72, 'l2_leaf_reg': 0.5408216122287406}. Best is trial 1 with value: 0.8062949577078095.\n",
      "[I 2024-03-18 11:43:12,487] Trial 6 finished with value: 0.78349951513385 and parameters: {'learning_rate': 0.007508614250102571, 'max_depth': 4, 'n_estimators': 121, 'l2_leaf_reg': 0.13431363781633465}. Best is trial 1 with value: 0.8062949577078095.\n",
      "[I 2024-03-18 11:43:52,958] Trial 7 finished with value: 0.7937035378367384 and parameters: {'learning_rate': 0.05769818277394193, 'max_depth': 7, 'n_estimators': 89, 'l2_leaf_reg': 0.6783965635067226}. Best is trial 1 with value: 0.8062949577078095.\n",
      "[I 2024-03-18 11:44:23,268] Trial 8 finished with value: 0.8022510312473826 and parameters: {'learning_rate': 0.09487998349139354, 'max_depth': 5, 'n_estimators': 98, 'l2_leaf_reg': 0.07758248330977113}. Best is trial 1 with value: 0.8062949577078095.\n",
      "[I 2024-03-18 11:44:44,329] Trial 9 finished with value: 0.7935907616355002 and parameters: {'learning_rate': 0.049652282020851146, 'max_depth': 3, 'n_estimators': 87, 'l2_leaf_reg': 0.33068814251652034}. Best is trial 1 with value: 0.8062949577078095.\n",
      "[I 2024-03-18 11:46:57,111] Trial 10 finished with value: 0.7958579929489533 and parameters: {'learning_rate': 0.07405686760729087, 'max_depth': 8, 'n_estimators': 146, 'l2_leaf_reg': 0.9193036348938729}. Best is trial 1 with value: 0.8062949577078095.\n",
      "[I 2024-03-18 11:47:37,272] Trial 11 finished with value: 0.8028153993584071 and parameters: {'learning_rate': 0.09968342165014932, 'max_depth': 5, 'n_estimators': 133, 'l2_leaf_reg': 0.02129545629047508}. Best is trial 1 with value: 0.8062949577078095.\n",
      "[I 2024-03-18 11:48:14,607] Trial 12 finished with value: 0.8023322942093123 and parameters: {'learning_rate': 0.07909754352487648, 'max_depth': 5, 'n_estimators': 139, 'l2_leaf_reg': 0.022118453898865423}. Best is trial 1 with value: 0.8062949577078095.\n",
      "[I 2024-03-18 11:49:00,703] Trial 13 finished with value: 0.8000348258307285 and parameters: {'learning_rate': 0.07861530528206723, 'max_depth': 6, 'n_estimators': 128, 'l2_leaf_reg': 0.21854361686293627}. Best is trial 1 with value: 0.8062949577078095.\n",
      "[I 2024-03-18 11:49:34,309] Trial 14 finished with value: 0.810428306251798 and parameters: {'learning_rate': 0.09916393566155166, 'max_depth': 4, 'n_estimators': 133, 'l2_leaf_reg': 0.6774776894580598}. Best is trial 14 with value: 0.810428306251798.\n",
      "[I 2024-03-18 11:50:04,238] Trial 15 finished with value: 0.8063310563809678 and parameters: {'learning_rate': 0.06464865226619221, 'max_depth': 4, 'n_estimators': 112, 'l2_leaf_reg': 0.6790636800484792}. Best is trial 14 with value: 0.810428306251798.\n",
      "[I 2024-03-18 11:50:36,951] Trial 16 finished with value: 0.8047448535966361 and parameters: {'learning_rate': 0.06431393943275607, 'max_depth': 3, 'n_estimators': 150, 'l2_leaf_reg': 0.7085696781141892}. Best is trial 14 with value: 0.810428306251798.\n",
      "[I 2024-03-18 11:51:03,070] Trial 17 finished with value: 0.7832809989675522 and parameters: {'learning_rate': 0.029438396244497483, 'max_depth': 3, 'n_estimators': 108, 'l2_leaf_reg': 0.6830238801532507}. Best is trial 14 with value: 0.810428306251798.\n",
      "[I 2024-03-18 11:51:36,086] Trial 18 finished with value: 0.8056110581660734 and parameters: {'learning_rate': 0.06762990807560969, 'max_depth': 4, 'n_estimators': 120, 'l2_leaf_reg': 0.9840160636387273}. Best is trial 14 with value: 0.810428306251798.\n",
      "[I 2024-03-18 11:52:11,689] Trial 19 finished with value: 0.8003049722790894 and parameters: {'learning_rate': 0.085288186730807, 'max_depth': 4, 'n_estimators': 136, 'l2_leaf_reg': 0.604992414092256}. Best is trial 14 with value: 0.810428306251798.\n",
      "[I 2024-03-18 11:52:29,908] Trial 20 finished with value: 0.7883428559112964 and parameters: {'learning_rate': 0.06321671461427283, 'max_depth': 6, 'n_estimators': 50, 'l2_leaf_reg': 0.8138406778990673}. Best is trial 14 with value: 0.810428306251798.\n",
      "[I 2024-03-18 11:53:03,060] Trial 21 finished with value: 0.8073113128669903 and parameters: {'learning_rate': 0.08682616145049228, 'max_depth': 4, 'n_estimators': 123, 'l2_leaf_reg': 0.4231575272590999}. Best is trial 14 with value: 0.810428306251798.\n",
      "[I 2024-03-18 11:53:29,116] Trial 22 finished with value: 0.8069658237447898 and parameters: {'learning_rate': 0.08275095081521786, 'max_depth': 3, 'n_estimators': 113, 'l2_leaf_reg': 0.42190973129811365}. Best is trial 14 with value: 0.810428306251798.\n",
      "[I 2024-03-18 11:53:56,909] Trial 23 finished with value: 0.8015411712648196 and parameters: {'learning_rate': 0.08666913056489753, 'max_depth': 3, 'n_estimators': 127, 'l2_leaf_reg': 0.4236457111714582}. Best is trial 14 with value: 0.810428306251798.\n",
      "[I 2024-03-18 11:54:20,768] Trial 24 finished with value: 0.802143347008365 and parameters: {'learning_rate': 0.08101992622147822, 'max_depth': 2, 'n_estimators': 141, 'l2_leaf_reg': 0.22693381780342195}. Best is trial 14 with value: 0.810428306251798.\n",
      "[I 2024-03-18 11:54:43,980] Trial 25 finished with value: 0.8043651873940617 and parameters: {'learning_rate': 0.0894571824833274, 'max_depth': 3, 'n_estimators': 100, 'l2_leaf_reg': 0.4375187719924335}. Best is trial 14 with value: 0.810428306251798.\n",
      "[I 2024-03-18 11:55:17,166] Trial 26 finished with value: 0.8054502452952359 and parameters: {'learning_rate': 0.09994665879147564, 'max_depth': 4, 'n_estimators': 129, 'l2_leaf_reg': 0.5937347707346268}. Best is trial 14 with value: 0.810428306251798.\n",
      "[I 2024-03-18 11:55:42,440] Trial 27 finished with value: 0.8049678966755311 and parameters: {'learning_rate': 0.0702566243106034, 'max_depth': 3, 'n_estimators': 115, 'l2_leaf_reg': 0.266977165707985}. Best is trial 14 with value: 0.810428306251798.\n",
      "[I 2024-03-18 11:56:07,725] Trial 28 finished with value: 0.8039552014262176 and parameters: {'learning_rate': 0.08397474233641714, 'max_depth': 2, 'n_estimators': 142, 'l2_leaf_reg': 0.4526404220870671}. Best is trial 14 with value: 0.810428306251798.\n",
      "[I 2024-03-18 11:56:26,982] Trial 29 finished with value: 0.7896591916861273 and parameters: {'learning_rate': 0.05740466252397131, 'max_depth': 2, 'n_estimators': 108, 'l2_leaf_reg': 0.8125761957524807}. Best is trial 14 with value: 0.810428306251798.\n",
      "[I 2024-03-18 11:56:58,029] Trial 30 finished with value: 0.8044501545354019 and parameters: {'learning_rate': 0.07552169115748833, 'max_depth': 5, 'n_estimators': 95, 'l2_leaf_reg': 0.5783650311215461}. Best is trial 14 with value: 0.810428306251798.\n",
      "[I 2024-03-18 11:57:22,512] Trial 31 finished with value: 0.802140985739062 and parameters: {'learning_rate': 0.08779450875441527, 'max_depth': 4, 'n_estimators': 112, 'l2_leaf_reg': 0.711443339099218}. Best is trial 14 with value: 0.810428306251798.\n",
      "[I 2024-03-18 11:57:54,154] Trial 32 finished with value: 0.8055235361783669 and parameters: {'learning_rate': 0.09478072321483691, 'max_depth': 4, 'n_estimators': 121, 'l2_leaf_reg': 0.6288608161228402}. Best is trial 14 with value: 0.810428306251798.\n",
      "[I 2024-03-18 11:58:17,748] Trial 33 finished with value: 0.8000695891404433 and parameters: {'learning_rate': 0.07159993881562587, 'max_depth': 3, 'n_estimators': 104, 'l2_leaf_reg': 0.48770901543991674}. Best is trial 14 with value: 0.810428306251798.\n",
      "[I 2024-03-18 11:58:48,857] Trial 34 finished with value: 0.8083276180252399 and parameters: {'learning_rate': 0.09229333528002637, 'max_depth': 4, 'n_estimators': 118, 'l2_leaf_reg': 0.7744192586620577}. Best is trial 14 with value: 0.810428306251798.\n",
      "[I 2024-03-18 11:59:26,085] Trial 35 finished with value: 0.8043565547443641 and parameters: {'learning_rate': 0.09155949417815659, 'max_depth': 5, 'n_estimators': 121, 'l2_leaf_reg': 0.76683722147776}. Best is trial 14 with value: 0.810428306251798.\n",
      "[I 2024-03-18 12:00:03,586] Trial 36 finished with value: 0.8023023371717071 and parameters: {'learning_rate': 0.04079033805131626, 'max_depth': 4, 'n_estimators': 131, 'l2_leaf_reg': 0.8712007237787313}. Best is trial 14 with value: 0.810428306251798.\n",
      "[I 2024-03-18 12:00:29,068] Trial 37 finished with value: 0.8049130165810635 and parameters: {'learning_rate': 0.09298392744641612, 'max_depth': 3, 'n_estimators': 116, 'l2_leaf_reg': 0.33730600287028506}. Best is trial 14 with value: 0.810428306251798.\n",
      "[I 2024-03-18 12:01:13,381] Trial 38 finished with value: 0.7994026231672522 and parameters: {'learning_rate': 0.0983047758948573, 'max_depth': 6, 'n_estimators': 124, 'l2_leaf_reg': 0.511172067797452}. Best is trial 14 with value: 0.810428306251798.\n",
      "[I 2024-03-18 12:01:28,815] Trial 39 finished with value: 0.7751946545874122 and parameters: {'learning_rate': 0.0011829646662408141, 'max_depth': 2, 'n_estimators': 76, 'l2_leaf_reg': 0.3866271971456722}. Best is trial 14 with value: 0.810428306251798.\n",
      "[I 2024-03-18 12:02:03,020] Trial 40 finished with value: 0.8068922999436561 and parameters: {'learning_rate': 0.08347388725956585, 'max_depth': 5, 'n_estimators': 105, 'l2_leaf_reg': 0.753381240862743}. Best is trial 14 with value: 0.810428306251798.\n",
      "[I 2024-03-18 12:02:37,681] Trial 41 finished with value: 0.8062171919400419 and parameters: {'learning_rate': 0.08302776953120958, 'max_depth': 5, 'n_estimators': 106, 'l2_leaf_reg': 0.9321748437423856}. Best is trial 14 with value: 0.810428306251798.\n",
      "[I 2024-03-18 12:03:08,367] Trial 42 finished with value: 0.8042798936218529 and parameters: {'learning_rate': 0.08933499715452807, 'max_depth': 4, 'n_estimators': 118, 'l2_leaf_reg': 0.748790537233397}. Best is trial 14 with value: 0.810428306251798.\n",
      "[I 2024-03-18 12:03:39,945] Trial 43 finished with value: 0.8108362930689206 and parameters: {'learning_rate': 0.07817674373016337, 'max_depth': 5, 'n_estimators': 93, 'l2_leaf_reg': 0.5393103930975225}. Best is trial 43 with value: 0.8108362930689206.\n",
      "[I 2024-03-18 12:04:05,362] Trial 44 finished with value: 0.7997852017925362 and parameters: {'learning_rate': 0.07662692122255294, 'max_depth': 4, 'n_estimators': 94, 'l2_leaf_reg': 0.5429163975439987}. Best is trial 43 with value: 0.8108362930689206.\n",
      "[I 2024-03-18 12:04:36,535] Trial 45 finished with value: 0.7930140796034535 and parameters: {'learning_rate': 0.09429706572228755, 'max_depth': 6, 'n_estimators': 81, 'l2_leaf_reg': 0.47663595676545895}. Best is trial 43 with value: 0.8108362930689206.\n",
      "[I 2024-03-18 12:05:06,180] Trial 46 finished with value: 0.7985292033011742 and parameters: {'learning_rate': 0.05473759780272325, 'max_depth': 5, 'n_estimators': 85, 'l2_leaf_reg': 0.38519119090303394}. Best is trial 43 with value: 0.8108362930689206.\n",
      "[I 2024-03-18 12:05:50,474] Trial 47 finished with value: 0.789779389443402 and parameters: {'learning_rate': 0.024901935406455473, 'max_depth': 5, 'n_estimators': 126, 'l2_leaf_reg': 0.6524319909759059}. Best is trial 43 with value: 0.8108362930689206.\n",
      "[I 2024-03-18 12:06:25,086] Trial 48 finished with value: 0.7973088731540172 and parameters: {'learning_rate': 0.07881624542263778, 'max_depth': 4, 'n_estimators': 135, 'l2_leaf_reg': 0.5492930154518514}. Best is trial 43 with value: 0.8108362930689206.\n",
      "[I 2024-03-18 12:07:03,448] Trial 49 finished with value: 0.7978054064940424 and parameters: {'learning_rate': 0.09693878918696554, 'max_depth': 7, 'n_estimators': 91, 'l2_leaf_reg': 0.390678587500266}. Best is trial 43 with value: 0.8108362930689206.\n",
      "[I 2024-03-18 12:07:27,709] Trial 50 finished with value: 0.8042898159790853 and parameters: {'learning_rate': 0.0917112432644194, 'max_depth': 3, 'n_estimators': 110, 'l2_leaf_reg': 0.3040541283348933}. Best is trial 43 with value: 0.8108362930689206.\n",
      "[I 2024-03-18 12:07:59,397] Trial 51 finished with value: 0.8066801344496962 and parameters: {'learning_rate': 0.08423375780228395, 'max_depth': 5, 'n_estimators': 96, 'l2_leaf_reg': 0.7669869509085468}. Best is trial 43 with value: 0.8108362930689206.\n",
      "[I 2024-03-18 12:08:30,737] Trial 52 finished with value: 0.8058595869152221 and parameters: {'learning_rate': 0.08121909574731598, 'max_depth': 5, 'n_estimators': 100, 'l2_leaf_reg': 0.8529933929048568}. Best is trial 43 with value: 0.8108362930689206.\n",
      "[I 2024-03-18 12:09:10,303] Trial 53 finished with value: 0.8093507734944914 and parameters: {'learning_rate': 0.07312652532109841, 'max_depth': 5, 'n_estimators': 124, 'l2_leaf_reg': 0.717392312344666}. Best is trial 43 with value: 0.8108362930689206.\n",
      "[I 2024-03-18 12:09:55,790] Trial 54 finished with value: 0.8011827758081762 and parameters: {'learning_rate': 0.07352062944822818, 'max_depth': 6, 'n_estimators': 124, 'l2_leaf_reg': 0.651644170559102}. Best is trial 43 with value: 0.8108362930689206.\n",
      "[I 2024-03-18 12:10:29,911] Trial 55 finished with value: 0.7981865523528223 and parameters: {'learning_rate': 0.08791206863944653, 'max_depth': 4, 'n_estimators': 132, 'l2_leaf_reg': 0.7245201154258369}. Best is trial 43 with value: 0.8108362930689206.\n",
      "[I 2024-03-18 12:12:16,588] Trial 56 finished with value: 0.7930139789386836 and parameters: {'learning_rate': 0.06787226315857406, 'max_depth': 8, 'n_estimators': 116, 'l2_leaf_reg': 0.5778002693217694}. Best is trial 43 with value: 0.8108362930689206.\n",
      "[I 2024-03-18 12:13:07,474] Trial 57 finished with value: 0.7963330983931458 and parameters: {'learning_rate': 0.07714607498457411, 'max_depth': 6, 'n_estimators': 139, 'l2_leaf_reg': 0.5174030642937963}. Best is trial 43 with value: 0.8108362930689206.\n",
      "[I 2024-03-18 12:13:44,270] Trial 58 finished with value: 0.8059355750113345 and parameters: {'learning_rate': 0.061693774955081125, 'max_depth': 4, 'n_estimators': 144, 'l2_leaf_reg': 0.6215433910760972}. Best is trial 43 with value: 0.8108362930689206.\n",
      "[I 2024-03-18 12:14:17,115] Trial 59 finished with value: 0.8005328840979692 and parameters: {'learning_rate': 0.09656815735942055, 'max_depth': 3, 'n_estimators': 149, 'l2_leaf_reg': 0.17251855945499955}. Best is trial 43 with value: 0.8108362930689206.\n",
      "F1 Score: 0.27744240399356584\n",
      "ROC AUC Score: 0.7355929390707554\n",
      "ROC AUC Score Class 1: 0.7584251362746326\n",
      "ROC AUC Score Class 2: 0.7066837871186802\n",
      "ROC AUC Score Class 3: 0.7856209132118338\n"
     ]
    }
   ],
   "source": [
    "\n",
    "\n",
    "scores = []\n",
    "scores_class1 = []\n",
    "scores_class2 = []\n",
    "scores_class3 = []\n",
    "for i in range(0, len(dataset)):\n",
    "    x_train, y_train, x_val, y_val, x_test, y_test = dataset[i][0], dataset[i][1], dataset[i][2], dataset[i][3], dataset[i][4], dataset[i][5]\n",
    "    best_params = find_best_model(\"multi_cat\", x_train, y_train, x_val, y_val, trials=60)\n",
    "    cat_clf = CatBoostClassifier(**best_params.params, random_seed=42).fit(x_train, y_train, eval_set=[(x_val, y_val)], verbose=False)\n",
    "    evaluator = MultiClassEvaluator(cat_clf)\n",
    "    evaluator.evaluate(x_test, y_test)\n",
    "    scores.append(evaluator.get_rocau_spec(0))\n",
    "    scores_class1.append(evaluator.get_rocau_spec(1))\n",
    "    scores_class2.append(evaluator.get_rocau_spec(2))\n",
    "    scores_class3.append(evaluator.get_rocau_spec(3))\n",
    "\n"
   ]
  },
  {
   "cell_type": "code",
   "execution_count": 6,
   "metadata": {},
   "outputs": [
    {
     "name": "stdout",
     "output_type": "stream",
     "text": [
      "Mean Scores: 0.7670997843665426\n",
      "Mean Scores Class 1: 0.7643689900936437\n",
      "Mean Scores Class 2: 0.7068202038955613\n",
      "Mean Scores Class 3: 0.8510427909846717\n"
     ]
    }
   ],
   "source": [
    "mean =  np.mean(np.array(scores))\n",
    "mean_class1 =  np.mean(np.array(scores_class1))\n",
    "mean_class2 =  np.mean(np.array(scores_class2))\n",
    "mean_class3 =  np.mean(np.array(scores_class3))\n",
    "print(f\"Mean Scores: {mean}\")\n",
    "print(f\"Mean Scores Class 1: {mean_class1}\")\n",
    "print(f\"Mean Scores Class 2: {mean_class2}\")\n",
    "print(f\"Mean Scores Class 3: {mean_class3}\")"
   ]
  }
 ],
 "metadata": {
  "kernelspec": {
   "display_name": "Python 3 (ipykernel)",
   "language": "python",
   "name": "python3"
  },
  "language_info": {
   "codemirror_mode": {
    "name": "ipython",
    "version": 3
   },
   "file_extension": ".py",
   "mimetype": "text/x-python",
   "name": "python",
   "nbconvert_exporter": "python",
   "pygments_lexer": "ipython3",
   "version": "3.11.8"
  }
 },
 "nbformat": 4,
 "nbformat_minor": 4
}
