{
 "cells": [
  {
   "cell_type": "markdown",
   "metadata": {},
   "source": [
    "# MLP Evaluation"
   ]
  },
  {
   "cell_type": "markdown",
   "metadata": {},
   "source": [
    "## 1. Generate Random Data"
   ]
  },
  {
   "cell_type": "code",
   "execution_count": 1,
   "metadata": {},
   "outputs": [],
   "source": [
    "import sys\n",
    "sys.path.append('../../src')\n",
    "\n",
    "import pandas as pd\n",
    "import numpy as np\n",
    "import random\n",
    "from random_data_generator import random_data_generator\n",
    "\n",
    "#tunning\n",
    "from tuning import find_best_model\n",
    "\n",
    "#models\n",
    "from xgboost import XGBClassifier\n",
    "from catboost import CatBoostClassifier, Pool\n",
    "from sklearn.linear_model import LogisticRegression\n",
    "from sklearn.ensemble import RandomForestClassifier\n",
    "from sklearn.neural_network import MLPClassifier\n",
    "\n",
    "from sklearn import preprocessing\n",
    "\n",
    "#metrics\n",
    "from sklearn.metrics import roc_auc_score\n",
    "\n",
    "random.seed(42)"
   ]
  },
  {
   "cell_type": "code",
   "execution_count": 2,
   "metadata": {},
   "outputs": [],
   "source": [
    "dataset = random_data_generator(\"binary\", 5)\n"
   ]
  },
  {
   "cell_type": "markdown",
   "metadata": {},
   "source": [
    "## 2. MLP"
   ]
  },
  {
   "cell_type": "code",
   "execution_count": 3,
   "metadata": {},
   "outputs": [
    {
     "name": "stderr",
     "output_type": "stream",
     "text": [
      "[I 2024-03-14 14:53:16,104] A new study created in memory with name: no-name-10e448f0-5555-413b-8311-d28264d32a42\n"
     ]
    },
    {
     "data": {
      "application/vnd.jupyter.widget-view+json": {
       "model_id": "9280e9fdf17e4cc5af329e729649b0d2",
       "version_major": 2,
       "version_minor": 0
      },
      "text/plain": [
       "  0%|          | 0/25 [00:00<?, ?it/s]"
      ]
     },
     "metadata": {},
     "output_type": "display_data"
    },
    {
     "name": "stderr",
     "output_type": "stream",
     "text": [
      "/usr/local/lib/python3.11/dist-packages/sklearn/neural_network/_multilayer_perceptron.py:691: ConvergenceWarning: Stochastic Optimizer: Maximum iterations (200) reached and the optimization hasn't converged yet.\n",
      "  warnings.warn(\n"
     ]
    },
    {
     "name": "stdout",
     "output_type": "stream",
     "text": [
      "[I 2024-03-14 15:01:05,287] Trial 0 finished with value: 0.7003055900187465 and parameters: {'hidden_layer_sizes': 132, 'activation': 'logistic', 'solver': 'sgd', 'alpha': 0.05360706898219, 'early_stopping': True, 'validation_fraction': 0.1599287409061346}. Best is trial 0 with value: 0.7003055900187465.\n",
      "[I 2024-03-14 15:02:42,700] Trial 1 finished with value: 0.6250623410448701 and parameters: {'hidden_layer_sizes': 132, 'activation': 'tanh', 'solver': 'adam', 'alpha': 0.040160799010031854, 'early_stopping': True, 'validation_fraction': 0.1497368894128456}. Best is trial 0 with value: 0.7003055900187465.\n"
     ]
    },
    {
     "name": "stderr",
     "output_type": "stream",
     "text": [
      "/usr/local/lib/python3.11/dist-packages/sklearn/neural_network/_multilayer_perceptron.py:546: ConvergenceWarning: lbfgs failed to converge (status=1):\n",
      "STOP: TOTAL NO. of ITERATIONS REACHED LIMIT.\n",
      "\n",
      "Increase the number of iterations (max_iter) or scale the data as shown in:\n",
      "    https://scikit-learn.org/stable/modules/preprocessing.html\n",
      "  self.n_iter_ = _check_optimize_result(\"lbfgs\", opt_res, self.max_iter)\n"
     ]
    },
    {
     "name": "stdout",
     "output_type": "stream",
     "text": [
      "[I 2024-03-14 15:04:32,343] Trial 2 finished with value: 0.625534834666421 and parameters: {'hidden_layer_sizes': 56, 'activation': 'logistic', 'solver': 'lbfgs', 'alpha': 0.053923835355123524, 'early_stopping': False, 'validation_fraction': 0.11727411595422055}. Best is trial 0 with value: 0.7003055900187465.\n",
      "[I 2024-03-14 15:07:20,655] Trial 3 finished with value: 0.6456005949624338 and parameters: {'hidden_layer_sizes': 193, 'activation': 'tanh', 'solver': 'adam', 'alpha': 0.0621649086901224, 'early_stopping': True, 'validation_fraction': 0.19902019014490044}. Best is trial 0 with value: 0.7003055900187465.\n",
      "[I 2024-03-14 15:09:54,199] Trial 4 finished with value: 0.6336681851297418 and parameters: {'hidden_layer_sizes': 175, 'activation': 'identity', 'solver': 'adam', 'alpha': 0.003448927084911911, 'early_stopping': False, 'validation_fraction': 0.10727824977885841}. Best is trial 0 with value: 0.7003055900187465.\n"
     ]
    },
    {
     "name": "stderr",
     "output_type": "stream",
     "text": [
      "/usr/local/lib/python3.11/dist-packages/sklearn/neural_network/_multilayer_perceptron.py:691: ConvergenceWarning: Stochastic Optimizer: Maximum iterations (200) reached and the optimization hasn't converged yet.\n",
      "  warnings.warn(\n"
     ]
    },
    {
     "name": "stdout",
     "output_type": "stream",
     "text": [
      "[I 2024-03-14 15:20:47,196] Trial 5 finished with value: 0.6548597778456745 and parameters: {'hidden_layer_sizes': 175, 'activation': 'relu', 'solver': 'sgd', 'alpha': 0.0955909233114353, 'early_stopping': False, 'validation_fraction': 0.132416735951292}. Best is trial 0 with value: 0.7003055900187465.\n",
      "[I 2024-03-14 15:25:09,195] Trial 6 finished with value: 0.6889096629473892 and parameters: {'hidden_layer_sizes': 65, 'activation': 'logistic', 'solver': 'adam', 'alpha': 0.07145540696283155, 'early_stopping': False, 'validation_fraction': 0.18425134019114564}. Best is trial 0 with value: 0.7003055900187465.\n",
      "[I 2024-03-14 15:30:02,902] Trial 7 finished with value: 0.6808010190939833 and parameters: {'hidden_layer_sizes': 99, 'activation': 'logistic', 'solver': 'adam', 'alpha': 0.08056292178936628, 'early_stopping': False, 'validation_fraction': 0.19132561395946796}. Best is trial 0 with value: 0.7003055900187465.\n"
     ]
    },
    {
     "name": "stderr",
     "output_type": "stream",
     "text": [
      "/usr/local/lib/python3.11/dist-packages/sklearn/neural_network/_multilayer_perceptron.py:546: ConvergenceWarning: lbfgs failed to converge (status=1):\n",
      "STOP: TOTAL NO. of ITERATIONS REACHED LIMIT.\n",
      "\n",
      "Increase the number of iterations (max_iter) or scale the data as shown in:\n",
      "    https://scikit-learn.org/stable/modules/preprocessing.html\n",
      "  self.n_iter_ = _check_optimize_result(\"lbfgs\", opt_res, self.max_iter)\n"
     ]
    },
    {
     "name": "stdout",
     "output_type": "stream",
     "text": [
      "[I 2024-03-14 15:34:43,561] Trial 8 finished with value: 0.6210974811172545 and parameters: {'hidden_layer_sizes': 186, 'activation': 'relu', 'solver': 'lbfgs', 'alpha': 0.06060826830864072, 'early_stopping': True, 'validation_fraction': 0.131815339072687}. Best is trial 0 with value: 0.7003055900187465.\n",
      "[I 2024-03-14 15:37:08,347] Trial 9 finished with value: 0.6343164712112797 and parameters: {'hidden_layer_sizes': 122, 'activation': 'relu', 'solver': 'adam', 'alpha': 0.004985584807960323, 'early_stopping': True, 'validation_fraction': 0.1380329977126959}. Best is trial 0 with value: 0.7003055900187465.\n",
      "[I 2024-03-14 15:37:36,344] Trial 10 finished with value: 0.6865757013082565 and parameters: {'hidden_layer_sizes': 143, 'activation': 'identity', 'solver': 'sgd', 'alpha': 0.031865641221594306, 'early_stopping': True, 'validation_fraction': 0.1683377398025508}. Best is trial 0 with value: 0.7003055900187465.\n"
     ]
    },
    {
     "name": "stderr",
     "output_type": "stream",
     "text": [
      "/usr/local/lib/python3.11/dist-packages/sklearn/neural_network/_multilayer_perceptron.py:691: ConvergenceWarning: Stochastic Optimizer: Maximum iterations (200) reached and the optimization hasn't converged yet.\n",
      "  warnings.warn(\n"
     ]
    },
    {
     "name": "stdout",
     "output_type": "stream",
     "text": [
      "[I 2024-03-14 15:44:26,634] Trial 11 finished with value: 0.7033994773793767 and parameters: {'hidden_layer_sizes': 57, 'activation': 'logistic', 'solver': 'sgd', 'alpha': 0.07137633313594437, 'early_stopping': False, 'validation_fraction': 0.17495804747848098}. Best is trial 11 with value: 0.7033994773793767.\n"
     ]
    },
    {
     "name": "stderr",
     "output_type": "stream",
     "text": [
      "/usr/local/lib/python3.11/dist-packages/sklearn/neural_network/_multilayer_perceptron.py:691: ConvergenceWarning: Stochastic Optimizer: Maximum iterations (200) reached and the optimization hasn't converged yet.\n",
      "  warnings.warn(\n"
     ]
    },
    {
     "name": "stdout",
     "output_type": "stream",
     "text": [
      "[I 2024-03-14 15:52:02,621] Trial 12 finished with value: 0.6913830422694505 and parameters: {'hidden_layer_sizes': 88, 'activation': 'logistic', 'solver': 'sgd', 'alpha': 0.029277319750671747, 'early_stopping': False, 'validation_fraction': 0.16939945999114467}. Best is trial 11 with value: 0.7033994773793767.\n",
      "[I 2024-03-14 15:52:49,133] Trial 13 finished with value: 0.6948924030289172 and parameters: {'hidden_layer_sizes': 152, 'activation': 'logistic', 'solver': 'sgd', 'alpha': 0.08669577315332083, 'early_stopping': True, 'validation_fraction': 0.1679353024342126}. Best is trial 11 with value: 0.7033994773793767.\n"
     ]
    },
    {
     "name": "stderr",
     "output_type": "stream",
     "text": [
      "/usr/local/lib/python3.11/dist-packages/sklearn/neural_network/_multilayer_perceptron.py:691: ConvergenceWarning: Stochastic Optimizer: Maximum iterations (200) reached and the optimization hasn't converged yet.\n",
      "  warnings.warn(\n"
     ]
    },
    {
     "name": "stdout",
     "output_type": "stream",
     "text": [
      "[I 2024-03-14 16:01:07,935] Trial 14 finished with value: 0.6920864916286269 and parameters: {'hidden_layer_sizes': 107, 'activation': 'logistic', 'solver': 'sgd', 'alpha': 0.048132530720844745, 'early_stopping': False, 'validation_fraction': 0.1556605099967041}. Best is trial 11 with value: 0.7033994773793767.\n",
      "[I 2024-03-14 16:03:14,319] Trial 15 finished with value: 0.6901221788699798 and parameters: {'hidden_layer_sizes': 79, 'activation': 'logistic', 'solver': 'sgd', 'alpha': 0.06862856071555062, 'early_stopping': True, 'validation_fraction': 0.18045382241816882}. Best is trial 11 with value: 0.7033994773793767.\n",
      "[I 2024-03-14 16:03:58,631] Trial 16 finished with value: 0.6885107517306889 and parameters: {'hidden_layer_sizes': 119, 'activation': 'logistic', 'solver': 'sgd', 'alpha': 0.023516845917075938, 'early_stopping': True, 'validation_fraction': 0.15358007545632835}. Best is trial 11 with value: 0.7033994773793767.\n",
      "[I 2024-03-14 16:08:19,143] Trial 17 finished with value: 0.6453737431304957 and parameters: {'hidden_layer_sizes': 155, 'activation': 'identity', 'solver': 'sgd', 'alpha': 0.07805973145953832, 'early_stopping': False, 'validation_fraction': 0.174859190589361}. Best is trial 11 with value: 0.7033994773793767.\n"
     ]
    },
    {
     "name": "stderr",
     "output_type": "stream",
     "text": [
      "/usr/local/lib/python3.11/dist-packages/sklearn/neural_network/_multilayer_perceptron.py:546: ConvergenceWarning: lbfgs failed to converge (status=1):\n",
      "STOP: TOTAL NO. of ITERATIONS REACHED LIMIT.\n",
      "\n",
      "Increase the number of iterations (max_iter) or scale the data as shown in:\n",
      "    https://scikit-learn.org/stable/modules/preprocessing.html\n",
      "  self.n_iter_ = _check_optimize_result(\"lbfgs\", opt_res, self.max_iter)\n"
     ]
    },
    {
     "name": "stdout",
     "output_type": "stream",
     "text": [
      "[I 2024-03-14 16:10:16,515] Trial 18 finished with value: 0.5932593804914358 and parameters: {'hidden_layer_sizes': 72, 'activation': 'tanh', 'solver': 'lbfgs', 'alpha': 0.09942171966193193, 'early_stopping': True, 'validation_fraction': 0.15978882212135323}. Best is trial 11 with value: 0.7033994773793767.\n"
     ]
    },
    {
     "name": "stderr",
     "output_type": "stream",
     "text": [
      "/usr/local/lib/python3.11/dist-packages/sklearn/neural_network/_multilayer_perceptron.py:691: ConvergenceWarning: Stochastic Optimizer: Maximum iterations (200) reached and the optimization hasn't converged yet.\n",
      "  warnings.warn(\n"
     ]
    },
    {
     "name": "stdout",
     "output_type": "stream",
     "text": [
      "[I 2024-03-14 16:18:25,891] Trial 19 finished with value: 0.6910075085499467 and parameters: {'hidden_layer_sizes': 101, 'activation': 'logistic', 'solver': 'sgd', 'alpha': 0.04551390271968753, 'early_stopping': False, 'validation_fraction': 0.1478216824160061}. Best is trial 11 with value: 0.7033994773793767.\n"
     ]
    },
    {
     "name": "stderr",
     "output_type": "stream",
     "text": [
      "/usr/local/lib/python3.11/dist-packages/sklearn/neural_network/_multilayer_perceptron.py:691: ConvergenceWarning: Stochastic Optimizer: Maximum iterations (200) reached and the optimization hasn't converged yet.\n",
      "  warnings.warn(\n"
     ]
    },
    {
     "name": "stdout",
     "output_type": "stream",
     "text": [
      "[I 2024-03-14 16:28:22,154] Trial 20 finished with value: 0.6908417463618487 and parameters: {'hidden_layer_sizes': 135, 'activation': 'logistic', 'solver': 'sgd', 'alpha': 0.01572161250249278, 'early_stopping': False, 'validation_fraction': 0.18429005405860627}. Best is trial 11 with value: 0.7033994773793767.\n",
      "[I 2024-03-14 16:29:13,590] Trial 21 finished with value: 0.6970110637071756 and parameters: {'hidden_layer_sizes': 151, 'activation': 'logistic', 'solver': 'sgd', 'alpha': 0.08704384230887205, 'early_stopping': True, 'validation_fraction': 0.16956595693247362}. Best is trial 11 with value: 0.7033994773793767.\n",
      "[I 2024-03-14 16:30:04,187] Trial 22 finished with value: 0.6945422949952939 and parameters: {'hidden_layer_sizes': 161, 'activation': 'logistic', 'solver': 'sgd', 'alpha': 0.09103110461016248, 'early_stopping': True, 'validation_fraction': 0.16394606000356043}. Best is trial 11 with value: 0.7033994773793767.\n",
      "[I 2024-03-14 16:32:49,122] Trial 23 finished with value: 0.6811473734102147 and parameters: {'hidden_layer_sizes': 114, 'activation': 'logistic', 'solver': 'sgd', 'alpha': 0.08050641765851924, 'early_stopping': True, 'validation_fraction': 0.14268067113498967}. Best is trial 11 with value: 0.7033994773793767.\n",
      "[I 2024-03-14 16:33:57,959] Trial 24 finished with value: 0.6964874237737221 and parameters: {'hidden_layer_sizes': 140, 'activation': 'logistic', 'solver': 'sgd', 'alpha': 0.05788927148626979, 'early_stopping': True, 'validation_fraction': 0.17616227900787312}. Best is trial 11 with value: 0.7033994773793767.\n"
     ]
    },
    {
     "name": "stderr",
     "output_type": "stream",
     "text": [
      "/usr/local/lib/python3.11/dist-packages/sklearn/neural_network/_multilayer_perceptron.py:691: ConvergenceWarning: Stochastic Optimizer: Maximum iterations (200) reached and the optimization hasn't converged yet.\n",
      "  warnings.warn(\n",
      "[I 2024-03-14 16:40:50,034] A new study created in memory with name: no-name-cb2cd245-5b5a-4bb5-bd65-d6bc3607bb1a\n"
     ]
    },
    {
     "data": {
      "application/vnd.jupyter.widget-view+json": {
       "model_id": "bc5716dadaf74ec6acfcb91338771db7",
       "version_major": 2,
       "version_minor": 0
      },
      "text/plain": [
       "  0%|          | 0/25 [00:00<?, ?it/s]"
      ]
     },
     "metadata": {},
     "output_type": "display_data"
    },
    {
     "name": "stdout",
     "output_type": "stream",
     "text": [
      "[I 2024-03-14 16:45:58,918] Trial 0 finished with value: 0.5977183443177175 and parameters: {'hidden_layer_sizes': 92, 'activation': 'tanh', 'solver': 'adam', 'alpha': 0.050192199124756164, 'early_stopping': False, 'validation_fraction': 0.1536271223875194}. Best is trial 0 with value: 0.5977183443177175.\n",
      "[I 2024-03-14 16:51:58,717] Trial 1 finished with value: 0.5794208463420165 and parameters: {'hidden_layer_sizes': 162, 'activation': 'logistic', 'solver': 'adam', 'alpha': 0.023625999163448663, 'early_stopping': True, 'validation_fraction': 0.1458060950935031}. Best is trial 0 with value: 0.5977183443177175.\n",
      "[I 2024-03-14 16:53:59,649] Trial 2 finished with value: 0.5901390472029631 and parameters: {'hidden_layer_sizes': 139, 'activation': 'identity', 'solver': 'sgd', 'alpha': 0.043637458460302224, 'early_stopping': True, 'validation_fraction': 0.10074239665705326}. Best is trial 0 with value: 0.5977183443177175.\n"
     ]
    },
    {
     "name": "stderr",
     "output_type": "stream",
     "text": [
      "/usr/local/lib/python3.11/dist-packages/sklearn/neural_network/_multilayer_perceptron.py:546: ConvergenceWarning: lbfgs failed to converge (status=1):\n",
      "STOP: TOTAL NO. of ITERATIONS REACHED LIMIT.\n",
      "\n",
      "Increase the number of iterations (max_iter) or scale the data as shown in:\n",
      "    https://scikit-learn.org/stable/modules/preprocessing.html\n",
      "  self.n_iter_ = _check_optimize_result(\"lbfgs\", opt_res, self.max_iter)\n"
     ]
    },
    {
     "name": "stdout",
     "output_type": "stream",
     "text": [
      "[I 2024-03-14 16:59:03,204] Trial 3 finished with value: 0.5439641806037918 and parameters: {'hidden_layer_sizes': 112, 'activation': 'relu', 'solver': 'lbfgs', 'alpha': 0.030022649957168787, 'early_stopping': False, 'validation_fraction': 0.17564212155388206}. Best is trial 0 with value: 0.5977183443177175.\n",
      "[I 2024-03-14 17:00:03,799] Trial 4 finished with value: 0.5988451970089828 and parameters: {'hidden_layer_sizes': 65, 'activation': 'identity', 'solver': 'adam', 'alpha': 0.005017908188171427, 'early_stopping': True, 'validation_fraction': 0.1745711479754582}. Best is trial 4 with value: 0.5988451970089828.\n",
      "[I 2024-03-14 17:04:33,338] Trial 5 finished with value: 0.6068436182493284 and parameters: {'hidden_layer_sizes': 88, 'activation': 'relu', 'solver': 'adam', 'alpha': 0.07473706534825636, 'early_stopping': True, 'validation_fraction': 0.18268820564828742}. Best is trial 5 with value: 0.6068436182493284.\n",
      "[I 2024-03-14 17:08:09,530] Trial 6 finished with value: 0.6284670117307646 and parameters: {'hidden_layer_sizes': 161, 'activation': 'logistic', 'solver': 'adam', 'alpha': 0.06761551507448149, 'early_stopping': True, 'validation_fraction': 0.19919726396353482}. Best is trial 6 with value: 0.6284670117307646.\n",
      "[I 2024-03-14 17:11:54,048] Trial 7 finished with value: 0.5909681499012002 and parameters: {'hidden_layer_sizes': 191, 'activation': 'logistic', 'solver': 'sgd', 'alpha': 0.08988726456607204, 'early_stopping': True, 'validation_fraction': 0.18320006319024507}. Best is trial 6 with value: 0.6284670117307646.\n"
     ]
    },
    {
     "name": "stderr",
     "output_type": "stream",
     "text": [
      "/usr/local/lib/python3.11/dist-packages/sklearn/neural_network/_multilayer_perceptron.py:546: ConvergenceWarning: lbfgs failed to converge (status=1):\n",
      "STOP: TOTAL NO. of ITERATIONS REACHED LIMIT.\n",
      "\n",
      "Increase the number of iterations (max_iter) or scale the data as shown in:\n",
      "    https://scikit-learn.org/stable/modules/preprocessing.html\n",
      "  self.n_iter_ = _check_optimize_result(\"lbfgs\", opt_res, self.max_iter)\n"
     ]
    },
    {
     "name": "stdout",
     "output_type": "stream",
     "text": [
      "[I 2024-03-14 17:21:58,338] Trial 8 finished with value: 0.5786485137079636 and parameters: {'hidden_layer_sizes': 172, 'activation': 'logistic', 'solver': 'lbfgs', 'alpha': 0.080464123192068, 'early_stopping': False, 'validation_fraction': 0.19104748065906288}. Best is trial 6 with value: 0.6284670117307646.\n",
      "[I 2024-03-14 17:33:24,558] Trial 9 finished with value: 0.5842453480331352 and parameters: {'hidden_layer_sizes': 187, 'activation': 'identity', 'solver': 'sgd', 'alpha': 0.06959310096854925, 'early_stopping': False, 'validation_fraction': 0.18361145855290972}. Best is trial 6 with value: 0.6284670117307646.\n",
      "[I 2024-03-14 17:35:30,085] Trial 10 finished with value: 0.6053268327043602 and parameters: {'hidden_layer_sizes': 142, 'activation': 'tanh', 'solver': 'adam', 'alpha': 0.09974259211244121, 'early_stopping': True, 'validation_fraction': 0.12453298455955614}. Best is trial 6 with value: 0.6284670117307646.\n",
      "[I 2024-03-14 17:37:52,942] Trial 11 finished with value: 0.5870428207433884 and parameters: {'hidden_layer_sizes': 54, 'activation': 'relu', 'solver': 'adam', 'alpha': 0.06455842574969102, 'early_stopping': True, 'validation_fraction': 0.1985321392549121}. Best is trial 6 with value: 0.6284670117307646.\n",
      "[I 2024-03-14 17:40:37,733] Trial 12 finished with value: 0.5978694400270074 and parameters: {'hidden_layer_sizes': 97, 'activation': 'relu', 'solver': 'adam', 'alpha': 0.06442982827061378, 'early_stopping': True, 'validation_fraction': 0.16094827845713}. Best is trial 6 with value: 0.6284670117307646.\n",
      "[I 2024-03-14 17:44:45,832] Trial 13 finished with value: 0.6171895186473952 and parameters: {'hidden_layer_sizes': 76, 'activation': 'relu', 'solver': 'adam', 'alpha': 0.0778354282678136, 'early_stopping': True, 'validation_fraction': 0.1992688995525773}. Best is trial 6 with value: 0.6284670117307646.\n",
      "[I 2024-03-14 17:48:31,761] Trial 14 finished with value: 0.615947151643021 and parameters: {'hidden_layer_sizes': 125, 'activation': 'logistic', 'solver': 'adam', 'alpha': 0.08543440425435196, 'early_stopping': True, 'validation_fraction': 0.19967575985450892}. Best is trial 6 with value: 0.6284670117307646.\n"
     ]
    },
    {
     "name": "stderr",
     "output_type": "stream",
     "text": [
      "/usr/local/lib/python3.11/dist-packages/sklearn/neural_network/_multilayer_perceptron.py:546: ConvergenceWarning: lbfgs failed to converge (status=1):\n",
      "STOP: TOTAL NO. of ITERATIONS REACHED LIMIT.\n",
      "\n",
      "Increase the number of iterations (max_iter) or scale the data as shown in:\n",
      "    https://scikit-learn.org/stable/modules/preprocessing.html\n",
      "  self.n_iter_ = _check_optimize_result(\"lbfgs\", opt_res, self.max_iter)\n"
     ]
    },
    {
     "name": "stdout",
     "output_type": "stream",
     "text": [
      "[I 2024-03-14 17:55:21,048] Trial 15 finished with value: 0.5626268713891669 and parameters: {'hidden_layer_sizes': 156, 'activation': 'relu', 'solver': 'lbfgs', 'alpha': 0.052585567527066474, 'early_stopping': True, 'validation_fraction': 0.16621855905956445}. Best is trial 6 with value: 0.6284670117307646.\n",
      "[I 2024-03-14 17:57:53,978] Trial 16 finished with value: 0.6283602048074535 and parameters: {'hidden_layer_sizes': 76, 'activation': 'logistic', 'solver': 'adam', 'alpha': 0.09925373354546782, 'early_stopping': True, 'validation_fraction': 0.11996044359666724}. Best is trial 6 with value: 0.6284670117307646.\n",
      "[I 2024-03-14 18:02:18,049] Trial 17 finished with value: 0.6324501784240526 and parameters: {'hidden_layer_sizes': 115, 'activation': 'logistic', 'solver': 'adam', 'alpha': 0.0974113186719167, 'early_stopping': True, 'validation_fraction': 0.13286059214646617}. Best is trial 17 with value: 0.6324501784240526.\n",
      "[I 2024-03-14 18:14:19,992] Trial 18 finished with value: 0.613237065524358 and parameters: {'hidden_layer_sizes': 119, 'activation': 'logistic', 'solver': 'sgd', 'alpha': 0.09000856140094364, 'early_stopping': False, 'validation_fraction': 0.13876747701598258}. Best is trial 17 with value: 0.6324501784240526.\n"
     ]
    },
    {
     "name": "stderr",
     "output_type": "stream",
     "text": [
      "/usr/local/lib/python3.11/dist-packages/sklearn/neural_network/_multilayer_perceptron.py:546: ConvergenceWarning: lbfgs failed to converge (status=1):\n",
      "STOP: TOTAL NO. of ITERATIONS REACHED LIMIT.\n",
      "\n",
      "Increase the number of iterations (max_iter) or scale the data as shown in:\n",
      "    https://scikit-learn.org/stable/modules/preprocessing.html\n",
      "  self.n_iter_ = _check_optimize_result(\"lbfgs\", opt_res, self.max_iter)\n"
     ]
    },
    {
     "name": "stdout",
     "output_type": "stream",
     "text": [
      "[I 2024-03-14 18:23:14,640] Trial 19 finished with value: 0.5801479030977204 and parameters: {'hidden_layer_sizes': 148, 'activation': 'logistic', 'solver': 'lbfgs', 'alpha': 0.056945115666509165, 'early_stopping': True, 'validation_fraction': 0.12944106910136247}. Best is trial 17 with value: 0.6324501784240526.\n",
      "[I 2024-03-14 18:28:19,242] Trial 20 finished with value: 0.6239621956365127 and parameters: {'hidden_layer_sizes': 175, 'activation': 'logistic', 'solver': 'adam', 'alpha': 0.037852642793856764, 'early_stopping': True, 'validation_fraction': 0.10519780141507853}. Best is trial 17 with value: 0.6324501784240526.\n",
      "[I 2024-03-14 18:30:13,552] Trial 21 finished with value: 0.6337030123324302 and parameters: {'hidden_layer_sizes': 102, 'activation': 'logistic', 'solver': 'adam', 'alpha': 0.09909770051811931, 'early_stopping': True, 'validation_fraction': 0.11588545237581308}. Best is trial 21 with value: 0.6337030123324302.\n",
      "[I 2024-03-14 18:34:28,796] Trial 22 finished with value: 0.6380902183802186 and parameters: {'hidden_layer_sizes': 107, 'activation': 'logistic', 'solver': 'adam', 'alpha': 0.09245947731999102, 'early_stopping': True, 'validation_fraction': 0.11173380550498191}. Best is trial 22 with value: 0.6380902183802186.\n",
      "[I 2024-03-14 18:37:28,306] Trial 23 finished with value: 0.6278892882294529 and parameters: {'hidden_layer_sizes': 102, 'activation': 'logistic', 'solver': 'adam', 'alpha': 0.09360004539462825, 'early_stopping': True, 'validation_fraction': 0.11143419327432118}. Best is trial 22 with value: 0.6380902183802186.\n",
      "[I 2024-03-14 18:41:10,716] Trial 24 finished with value: 0.5888622642967759 and parameters: {'hidden_layer_sizes': 128, 'activation': 'tanh', 'solver': 'adam', 'alpha': 0.08463724725605601, 'early_stopping': True, 'validation_fraction': 0.11518579438705621}. Best is trial 22 with value: 0.6380902183802186.\n"
     ]
    },
    {
     "name": "stderr",
     "output_type": "stream",
     "text": [
      "[I 2024-03-14 18:45:29,156] A new study created in memory with name: no-name-98643c7c-0c82-4ff2-93e4-79acd0a25f07\n"
     ]
    },
    {
     "data": {
      "application/vnd.jupyter.widget-view+json": {
       "model_id": "b3f2893e51604480a8c60fc6f84cfad8",
       "version_major": 2,
       "version_minor": 0
      },
      "text/plain": [
       "  0%|          | 0/25 [00:00<?, ?it/s]"
      ]
     },
     "metadata": {},
     "output_type": "display_data"
    },
    {
     "name": "stderr",
     "output_type": "stream",
     "text": [
      "/usr/local/lib/python3.11/dist-packages/sklearn/neural_network/_multilayer_perceptron.py:546: ConvergenceWarning: lbfgs failed to converge (status=1):\n",
      "STOP: TOTAL NO. of ITERATIONS REACHED LIMIT.\n",
      "\n",
      "Increase the number of iterations (max_iter) or scale the data as shown in:\n",
      "    https://scikit-learn.org/stable/modules/preprocessing.html\n",
      "  self.n_iter_ = _check_optimize_result(\"lbfgs\", opt_res, self.max_iter)\n"
     ]
    },
    {
     "name": "stdout",
     "output_type": "stream",
     "text": [
      "[I 2024-03-14 18:49:46,279] Trial 0 finished with value: 0.6594884258431101 and parameters: {'hidden_layer_sizes': 151, 'activation': 'tanh', 'solver': 'lbfgs', 'alpha': 0.06229120161058784, 'early_stopping': False, 'validation_fraction': 0.14711994979283272}. Best is trial 0 with value: 0.6594884258431101.\n"
     ]
    },
    {
     "name": "stderr",
     "output_type": "stream",
     "text": [
      "/usr/local/lib/python3.11/dist-packages/sklearn/neural_network/_multilayer_perceptron.py:546: ConvergenceWarning: lbfgs failed to converge (status=1):\n",
      "STOP: TOTAL NO. of ITERATIONS REACHED LIMIT.\n",
      "\n",
      "Increase the number of iterations (max_iter) or scale the data as shown in:\n",
      "    https://scikit-learn.org/stable/modules/preprocessing.html\n",
      "  self.n_iter_ = _check_optimize_result(\"lbfgs\", opt_res, self.max_iter)\n"
     ]
    },
    {
     "name": "stdout",
     "output_type": "stream",
     "text": [
      "[I 2024-03-14 18:54:21,090] Trial 1 finished with value: 0.6734513268641383 and parameters: {'hidden_layer_sizes': 175, 'activation': 'relu', 'solver': 'lbfgs', 'alpha': 0.08073549976467491, 'early_stopping': True, 'validation_fraction': 0.1672458931883572}. Best is trial 1 with value: 0.6734513268641383.\n"
     ]
    },
    {
     "name": "stderr",
     "output_type": "stream",
     "text": [
      "/usr/local/lib/python3.11/dist-packages/sklearn/neural_network/_multilayer_perceptron.py:546: ConvergenceWarning: lbfgs failed to converge (status=1):\n",
      "STOP: TOTAL NO. of ITERATIONS REACHED LIMIT.\n",
      "\n",
      "Increase the number of iterations (max_iter) or scale the data as shown in:\n",
      "    https://scikit-learn.org/stable/modules/preprocessing.html\n",
      "  self.n_iter_ = _check_optimize_result(\"lbfgs\", opt_res, self.max_iter)\n"
     ]
    },
    {
     "name": "stdout",
     "output_type": "stream",
     "text": [
      "[I 2024-03-14 18:58:39,321] Trial 2 finished with value: 0.6717193597186528 and parameters: {'hidden_layer_sizes': 123, 'activation': 'logistic', 'solver': 'lbfgs', 'alpha': 0.037787828237077416, 'early_stopping': True, 'validation_fraction': 0.17756321099055908}. Best is trial 1 with value: 0.6734513268641383.\n"
     ]
    },
    {
     "name": "stderr",
     "output_type": "stream",
     "text": [
      "/usr/local/lib/python3.11/dist-packages/sklearn/neural_network/_multilayer_perceptron.py:546: ConvergenceWarning: lbfgs failed to converge (status=1):\n",
      "STOP: TOTAL NO. of ITERATIONS REACHED LIMIT.\n",
      "\n",
      "Increase the number of iterations (max_iter) or scale the data as shown in:\n",
      "    https://scikit-learn.org/stable/modules/preprocessing.html\n",
      "  self.n_iter_ = _check_optimize_result(\"lbfgs\", opt_res, self.max_iter)\n"
     ]
    },
    {
     "name": "stdout",
     "output_type": "stream",
     "text": [
      "[I 2024-03-14 19:00:58,522] Trial 3 finished with value: 0.6725563718334999 and parameters: {'hidden_layer_sizes': 65, 'activation': 'logistic', 'solver': 'lbfgs', 'alpha': 0.07025037056624683, 'early_stopping': True, 'validation_fraction': 0.18801315923792372}. Best is trial 1 with value: 0.6734513268641383.\n"
     ]
    },
    {
     "name": "stderr",
     "output_type": "stream",
     "text": [
      "/usr/local/lib/python3.11/dist-packages/sklearn/neural_network/_multilayer_perceptron.py:691: ConvergenceWarning: Stochastic Optimizer: Maximum iterations (200) reached and the optimization hasn't converged yet.\n",
      "  warnings.warn(\n"
     ]
    },
    {
     "name": "stdout",
     "output_type": "stream",
     "text": [
      "[I 2024-03-14 19:08:24,055] Trial 4 finished with value: 0.6918745503905243 and parameters: {'hidden_layer_sizes': 178, 'activation': 'tanh', 'solver': 'sgd', 'alpha': 0.08893967773800346, 'early_stopping': True, 'validation_fraction': 0.13807203414424252}. Best is trial 4 with value: 0.6918745503905243.\n",
      "[I 2024-03-14 19:09:15,305] Trial 5 finished with value: 0.719244443733311 and parameters: {'hidden_layer_sizes': 102, 'activation': 'identity', 'solver': 'sgd', 'alpha': 0.025925274993131627, 'early_stopping': True, 'validation_fraction': 0.16383225260239226}. Best is trial 5 with value: 0.719244443733311.\n"
     ]
    },
    {
     "name": "stderr",
     "output_type": "stream",
     "text": [
      "/usr/local/lib/python3.11/dist-packages/sklearn/neural_network/_multilayer_perceptron.py:546: ConvergenceWarning: lbfgs failed to converge (status=1):\n",
      "STOP: TOTAL NO. of ITERATIONS REACHED LIMIT.\n",
      "\n",
      "Increase the number of iterations (max_iter) or scale the data as shown in:\n",
      "    https://scikit-learn.org/stable/modules/preprocessing.html\n",
      "  self.n_iter_ = _check_optimize_result(\"lbfgs\", opt_res, self.max_iter)\n"
     ]
    },
    {
     "name": "stdout",
     "output_type": "stream",
     "text": [
      "[I 2024-03-14 19:11:20,140] Trial 6 finished with value: 0.6808749007863668 and parameters: {'hidden_layer_sizes': 77, 'activation': 'relu', 'solver': 'lbfgs', 'alpha': 0.059586925220285546, 'early_stopping': True, 'validation_fraction': 0.17863779839180546}. Best is trial 5 with value: 0.719244443733311.\n"
     ]
    },
    {
     "name": "stderr",
     "output_type": "stream",
     "text": [
      "/usr/local/lib/python3.11/dist-packages/sklearn/neural_network/_multilayer_perceptron.py:691: ConvergenceWarning: Stochastic Optimizer: Maximum iterations (200) reached and the optimization hasn't converged yet.\n",
      "  warnings.warn(\n"
     ]
    },
    {
     "name": "stdout",
     "output_type": "stream",
     "text": [
      "[I 2024-03-14 19:20:03,077] Trial 7 finished with value: 0.7172873869682106 and parameters: {'hidden_layer_sizes': 115, 'activation': 'logistic', 'solver': 'sgd', 'alpha': 0.04967926057747724, 'early_stopping': False, 'validation_fraction': 0.1350155007572991}. Best is trial 5 with value: 0.719244443733311.\n"
     ]
    },
    {
     "name": "stderr",
     "output_type": "stream",
     "text": [
      "/usr/local/lib/python3.11/dist-packages/sklearn/neural_network/_multilayer_perceptron.py:546: ConvergenceWarning: lbfgs failed to converge (status=1):\n",
      "STOP: TOTAL NO. of ITERATIONS REACHED LIMIT.\n",
      "\n",
      "Increase the number of iterations (max_iter) or scale the data as shown in:\n",
      "    https://scikit-learn.org/stable/modules/preprocessing.html\n",
      "  self.n_iter_ = _check_optimize_result(\"lbfgs\", opt_res, self.max_iter)\n"
     ]
    },
    {
     "name": "stdout",
     "output_type": "stream",
     "text": [
      "[I 2024-03-14 19:24:06,836] Trial 8 finished with value: 0.7064088010089162 and parameters: {'hidden_layer_sizes': 119, 'activation': 'logistic', 'solver': 'lbfgs', 'alpha': 0.078538091129911, 'early_stopping': False, 'validation_fraction': 0.1508641781161913}. Best is trial 5 with value: 0.719244443733311.\n"
     ]
    },
    {
     "name": "stderr",
     "output_type": "stream",
     "text": [
      "/usr/local/lib/python3.11/dist-packages/sklearn/neural_network/_multilayer_perceptron.py:691: ConvergenceWarning: Stochastic Optimizer: Maximum iterations (200) reached and the optimization hasn't converged yet.\n",
      "  warnings.warn(\n"
     ]
    },
    {
     "name": "stdout",
     "output_type": "stream",
     "text": [
      "[I 2024-03-14 19:35:57,383] Trial 9 finished with value: 0.6909389502384754 and parameters: {'hidden_layer_sizes': 194, 'activation': 'logistic', 'solver': 'adam', 'alpha': 0.012490740892227967, 'early_stopping': False, 'validation_fraction': 0.18498023825176735}. Best is trial 5 with value: 0.719244443733311.\n",
      "[I 2024-03-14 19:36:39,594] Trial 10 finished with value: 0.7221762966056501 and parameters: {'hidden_layer_sizes': 87, 'activation': 'identity', 'solver': 'sgd', 'alpha': 0.0005551962857769516, 'early_stopping': True, 'validation_fraction': 0.10138671287896112}. Best is trial 10 with value: 0.7221762966056501.\n",
      "[I 2024-03-14 19:37:10,006] Trial 11 finished with value: 0.722937807715315 and parameters: {'hidden_layer_sizes': 90, 'activation': 'identity', 'solver': 'sgd', 'alpha': 0.001232146715746351, 'early_stopping': True, 'validation_fraction': 0.10163735257047032}. Best is trial 11 with value: 0.722937807715315.\n",
      "[I 2024-03-14 19:37:46,469] Trial 12 finished with value: 0.7171526204856413 and parameters: {'hidden_layer_sizes': 87, 'activation': 'identity', 'solver': 'sgd', 'alpha': 0.0007421974990801494, 'early_stopping': True, 'validation_fraction': 0.1004115685604455}. Best is trial 11 with value: 0.722937807715315.\n",
      "[I 2024-03-14 19:38:33,280] Trial 13 finished with value: 0.7222687773142946 and parameters: {'hidden_layer_sizes': 57, 'activation': 'identity', 'solver': 'sgd', 'alpha': 0.0073845485992298, 'early_stopping': True, 'validation_fraction': 0.10094579588570199}. Best is trial 11 with value: 0.722937807715315.\n",
      "[I 2024-03-14 19:39:00,838] Trial 14 finished with value: 0.7232555196734278 and parameters: {'hidden_layer_sizes': 53, 'activation': 'identity', 'solver': 'adam', 'alpha': 0.021995940012528106, 'early_stopping': True, 'validation_fraction': 0.11772294351452395}. Best is trial 14 with value: 0.7232555196734278.\n",
      "[I 2024-03-14 19:39:52,729] Trial 15 finished with value: 0.7267587291435211 and parameters: {'hidden_layer_sizes': 54, 'activation': 'identity', 'solver': 'adam', 'alpha': 0.02115570002198381, 'early_stopping': True, 'validation_fraction': 0.11858640761906729}. Best is trial 15 with value: 0.7267587291435211.\n",
      "[I 2024-03-14 19:40:33,456] Trial 16 finished with value: 0.726337325521992 and parameters: {'hidden_layer_sizes': 51, 'activation': 'identity', 'solver': 'adam', 'alpha': 0.03123858662379135, 'early_stopping': True, 'validation_fraction': 0.12054641572653597}. Best is trial 15 with value: 0.7267587291435211.\n",
      "[I 2024-03-14 19:41:22,553] Trial 17 finished with value: 0.7195460969661757 and parameters: {'hidden_layer_sizes': 139, 'activation': 'identity', 'solver': 'adam', 'alpha': 0.037579886748460065, 'early_stopping': True, 'validation_fraction': 0.12192257446844701}. Best is trial 15 with value: 0.7267587291435211.\n",
      "[I 2024-03-14 19:43:10,156] Trial 18 finished with value: 0.7218930746328455 and parameters: {'hidden_layer_sizes': 70, 'activation': 'identity', 'solver': 'adam', 'alpha': 0.03448778718675691, 'early_stopping': False, 'validation_fraction': 0.11937204162984934}. Best is trial 15 with value: 0.7267587291435211.\n",
      "[I 2024-03-14 19:46:22,704] Trial 19 finished with value: 0.6740454445488968 and parameters: {'hidden_layer_sizes': 55, 'activation': 'relu', 'solver': 'adam', 'alpha': 0.0226038534067346, 'early_stopping': True, 'validation_fraction': 0.12901320823814916}. Best is trial 15 with value: 0.7267587291435211.\n",
      "[I 2024-03-14 19:48:04,877] Trial 20 finished with value: 0.676337469576371 and parameters: {'hidden_layer_sizes': 107, 'activation': 'tanh', 'solver': 'adam', 'alpha': 0.04814737173157746, 'early_stopping': True, 'validation_fraction': 0.11378805907183083}. Best is trial 15 with value: 0.7267587291435211.\n",
      "[I 2024-03-14 19:48:40,944] Trial 21 finished with value: 0.7215851919914417 and parameters: {'hidden_layer_sizes': 53, 'activation': 'identity', 'solver': 'adam', 'alpha': 0.020027288862455105, 'early_stopping': True, 'validation_fraction': 0.11349372540676375}. Best is trial 15 with value: 0.7267587291435211.\n",
      "[I 2024-03-14 19:49:13,872] Trial 22 finished with value: 0.7198393353880816 and parameters: {'hidden_layer_sizes': 72, 'activation': 'identity', 'solver': 'adam', 'alpha': 0.02853365836200983, 'early_stopping': True, 'validation_fraction': 0.12436156590654576}. Best is trial 15 with value: 0.7267587291435211.\n",
      "[I 2024-03-14 19:49:44,146] Trial 23 finished with value: 0.7176116279857274 and parameters: {'hidden_layer_sizes': 53, 'activation': 'identity', 'solver': 'adam', 'alpha': 0.01195935424574002, 'early_stopping': True, 'validation_fraction': 0.19892824138972517}. Best is trial 15 with value: 0.7267587291435211.\n",
      "[I 2024-03-14 19:50:21,321] Trial 24 finished with value: 0.7185911248552401 and parameters: {'hidden_layer_sizes': 77, 'activation': 'identity', 'solver': 'adam', 'alpha': 0.01695445305280127, 'early_stopping': True, 'validation_fraction': 0.1105459935251914}. Best is trial 15 with value: 0.7267587291435211.\n"
     ]
    },
    {
     "name": "stderr",
     "output_type": "stream",
     "text": [
      "[I 2024-03-14 19:51:13,275] A new study created in memory with name: no-name-63a8a66d-54bd-4626-925b-434ecba0ffe7\n"
     ]
    },
    {
     "data": {
      "application/vnd.jupyter.widget-view+json": {
       "model_id": "afb4a3844fd54ae4be85ba497cc41ec9",
       "version_major": 2,
       "version_minor": 0
      },
      "text/plain": [
       "  0%|          | 0/25 [00:00<?, ?it/s]"
      ]
     },
     "metadata": {},
     "output_type": "display_data"
    },
    {
     "name": "stderr",
     "output_type": "stream",
     "text": [
      "/usr/local/lib/python3.11/dist-packages/sklearn/neural_network/_multilayer_perceptron.py:546: ConvergenceWarning: lbfgs failed to converge (status=1):\n",
      "STOP: TOTAL NO. of ITERATIONS REACHED LIMIT.\n",
      "\n",
      "Increase the number of iterations (max_iter) or scale the data as shown in:\n",
      "    https://scikit-learn.org/stable/modules/preprocessing.html\n",
      "  self.n_iter_ = _check_optimize_result(\"lbfgs\", opt_res, self.max_iter)\n"
     ]
    },
    {
     "name": "stdout",
     "output_type": "stream",
     "text": [
      "[I 2024-03-14 19:52:42,524] Trial 0 finished with value: 0.5782529103834939 and parameters: {'hidden_layer_sizes': 60, 'activation': 'relu', 'solver': 'lbfgs', 'alpha': 0.021020503080373204, 'early_stopping': True, 'validation_fraction': 0.11647571437768285}. Best is trial 0 with value: 0.5782529103834939.\n",
      "[I 2024-03-14 19:57:12,039] Trial 1 finished with value: 0.6202767086708685 and parameters: {'hidden_layer_sizes': 169, 'activation': 'identity', 'solver': 'sgd', 'alpha': 0.08752778698209862, 'early_stopping': False, 'validation_fraction': 0.1827265229054497}. Best is trial 1 with value: 0.6202767086708685.\n",
      "[I 2024-03-14 20:04:29,258] Trial 2 finished with value: 0.6094237118059334 and parameters: {'hidden_layer_sizes': 126, 'activation': 'relu', 'solver': 'adam', 'alpha': 0.007464601235377167, 'early_stopping': False, 'validation_fraction': 0.1101452553259979}. Best is trial 1 with value: 0.6202767086708685.\n"
     ]
    },
    {
     "name": "stderr",
     "output_type": "stream",
     "text": [
      "/usr/local/lib/python3.11/dist-packages/sklearn/neural_network/_multilayer_perceptron.py:691: ConvergenceWarning: Stochastic Optimizer: Maximum iterations (200) reached and the optimization hasn't converged yet.\n",
      "  warnings.warn(\n"
     ]
    },
    {
     "name": "stdout",
     "output_type": "stream",
     "text": [
      "[I 2024-03-14 20:12:24,641] Trial 3 finished with value: 0.6059328090569237 and parameters: {'hidden_layer_sizes': 165, 'activation': 'relu', 'solver': 'sgd', 'alpha': 0.05087120037947945, 'early_stopping': True, 'validation_fraction': 0.18167330955694}. Best is trial 1 with value: 0.6202767086708685.\n",
      "[I 2024-03-14 20:12:59,826] Trial 4 finished with value: 0.6082296653856144 and parameters: {'hidden_layer_sizes': 73, 'activation': 'identity', 'solver': 'lbfgs', 'alpha': 0.04630758864728824, 'early_stopping': True, 'validation_fraction': 0.11044936323622345}. Best is trial 1 with value: 0.6202767086708685.\n"
     ]
    },
    {
     "name": "stderr",
     "output_type": "stream",
     "text": [
      "/usr/local/lib/python3.11/dist-packages/sklearn/neural_network/_multilayer_perceptron.py:546: ConvergenceWarning: lbfgs failed to converge (status=1):\n",
      "STOP: TOTAL NO. of ITERATIONS REACHED LIMIT.\n",
      "\n",
      "Increase the number of iterations (max_iter) or scale the data as shown in:\n",
      "    https://scikit-learn.org/stable/modules/preprocessing.html\n",
      "  self.n_iter_ = _check_optimize_result(\"lbfgs\", opt_res, self.max_iter)\n"
     ]
    },
    {
     "name": "stdout",
     "output_type": "stream",
     "text": [
      "[I 2024-03-14 20:16:43,071] Trial 5 finished with value: 0.6069555425207476 and parameters: {'hidden_layer_sizes': 139, 'activation': 'tanh', 'solver': 'lbfgs', 'alpha': 0.0598055876750593, 'early_stopping': False, 'validation_fraction': 0.10922603593255861}. Best is trial 1 with value: 0.6202767086708685.\n"
     ]
    },
    {
     "name": "stderr",
     "output_type": "stream",
     "text": [
      "/usr/local/lib/python3.11/dist-packages/sklearn/neural_network/_multilayer_perceptron.py:691: ConvergenceWarning: Stochastic Optimizer: Maximum iterations (200) reached and the optimization hasn't converged yet.\n",
      "  warnings.warn(\n"
     ]
    },
    {
     "name": "stdout",
     "output_type": "stream",
     "text": [
      "[I 2024-03-14 20:22:43,091] Trial 6 finished with value: 0.6623729618033928 and parameters: {'hidden_layer_sizes': 74, 'activation': 'logistic', 'solver': 'sgd', 'alpha': 0.010704775856840905, 'early_stopping': True, 'validation_fraction': 0.14436769026297608}. Best is trial 6 with value: 0.6623729618033928.\n"
     ]
    },
    {
     "name": "stderr",
     "output_type": "stream",
     "text": [
      "/usr/local/lib/python3.11/dist-packages/sklearn/neural_network/_multilayer_perceptron.py:691: ConvergenceWarning: Stochastic Optimizer: Maximum iterations (200) reached and the optimization hasn't converged yet.\n",
      "  warnings.warn(\n"
     ]
    },
    {
     "name": "stdout",
     "output_type": "stream",
     "text": [
      "[I 2024-03-14 20:29:51,532] Trial 7 finished with value: 0.660869765844954 and parameters: {'hidden_layer_sizes': 117, 'activation': 'logistic', 'solver': 'sgd', 'alpha': 0.0186366861086648, 'early_stopping': True, 'validation_fraction': 0.1610686703906769}. Best is trial 6 with value: 0.6623729618033928.\n"
     ]
    },
    {
     "name": "stderr",
     "output_type": "stream",
     "text": [
      "/usr/local/lib/python3.11/dist-packages/sklearn/neural_network/_multilayer_perceptron.py:691: ConvergenceWarning: Stochastic Optimizer: Maximum iterations (200) reached and the optimization hasn't converged yet.\n",
      "  warnings.warn(\n"
     ]
    },
    {
     "name": "stdout",
     "output_type": "stream",
     "text": [
      "[I 2024-03-14 20:36:28,031] Trial 8 finished with value: 0.6255828164166645 and parameters: {'hidden_layer_sizes': 153, 'activation': 'tanh', 'solver': 'sgd', 'alpha': 0.028858664980574055, 'early_stopping': True, 'validation_fraction': 0.16760452032408363}. Best is trial 6 with value: 0.6623729618033928.\n",
      "[I 2024-03-14 20:36:59,818] Trial 9 finished with value: 0.6449644118871337 and parameters: {'hidden_layer_sizes': 188, 'activation': 'identity', 'solver': 'sgd', 'alpha': 0.0702528705043102, 'early_stopping': True, 'validation_fraction': 0.1472732323356954}. Best is trial 6 with value: 0.6623729618033928.\n",
      "[I 2024-03-14 20:44:09,526] Trial 10 finished with value: 0.6517406211141239 and parameters: {'hidden_layer_sizes': 96, 'activation': 'logistic', 'solver': 'adam', 'alpha': 0.005823072366710005, 'early_stopping': False, 'validation_fraction': 0.13552800784007074}. Best is trial 6 with value: 0.6623729618033928.\n"
     ]
    },
    {
     "name": "stderr",
     "output_type": "stream",
     "text": [
      "/usr/local/lib/python3.11/dist-packages/sklearn/neural_network/_multilayer_perceptron.py:691: ConvergenceWarning: Stochastic Optimizer: Maximum iterations (200) reached and the optimization hasn't converged yet.\n",
      "  warnings.warn(\n"
     ]
    },
    {
     "name": "stdout",
     "output_type": "stream",
     "text": [
      "[I 2024-03-14 20:50:44,206] Trial 11 finished with value: 0.6704164417277123 and parameters: {'hidden_layer_sizes': 99, 'activation': 'logistic', 'solver': 'sgd', 'alpha': 0.03250620123594804, 'early_stopping': True, 'validation_fraction': 0.16178770129030917}. Best is trial 11 with value: 0.6704164417277123.\n",
      "[I 2024-03-14 20:57:06,458] Trial 12 finished with value: 0.655813798051973 and parameters: {'hidden_layer_sizes': 90, 'activation': 'logistic', 'solver': 'sgd', 'alpha': 0.039291840692448184, 'early_stopping': True, 'validation_fraction': 0.13519131944751825}. Best is trial 11 with value: 0.6704164417277123.\n",
      "[I 2024-03-14 20:57:37,263] Trial 13 finished with value: 0.6587722660616294 and parameters: {'hidden_layer_sizes': 52, 'activation': 'logistic', 'solver': 'sgd', 'alpha': 0.030642856179031744, 'early_stopping': True, 'validation_fraction': 0.1571696878544486}. Best is trial 11 with value: 0.6704164417277123.\n",
      "[I 2024-03-14 21:01:33,016] Trial 14 finished with value: 0.6190380488418283 and parameters: {'hidden_layer_sizes': 95, 'activation': 'logistic', 'solver': 'adam', 'alpha': 0.0040832941442596575, 'early_stopping': True, 'validation_fraction': 0.19798993295209494}. Best is trial 11 with value: 0.6704164417277123.\n"
     ]
    },
    {
     "name": "stderr",
     "output_type": "stream",
     "text": [
      "/usr/local/lib/python3.11/dist-packages/sklearn/neural_network/_multilayer_perceptron.py:691: ConvergenceWarning: Stochastic Optimizer: Maximum iterations (200) reached and the optimization hasn't converged yet.\n",
      "  warnings.warn(\n"
     ]
    },
    {
     "name": "stdout",
     "output_type": "stream",
     "text": [
      "[I 2024-03-14 21:07:45,180] Trial 15 finished with value: 0.6565816607087157 and parameters: {'hidden_layer_sizes': 81, 'activation': 'logistic', 'solver': 'sgd', 'alpha': 0.019816430921663214, 'early_stopping': True, 'validation_fraction': 0.14168833569328354}. Best is trial 11 with value: 0.6704164417277123.\n"
     ]
    },
    {
     "name": "stderr",
     "output_type": "stream",
     "text": [
      "/usr/local/lib/python3.11/dist-packages/sklearn/neural_network/_multilayer_perceptron.py:691: ConvergenceWarning: Stochastic Optimizer: Maximum iterations (200) reached and the optimization hasn't converged yet.\n",
      "  warnings.warn(\n"
     ]
    },
    {
     "name": "stdout",
     "output_type": "stream",
     "text": [
      "[I 2024-03-14 21:14:50,382] Trial 16 finished with value: 0.6679558854130425 and parameters: {'hidden_layer_sizes': 110, 'activation': 'logistic', 'solver': 'sgd', 'alpha': 0.03587410015024927, 'early_stopping': True, 'validation_fraction': 0.1257702238902015}. Best is trial 11 with value: 0.6704164417277123.\n"
     ]
    },
    {
     "name": "stderr",
     "output_type": "stream",
     "text": [
      "/usr/local/lib/python3.11/dist-packages/sklearn/neural_network/_multilayer_perceptron.py:691: ConvergenceWarning: Stochastic Optimizer: Maximum iterations (200) reached and the optimization hasn't converged yet.\n",
      "  warnings.warn(\n"
     ]
    },
    {
     "name": "stdout",
     "output_type": "stream",
     "text": [
      "[I 2024-03-14 21:21:56,193] Trial 17 finished with value: 0.6629649840543963 and parameters: {'hidden_layer_sizes': 111, 'activation': 'logistic', 'solver': 'sgd', 'alpha': 0.06679560328552203, 'early_stopping': True, 'validation_fraction': 0.12763860131623403}. Best is trial 11 with value: 0.6704164417277123.\n",
      "[I 2024-03-14 21:24:58,558] Trial 18 finished with value: 0.6151279531851853 and parameters: {'hidden_layer_sizes': 136, 'activation': 'tanh', 'solver': 'adam', 'alpha': 0.09871397417486577, 'early_stopping': False, 'validation_fraction': 0.12385585373647773}. Best is trial 11 with value: 0.6704164417277123.\n"
     ]
    },
    {
     "name": "stderr",
     "output_type": "stream",
     "text": [
      "/usr/local/lib/python3.11/dist-packages/sklearn/neural_network/_multilayer_perceptron.py:546: ConvergenceWarning: lbfgs failed to converge (status=1):\n",
      "STOP: TOTAL NO. of ITERATIONS REACHED LIMIT.\n",
      "\n",
      "Increase the number of iterations (max_iter) or scale the data as shown in:\n",
      "    https://scikit-learn.org/stable/modules/preprocessing.html\n",
      "  self.n_iter_ = _check_optimize_result(\"lbfgs\", opt_res, self.max_iter)\n"
     ]
    },
    {
     "name": "stdout",
     "output_type": "stream",
     "text": [
      "[I 2024-03-14 21:28:22,112] Trial 19 finished with value: 0.5900353480907651 and parameters: {'hidden_layer_sizes': 104, 'activation': 'logistic', 'solver': 'lbfgs', 'alpha': 0.03678790396158714, 'early_stopping': True, 'validation_fraction': 0.17897813917368124}. Best is trial 11 with value: 0.6704164417277123.\n",
      "[I 2024-03-14 21:31:02,234] Trial 20 finished with value: 0.6516462538488608 and parameters: {'hidden_layer_sizes': 126, 'activation': 'logistic', 'solver': 'sgd', 'alpha': 0.05170983721238039, 'early_stopping': True, 'validation_fraction': 0.10023563187137728}. Best is trial 11 with value: 0.6704164417277123.\n"
     ]
    },
    {
     "name": "stderr",
     "output_type": "stream",
     "text": [
      "/usr/local/lib/python3.11/dist-packages/sklearn/neural_network/_multilayer_perceptron.py:691: ConvergenceWarning: Stochastic Optimizer: Maximum iterations (200) reached and the optimization hasn't converged yet.\n",
      "  warnings.warn(\n"
     ]
    },
    {
     "name": "stdout",
     "output_type": "stream",
     "text": [
      "[I 2024-03-14 21:38:15,503] Trial 21 finished with value: 0.6672640459225995 and parameters: {'hidden_layer_sizes': 114, 'activation': 'logistic', 'solver': 'sgd', 'alpha': 0.06944981062631528, 'early_stopping': True, 'validation_fraction': 0.1253492310125832}. Best is trial 11 with value: 0.6704164417277123.\n",
      "[I 2024-03-14 21:38:56,195] Trial 22 finished with value: 0.6624245836041723 and parameters: {'hidden_layer_sizes': 107, 'activation': 'logistic', 'solver': 'sgd', 'alpha': 0.08066343464818376, 'early_stopping': True, 'validation_fraction': 0.12565045765551716}. Best is trial 11 with value: 0.6704164417277123.\n",
      "[I 2024-03-14 21:39:41,851] Trial 23 finished with value: 0.6556035412103153 and parameters: {'hidden_layer_sizes': 142, 'activation': 'logistic', 'solver': 'sgd', 'alpha': 0.057988756177894715, 'early_stopping': True, 'validation_fraction': 0.15370300423623662}. Best is trial 11 with value: 0.6704164417277123.\n",
      "[I 2024-03-14 21:40:24,891] Trial 24 finished with value: 0.6617021698963835 and parameters: {'hidden_layer_sizes': 120, 'activation': 'logistic', 'solver': 'sgd', 'alpha': 0.07572376269960915, 'early_stopping': True, 'validation_fraction': 0.16534636408664624}. Best is trial 11 with value: 0.6704164417277123.\n"
     ]
    },
    {
     "name": "stderr",
     "output_type": "stream",
     "text": [
      "/usr/local/lib/python3.11/dist-packages/sklearn/neural_network/_multilayer_perceptron.py:691: ConvergenceWarning: Stochastic Optimizer: Maximum iterations (200) reached and the optimization hasn't converged yet.\n",
      "  warnings.warn(\n",
      "[I 2024-03-14 21:46:58,722] A new study created in memory with name: no-name-bfe98895-ca21-461a-ae36-b4c08d62ed74\n"
     ]
    },
    {
     "data": {
      "application/vnd.jupyter.widget-view+json": {
       "model_id": "6cef6f333b1545c3a597725e31968c24",
       "version_major": 2,
       "version_minor": 0
      },
      "text/plain": [
       "  0%|          | 0/25 [00:00<?, ?it/s]"
      ]
     },
     "metadata": {},
     "output_type": "display_data"
    },
    {
     "name": "stdout",
     "output_type": "stream",
     "text": [
      "[I 2024-03-14 21:48:20,801] Trial 0 finished with value: 0.7299517360900087 and parameters: {'hidden_layer_sizes': 94, 'activation': 'identity', 'solver': 'sgd', 'alpha': 0.0973873667899008, 'early_stopping': True, 'validation_fraction': 0.12462361402329339}. Best is trial 0 with value: 0.7299517360900087.\n",
      "[I 2024-03-14 21:48:50,212] Trial 1 finished with value: 0.726260259655575 and parameters: {'hidden_layer_sizes': 55, 'activation': 'identity', 'solver': 'adam', 'alpha': 0.022261410598125926, 'early_stopping': True, 'validation_fraction': 0.1210640621078577}. Best is trial 0 with value: 0.7299517360900087.\n",
      "[I 2024-03-14 21:53:10,986] Trial 2 finished with value: 0.7497369057806059 and parameters: {'hidden_layer_sizes': 88, 'activation': 'tanh', 'solver': 'sgd', 'alpha': 0.09905393809673801, 'early_stopping': True, 'validation_fraction': 0.16509351287237894}. Best is trial 2 with value: 0.7497369057806059.\n",
      "[I 2024-03-14 21:58:53,115] Trial 3 finished with value: 0.7347241329331581 and parameters: {'hidden_layer_sizes': 103, 'activation': 'tanh', 'solver': 'sgd', 'alpha': 0.04870492886890837, 'early_stopping': True, 'validation_fraction': 0.14419810553036755}. Best is trial 2 with value: 0.7497369057806059.\n"
     ]
    },
    {
     "name": "stderr",
     "output_type": "stream",
     "text": [
      "/usr/local/lib/python3.11/dist-packages/sklearn/neural_network/_multilayer_perceptron.py:691: ConvergenceWarning: Stochastic Optimizer: Maximum iterations (200) reached and the optimization hasn't converged yet.\n",
      "  warnings.warn(\n"
     ]
    },
    {
     "name": "stdout",
     "output_type": "stream",
     "text": [
      "[I 2024-03-14 22:10:32,735] Trial 4 finished with value: 0.7307361822056739 and parameters: {'hidden_layer_sizes': 196, 'activation': 'relu', 'solver': 'sgd', 'alpha': 0.03868682242714787, 'early_stopping': False, 'validation_fraction': 0.1815657590804191}. Best is trial 2 with value: 0.7497369057806059.\n"
     ]
    },
    {
     "name": "stderr",
     "output_type": "stream",
     "text": [
      "/usr/local/lib/python3.11/dist-packages/sklearn/neural_network/_multilayer_perceptron.py:691: ConvergenceWarning: Stochastic Optimizer: Maximum iterations (200) reached and the optimization hasn't converged yet.\n",
      "  warnings.warn(\n"
     ]
    },
    {
     "name": "stdout",
     "output_type": "stream",
     "text": [
      "[I 2024-03-14 22:19:10,661] Trial 5 finished with value: 0.7382505687409338 and parameters: {'hidden_layer_sizes': 138, 'activation': 'tanh', 'solver': 'sgd', 'alpha': 0.02809680951230913, 'early_stopping': False, 'validation_fraction': 0.16521369915697887}. Best is trial 2 with value: 0.7497369057806059.\n"
     ]
    },
    {
     "name": "stderr",
     "output_type": "stream",
     "text": [
      "/usr/local/lib/python3.11/dist-packages/sklearn/neural_network/_multilayer_perceptron.py:546: ConvergenceWarning: lbfgs failed to converge (status=1):\n",
      "STOP: TOTAL NO. of ITERATIONS REACHED LIMIT.\n",
      "\n",
      "Increase the number of iterations (max_iter) or scale the data as shown in:\n",
      "    https://scikit-learn.org/stable/modules/preprocessing.html\n",
      "  self.n_iter_ = _check_optimize_result(\"lbfgs\", opt_res, self.max_iter)\n"
     ]
    },
    {
     "name": "stdout",
     "output_type": "stream",
     "text": [
      "[I 2024-03-14 22:22:39,069] Trial 6 finished with value: 0.7118407332704724 and parameters: {'hidden_layer_sizes': 92, 'activation': 'logistic', 'solver': 'lbfgs', 'alpha': 0.08358697607041861, 'early_stopping': True, 'validation_fraction': 0.1975715157786488}. Best is trial 2 with value: 0.7497369057806059.\n"
     ]
    },
    {
     "name": "stderr",
     "output_type": "stream",
     "text": [
      "/usr/local/lib/python3.11/dist-packages/sklearn/neural_network/_multilayer_perceptron.py:691: ConvergenceWarning: Stochastic Optimizer: Maximum iterations (200) reached and the optimization hasn't converged yet.\n",
      "  warnings.warn(\n"
     ]
    },
    {
     "name": "stdout",
     "output_type": "stream",
     "text": [
      "[I 2024-03-14 22:30:53,730] Trial 7 finished with value: 0.7128353768932758 and parameters: {'hidden_layer_sizes': 189, 'activation': 'identity', 'solver': 'sgd', 'alpha': 0.09848325631319438, 'early_stopping': False, 'validation_fraction': 0.15808762454171182}. Best is trial 2 with value: 0.7497369057806059.\n",
      "[I 2024-03-14 22:35:42,921] Trial 8 finished with value: 0.7225601170680357 and parameters: {'hidden_layer_sizes': 186, 'activation': 'tanh', 'solver': 'adam', 'alpha': 0.05498020672285848, 'early_stopping': False, 'validation_fraction': 0.1422841773571732}. Best is trial 2 with value: 0.7497369057806059.\n",
      "[I 2024-03-14 22:40:24,153] Trial 9 finished with value: 0.7201507423053606 and parameters: {'hidden_layer_sizes': 122, 'activation': 'identity', 'solver': 'sgd', 'alpha': 0.05399662199978119, 'early_stopping': False, 'validation_fraction': 0.11236968533640566}. Best is trial 2 with value: 0.7497369057806059.\n"
     ]
    },
    {
     "name": "stderr",
     "output_type": "stream",
     "text": [
      "/usr/local/lib/python3.11/dist-packages/sklearn/neural_network/_multilayer_perceptron.py:546: ConvergenceWarning: lbfgs failed to converge (status=1):\n",
      "STOP: TOTAL NO. of ITERATIONS REACHED LIMIT.\n",
      "\n",
      "Increase the number of iterations (max_iter) or scale the data as shown in:\n",
      "    https://scikit-learn.org/stable/modules/preprocessing.html\n",
      "  self.n_iter_ = _check_optimize_result(\"lbfgs\", opt_res, self.max_iter)\n"
     ]
    },
    {
     "name": "stdout",
     "output_type": "stream",
     "text": [
      "[I 2024-03-14 22:41:50,035] Trial 10 finished with value: 0.6889032403465511 and parameters: {'hidden_layer_sizes': 50, 'activation': 'relu', 'solver': 'lbfgs', 'alpha': 0.07126430005802564, 'early_stopping': True, 'validation_fraction': 0.17651656080746037}. Best is trial 2 with value: 0.7497369057806059.\n"
     ]
    },
    {
     "name": "stderr",
     "output_type": "stream",
     "text": [
      "/usr/local/lib/python3.11/dist-packages/sklearn/neural_network/_multilayer_perceptron.py:691: ConvergenceWarning: Stochastic Optimizer: Maximum iterations (200) reached and the optimization hasn't converged yet.\n",
      "  warnings.warn(\n"
     ]
    },
    {
     "name": "stdout",
     "output_type": "stream",
     "text": [
      "[I 2024-03-14 22:50:55,406] Trial 11 finished with value: 0.7179288441632767 and parameters: {'hidden_layer_sizes': 155, 'activation': 'tanh', 'solver': 'sgd', 'alpha': 0.0016007897731938683, 'early_stopping': False, 'validation_fraction': 0.16214673042291408}. Best is trial 2 with value: 0.7497369057806059.\n"
     ]
    },
    {
     "name": "stderr",
     "output_type": "stream",
     "text": [
      "/usr/local/lib/python3.11/dist-packages/sklearn/neural_network/_multilayer_perceptron.py:691: ConvergenceWarning: Stochastic Optimizer: Maximum iterations (200) reached and the optimization hasn't converged yet.\n",
      "  warnings.warn(\n"
     ]
    },
    {
     "name": "stdout",
     "output_type": "stream",
     "text": [
      "[I 2024-03-14 22:59:44,082] Trial 12 finished with value: 0.7127254354323003 and parameters: {'hidden_layer_sizes': 148, 'activation': 'tanh', 'solver': 'sgd', 'alpha': 0.019701270959519006, 'early_stopping': False, 'validation_fraction': 0.17530582883218904}. Best is trial 2 with value: 0.7497369057806059.\n"
     ]
    },
    {
     "name": "stderr",
     "output_type": "stream",
     "text": [
      "/usr/local/lib/python3.11/dist-packages/sklearn/neural_network/_multilayer_perceptron.py:546: ConvergenceWarning: lbfgs failed to converge (status=1):\n",
      "STOP: TOTAL NO. of ITERATIONS REACHED LIMIT.\n",
      "\n",
      "Increase the number of iterations (max_iter) or scale the data as shown in:\n",
      "    https://scikit-learn.org/stable/modules/preprocessing.html\n",
      "  self.n_iter_ = _check_optimize_result(\"lbfgs\", opt_res, self.max_iter)\n"
     ]
    },
    {
     "name": "stdout",
     "output_type": "stream",
     "text": [
      "[I 2024-03-14 23:03:53,923] Trial 13 finished with value: 0.6709986459623827 and parameters: {'hidden_layer_sizes': 141, 'activation': 'tanh', 'solver': 'lbfgs', 'alpha': 0.02915332032371877, 'early_stopping': True, 'validation_fraction': 0.16242403106521153}. Best is trial 2 with value: 0.7497369057806059.\n",
      "[I 2024-03-14 23:06:52,910] Trial 14 finished with value: 0.7256277619965328 and parameters: {'hidden_layer_sizes': 75, 'activation': 'logistic', 'solver': 'adam', 'alpha': 0.00165255107571452, 'early_stopping': True, 'validation_fraction': 0.1951716017005587}. Best is trial 2 with value: 0.7497369057806059.\n"
     ]
    },
    {
     "name": "stderr",
     "output_type": "stream",
     "text": [
      "/usr/local/lib/python3.11/dist-packages/sklearn/neural_network/_multilayer_perceptron.py:691: ConvergenceWarning: Stochastic Optimizer: Maximum iterations (200) reached and the optimization hasn't converged yet.\n",
      "  warnings.warn(\n"
     ]
    },
    {
     "name": "stdout",
     "output_type": "stream",
     "text": [
      "[I 2024-03-14 23:14:59,362] Trial 15 finished with value: 0.7433997385885152 and parameters: {'hidden_layer_sizes': 120, 'activation': 'tanh', 'solver': 'sgd', 'alpha': 0.0685398335282681, 'early_stopping': False, 'validation_fraction': 0.1354795237012046}. Best is trial 2 with value: 0.7497369057806059.\n"
     ]
    },
    {
     "name": "stderr",
     "output_type": "stream",
     "text": [
      "/usr/local/lib/python3.11/dist-packages/sklearn/neural_network/_multilayer_perceptron.py:691: ConvergenceWarning: Stochastic Optimizer: Maximum iterations (200) reached and the optimization hasn't converged yet.\n",
      "  warnings.warn(\n"
     ]
    },
    {
     "name": "stdout",
     "output_type": "stream",
     "text": [
      "[I 2024-03-14 23:23:06,391] Trial 16 finished with value: 0.7379822987232932 and parameters: {'hidden_layer_sizes': 117, 'activation': 'tanh', 'solver': 'sgd', 'alpha': 0.07291233293039857, 'early_stopping': False, 'validation_fraction': 0.13714537736426882}. Best is trial 2 with value: 0.7497369057806059.\n",
      "[I 2024-03-14 23:25:44,852] Trial 17 finished with value: 0.7520010659205791 and parameters: {'hidden_layer_sizes': 77, 'activation': 'tanh', 'solver': 'sgd', 'alpha': 0.0840360160834626, 'early_stopping': True, 'validation_fraction': 0.1320828220670358}. Best is trial 17 with value: 0.7520010659205791.\n"
     ]
    },
    {
     "name": "stderr",
     "output_type": "stream",
     "text": [
      "/usr/local/lib/python3.11/dist-packages/sklearn/neural_network/_multilayer_perceptron.py:546: ConvergenceWarning: lbfgs failed to converge (status=1):\n",
      "STOP: TOTAL NO. of ITERATIONS REACHED LIMIT.\n",
      "\n",
      "Increase the number of iterations (max_iter) or scale the data as shown in:\n",
      "    https://scikit-learn.org/stable/modules/preprocessing.html\n",
      "  self.n_iter_ = _check_optimize_result(\"lbfgs\", opt_res, self.max_iter)\n"
     ]
    },
    {
     "name": "stdout",
     "output_type": "stream",
     "text": [
      "[I 2024-03-14 23:28:27,925] Trial 18 finished with value: 0.702340414123491 and parameters: {'hidden_layer_sizes': 71, 'activation': 'logistic', 'solver': 'lbfgs', 'alpha': 0.0857256343646754, 'early_stopping': True, 'validation_fraction': 0.10910302098664587}. Best is trial 17 with value: 0.7520010659205791.\n",
      "[I 2024-03-14 23:30:27,322] Trial 19 finished with value: 0.744674520761864 and parameters: {'hidden_layer_sizes': 71, 'activation': 'relu', 'solver': 'adam', 'alpha': 0.08616308870129111, 'early_stopping': True, 'validation_fraction': 0.1511103454660123}. Best is trial 17 with value: 0.7520010659205791.\n",
      "[I 2024-03-14 23:34:51,628] Trial 20 finished with value: 0.7447282707508514 and parameters: {'hidden_layer_sizes': 88, 'activation': 'tanh', 'solver': 'sgd', 'alpha': 0.09270877268061958, 'early_stopping': True, 'validation_fraction': 0.12884497369276537}. Best is trial 17 with value: 0.7520010659205791.\n",
      "[I 2024-03-14 23:39:30,424] Trial 21 finished with value: 0.7549947403032137 and parameters: {'hidden_layer_sizes': 83, 'activation': 'tanh', 'solver': 'sgd', 'alpha': 0.09238738825126565, 'early_stopping': True, 'validation_fraction': 0.1305293673587117}. Best is trial 21 with value: 0.7549947403032137.\n",
      "[I 2024-03-14 23:43:47,542] Trial 22 finished with value: 0.748096169796835 and parameters: {'hidden_layer_sizes': 103, 'activation': 'tanh', 'solver': 'sgd', 'alpha': 0.08007053828286208, 'early_stopping': True, 'validation_fraction': 0.15046087361015462}. Best is trial 21 with value: 0.7549947403032137.\n",
      "[I 2024-03-14 23:47:16,581] Trial 23 finished with value: 0.7463280141434967 and parameters: {'hidden_layer_sizes': 81, 'activation': 'tanh', 'solver': 'sgd', 'alpha': 0.06300025427682135, 'early_stopping': True, 'validation_fraction': 0.1000007039890081}. Best is trial 21 with value: 0.7549947403032137.\n",
      "[I 2024-03-14 23:50:13,343] Trial 24 finished with value: 0.7482078448060168 and parameters: {'hidden_layer_sizes': 60, 'activation': 'tanh', 'solver': 'sgd', 'alpha': 0.09148510907209972, 'early_stopping': True, 'validation_fraction': 0.116797755525819}. Best is trial 21 with value: 0.7549947403032137.\n",
      "[0.7379525732371498, 0.7619385566139313, 0.5441402033468539, 0.7370550021239174, 0.6477298257659654]\n",
      "0.6857632322175635\n"
     ]
    }
   ],
   "source": [
    "scores = []\n",
    "for i in range(0, len(dataset)):\n",
    "    x_train, y_train, x_val, y_val, x_test, y_test = dataset[i][0], dataset[i][1], dataset[i][2], dataset[i][3], dataset[i][4], dataset[i][5]\n",
    "    scaler = preprocessing.StandardScaler()\n",
    "    x_train, x_val, x_test = pd.DataFrame(scaler.fit_transform(x_train), columns=x_train.columns), pd.DataFrame(scaler.fit_transform(x_val), columns=x_train.columns), pd.DataFrame(scaler.fit_transform(x_test), columns=x_train.columns)\n",
    "    best_params = find_best_model(\"mlp\", x_train, y_train, x_val, y_val, trials=25)\n",
    "    mlp_clf = MLPClassifier(**best_params.params, random_state=42, verbose=False)\n",
    "    mlp_clf.fit(x_train, y_train)\n",
    "    y_pred = mlp_clf.predict_proba(x_test)\n",
    "    scores.append(roc_auc_score(y_test, y_pred[:,1]))\n",
    "mean =  np.mean(np.array(scores))\n",
    "print(scores)\n",
    "print(mean)"
   ]
  },
  {
   "cell_type": "code",
   "execution_count": 4,
   "metadata": {},
   "outputs": [
    {
     "name": "stdout",
     "output_type": "stream",
     "text": [
      "[0.7379525732371498, 0.7619385566139313, 0.5441402033468539, 0.7370550021239174, 0.6477298257659654]\n",
      "0.6857632322175635\n"
     ]
    }
   ],
   "source": [
    "print(scores)\n",
    "print(mean)"
   ]
  }
 ],
 "metadata": {
  "kernelspec": {
   "display_name": "Python 3 (ipykernel)",
   "language": "python",
   "name": "python3"
  },
  "language_info": {
   "codemirror_mode": {
    "name": "ipython",
    "version": 3
   },
   "file_extension": ".py",
   "mimetype": "text/x-python",
   "name": "python",
   "nbconvert_exporter": "python",
   "pygments_lexer": "ipython3",
   "version": "3.11.8"
  }
 },
 "nbformat": 4,
 "nbformat_minor": 4
}
