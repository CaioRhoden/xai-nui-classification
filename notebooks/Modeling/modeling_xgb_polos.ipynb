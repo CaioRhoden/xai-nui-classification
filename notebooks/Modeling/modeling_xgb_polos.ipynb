{
 "cells": [
  {
   "cell_type": "markdown",
   "id": "e52f566f-d9d0-43ab-b6b1-65a3961a1cd4",
   "metadata": {},
   "source": [
    "# Modeling - XGBoost"
   ]
  },
  {
   "cell_type": "code",
   "execution_count": 1,
   "id": "4cac22fe-1f45-499a-afe2-dcc2c0d42aaf",
   "metadata": {
    "tags": []
   },
   "outputs": [],
   "source": [
    "import sys\n",
    "sys.path.append('../../src')\n",
    "\n",
    "import pandas as pd\n",
    "import numpy as np\n",
    "import pickle\n",
    "from xgboost import XGBClassifier\n",
    "from sklearn.model_selection import GridSearchCV\n",
    "from modeling import train_model, save_model\n",
    "from tuning import random_search_tuning\n",
    "from evaluator import XGBoostEvaluator"
   ]
  },
  {
   "cell_type": "markdown",
   "id": "1f373d6d-f13a-4e54-82dd-b56858bbaea0",
   "metadata": {},
   "source": [
    "## Parameters for tuning"
   ]
  },
  {
   "cell_type": "code",
   "execution_count": 4,
   "id": "be5acff9",
   "metadata": {},
   "outputs": [],
   "source": [
    "parameters = {\n",
    "    'learning_rate': np.arange(0.001, 0.1, 0.005),\n",
    "    'max_depth': np.arange(2, 8),\n",
    "    'n_estimators': np.arange(50, 150, 10),\n",
    "    'subsample': np.arange(0.3, 0.9, 0.1),\n",
    "    'colsample_bytree': np.arange(0.6, 1.0, 0.05),\n",
    "    'gamma': np.arange(0.1, 5, 0.1)\n",
    "}"
   ]
  },
  {
   "cell_type": "markdown",
   "id": "fd493441",
   "metadata": {},
   "source": [
    "## Modeling"
   ]
  },
  {
   "cell_type": "code",
   "execution_count": 4,
   "id": "ec13663b-99f0-41fc-a960-b120bc6de763",
   "metadata": {
    "tags": []
   },
   "outputs": [
    {
     "name": "stdout",
     "output_type": "stream",
     "text": [
      "`Polo Porto Alegre rodando\n",
      "=====================================\n",
      "{'subsample': 0.7000000000000002, 'n_estimators': 70, 'max_depth': 3, 'learning_rate': 0.051000000000000004, 'gamma': 0.1, 'colsample_bytree': 0.7000000000000001}\n"
     ]
    }
   ],
   "source": [
    "\n",
    "polos = ['Porto Alegre', 'Marabá', 'Brasília', 'Belo Horizonte', 'Juazeiro do Norte', 'Recife']\n",
    "models = []\n",
    "for p in polos:\n",
    "    print(f\"`Polo {p} rodando\")\n",
    "    print(\"=====================================\")\n",
    "    clf = XGBClassifier()\n",
    "    model = random_search_tuning(clf, parameters)\n",
    "    model = train_model(model, \"multi\", polo=p)\n",
    "    print(model.best_params_)\n",
    "    models.append(model)"
   ]
  },
  {
   "cell_type": "markdown",
   "id": "7b588e9f-0e62-426f-a277-a3c895981efb",
   "metadata": {},
   "source": [
    "## Save Model"
   ]
  },
  {
   "cell_type": "code",
   "execution_count": 7,
   "id": "c3a2f587-27ac-4ca3-a1ca-bb870936284e",
   "metadata": {
    "tags": []
   },
   "outputs": [],
   "source": [
    "for i in range(0, len(models)):\n",
    "\n",
    "    pickle.dump(models[i], open(f\"../../data/models/polos/xgb_{polos[i]}.sav\", 'wb'))"
   ]
  }
 ],
 "metadata": {
  "kernelspec": {
   "display_name": "Python 3 (ipykernel)",
   "language": "python",
   "name": "python3"
  },
  "language_info": {
   "codemirror_mode": {
    "name": "ipython",
    "version": 3
   },
   "file_extension": ".py",
   "mimetype": "text/x-python",
   "name": "python",
   "nbconvert_exporter": "python",
   "pygments_lexer": "ipython3",
   "version": "3.10.10"
  }
 },
 "nbformat": 4,
 "nbformat_minor": 5
}
