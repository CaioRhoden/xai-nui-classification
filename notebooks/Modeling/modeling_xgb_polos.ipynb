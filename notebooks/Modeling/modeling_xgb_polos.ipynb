{
 "cells": [
  {
   "cell_type": "markdown",
   "id": "e52f566f-d9d0-43ab-b6b1-65a3961a1cd4",
   "metadata": {},
   "source": [
    "# Modeling - XGBoost"
   ]
  },
  {
   "cell_type": "code",
   "execution_count": 6,
   "id": "4cac22fe-1f45-499a-afe2-dcc2c0d42aaf",
   "metadata": {
    "tags": []
   },
   "outputs": [],
   "source": [
    "import sys\n",
    "sys.path.append('../../src')\n",
    "\n",
    "import pandas as pd\n",
    "import numpy as np\n",
    "import pickle\n",
    "from xgboost import XGBClassifier\n",
    "from sklearn.model_selection import GridSearchCV\n",
    "from modeling import train_model, save_model\n",
    "from tuning import random_search_tuning\n",
    "from utils import  generate_combinations, generate_dataset_split, save_combination\n",
    "from itertools import combinations\n"
   ]
  },
  {
   "cell_type": "markdown",
   "id": "1f373d6d-f13a-4e54-82dd-b56858bbaea0",
   "metadata": {},
   "source": [
    "## Parameters for tuning"
   ]
  },
  {
   "cell_type": "code",
   "execution_count": 7,
   "id": "be5acff9",
   "metadata": {},
   "outputs": [],
   "source": [
    "parameters = {\n",
    "    'learning_rate': np.arange(0.001, 0.1, 0.005),\n",
    "    'max_depth': np.arange(2, 8),\n",
    "    'n_estimators': np.arange(50, 150, 10),\n",
    "    'subsample': np.arange(0.3, 0.9, 0.1),\n",
    "    'colsample_bytree': np.arange(0.6, 1.0, 0.05),\n",
    "    'gamma': np.arange(0.1, 5, 0.1)\n",
    "}"
   ]
  },
  {
   "cell_type": "markdown",
   "id": "fd493441",
   "metadata": {},
   "source": [
    "## Modeling"
   ]
  },
  {
   "cell_type": "code",
   "execution_count": 8,
   "id": "ef26aa46",
   "metadata": {},
   "outputs": [],
   "source": [
    "\n",
    "\n",
    "cities_siglas = {\n",
    "    \"A\": \"Porto Alegre\",\n",
    "    \"B\": \"Marabá\",\n",
    "    \"C\": \"Brasília\",\n",
    "    \"D\": \"Belo Horizonte\",\n",
    "    \"E\": \"Juazeiro do Norte\",\n",
    "    \"F\": \"Recife\"\n",
    "}\n",
    "\n",
    "polos_sigla = ['A', 'B', 'C', 'D', 'E', 'F']\n",
    "polos = [cities_siglas[s] for s in polos_sigla]"
   ]
  },
  {
   "cell_type": "code",
   "execution_count": 9,
   "id": "a4d998c5",
   "metadata": {},
   "outputs": [],
   "source": [
    "split_F = generate_combinations(polos[:-1], 3, 2)"
   ]
  },
  {
   "cell_type": "code",
   "execution_count": 10,
   "id": "d51f5d82",
   "metadata": {},
   "outputs": [
    {
     "ename": "NameError",
     "evalue": "name 'combination' is not defined",
     "output_type": "error",
     "traceback": [
      "\u001b[1;31m---------------------------------------------------------------------------\u001b[0m",
      "\u001b[1;31mNameError\u001b[0m                                 Traceback (most recent call last)",
      "Cell \u001b[1;32mIn[10], line 1\u001b[0m\n\u001b[1;32m----> 1\u001b[0m combination[\u001b[39m0\u001b[39m]\n",
      "\u001b[1;31mNameError\u001b[0m: name 'combination' is not defined"
     ]
    }
   ],
   "source": [
    "combination[0]"
   ]
  },
  {
   "cell_type": "code",
   "execution_count": null,
   "id": "90194cad",
   "metadata": {},
   "outputs": [
    {
     "name": "stdout",
     "output_type": "stream",
     "text": [
      "Combinação 0: [['Porto Alegre', 'Marabá', 'Brasília'], ['Belo Horizonte', 'Juazeiro do Norte']] training\n"
     ]
    },
    {
     "ename": "TypeError",
     "evalue": "cannot unpack non-iterable NoneType object",
     "output_type": "error",
     "traceback": [
      "\u001b[1;31m---------------------------------------------------------------------------\u001b[0m",
      "\u001b[1;31mTypeError\u001b[0m                                 Traceback (most recent call last)",
      "Cell \u001b[1;32mIn[5], line 5\u001b[0m\n\u001b[0;32m      3\u001b[0m \u001b[39mfor\u001b[39;00m idx, combination \u001b[39min\u001b[39;00m \u001b[39menumerate\u001b[39m(split_F, start\u001b[39m=\u001b[39m\u001b[39m0\u001b[39m):\n\u001b[0;32m      4\u001b[0m     \u001b[39mprint\u001b[39m(\u001b[39mf\u001b[39m\u001b[39m\"\u001b[39m\u001b[39mCombinação \u001b[39m\u001b[39m{\u001b[39;00midx\u001b[39m}\u001b[39;00m\u001b[39m: \u001b[39m\u001b[39m{\u001b[39;00mcombination\u001b[39m}\u001b[39;00m\u001b[39m training\u001b[39m\u001b[39m\"\u001b[39m)\n\u001b[1;32m----> 5\u001b[0m     X_train, y_train \u001b[39m=\u001b[39m generate_dataset_split(combination[\u001b[39m0\u001b[39m])\n\u001b[0;32m      6\u001b[0m     X_val, y_val \u001b[39m=\u001b[39m generate_dataset_split(combination[\u001b[39m1\u001b[39m])\n\u001b[0;32m      7\u001b[0m     clf \u001b[39m=\u001b[39m XGBClassifier()\n",
      "\u001b[1;31mTypeError\u001b[0m: cannot unpack non-iterable NoneType object"
     ]
    }
   ],
   "source": [
    "models = []\n",
    "save_combination('Recife', split_F)\n",
    "for idx, combination in enumerate(split_F, start=0):\n",
    "    print(f\"Combinação {idx}: {combination} training\")\n",
    "    X_train, y_train = generate_dataset_split(combination[0])\n",
    "    X_val, y_val = generate_dataset_split(combination[1])\n",
    "    clf = XGBClassifier()\n",
    "    model = random_search_tuning(clf, parameters)\n",
    "    model = train_model(model, [X_val, y_val])\n",
    "    print(model.best_params_)\n",
    "    break\n",
    "    models.append(model)\n",
    "    \n",
    "    "
   ]
  },
  {
   "cell_type": "markdown",
   "id": "7b588e9f-0e62-426f-a277-a3c895981efb",
   "metadata": {},
   "source": [
    "## Save Model"
   ]
  },
  {
   "cell_type": "code",
   "execution_count": null,
   "id": "c3a2f587-27ac-4ca3-a1ca-bb870936284e",
   "metadata": {
    "tags": []
   },
   "outputs": [],
   "source": [
    "# for i in range(0, len(models)):\n",
    "\n",
    "#     pickle.dump(models[i], open(f\"../../data/models/polos/xgb_{polos[i]}.sav\", 'wb'))"
   ]
  }
 ],
 "metadata": {
  "kernelspec": {
   "display_name": "Python 3 (ipykernel)",
   "language": "python",
   "name": "python3"
  },
  "language_info": {
   "codemirror_mode": {
    "name": "ipython",
    "version": 3
   },
   "file_extension": ".py",
   "mimetype": "text/x-python",
   "name": "python",
   "nbconvert_exporter": "python",
   "pygments_lexer": "ipython3",
   "version": "3.10.11"
  }
 },
 "nbformat": 4,
 "nbformat_minor": 5
}
