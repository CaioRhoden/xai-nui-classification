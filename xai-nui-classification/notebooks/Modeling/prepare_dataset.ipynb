{
 "cells": [
  {
   "cell_type": "markdown",
   "id": "43c30538-7138-4600-bea0-76a75a597cee",
   "metadata": {},
   "source": [
    "# Prepare Dataset for Modeling"
   ]
  },
  {
   "cell_type": "code",
   "execution_count": 2,
   "id": "80044dbf-81a4-42b3-aaa9-7efec2cbb982",
   "metadata": {
    "tags": []
   },
   "outputs": [],
   "source": [
    "import pandas as pd\n",
    "import numpy as np\n",
    "import matplotlib.pyplot as plt\n",
    "import seaborn as sns\n",
    "import geopandas as gpd\n",
    "import pickle\n",
    "from sklearn.model_selection import train_test_split"
   ]
  },
  {
   "cell_type": "markdown",
   "id": "34db19b3-c2eb-445f-ba9a-756d70087ef6",
   "metadata": {},
   "source": [
    "## Import and Join Datasets"
   ]
  },
  {
   "cell_type": "code",
   "execution_count": 3,
   "id": "8b26bf9b-4b88-4ea7-8e48-dbf9c902d933",
   "metadata": {
    "tags": []
   },
   "outputs": [],
   "source": [
    "grid = pd.read_pickle(\"../../data/compacted_data/grade.pkl\")\n",
    "y = pd.read_pickle(\"../../data/compacted_data/y.pkl\").rename(columns={\"nuis\": \"y\"})[[\"gid\", \"y\"]]\n",
    "df = grid.merge(y, on='gid', how='left').drop([\"gid\", \"ID\", \"UF\", \"Row\", \"Col\", \"geometry\"], axis=1)"
   ]
  },
  {
   "cell_type": "code",
   "execution_count": 5,
   "metadata": {},
   "outputs": [
    {
     "data": {
      "text/html": [
       "<div>\n",
       "<style scoped>\n",
       "    .dataframe tbody tr th:only-of-type {\n",
       "        vertical-align: middle;\n",
       "    }\n",
       "\n",
       "    .dataframe tbody tr th {\n",
       "        vertical-align: top;\n",
       "    }\n",
       "\n",
       "    .dataframe thead th {\n",
       "        text-align: right;\n",
       "    }\n",
       "</style>\n",
       "<table border=\"1\" class=\"dataframe\">\n",
       "  <thead>\n",
       "    <tr style=\"text-align: right;\">\n",
       "      <th></th>\n",
       "      <th>gid</th>\n",
       "      <th>y</th>\n",
       "    </tr>\n",
       "  </thead>\n",
       "  <tbody>\n",
       "    <tr>\n",
       "      <th>2239</th>\n",
       "      <td>100ME5233450N7998750</td>\n",
       "      <td>1.0</td>\n",
       "    </tr>\n",
       "    <tr>\n",
       "      <th>2260</th>\n",
       "      <td>100ME5233550N7998750</td>\n",
       "      <td>1.0</td>\n",
       "    </tr>\n",
       "    <tr>\n",
       "      <th>2261</th>\n",
       "      <td>100ME5233550N7998850</td>\n",
       "      <td>1.0</td>\n",
       "    </tr>\n",
       "    <tr>\n",
       "      <th>2279</th>\n",
       "      <td>100ME5233650N7998350</td>\n",
       "      <td>1.0</td>\n",
       "    </tr>\n",
       "    <tr>\n",
       "      <th>2280</th>\n",
       "      <td>100ME5233650N7998450</td>\n",
       "      <td>1.0</td>\n",
       "    </tr>\n",
       "    <tr>\n",
       "      <th>...</th>\n",
       "      <td>...</td>\n",
       "      <td>...</td>\n",
       "    </tr>\n",
       "    <tr>\n",
       "      <th>735045</th>\n",
       "      <td>100ME7090050N10419250</td>\n",
       "      <td>1.0</td>\n",
       "    </tr>\n",
       "    <tr>\n",
       "      <th>735053</th>\n",
       "      <td>100ME7090050N10420050</td>\n",
       "      <td>1.0</td>\n",
       "    </tr>\n",
       "    <tr>\n",
       "      <th>735054</th>\n",
       "      <td>100ME7090050N10420150</td>\n",
       "      <td>1.0</td>\n",
       "    </tr>\n",
       "    <tr>\n",
       "      <th>735078</th>\n",
       "      <td>100ME7090150N10420050</td>\n",
       "      <td>1.0</td>\n",
       "    </tr>\n",
       "    <tr>\n",
       "      <th>735079</th>\n",
       "      <td>100ME7090150N10420150</td>\n",
       "      <td>1.0</td>\n",
       "    </tr>\n",
       "  </tbody>\n",
       "</table>\n",
       "<p>118207 rows × 2 columns</p>\n",
       "</div>"
      ],
      "text/plain": [
       "                          gid    y\n",
       "2239     100ME5233450N7998750  1.0\n",
       "2260     100ME5233550N7998750  1.0\n",
       "2261     100ME5233550N7998850  1.0\n",
       "2279     100ME5233650N7998350  1.0\n",
       "2280     100ME5233650N7998450  1.0\n",
       "...                       ...  ...\n",
       "735045  100ME7090050N10419250  1.0\n",
       "735053  100ME7090050N10420050  1.0\n",
       "735054  100ME7090050N10420150  1.0\n",
       "735078  100ME7090150N10420050  1.0\n",
       "735079  100ME7090150N10420150  1.0\n",
       "\n",
       "[118207 rows x 2 columns]"
      ]
     },
     "execution_count": 5,
     "metadata": {},
     "output_type": "execute_result"
    }
   ],
   "source": [
    "y.loc[y[\"y\"] != 0]"
   ]
  },
  {
   "cell_type": "code",
   "execution_count": 3,
   "id": "f991d598-2e22-4e6d-b3c4-c967b2c4f6f4",
   "metadata": {
    "tags": []
   },
   "outputs": [
    {
     "data": {
      "text/html": [
       "<div>\n",
       "<style scoped>\n",
       "    .dataframe tbody tr th:only-of-type {\n",
       "        vertical-align: middle;\n",
       "    }\n",
       "\n",
       "    .dataframe tbody tr th {\n",
       "        vertical-align: top;\n",
       "    }\n",
       "\n",
       "    .dataframe thead th {\n",
       "        text-align: right;\n",
       "    }\n",
       "</style>\n",
       "<table border=\"1\" class=\"dataframe\">\n",
       "  <thead>\n",
       "    <tr style=\"text-align: right;\">\n",
       "      <th></th>\n",
       "      <th>Polo</th>\n",
       "      <th>Declividade</th>\n",
       "      <th>Curvatura</th>\n",
       "      <th>APP30m</th>\n",
       "      <th>UCIntegral</th>\n",
       "      <th>AltaTensao</th>\n",
       "      <th>Vias50m</th>\n",
       "      <th>Dutovias</th>\n",
       "      <th>IndiceForma</th>\n",
       "      <th>DomSIden</th>\n",
       "      <th>...</th>\n",
       "      <th>t_vulner_mais1h</th>\n",
       "      <th>t_renda_trab</th>\n",
       "      <th>t_carteira_18m</th>\n",
       "      <th>t_scarteira_18m</th>\n",
       "      <th>t_setorpublico_18m</th>\n",
       "      <th>t_contapropria_18m</th>\n",
       "      <th>t_empregador_18m</th>\n",
       "      <th>t_formal_18m</th>\n",
       "      <th>t_atividade10a15</th>\n",
       "      <th>y</th>\n",
       "    </tr>\n",
       "  </thead>\n",
       "  <tbody>\n",
       "    <tr>\n",
       "      <th>0</th>\n",
       "      <td>Porto Alegre</td>\n",
       "      <td>4.919002</td>\n",
       "      <td>6.333333</td>\n",
       "      <td>0.000000</td>\n",
       "      <td>0.0</td>\n",
       "      <td>0.0</td>\n",
       "      <td>1.0</td>\n",
       "      <td>0.0</td>\n",
       "      <td>0.0</td>\n",
       "      <td>0.0</td>\n",
       "      <td>...</td>\n",
       "      <td>NaN</td>\n",
       "      <td>NaN</td>\n",
       "      <td>NaN</td>\n",
       "      <td>NaN</td>\n",
       "      <td>NaN</td>\n",
       "      <td>NaN</td>\n",
       "      <td>NaN</td>\n",
       "      <td>NaN</td>\n",
       "      <td>NaN</td>\n",
       "      <td>0.0</td>\n",
       "    </tr>\n",
       "    <tr>\n",
       "      <th>1</th>\n",
       "      <td>Porto Alegre</td>\n",
       "      <td>4.900816</td>\n",
       "      <td>1.000000</td>\n",
       "      <td>0.000000</td>\n",
       "      <td>0.0</td>\n",
       "      <td>0.0</td>\n",
       "      <td>1.0</td>\n",
       "      <td>0.0</td>\n",
       "      <td>0.0</td>\n",
       "      <td>0.0</td>\n",
       "      <td>...</td>\n",
       "      <td>NaN</td>\n",
       "      <td>NaN</td>\n",
       "      <td>NaN</td>\n",
       "      <td>NaN</td>\n",
       "      <td>NaN</td>\n",
       "      <td>NaN</td>\n",
       "      <td>NaN</td>\n",
       "      <td>NaN</td>\n",
       "      <td>NaN</td>\n",
       "      <td>0.0</td>\n",
       "    </tr>\n",
       "    <tr>\n",
       "      <th>2</th>\n",
       "      <td>Porto Alegre</td>\n",
       "      <td>4.152381</td>\n",
       "      <td>4.666667</td>\n",
       "      <td>0.333333</td>\n",
       "      <td>0.0</td>\n",
       "      <td>0.0</td>\n",
       "      <td>1.0</td>\n",
       "      <td>0.0</td>\n",
       "      <td>0.0</td>\n",
       "      <td>0.0</td>\n",
       "      <td>...</td>\n",
       "      <td>NaN</td>\n",
       "      <td>NaN</td>\n",
       "      <td>NaN</td>\n",
       "      <td>NaN</td>\n",
       "      <td>NaN</td>\n",
       "      <td>NaN</td>\n",
       "      <td>NaN</td>\n",
       "      <td>NaN</td>\n",
       "      <td>NaN</td>\n",
       "      <td>0.0</td>\n",
       "    </tr>\n",
       "    <tr>\n",
       "      <th>3</th>\n",
       "      <td>Porto Alegre</td>\n",
       "      <td>3.205212</td>\n",
       "      <td>7.777778</td>\n",
       "      <td>0.000000</td>\n",
       "      <td>0.0</td>\n",
       "      <td>0.0</td>\n",
       "      <td>1.0</td>\n",
       "      <td>0.0</td>\n",
       "      <td>0.0</td>\n",
       "      <td>0.0</td>\n",
       "      <td>...</td>\n",
       "      <td>NaN</td>\n",
       "      <td>NaN</td>\n",
       "      <td>NaN</td>\n",
       "      <td>NaN</td>\n",
       "      <td>NaN</td>\n",
       "      <td>NaN</td>\n",
       "      <td>NaN</td>\n",
       "      <td>NaN</td>\n",
       "      <td>NaN</td>\n",
       "      <td>0.0</td>\n",
       "    </tr>\n",
       "    <tr>\n",
       "      <th>4</th>\n",
       "      <td>Porto Alegre</td>\n",
       "      <td>5.218916</td>\n",
       "      <td>4.166667</td>\n",
       "      <td>0.000000</td>\n",
       "      <td>0.0</td>\n",
       "      <td>0.0</td>\n",
       "      <td>1.0</td>\n",
       "      <td>0.0</td>\n",
       "      <td>0.0</td>\n",
       "      <td>0.0</td>\n",
       "      <td>...</td>\n",
       "      <td>NaN</td>\n",
       "      <td>NaN</td>\n",
       "      <td>NaN</td>\n",
       "      <td>NaN</td>\n",
       "      <td>NaN</td>\n",
       "      <td>NaN</td>\n",
       "      <td>NaN</td>\n",
       "      <td>NaN</td>\n",
       "      <td>NaN</td>\n",
       "      <td>0.0</td>\n",
       "    </tr>\n",
       "  </tbody>\n",
       "</table>\n",
       "<p>5 rows × 111 columns</p>\n",
       "</div>"
      ],
      "text/plain": [
       "           Polo  Declividade  Curvatura    APP30m  UCIntegral  AltaTensao  \\\n",
       "0  Porto Alegre     4.919002   6.333333  0.000000         0.0         0.0   \n",
       "1  Porto Alegre     4.900816   1.000000  0.000000         0.0         0.0   \n",
       "2  Porto Alegre     4.152381   4.666667  0.333333         0.0         0.0   \n",
       "3  Porto Alegre     3.205212   7.777778  0.000000         0.0         0.0   \n",
       "4  Porto Alegre     5.218916   4.166667  0.000000         0.0         0.0   \n",
       "\n",
       "   Vias50m  Dutovias  IndiceForma  DomSIden  ...  t_vulner_mais1h  \\\n",
       "0      1.0       0.0          0.0       0.0  ...              NaN   \n",
       "1      1.0       0.0          0.0       0.0  ...              NaN   \n",
       "2      1.0       0.0          0.0       0.0  ...              NaN   \n",
       "3      1.0       0.0          0.0       0.0  ...              NaN   \n",
       "4      1.0       0.0          0.0       0.0  ...              NaN   \n",
       "\n",
       "   t_renda_trab  t_carteira_18m  t_scarteira_18m  t_setorpublico_18m  \\\n",
       "0           NaN             NaN              NaN                 NaN   \n",
       "1           NaN             NaN              NaN                 NaN   \n",
       "2           NaN             NaN              NaN                 NaN   \n",
       "3           NaN             NaN              NaN                 NaN   \n",
       "4           NaN             NaN              NaN                 NaN   \n",
       "\n",
       "   t_contapropria_18m  t_empregador_18m  t_formal_18m  t_atividade10a15    y  \n",
       "0                 NaN               NaN           NaN               NaN  0.0  \n",
       "1                 NaN               NaN           NaN               NaN  0.0  \n",
       "2                 NaN               NaN           NaN               NaN  0.0  \n",
       "3                 NaN               NaN           NaN               NaN  0.0  \n",
       "4                 NaN               NaN           NaN               NaN  0.0  \n",
       "\n",
       "[5 rows x 111 columns]"
      ]
     },
     "execution_count": 3,
     "metadata": {},
     "output_type": "execute_result"
    }
   ],
   "source": [
    "df.head()"
   ]
  },
  {
   "cell_type": "markdown",
   "id": "0ff6b459-9c61-470e-938a-02b150ec60ad",
   "metadata": {},
   "source": [
    "## Handle missing values"
   ]
  },
  {
   "cell_type": "code",
   "execution_count": 4,
   "id": "1d3a6a2b-a7c2-4eb1-afb5-3d1a14ac05d5",
   "metadata": {
    "tags": []
   },
   "outputs": [],
   "source": [
    "percent_missing = df.isnull().sum() * 100 / len(df)\n",
    "percent_missing.sort_values(ascending=True)\n",
    "drop_cols = percent_missing.loc[percent_missing > 50].index.tolist()\n",
    "df.drop(drop_cols, axis = 1, inplace=True)"
   ]
  },
  {
   "cell_type": "code",
   "execution_count": 5,
   "id": "2c0da347-f5d5-46c2-93e6-29c5d1c301ea",
   "metadata": {
    "tags": []
   },
   "outputs": [
    {
     "name": "stderr",
     "output_type": "stream",
     "text": [
      "C:\\Users\\Caio\\AppData\\Local\\Temp\\ipykernel_10384\\3493596106.py:1: FutureWarning: The default value of numeric_only in DataFrame.median is deprecated. In a future version, it will default to False. In addition, specifying 'numeric_only=None' is deprecated. Select only valid columns or specify the value of numeric_only to silence this warning.\n",
      "  df = df.fillna(df.median())\n"
     ]
    }
   ],
   "source": [
    "df = df.fillna(df.median())"
   ]
  },
  {
   "cell_type": "code",
   "execution_count": 6,
   "id": "d32f1e92-2236-4f04-b732-fc3eec941a94",
   "metadata": {
    "tags": []
   },
   "outputs": [
    {
     "data": {
      "text/plain": [
       "Polo            0.0\n",
       "LixoRio         0.0\n",
       "LixoJogado      0.0\n",
       "LixoAterrado    0.0\n",
       "LixoQueimado    0.0\n",
       "               ... \n",
       "DomCLixAc       0.0\n",
       "DomSRedeEsg     0.0\n",
       "DomSEsg         0.0\n",
       "NResp30NAlf     0.0\n",
       "y               0.0\n",
       "Length: 72, dtype: float64"
      ]
     },
     "execution_count": 6,
     "metadata": {},
     "output_type": "execute_result"
    }
   ],
   "source": [
    "percent_missing = df.isnull().sum() * 100 / len(df)\n",
    "percent_missing.sort_values(ascending=True)"
   ]
  },
  {
   "cell_type": "markdown",
   "id": "e6816ba8-f378-431b-91ac-54e29af8c888",
   "metadata": {},
   "source": [
    "## Split training and test"
   ]
  },
  {
   "cell_type": "code",
   "execution_count": 7,
   "id": "7702f39b-ebcb-4e0f-b277-ed8701111228",
   "metadata": {
    "tags": []
   },
   "outputs": [],
   "source": [
    "polos = ['Porto Alegre', 'Marabá', 'Brasília', 'Belo Horizonte', 'Juazeiro do Norte', 'Recife']"
   ]
  },
  {
   "cell_type": "code",
   "execution_count": 8,
   "id": "cfa89852-2d5f-4c1e-8075-10a5e53bfe5c",
   "metadata": {
    "tags": []
   },
   "outputs": [],
   "source": [
    "for p in polos:\n",
    "    test = df[df.iloc[:, 0] == p]\n",
    "    X_test = test.loc[:, test.columns != \"y\"]\n",
    "    y_test = test[\"y\"]\n",
    "    X_test.to_pickle(f\"../../data/model_input/X_{p}.pkl\")\n",
    "    y_test.to_pickle(f\"../../data/model_input/y_{p}.pkl\")"
   ]
  },
  {
   "cell_type": "code",
   "execution_count": null,
   "id": "c2041d7d",
   "metadata": {},
   "outputs": [],
   "source": []
  }
 ],
 "metadata": {
  "kernelspec": {
   "display_name": "Python 3 (ipykernel)",
   "language": "python",
   "name": "python3"
  },
  "language_info": {
   "codemirror_mode": {
    "name": "ipython",
    "version": 3
   },
   "file_extension": ".py",
   "mimetype": "text/x-python",
   "name": "python",
   "nbconvert_exporter": "python",
   "pygments_lexer": "ipython3",
   "version": "3.10.11"
  }
 },
 "nbformat": 4,
 "nbformat_minor": 5
}
