{
 "cells": [
  {
   "cell_type": "markdown",
   "id": "2e88db5e-5709-46b7-b387-3467338e9df0",
   "metadata": {},
   "source": [
    "# EDA Model\n",
    "\n",
    "The goal of this notebook is to explore the already created to model, to better undestand the avalaible variables in the current state"
   ]
  },
  {
   "cell_type": "code",
   "execution_count": 1,
   "id": "189c9fd1-9218-4064-a61e-5b05c6818302",
   "metadata": {
    "tags": []
   },
   "outputs": [],
   "source": [
    "import pandas as pd\n",
    "import numpy as np\n",
    "import matplotlib.pyplot as plt\n",
    "import seaborn as sns\n",
    "import geopandas as gpd"
   ]
  },
  {
   "cell_type": "markdown",
   "id": "21386c4d-e88a-4462-9a30-b65c91151598",
   "metadata": {},
   "source": [
    "## Import Dataset"
   ]
  },
  {
   "cell_type": "code",
   "execution_count": 2,
   "id": "4610baad-a9a1-4716-9d56-e3dd81ab3e69",
   "metadata": {
    "tags": []
   },
   "outputs": [],
   "source": [
    "gdf = gpd.read_file(\"data/modelos/POLOS_Y.gpkg\")"
   ]
  },
  {
   "cell_type": "code",
   "execution_count": null,
   "id": "fb0cebfc-89d8-4c6a-a8e8-8450a68c7247",
   "metadata": {
    "tags": []
   },
   "outputs": [],
   "source": [
    "df = pd.DataFrame(gdf)"
   ]
  },
  {
   "cell_type": "code",
   "execution_count": null,
   "id": "ca76a58f-9545-4a49-8ed8-7260bcb03432",
   "metadata": {
    "tags": []
   },
   "outputs": [],
   "source": [
    "df.to_pickle(\"y.pkl\") "
   ]
  }
 ],
 "metadata": {
  "kernelspec": {
   "display_name": "Python 3 (ipykernel)",
   "language": "python",
   "name": "python3"
  },
  "language_info": {
   "codemirror_mode": {
    "name": "ipython",
    "version": 3
   },
   "file_extension": ".py",
   "mimetype": "text/x-python",
   "name": "python",
   "nbconvert_exporter": "python",
   "pygments_lexer": "ipython3",
   "version": "3.11.2"
  }
 },
 "nbformat": 4,
 "nbformat_minor": 5
}
